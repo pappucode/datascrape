{
 "cells": [
  {
   "cell_type": "markdown",
   "id": "e2a16c5e",
   "metadata": {},
   "source": [
    "We are excited to announce that as part of our internship selection process, we will be conducting a Jupyter Notebook exam to assess your skills and proficiency in programming. Jupyter Notebook is a powerful tool widely used in the field of data science, providing an interactive environment for coding, visualization, and documentation."
   ]
  },
  {
   "cell_type": "markdown",
   "id": "83bd48f5",
   "metadata": {},
   "source": [
    "Your objective is to write a Python script using a web scraping library (such as BeautifulSoup or Scrapy or other library) to extract relevant information from \"kathika.org\" ."
   ]
  },
  {
   "cell_type": "markdown",
   "id": "5d300afc",
   "metadata": {},
   "source": [
    "## Data Scraping"
   ]
  },
  {
   "cell_type": "markdown",
   "id": "9fa8c22b",
   "metadata": {},
   "source": [
    "import all the library"
   ]
  },
  {
   "cell_type": "code",
   "execution_count": 1,
   "id": "781d336b",
   "metadata": {},
   "outputs": [],
   "source": [
    "# code:\n",
    "from bs4 import BeautifulSoup\n",
    "from selenium import webdriver\n",
    "from selenium.webdriver.chrome.service import Service\n",
    "from selenium.webdriver.chrome.options import Options\n",
    "\n",
    "from urllib.parse import urljoin\n",
    "import time"
   ]
  },
  {
   "cell_type": "markdown",
   "id": "ec506f0c",
   "metadata": {},
   "source": [
    "base url: https://kathika.org/"
   ]
  },
  {
   "cell_type": "code",
   "execution_count": 2,
   "id": "42a29b21",
   "metadata": {},
   "outputs": [],
   "source": [
    "# code:\n",
    "base_url = \"https://kathika.org/\""
   ]
  },
  {
   "cell_type": "markdown",
   "id": "ac65557b",
   "metadata": {},
   "source": [
    "Extract page start from: https://kathika.org/stories"
   ]
  },
  {
   "cell_type": "code",
   "execution_count": 3,
   "id": "42a0874b",
   "metadata": {},
   "outputs": [],
   "source": [
    "# code:\n",
    "#getting page count.\n",
    "initial_url = \"https://kathika.org/stories/\"\n",
    "\n",
    "chrome_options = Options()\n",
    "chrome_options.add_argument(\"--headless\")\n",
    "\n",
    "\n",
    "try:\n",
    "    with webdriver.Chrome(options=chrome_options) as driver:\n",
    "        driver.get(initial_url)\n",
    "        soup = BeautifulSoup(driver.page_source, 'html.parser')\n",
    "#         driver.close()\n",
    "except Exception as e:\n",
    "    print(f\"An error occurred: {e}\")"
   ]
  },
  {
   "cell_type": "code",
   "execution_count": 4,
   "id": "262a704b",
   "metadata": {},
   "outputs": [
    {
     "data": {
      "text/plain": [
       "6"
      ]
     },
     "execution_count": 4,
     "metadata": {},
     "output_type": "execute_result"
    }
   ],
   "source": [
    "numbers = soup.find(\"div\", class_=\"vs-pagination\").text\n",
    "max_num = max_digit = max(map(int, numbers))\n",
    "max_num"
   ]
  },
  {
   "cell_type": "markdown",
   "id": "a7cb94c8",
   "metadata": {},
   "source": [
    "Use **iteration** or **loop** to go through **each book** and **each page** and collect **(book name, writer name, book content)**\n",
    "\n",
    "hint: you can store data in a **list** or **dictionary**. **{\"book_name\":[[writer_name],[book_content]]}**\n",
    "\n",
    "caution: all the data must be contained as organized where user can tell which book belongs to which writer"
   ]
  },
  {
   "cell_type": "code",
   "execution_count": 5,
   "id": "62230d9d",
   "metadata": {},
   "outputs": [],
   "source": [
    "def get_soup(link):\n",
    "    initial_url = link\n",
    "    # Initializing the ChromeDriver service\n",
    "#     s = Service(chrome_driver_path)\n",
    "    try:\n",
    "        with webdriver.Chrome(options=chrome_options) as driver:\n",
    "            driver.get(initial_url)\n",
    "            soup = BeautifulSoup(driver.page_source, 'html.parser')\n",
    "            return soup\n",
    "    except Exception as e:\n",
    "        print(f\"An error occurred: {e}\")"
   ]
  },
  {
   "cell_type": "code",
   "execution_count": 9,
   "id": "cb5d6749",
   "metadata": {},
   "outputs": [
    {
     "name": "stdout",
     "output_type": "stream",
     "text": [
      "https://kathika.org/stories?page=1\n",
      "https://kathika.org/stories?page=2\n",
      "https://kathika.org/stories?page=3\n",
      "https://kathika.org/stories?page=4\n",
      "https://kathika.org/stories?page=5\n",
      "https://kathika.org/stories?page=6\n"
     ]
    }
   ],
   "source": [
    "# code and check\n",
    "all_id = []\n",
    "for i in range(1, max_num+1):\n",
    "    url = f\"https://kathika.org/stories?page={i}\"\n",
    "    print(url)\n",
    "    try:\n",
    "        soup = get_soup(url)\n",
    "        stories_link = soup.find_all(\"div\", class_=\"c-card\")\n",
    "        for st in stories_link:\n",
    "            all_id.append(st.find(\"a\").get(\"href\").split(\"/\")[2])\n",
    "    except:\n",
    "        print(\"problem\")\n"
   ]
  },
  {
   "cell_type": "code",
   "execution_count": null,
   "id": "cfb36956",
   "metadata": {},
   "outputs": [],
   "source": []
  },
  {
   "cell_type": "code",
   "execution_count": 11,
   "id": "6a5ac812",
   "metadata": {
    "scrolled": true
   },
   "outputs": [
    {
     "name": "stdout",
     "output_type": "stream",
     "text": [
      "total_stories:  101\n",
      "Done: https://kathika.org/story/657041628f19a  title:  চিঠি\n",
      "Done: https://kathika.org/story/6557800543f9f  title:  পাহাড়ের চূড়া\n",
      "Done: https://kathika.org/story/64b807e0cf76f  title:  পথশিশু\n",
      "Done: https://kathika.org/story/64997c9b91229  title:  সুবিমলবাবুর স্মরণীয় বাস জার্নি\n",
      "Done: https://kathika.org/story/6447886d2c420  title:  কে তুমি  (শেষ পর্ব )\n",
      "Done: https://kathika.org/story/6405871680ee5  title:  টিভিকথন\n",
      "Done: https://kathika.org/story/63d65cc8bcd0f  title:  আমি(শেষপর্ব)\n",
      "Done: https://kathika.org/story/63d3486643f81  title:  আমি (পর্ব৭)\n",
      "Done: https://kathika.org/story/63d0af2a93c6d  title:  আমি (পর্ব৬)\n",
      "Done: https://kathika.org/story/63cf558840728  title:  আমি (পর্ব৫)\n",
      "Done: https://kathika.org/story/63c56eb4506dd  title:  আসক্তি\n",
      "Done: https://kathika.org/story/63c11f5a05dcf  title:  আমি (পর্ব৪)\n",
      "Done: https://kathika.org/story/63be7930dcc1a  title:  প্রিয় জয়ন্ত স্যার\n",
      "Done: https://kathika.org/story/63bc3e6d39b67  title:  আমি (পর্ব৩)\n",
      "Done: https://kathika.org/story/63ba749f29a3e  title:  আমি (পর্ব২)\n",
      "Done: https://kathika.org/story/63b9b21828a42  title:  আমি চঞ্চলা\n",
      "Done: https://kathika.org/story/63b9729a5c5f2  title:  আমি\n",
      "Done: https://kathika.org/story/63b41248ed664  title:  জিহাদ বাবু\n",
      "Done: https://kathika.org/story/63b18e67b96b8  title:  রোহান বিল্লা\n",
      "Done: https://kathika.org/story/63aeef0ebe763  title:  তুমি অন্যনা (শেষ পর্ব)\n",
      "Done: https://kathika.org/story/63ad436cd51b6  title:  নীল দ্বীপ (শেষ পর্ব)\n",
      "Done: https://kathika.org/story/63ad42271949f  title:  নীল দ্বীপ (পর্ব ৭)\n",
      "Done: https://kathika.org/story/63ad272cdd97b  title:  অপেক্ষা\n",
      "Done: https://kathika.org/story/63ac83f578d27  title:  আমি এমনই\n",
      "Done: https://kathika.org/story/63abde47bed64  title:  তুমি অন্যনা (পর্ব ৭)\n",
      "Done: https://kathika.org/story/63aa961a9132c  title:  নীল দ্বীপ (পর্ব ৬)\n",
      "Done: https://kathika.org/story/63aa92fc41ece  title:  নীল দ্বীপ (পর্ব৩)\n",
      "Done: https://kathika.org/story/63a983bb78e3c  title:  পরীক্ষার পূর্বদিন\n",
      "Done: https://kathika.org/story/63a982038db81  title:  তুমি অনন্যা  (পর্ব ৬)\n",
      "Done: https://kathika.org/story/63a93825c877b  title:  নীল দ্বীপ (পর্ব ৫)\n",
      "Done: https://kathika.org/story/63a93731edad7  title:  নীল দ্বীপ  ( পর্ব ৪)\n",
      "Done: https://kathika.org/story/63a836839276e  title:  তুমি অনন্যা  (পর্ব ৫)\n",
      "Done: https://kathika.org/story/63a71c93440ed  title:  নীল দ্বীপ (পর্ব২)\n",
      "Done: https://kathika.org/story/63a70deaa50b2  title:  নীল দ্বীপ\n",
      "Done: https://kathika.org/story/63a5db429d020  title:  তুমি অনন্যা (পর্ব ৪)\n",
      "Done: https://kathika.org/story/63a49cb7703e5  title:  দেখা হয় নাই চক্ষু মেলিয়া\n",
      "Done: https://kathika.org/story/63a3d5e90312b  title:  খাঁটি পাগল\n",
      "Done: https://kathika.org/story/63a3d0f105ecb  title:  ডাবল জিরো\n",
      "Done: https://kathika.org/story/63a11dee5cd53  title:  তুমি অনন্যা (পর্ব ৩)\n",
      "Done: https://kathika.org/story/63a0697dc6e4c  title:  রাত\n",
      "Done: https://kathika.org/story/639ca09786568  title:  তুমি অনন্যা (পর্ব ০২)\n",
      "Done: https://kathika.org/story/639afc19a6787  title:  তুমি অনন্যা\n",
      "Done: https://kathika.org/story/6399eae18d784  title:  রিক্সাচালক\n",
      "Done: https://kathika.org/story/639949346d22e  title:  জুতা চোর\n",
      "Done: https://kathika.org/story/639859d01dd7d  title:  বটমূল\n",
      "Done: https://kathika.org/story/6392e84b88f38  title:  শেষ\n",
      "Done: https://kathika.org/story/6380bf93188a4  title:  কে তুমি\n",
      "Done: https://kathika.org/story/633ebeb5085ba  title:  আশ্চর্য এক সুগন্ধ\n",
      "Done: https://kathika.org/story/62dbd3fbde5cf  title:  ধাপ্পাবাজ বাপ্পা অথবা ধাপ্পাদা\n",
      "Done: https://kathika.org/story/62d301dbab0c5  title:  পড়ন্ত বিকেলে...\n",
      "Done: https://kathika.org/story/62b4ae9eceac8  title:  হাস্যকর এক কাণ্ড\n",
      "Done: https://kathika.org/story/627175f5a9eff  title:  অদ্ভুত-উদ্ভট\n",
      "Done: https://kathika.org/story/62716a1055c4d  title:  ওগো বিদেশিনী\n",
      "Done: https://kathika.org/story/627161f8d6f85  title:  কুলফিওয়ালা\n",
      "Done: https://kathika.org/story/62715fe914461  title:  ~পিল্টু\n",
      "Done: https://kathika.org/story/626b2f7d4720e  title:  সে.....\n",
      "Done: https://kathika.org/story/62257aa74e0b3  title:  মাথা ব্যাথা\n",
      "Done: https://kathika.org/story/6221281f60201  title:  দার্শনিক ফল্টুদা\n",
      "Done: https://kathika.org/story/61f3abed46be9  title:  নিদ্রাহীন\n",
      "Done: https://kathika.org/story/61edb39a25999  title:  শিকার\n",
      "Done: https://kathika.org/story/61e074b456c68  title:  ফল্টুদার পরিচয়পর্ব\n",
      "Done: https://kathika.org/story/61c2af5a3cb9a  title:  প্রতিবিম্ব\n",
      "Done: https://kathika.org/story/61adf4bbbfe96  title:  ছোট দাদুর বাড়িতে কয়েকদিন.....(পর্ব ১)\n",
      "Done: https://kathika.org/story/61accc113ee01  title:  কেমন আছো তুমি\n",
      "Done: https://kathika.org/story/61ab38c27c0e9  title:  পাশের বিল্ডিং এর ছাদে...\n",
      "Done: https://kathika.org/story/616d2733e9bd2  title:  Birthday যখন Foolday!!🎶\n",
      "Done: https://kathika.org/story/616a98628a97e  title:  আবার ফিরে দেখা\n",
      "Done: https://kathika.org/story/6163fafe48504  title:  আসক্ত\n",
      "Done: https://kathika.org/story/6163d45d600ea  title:  কবরস্থানের মাঠে একরাত\n",
      "Done: https://kathika.org/story/6152a0094963d  title:  শুভ্র ও রাইসা\n",
      "Done: https://kathika.org/story/61446a0d9d712  title:  উধাও ||  পর্ব - ২\n",
      "Done: https://kathika.org/story/6140ba2c7828c  title:  প্রিয় মা\n",
      "Done: https://kathika.org/story/6140b9b45134f  title:  অদ্ভুতুড়ে\n",
      "Done: https://kathika.org/story/613895a1d8b02  title:  কে ছিল???\n",
      "Done: https://kathika.org/story/613789fe2425d  title:  উধাও  || পর্ব -১\n",
      "Done: https://kathika.org/story/61267b9737397  title:  নাম হীন গল্প - শেষের অংশ\n",
      "Done: https://kathika.org/story/61260d8737479  title:  সপ্ন যখন হ য ব র ল\n",
      "Done: https://kathika.org/story/6125320f42931  title:  নাম হীন গল্প - প্রথম অংশ\n",
      "Done: https://kathika.org/story/611ddd4e2c17f  title:  আমরা তো সবাই মানুষ!!!!\n",
      "Done: https://kathika.org/story/611d1a7650679  title:  মিষ্টি ভালোবাসা\n",
      "Done: https://kathika.org/story/611a8cd4d8371  title:  \"রহস্যময়ী সেই ফোন কল\"\n",
      "Done: https://kathika.org/story/6119f98dbe83b  title:  করোনা\n",
      "Done: https://kathika.org/story/6119efa1e69fa  title:  সব পেশাই কি সমান???\n",
      "Done: https://kathika.org/story/6103b65fa9f45  title:  কিছু করার নেই\n",
      "Done: https://kathika.org/story/6101844be606d  title:  ছোটগল্প\n",
      "Done: https://kathika.org/story/60f99184e119d  title:  হ্যাবলা\n",
      "Done: https://kathika.org/story/60f4716944684  title:  সেদিন\n",
      "Done: https://kathika.org/story/60f470ebd9382  title:  চিরকুট\n",
      "Done: https://kathika.org/story/60f1df292e700  title:  লায়লা\n",
      "Done: https://kathika.org/story/60eb36133baee  title:  অর্পন\n",
      "Done: https://kathika.org/story/60e706c51912e  title:  যখন সন্ধ্যা নামে\n",
      "Done: https://kathika.org/story/60e5f492c9157  title:  ভয়\n",
      "Done: https://kathika.org/story/60e32b5031f00  title:  মিঠু\n",
      "Done: https://kathika.org/story/60df2d1fb3414  title:  কয়েকদিন হাসপাতালে\n",
      "Done: https://kathika.org/story/60ddc134e7e15  title:  বন্ধু\n",
      "Done: https://kathika.org/story/60dbfc95c790b  title:  অনুকথন\n",
      "Done: https://kathika.org/story/60c23e6c7b8b6  title:  অ্যাক্সিডেন্ট\n",
      "Done: https://kathika.org/story/60c23cf16a249  title:  ভয়ের রাত\n",
      "Done: https://kathika.org/story/60bbc65189fea  title:  অমাবস্যার রাত\n",
      "Done: https://kathika.org/story/60b7c233bf2e1  title:  দৃষ্টিগোচর\n",
      "Done: https://kathika.org/story/60b78901bdb7c  title:  বিলাপ\n"
     ]
    }
   ],
   "source": [
    "print(\"total_stories: \", len(all_id))\n",
    "Data = {}\n",
    "for ids in all_id:\n",
    "    url = f\"https://kathika.org/story/{ids}\"\n",
    "    \n",
    "    soup = get_soup(url)\n",
    "    title = soup.find(\"div\", class_=\"story-title\").h1.text\n",
    "    writer = soup.find(\"div\", class_=\"user-details\").h3.text\n",
    "    content = soup.find(\"div\", class_=\"story-content\").text.replace(\"\\xa0\", \" \")\n",
    "    Data[title] = [[writer],[content]]\n",
    "    print(\"Done:\", url, \" title: \", title)"
   ]
  },
  {
   "cell_type": "code",
   "execution_count": null,
   "id": "09140319",
   "metadata": {},
   "outputs": [],
   "source": []
  },
  {
   "cell_type": "markdown",
   "id": "0ca4905f",
   "metadata": {},
   "source": [
    "Save current Data as json or other format in you're local mechine. \n",
    "\n",
    "caution: you must be able to read it in jupyter notebook"
   ]
  },
  {
   "cell_type": "markdown",
   "id": "d25377d9",
   "metadata": {},
   "source": [
    "## Data Cleaning"
   ]
  },
  {
   "cell_type": "markdown",
   "id": "319379a5",
   "metadata": {},
   "source": [
    "import saved data in jupyter notebook"
   ]
  },
  {
   "cell_type": "code",
   "execution_count": null,
   "id": "8593be7a",
   "metadata": {},
   "outputs": [],
   "source": [
    "# code:\n"
   ]
  },
  {
   "cell_type": "markdown",
   "id": "dc9a686c",
   "metadata": {},
   "source": [
    "Check if **book_content** contains any html element or other element which is not suppose to be there."
   ]
  },
  {
   "cell_type": "code",
   "execution_count": 163,
   "id": "8f0c64d2",
   "metadata": {},
   "outputs": [],
   "source": [
    "# Ans: Yes or No\n",
    "# No"
   ]
  },
  {
   "cell_type": "markdown",
   "id": "ac6012cb",
   "metadata": {},
   "source": [
    "If Answer is Yes then remove those element\n",
    "\n",
    "hint: use library **re** or other library\n",
    "\n",
    "caution: book content must maintain their Integrity"
   ]
  },
  {
   "cell_type": "code",
   "execution_count": null,
   "id": "6a37614e",
   "metadata": {},
   "outputs": [],
   "source": [
    "# code:\n"
   ]
  },
  {
   "cell_type": "markdown",
   "id": "6a7552f8",
   "metadata": {},
   "source": [
    "Check how many stories or books you've collected and how many stories or books does website have"
   ]
  },
  {
   "cell_type": "code",
   "execution_count": null,
   "id": "e201a67a",
   "metadata": {},
   "outputs": [],
   "source": [
    "# code\n"
   ]
  },
  {
   "cell_type": "markdown",
   "id": "441a5eb3",
   "metadata": {},
   "source": [
    "Did your books count matches with website? Yes or no"
   ]
  },
  {
   "cell_type": "code",
   "execution_count": 164,
   "id": "c9f867e4",
   "metadata": {},
   "outputs": [],
   "source": [
    "# Ans: Yes or No\n",
    "# Yes"
   ]
  },
  {
   "cell_type": "markdown",
   "id": "740f8334",
   "metadata": {},
   "source": [
    "### If your books count does not match then check your code and find the bug and fix it."
   ]
  },
  {
   "cell_type": "markdown",
   "id": "7ae94af9",
   "metadata": {},
   "source": [
    "If your books count matches then print all writer name and how many book each writer wrote.\n",
    "\n",
    "print hint: print(writer name: \"name\", number of book: \"number\")"
   ]
  },
  {
   "cell_type": "code",
   "execution_count": null,
   "id": "283cd172",
   "metadata": {},
   "outputs": [],
   "source": [
    "# code:\n"
   ]
  },
  {
   "cell_type": "markdown",
   "id": "9aea9a7a",
   "metadata": {},
   "source": [
    "Save each books as **txt** file. where file name is **book_name.txt**. inside that file is **book_content**.\n",
    "\n",
    "Save each **book_name** and **writer_name** in **csv** file."
   ]
  },
  {
   "cell_type": "code",
   "execution_count": 12,
   "id": "f06b647d",
   "metadata": {},
   "outputs": [],
   "source": [
    "#code:\n",
    "import pandas as pd\n",
    "df = pd.DataFrame()\n",
    "\n",
    "# Initialize an empty DataFrame with column names\n",
    "columns = ['Title', 'Writer', 'Content']\n",
    "df = pd.DataFrame(columns=columns)\n",
    "\n",
    "# Iterate over the dictionary and append rows to the DataFrame\n",
    "for key, val in Data.items():\n",
    "    title, writer, content = key, val[0][0], val[1][0]\n",
    "    df = pd.concat([df, pd.DataFrame([[title, writer, content]], columns=columns)], ignore_index=True)\n",
    "df.to_csv(\"kathika.csv\")"
   ]
  },
  {
   "cell_type": "markdown",
   "id": "3d883af2",
   "metadata": {},
   "source": [
    "**Explain what you did and what are the challange you've faced doing this exercise...**"
   ]
  },
  {
   "cell_type": "code",
   "execution_count": 185,
   "id": "1179a5d8",
   "metadata": {},
   "outputs": [],
   "source": [
    "# Ans:\n"
   ]
  },
  {
   "cell_type": "markdown",
   "id": "8136e958",
   "metadata": {},
   "source": [
    "# what will you submit once exam is over?\n",
    "\n",
    "1. Provide complete jupyter notebook script.\n",
    "2. all the file you got after running the script for the last time.\n",
    "3. zip all the files and submit by following email instruction"
   ]
  },
  {
   "cell_type": "markdown",
   "id": "f6fcc399",
   "metadata": {},
   "source": []
  }
 ],
 "metadata": {
  "kernelspec": {
   "display_name": "Python 3 (ipykernel)",
   "language": "python",
   "name": "python3"
  },
  "language_info": {
   "codemirror_mode": {
    "name": "ipython",
    "version": 3
   },
   "file_extension": ".py",
   "mimetype": "text/x-python",
   "name": "python",
   "nbconvert_exporter": "python",
   "pygments_lexer": "ipython3",
   "version": "3.8.18"
  }
 },
 "nbformat": 4,
 "nbformat_minor": 5
}
