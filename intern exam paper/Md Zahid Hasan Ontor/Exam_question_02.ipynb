{
 "cells": [
  {
   "cell_type": "markdown",
   "id": "9ca5fecd",
   "metadata": {},
   "source": [
    "## Natural Language Processing"
   ]
  },
  {
   "cell_type": "markdown",
   "id": "4306d233",
   "metadata": {},
   "source": [
    "#### Libraries need to be installed\n",
    "1) pip install nltk\n",
    "2) pip install banglanltk"
   ]
  },
  {
   "cell_type": "markdown",
   "id": "68b1cc25",
   "metadata": {},
   "source": [
    "#### Import libraries"
   ]
  },
  {
   "cell_type": "code",
   "execution_count": 1,
   "id": "1bf57a73",
   "metadata": {},
   "outputs": [
    {
     "name": "stdout",
     "output_type": "stream",
     "text": [
      "Requirement already satisfied: nltk in c:\\users\\zhom\\anaconda3\\lib\\site-packages (3.5)\n",
      "Requirement already satisfied: joblib in c:\\users\\zhom\\anaconda3\\lib\\site-packages (from nltk) (0.17.0)\n",
      "Requirement already satisfied: click in c:\\users\\zhom\\anaconda3\\lib\\site-packages (from nltk) (7.1.2)\n",
      "Requirement already satisfied: tqdm in c:\\users\\zhom\\anaconda3\\lib\\site-packages (from nltk) (4.50.2)\n",
      "Requirement already satisfied: regex in c:\\users\\zhom\\anaconda3\\lib\\site-packages (from nltk) (2020.10.15)\n",
      "Requirement already satisfied: banglanltk in c:\\users\\zhom\\anaconda3\\lib\\site-packages (0.0.4)\n"
     ]
    }
   ],
   "source": [
    "!pip install nltk\n",
    "!pip install banglanltk"
   ]
  },
  {
   "cell_type": "code",
   "execution_count": 2,
   "id": "4e7f5cfb",
   "metadata": {},
   "outputs": [],
   "source": [
    "import nltk\n",
    "import banglanltk as bn\n",
    "import re"
   ]
  },
  {
   "cell_type": "markdown",
   "id": "48f5d4d9",
   "metadata": {},
   "source": [
    "##### Use this data for further processing\n",
    "গতকাল ডিএসইতে ১ হাজার ১৯০ কোটি ২৬ লাখ টাকার শেয়ার লেনদেন হয়েছে। যা আগের দিন থেকে ৫ কোটি ১৫ লাখ। টাকা কম! গতকাল ডি.এসইতে ১ হাজার ১৯৫ কোটি ৪১ লাখ টাকার শেয়ার লেনদেন হয়েছিল। এর আগের দিন মঙ্গলবার ১ হাজার ১৮৩ কোটি টাকা শেয়ার লেনদেন হয়েছিল। বাজার বিশ্লেষণে দেখা যায় ডিএসই প্রধান সূচক ডিএসইএক্স ১২ পয়েন্ট বেড়ে অবস্হান করছে ৬ হাজার ৩১২ পয়েন্টে। অন্য সূচকগুলোর মধ্যে ডিএসইএস বা শরিয়াহ সূচক ৪ পয়েন্ট বেড়ে অবস্হান করছে ১ হাজার ৩৭৫ পয়েন্টে। এছাড়া ডিএস৩০ সূচক ৬ পয়েন্ট বেড়ে দাঁড়িয়েছে ২ হাজার ২৬৫ পয়েন্টে। দেশের প্রধান এই শেয়ারবাজারে গতকাল ৩৮১টি কোম্পানি ও মিউচুয়াল ফান্ডের শেয়ার লেনদেন হয়েছে। এর মধ্যে দর বেড়েছে ১২৯টির। কমেছে ১৯৯টির এবং অপরিবর্তিত রয়েছে ৫৩টির। অপর বাজার চট্টগ্রাম স্টক  এক্সচেঞ্জে সিএসই সিএসই সার্বিক সূচক সিএসপিআই ৭৮ point বেড়েছে। লেনদেন হয়েছে 21 core টাকার শেয়ার।"
   ]
  },
  {
   "cell_type": "code",
   "execution_count": 17,
   "id": "229db4fe",
   "metadata": {
    "scrolled": true
   },
   "outputs": [],
   "source": [
    "paragraph = \"গতকাল ডিএসইতে ১ হাজার ১৯০ কোটি ২৬ লাখ টাকার শেয়ার লেনদেন হয়েছে। যা আগের দিন থেকে ৫ কোটি ১৫ লাখ টাকা কম। গতকাল ডি.এসইতে ১ হাজার ১৯৫ কোটি ৪১ লাখ টাকার শেয়ার লেনদেন হয়েছিল। এর আগের দিন মঙ্গলবার ১ হাজার ১৮৩ কোটি টাকা শেয়ার লেনদেন হয়েছিল। বাজার বিশ্লেষণে দেখা যায় ডিএসই প্রধান সূচক ডিএসইএক্স ১২ পয়েন্ট বেড়ে অবস্হান করছে ৬ হাজার ৩১২ পয়েন্টে। অন্য সূচকগুলোর মধ্যে ডিএসইএস বা শরিয়াহ সূচক ৪ পয়েন্ট বেড়ে অবস্হান করছে ১ হাজার ৩৭৫ পয়েন্টে। এছাড়া ডিএস৩০ সূচক ৬ পয়েন্ট বেড়ে দাঁড়িয়েছে ২ হাজার ২৬৫ পয়েন্টে। দেশের প্রধান এই শেয়ারবাজারে গতকাল ৩৮১টি কোম্পানি ও মিউচুয়াল ফান্ডের শেয়ার লেনদেন হয়েছে। এর মধ্যে দর বেড়েছে ১২৯টির। কমেছে ১৯৯টির এবং অপরিবর্তিত রয়েছে ৫৩টির। অপর বাজার চট্টগ্রাম স্টক  এক্সচেঞ্জে সিএসই সিএসই সার্বিক সূচক সিএসপিআই ৭৮ point বেড়েছে। লেনদেন হয়েছে 21 core টাকার শেয়ার।\"\n"
   ]
  },
  {
   "cell_type": "markdown",
   "id": "b940e369",
   "metadata": {},
   "source": [
    "#### Tokenizing the words and provide the length  (use banglanltk library)"
   ]
  },
  {
   "cell_type": "code",
   "execution_count": 18,
   "id": "36fc65fc",
   "metadata": {},
   "outputs": [
    {
     "name": "stdout",
     "output_type": "stream",
     "text": [
      "['গতকাল', 'ডিএসইতে', '১', 'হাজার', '১৯০', 'কোটি', '২৬', 'লাখ', 'টাকার', 'শেয়ার', 'লেনদেন', 'হয়েছে', 'যা', 'আগের', 'দিন', 'থেকে', '৫', 'কোটি', '১৫', 'লাখ', 'টাকা', 'কম', 'গতকাল', 'ডিএসইতে', '১', 'হাজার', '১৯৫', 'কোটি', '৪১', 'লাখ', 'টাকার', 'শেয়ার', 'লেনদেন', 'হয়েছিল', 'এর', 'আগের', 'দিন', 'মঙ্গলবার', '১', 'হাজার', '১৮৩', 'কোটি', 'টাকা', 'শেয়ার', 'লেনদেন', 'হয়েছিল', 'বাজার', 'বিশ্লেষণে', 'দেখা', 'যায়', 'ডিএসই', 'প্রধান', 'সূচক', 'ডিএসইএক্স', '১২', 'পয়েন্ট', 'বেড়ে', 'অবস্হান', 'করছে', '৬', 'হাজার', '৩১২', 'পয়েন্টে', 'অন্য', 'সূচকগুলোর', 'মধ্যে', 'ডিএসইএস', 'বা', 'শরিয়াহ', 'সূচক', '৪', 'পয়েন্ট', 'বেড়ে', 'অবস্হান', 'করছে', '১', 'হাজার', '৩৭৫', 'পয়েন্টে', 'এছাড়া', 'ডিএস৩০', 'সূচক', '৬', 'পয়েন্ট', 'বেড়ে', 'দাঁড়িয়েছে', '২', 'হাজার', '২৬৫', 'পয়েন্টে', 'দেশের', 'প্রধান', 'এই', 'শেয়ারবাজারে', 'গতকাল', '৩৮১টি', 'কোম্পানি', 'ও', 'মিউচুয়াল', 'ফান্ডের', 'শেয়ার', 'লেনদেন', 'হয়েছে', 'এর', 'মধ্যে', 'দর', 'বেড়েছে', '১২৯টির', 'কমেছে', '১৯৯টির', 'এবং', 'অপরিবর্তিত', 'রয়েছে', '৫৩টির', 'অপর', 'বাজার', 'চট্টগ্রাম', 'স্টক', 'এক্সচেঞ্জে', 'সিএসই', 'সিএসই', 'সার্বিক', 'সূচক', 'সিএসপিআই', '৭৮', 'point', 'বেড়েছে', 'লেনদেন', 'হয়েছে', '21', 'core', 'টাকার', 'শেয়ার']\n"
     ]
    }
   ],
   "source": [
    "from banglanltk import word_tokenize\n",
    "token1 = word_tokenize(paragraph)\n",
    "print(token1)"
   ]
  },
  {
   "cell_type": "code",
   "execution_count": 19,
   "id": "28f70e3a",
   "metadata": {},
   "outputs": [
    {
     "data": {
      "text/plain": [
       "133"
      ]
     },
     "execution_count": 19,
     "metadata": {},
     "output_type": "execute_result"
    }
   ],
   "source": [
    "# Tokenize Words length\n",
    "token1 = word_tokenize(paragraph)\n",
    "num_token1 = len(token1)\n",
    "num_token1"
   ]
  },
  {
   "cell_type": "markdown",
   "id": "36752aa7",
   "metadata": {},
   "source": [
    "**Expected output 133**"
   ]
  },
  {
   "cell_type": "markdown",
   "id": "71bad36f",
   "metadata": {},
   "source": [
    "#### Tokenizing the Sentences and provide the length  (use banglanltk library)"
   ]
  },
  {
   "cell_type": "code",
   "execution_count": 20,
   "id": "6d34970f",
   "metadata": {},
   "outputs": [
    {
     "name": "stdout",
     "output_type": "stream",
     "text": [
      "['গতকাল ডিএসইতে ১ হাজার ১৯০ কোটি ২৬ লাখ টাকার শেয়ার লেনদেন হয়েছে', 'যা আগের দিন থেকে ৫ কোটি ১৫ লাখ টাকা কম', 'গতকাল ডিএসইতে ১ হাজার ১৯৫ কোটি ৪১ লাখ টাকার শেয়ার লেনদেন হয়েছিল', 'এর আগের দিন মঙ্গলবার ১ হাজার ১৮৩ কোটি টাকা শেয়ার লেনদেন হয়েছিল', 'বাজার বিশ্লেষণে দেখা যায় ডিএসই প্রধান সূচক ডিএসইএক্স ১২ পয়েন্ট বেড়ে অবস্হান করছে ৬ হাজার ৩১২ পয়েন্টে', 'অন্য সূচকগুলোর মধ্যে ডিএসইএস বা শরিয়াহ সূচক ৪ পয়েন্ট বেড়ে অবস্হান করছে ১ হাজার ৩৭৫ পয়েন্টে', 'এছাড়া ডিএস৩০ সূচক ৬ পয়েন্ট বেড়ে দাঁড়িয়েছে ২ হাজার ২৬৫ পয়েন্টে', 'দেশের প্রধান এই শেয়ারবাজারে গতকাল ৩৮১টি কোম্পানি ও মিউচুয়াল ফান্ডের শেয়ার লেনদেন হয়েছে', 'এর মধ্যে দর বেড়েছে ১২৯টির', 'কমেছে ১৯৯টির এবং অপরিবর্তিত রয়েছে ৫৩টির', 'অপর বাজার চট্টগ্রাম স্টক এক্সচেঞ্জে সিএসই সিএসই সার্বিক সূচক সিএসপিআই ৭৮ point বেড়েছে', 'লেনদেন হয়েছে 21 core টাকার শেয়ার']\n"
     ]
    }
   ],
   "source": [
    "# Sentence Tokenize\n",
    "from banglanltk import sent_tokenize\n",
    "token2 = sent_tokenize(paragraph)\n",
    "print(token2)"
   ]
  },
  {
   "cell_type": "code",
   "execution_count": 21,
   "id": "5cd80f83",
   "metadata": {},
   "outputs": [
    {
     "data": {
      "text/plain": [
       "12"
      ]
     },
     "execution_count": 21,
     "metadata": {},
     "output_type": "execute_result"
    }
   ],
   "source": [
    "# Tokenize Sentences length\n",
    "token2 = sent_tokenize(paragraph)\n",
    "num_token2 = len(token2)\n",
    "num_token2"
   ]
  },
  {
   "cell_type": "markdown",
   "id": "93270f23",
   "metadata": {},
   "source": [
    "**Expected output 12**"
   ]
  },
  {
   "cell_type": "markdown",
   "id": "00f8a5d8",
   "metadata": {},
   "source": [
    "#### Apply stopwords and stemmer in the tokenized sentences.\n",
    "###### Use stopwords from \"from nltk.corpus import stopwords\" and stremmer from  \"banglanltk\" package"
   ]
  },
  {
   "cell_type": "code",
   "execution_count": 45,
   "id": "381a31db",
   "metadata": {},
   "outputs": [
    {
     "name": "stdout",
     "output_type": "stream",
     "text": [
      "গতকাল ডিএসইতে ১ ১৯০ কোটি ২৬ লাখ টাকার শেয়ার লেনদেন হয়েছে\n",
      "আগের ৫ কোটি ১৫ লাখ টাকা কম\n",
      "গতকাল ডিএসইতে ১ ১৯৫ কোটি ৪১ লাখ টাকার শেয়ার লেনদেন হয়েছিল\n",
      "আগের মঙ্গলবার ১ ১৮৩ কোটি টাকা শেয়ার লেনদেন হয়েছিল\n",
      "বাজার বিশ্লেষণে যায় ডিএসই প্রধান সূচক ডিএসইএক্স ১২ পয়েন্ট বেড়ে অবস্হান ৬ ৩১২ পয়েন্টে\n",
      "সূচকগুলোর ডিএসইএস শরিয়াহ সূচক ৪ পয়েন্ট বেড়ে অবস্হান ১ ৩৭৫ পয়েন্টে\n",
      "এছাড়া ডিএস৩০ সূচক ৬ পয়েন্ট বেড়ে দাঁড়িয়েছে ২ ২৬৫ পয়েন্টে\n",
      "দেশের প্রধান শেয়ারবাজারে গতকাল ৩৮১টি কোম্পানি মিউচুয়াল ফান্ডের শেয়ার লেনদেন হয়েছে\n",
      "দর বেড়েছে ১২৯টির\n",
      "কমেছে ১৯৯টির অপরিবর্তিত রয়েছে ৫৩টির\n",
      "অপর বাজার চট্টগ্রাম স্টক এক্সচেঞ্জে সিএসই সিএসই সার্বিক সূচক সিএসপিআই ৭৮ point বেড়েছে\n",
      "লেনদেন হয়েছে 21 core টাকার শেয়ার\n"
     ]
    }
   ],
   "source": [
    "import nltk\n",
    "from nltk.corpus import stopwords\n",
    "\n",
    "stop_words_bn = set(stopwords.words('bengali'))\n",
    "\n",
    "# Applying stopwords\n",
    "filtered_token2 = [[word for word in sentence.split() if word not in stop_words_bn] for sentence in token2]\n",
    "\n",
    "# Print the result\n",
    "for i, sentence in enumerate(filtered_token2, 1):\n",
    "    sst = ' '.join(sentence)\n",
    "    print(sst)"
   ]
  },
  {
   "cell_type": "code",
   "execution_count": 46,
   "id": "567e517b",
   "metadata": {},
   "outputs": [
    {
     "name": "stdout",
     "output_type": "stream",
     "text": [
      "গতকাল\n",
      "ডিএসইত\n",
      "১\n",
      "১৯০\n",
      "কে\n",
      "২৬\n",
      "লাখ\n",
      "টাকার\n",
      "শেয়ার\n",
      "লেনদে\n",
      "হয়\n",
      "আগের\n",
      "৫\n",
      "কে\n",
      "১৫\n",
      "লাখ\n",
      "টাকা\n",
      "কম\n",
      "গতকাল\n",
      "ডিএসইত\n",
      "১\n",
      "১৯৫\n",
      "কে\n",
      "৪১\n",
      "লাখ\n",
      "টাকার\n",
      "শেয়ার\n",
      "লেনদে\n",
      "হয়\n",
      "আগের\n",
      "মঙ্গলবার\n",
      "১\n",
      "১৮৩\n",
      "কে\n",
      "টাকা\n",
      "শেয়ার\n",
      "লেনদে\n",
      "হয়\n",
      "বাজার\n",
      "বিশ্লেষণ\n",
      "যায়\n",
      "ডিএসই\n",
      "প্রধা\n",
      "সূচক\n",
      "ডিএসইএক্স\n",
      "১২\n",
      "পয়েন্ট\n",
      "বেড়\n",
      "অবস্হা\n",
      "৬\n",
      "৩১২\n",
      "পয়েন্ট\n",
      "সূচকগুলোর\n",
      "ডিএসইএস\n",
      "শরিয়াহ\n",
      "সূচক\n",
      "৪\n",
      "পয়েন্ট\n",
      "বেড়\n",
      "অবস্হা\n",
      "১\n",
      "৩৭৫\n",
      "পয়েন্ট\n",
      "এছাড়া\n",
      "ডিএস৩০\n",
      "সূচক\n",
      "৬\n",
      "পয়েন্ট\n",
      "বেড়\n",
      "দাঁড়\n",
      "২\n",
      "২৬৫\n",
      "পয়েন্ট\n",
      "দেশের\n",
      "প্রধা\n",
      "শেয়ারবাজার\n",
      "গতকাল\n",
      "৩৮১টি\n",
      "কোম্\n",
      "মিউচুয়াল\n",
      "ফান্ডের\n",
      "শেয়ার\n",
      "লেনদে\n",
      "হয়\n",
      "দর\n",
      "বেড়েছ\n",
      "১২৯টির\n",
      "কমেছ\n",
      "১৯৯টির\n",
      "অপরিবর্তিত\n",
      "রয়\n",
      "৫৩টির\n",
      "অপর\n",
      "বাজার\n",
      "চট্টগ্রাম\n",
      "স্টক\n",
      "এক্সচেঞ্জ\n",
      "সিএসই\n",
      "সিএসই\n",
      "সার্ব\n",
      "সূচক\n",
      "সিএসপিআই\n",
      "৭৮\n",
      "point\n",
      "বেড়েছ\n",
      "লেনদে\n",
      "হয়\n",
      "21\n",
      "core\n",
      "টাকার\n",
      "শেয়ার\n"
     ]
    }
   ],
   "source": [
    "sst1 = \"গতকাল ডিএসইতে ১ ১৯০ কোটি ২৬ লাখ টাকার শেয়ার লেনদেন হয়েছে আগের ৫ কোটি ১৫ লাখ টাকা কম গতকাল ডিএসইতে ১ ১৯৫ কোটি ৪১ লাখ টাকার শেয়ার লেনদেন হয়েছিল আগের মঙ্গলবার ১ ১৮৩ কোটি টাকা শেয়ার লেনদেন হয়েছিল বাজার বিশ্লেষণে যায় ডিএসই প্রধান সূচক ডিএসইএক্স ১২ পয়েন্ট বেড়ে অবস্হান ৬ ৩১২ পয়েন্টে সূচকগুলোর ডিএসইএস শরিয়াহ সূচক ৪ পয়েন্ট বেড়ে অবস্হান ১ ৩৭৫ পয়েন্টে এছাড়া ডিএস৩০ সূচক ৬ পয়েন্ট বেড়ে দাঁড়িয়েছে ২ ২৬৫ পয়েন্টে দেশের প্রধান শেয়ারবাজারে গতকাল ৩৮১টি কোম্পানি মিউচুয়াল ফান্ডের শেয়ার লেনদেন হয়েছে দর বেড়েছে ১২৯টির কমেছে ১৯৯টির অপরিবর্তিত রয়েছে ৫৩টির অপর বাজার চট্টগ্রাম স্টক এক্সচেঞ্জে সিএসই সিএসই সার্বিক সূচক সিএসপিআই ৭৮ point বেড়েছে লেনদেন হয়েছে 21 core টাকার শেয়ার\"\n",
    "words = bn.word_tokenize(sst1)\n",
    "for w in words:\n",
    "    print(bn.stemmer(w))"
   ]
  },
  {
   "cell_type": "markdown",
   "id": "e96d9b4a",
   "metadata": {},
   "source": [
    "#### Again tokenize the words in sentences that get after applying stopwords and stemming. And provide the length of the tokenize words."
   ]
  },
  {
   "cell_type": "code",
   "execution_count": 48,
   "id": "a6e71465",
   "metadata": {},
   "outputs": [
    {
     "name": "stdout",
     "output_type": "stream",
     "text": [
      "['গতকাল', 'ডিএসইতে', '১', '১৯০', 'কোটি', '২৬', 'লাখ', 'টাকার', 'শেয়ার', 'লেনদেন', 'হয়েছে', 'আগের', '৫', 'কোটি', '১৫', 'লাখ', 'টাকা', 'কম', 'গতকাল', 'ডিএসইতে', '১', '১৯৫', 'কোটি', '৪১', 'লাখ', 'টাকার', 'শেয়ার', 'লেনদেন', 'হয়েছিল', 'আগের', 'মঙ্গলবার', '১', '১৮৩', 'কোটি', 'টাকা', 'শেয়ার', 'লেনদেন', 'হয়েছিল', 'বাজার', 'বিশ্লেষণে', 'যায়', 'ডিএসই', 'প্রধান', 'সূচক', 'ডিএসইএক্স', '১২', 'পয়েন্ট', 'বেড়ে', 'অবস্হান', '৬', '৩১২', 'পয়েন্টে', 'সূচকগুলোর', 'ডিএসইএস', 'শরিয়াহ', 'সূচক', '৪', 'পয়েন্ট', 'বেড়ে', 'অবস্হান', '১', '৩৭৫', 'পয়েন্টে', 'এছাড়া', 'ডিএস৩০', 'সূচক', '৬', 'পয়েন্ট', 'বেড়ে', 'দাঁড়িয়েছে', '২', '২৬৫', 'পয়েন্টে', 'দেশের', 'প্রধান', 'শেয়ারবাজারে', 'গতকাল', '৩৮১টি', 'কোম্পানি', 'মিউচুয়াল', 'ফান্ডের', 'শেয়ার', 'লেনদেন', 'হয়েছে', 'দর', 'বেড়েছে', '১২৯টির', 'কমেছে', '১৯৯টির', 'অপরিবর্তিত', 'রয়েছে', '৫৩টির', 'অপর', 'বাজার', 'চট্টগ্রাম', 'স্টক', 'এক্সচেঞ্জে', 'সিএসই', 'সিএসই', 'সার্বিক', 'সূচক', 'সিএসপিআই', '৭৮', 'point', 'বেড়েছে', 'লেনদেন', 'হয়েছে', '21', 'core', 'টাকার', 'শেয়ার']\n"
     ]
    }
   ],
   "source": [
    "# Word Tokenize\n",
    "words1 = \"গতকাল ডিএসইতে ১ ১৯০ কোটি ২৬ লাখ টাকার শেয়ার লেনদেন হয়েছে আগের ৫ কোটি ১৫ লাখ টাকা কম গতকাল ডিএসইতে ১ ১৯৫ কোটি ৪১ লাখ টাকার শেয়ার লেনদেন হয়েছিল আগের মঙ্গলবার ১ ১৮৩ কোটি টাকা শেয়ার লেনদেন হয়েছিল বাজার বিশ্লেষণে যায় ডিএসই প্রধান সূচক ডিএসইএক্স ১২ পয়েন্ট বেড়ে অবস্হান ৬ ৩১২ পয়েন্টে সূচকগুলোর ডিএসইএস শরিয়াহ সূচক ৪ পয়েন্ট বেড়ে অবস্হান ১ ৩৭৫ পয়েন্টে এছাড়া ডিএস৩০ সূচক ৬ পয়েন্ট বেড়ে দাঁড়িয়েছে ২ ২৬৫ পয়েন্টে দেশের প্রধান শেয়ারবাজারে গতকাল ৩৮১টি কোম্পানি মিউচুয়াল ফান্ডের শেয়ার লেনদেন হয়েছে দর বেড়েছে ১২৯টির কমেছে ১৯৯টির অপরিবর্তিত রয়েছে ৫৩টির অপর বাজার চট্টগ্রাম স্টক এক্সচেঞ্জে সিএসই সিএসই সার্বিক সূচক সিএসপিআই ৭৮ point বেড়েছে লেনদেন হয়েছে 21 core টাকার শেয়ার\"\n",
    "from banglanltk import word_tokenize\n",
    "token3 = word_tokenize(words1)\n",
    "print(token3)"
   ]
  },
  {
   "cell_type": "code",
   "execution_count": 49,
   "id": "43f3d03e",
   "metadata": {},
   "outputs": [
    {
     "name": "stdout",
     "output_type": "stream",
     "text": [
      "111\n"
     ]
    }
   ],
   "source": [
    "# Tokenize Words length\n",
    "print(len(token3))"
   ]
  },
  {
   "cell_type": "markdown",
   "id": "424b65e1",
   "metadata": {},
   "source": [
    "**Expected output 111**"
   ]
  },
  {
   "cell_type": "markdown",
   "id": "da6bec38",
   "metadata": {},
   "source": [
    "### Stemmer Vs Lemamtization\n",
    "Stemming and lemmatization are both techniques used in natural language processing (NLP) and text mining to reduce words to their base or root form."
   ]
  },
  {
   "cell_type": "code",
   "execution_count": 207,
   "id": "7ef1e857",
   "metadata": {},
   "outputs": [],
   "source": [
    "# What are the differences between Stemmer and Lemmatization(Provive atleast 2 points)\n",
    "\n"
   ]
  },
  {
   "cell_type": "raw",
   "id": "278f9755",
   "metadata": {},
   "source": [
    "In natural language processing (NLP), stemming and lemmatization are two methods for breaking down words into their most basic or root form; nevertheless, their methods and results vary. The following are the two main distinctions between lemmatization and stemming:\n",
    "1.\tOutput Form:\n",
    "Stemming: A word's root or base form is the result of stemming, and it's not always a legitimate term in the language. Prefixes and suffixes are frequently eliminated during stemming in order to get the word's basic form. The word \"running\" has the stem \"run,\" and the word \"better\" has the stem \"better.\"\n",
    "Lemmatization: A lemma, or the base or dictionary form of a word, is the result of lemmatization and is a legitimate term in the language. Lemmatization takes into account a word's context and meaning before using morphological analysis to produce a useful base form. For example, \"running\" has the lemma \"run,\" while \"better\" has the lemma \"good.\"\n",
    "\n",
    "2.\tLanguage Understanding: \n",
    "Stemming: Prefixes and suffixes are the main focus of the rule-based, heuristic process known as stemming. It does not consider the word's semantics or context, and the stems that are produced might not always accurately reflect the original word's meaning. In general, stemming is less computationally demanding and faster than lemmatization.\n",
    "Lemmatization: Lemmatization, on the other hand, entails a more in-depth examination of words in light of their context and meaning. It maps words to their base forms using a lexical knowledge base, such as a dictionary or vocabulary. Although lemmatization can be computationally more expensive than stemming, it yields more accurate results when it comes to maintaining the semantic meaning of words.\n",
    "\n",
    "\n",
    "\n"
   ]
  },
  {
   "cell_type": "markdown",
   "id": "35599d63",
   "metadata": {},
   "source": [
    "Suppose there are some application where we will use Stemming and Lemmatization text processing technique. Tell Us which text processing technique suitable for these applications. Provide answer like **(# Content Filtering -> Stemming)**"
   ]
  },
  {
   "cell_type": "code",
   "execution_count": 208,
   "id": "83d4c866",
   "metadata": {},
   "outputs": [],
   "source": [
    "# Sentiment analysis -> Lemmatization\n",
    "# Chatbots application ->  Lemmatization\n",
    "# Gmail spam classification -> Stemming\n",
    "# Question answer -> Lemmatization"
   ]
  },
  {
   "cell_type": "markdown",
   "id": "a27b550a",
   "metadata": {},
   "source": [
    "### Create Bag of words\n",
    "**1.** Step 1: Cleaning the text that not contain any numeric value, any punctuations etc.(In the give text)\n",
    "\n",
    "**2.** Step 2: Apply stopwords and stemmer again in the clean data.\n",
    "\n",
    "**3.** Step 3: Create Bag of Words (Use \"from sklearn.feature_extraction.text import CountVectorizer\")"
   ]
  },
  {
   "cell_type": "code",
   "execution_count": 15,
   "id": "7afa32f1",
   "metadata": {},
   "outputs": [
    {
     "name": "stdout",
     "output_type": "stream",
     "text": [
      "গতকাল ডিএসইতে  হাজার  কোটি  লাখ টাকার শেয়ার লেনদেন হয়েছে যা আগের দিন থেকে  কোটি  লাখ টাকা কম গতকাল ডিএসইতে  হাজার  কোটি  লাখ টাকার শেয়ার লেনদেন হয়েছিল এর আগের দিন মঙ্গলবার  হাজার  কোটি টাকা শেয়ার লেনদেন হয়েছিল বাজার বিশ্লেষণে দেখা যায় ডিএসই প্রধান সূচক ডিএসইএক্স  পয়েন্ট বেড়ে অবস্হান করছে  হাজার  পয়েন্টে অন্য সূচকগুলোর মধ্যে ডিএসইএস বা শরিয়াহ সূচক  পয়েন্ট বেড়ে অবস্হান করছে  হাজার  পয়েন্টে এছাড়া ডিএস সূচক  পয়েন্ট বেড়ে দাঁড়িয়েছে  হাজার  পয়েন্টে দেশের প্রধান এই শেয়ারবাজারে গতকাল টি কোম্পানি ও মিউচুয়াল ফান্ডের শেয়ার লেনদেন হয়েছে এর মধ্যে দর বেড়েছে টির কমেছে টির এবং অপরিবর্তিত রয়েছে টির অপর বাজার চট্টগ্রাম স্টক  এক্সচেঞ্জে সিএসই সিএসই সার্বিক সূচক সিএসপিআই  point বেড়েছে লেনদেন হয়েছে  core টাকার শেয়ার\n"
     ]
    }
   ],
   "source": [
    "import re\n",
    "\n",
    "paragraph1 = \"গতকাল ডিএসইতে ১ হাজার ১৯০ কোটি ২৬ লাখ টাকার শেয়ার লেনদেন হয়েছে। যা আগের দিন থেকে ৫ কোটি ১৫ লাখ টাকা কম। গতকাল ডি.এসইতে ১ হাজার ১৯৫ কোটি ৪১ লাখ টাকার শেয়ার লেনদেন হয়েছিল। এর আগের দিন মঙ্গলবার ১ হাজার ১৮৩ কোটি টাকা শেয়ার লেনদেন হয়েছিল। বাজার বিশ্লেষণে দেখা যায় ডিএসই প্রধান সূচক ডিএসইএক্স ১২ পয়েন্ট বেড়ে অবস্হান করছে ৬ হাজার ৩১২ পয়েন্টে। অন্য সূচকগুলোর মধ্যে ডিএসইএস বা শরিয়াহ সূচক ৪ পয়েন্ট বেড়ে অবস্হান করছে ১ হাজার ৩৭৫ পয়েন্টে। এছাড়া ডিএস৩০ সূচক ৬ পয়েন্ট বেড়ে দাঁড়িয়েছে ২ হাজার ২৬৫ পয়েন্টে। দেশের প্রধান এই শেয়ারবাজারে গতকাল ৩৮১টি কোম্পানি ও মিউচুয়াল ফান্ডের শেয়ার লেনদেন হয়েছে। এর মধ্যে দর বেড়েছে ১২৯টির। কমেছে ১৯৯টির এবং অপরিবর্তিত রয়েছে ৫৩টির। অপর বাজার চট্টগ্রাম স্টক  এক্সচেঞ্জে সিএসই সিএসই সার্বিক সূচক সিএসপিআই ৭৮ point বেড়েছে। লেনদেন হয়েছে 21 core টাকার শেয়ার।\"\n",
    "\n",
    "# Remove numeric values and punctuation using regular expressions\n",
    "cleaned_paragraph = re.sub(r'\\d+|[-.,\\'।‘’“”!?():]', '', paragraph1)\n",
    "\n",
    "print(cleaned_paragraph)\n",
    "\n"
   ]
  },
  {
   "cell_type": "code",
   "execution_count": 20,
   "id": "112d071a",
   "metadata": {},
   "outputs": [
    {
     "name": "stdout",
     "output_type": "stream",
     "text": [
      "(1, 64)\n",
      "['গতকাল', 'ডিএসইতে', 'হাজার', 'কোটি', 'লাখ', 'টাকার', 'শেয়ার', 'লেনদেন', 'হয়েছে', 'যা', 'আগের', 'দিন', 'থেকে', 'টাকা', 'কম', 'হয়েছিল', 'এর', 'মঙ্গলবার', 'বাজার', 'বিশ্লেষণে', 'দেখা', 'যায়', 'ডিএসই', 'প্রধান', 'সূচক', 'ডিএসইএক্স', 'পয়েন্ট', 'বেড়ে', 'অবস্হান', 'করছে', 'পয়েন্টে', 'অন্য', 'সূচকগুলোর', 'মধ্যে', 'ডিএসইএস', 'বা', 'শরিয়াহ', 'এছাড়া', 'ডিএস', 'দাঁড়িয়েছে', 'দেশের', 'এই', 'শেয়ারবাজারে', 'টি', 'কোম্পানি', 'ও', 'মিউচুয়াল', 'ফান্ডের', 'দর', 'বেড়েছে', 'টির', 'কমেছে', 'এবং', 'অপরিবর্তিত', 'রয়েছে', 'অপর', 'চট্টগ্রাম', 'স্টক', 'এক্সচেঞ্জে', 'সিএসই', 'সার্বিক', 'সিএসপিআই', 'point', 'core']\n",
      "[[0 0 0 0 0 0 0 0 0 0 0 0 0 0 2 0 2 0 0 0 0 0 0 0 0 0 0 0 0 0 0 0 0 0 0 0\n",
      "  0 0 0 0 0 1 0 0 0 0 0 0 1 0 0 0 0 0 0 2 0 0 0 0 0 0 1 1]]\n"
     ]
    }
   ],
   "source": [
    "from sklearn.feature_extraction.text import CountVectorizer\n",
    "corpus = ['গতকাল ডিএসইতে  হাজার  কোটি  লাখ টাকার শেয়ার লেনদেন হয়েছে যা আগের দিন থেকে  কোটি  লাখ টাকা কম গতকাল ডিএসইতে  হাজার  কোটি  লাখ টাকার শেয়ার লেনদেন হয়েছিল এর আগের দিন মঙ্গলবার  হাজার  কোটি টাকা শেয়ার লেনদেন হয়েছিল বাজার বিশ্লেষণে দেখা যায় ডিএসই প্রধান সূচক ডিএসইএক্স  পয়েন্ট বেড়ে অবস্হান করছে  হাজার  পয়েন্টে অন্য সূচকগুলোর মধ্যে ডিএসইএস বা শরিয়াহ সূচক  পয়েন্ট বেড়ে অবস্হান করছে  হাজার  পয়েন্টে এছাড়া ডিএস সূচক  পয়েন্ট বেড়ে দাঁড়িয়েছে  হাজার  পয়েন্টে দেশের প্রধান এই শেয়ারবাজারে গতকাল টি কোম্পানি ও মিউচুয়াল ফান্ডের শেয়ার লেনদেন হয়েছে এর মধ্যে দর বেড়েছে টির কমেছে টির এবং অপরিবর্তিত রয়েছে টির অপর বাজার চট্টগ্রাম স্টক  এক্সচেঞ্জে সিএসই সিএসই সার্বিক সূচক সিএসপিআই  point বেড়েছে লেনদেন হয়েছে  core টাকার শেয়ার']\n",
    "voc = []\n",
    "temp = {}\n",
    "for c in corpus:\n",
    "    test = c.strip().split()\n",
    "    \n",
    "    for i in test:\n",
    "        temp[i] = 1\n",
    "voc = list(temp.keys())\n",
    "\n",
    "vec = CountVectorizer(vocabulary=voc)\n",
    "x = vec.fit_transform(corpus).toarray()\n",
    "print(x.shape)\n",
    "print(vec.get_feature_names())\n",
    "print(x)"
   ]
  },
  {
   "cell_type": "markdown",
   "id": "62f8c9e0",
   "metadata": {},
   "source": [
    "###### Expected output\n",
    "array(['অপর', 'অপরিবর্তিত', 'অবস্হা', 'আগের', 'এক্সচেঞ্জ', 'এছাড়া', 'কম',\n",
    "       'কমেছ', 'কে', 'কোম্', 'গতকাল', 'চট্টগ্রাম', 'টাকা', 'টাকার',\n",
    "       'ডিএস', 'ডিএসই', 'ডিএসইএক্স', 'ডিএসইএস', 'ডিএসইত', 'দর', 'দাঁড়',\n",
    "       'দেশের', 'প্রধা', 'পয়েন্ট', 'ফান্ডের', 'বাজার', 'বিশ্লেষণ', 'বেড়',\n",
    "       'বেড়েছ', 'মঙ্গলবার', 'মিউচুয়াল', 'যায়', 'রয়', 'লাখ', 'লেনদে',\n",
    "       'শরিয়াহ', 'শেয়ার', 'শেয়ারবাজার', 'সার্ব', 'সিএসই', 'সিএসপিআই',\n",
    "       'সূচক', 'সূচকগুলোর', 'স্টক', 'হয়'], dtype=object)"
   ]
  },
  {
   "cell_type": "code",
   "execution_count": null,
   "id": "c95de528",
   "metadata": {},
   "outputs": [],
   "source": []
  },
  {
   "cell_type": "code",
   "execution_count": null,
   "id": "6052abf3",
   "metadata": {},
   "outputs": [],
   "source": []
  },
  {
   "cell_type": "code",
   "execution_count": null,
   "id": "5ea5b73d",
   "metadata": {},
   "outputs": [],
   "source": []
  }
 ],
 "metadata": {
  "kernelspec": {
   "display_name": "Python 3 (ipykernel)",
   "language": "python",
   "name": "python3"
  },
  "language_info": {
   "codemirror_mode": {
    "name": "ipython",
    "version": 3
   },
   "file_extension": ".py",
   "mimetype": "text/x-python",
   "name": "python",
   "nbconvert_exporter": "python",
   "pygments_lexer": "ipython3",
   "version": "3.8.18"
  }
 },
 "nbformat": 4,
 "nbformat_minor": 5
}
