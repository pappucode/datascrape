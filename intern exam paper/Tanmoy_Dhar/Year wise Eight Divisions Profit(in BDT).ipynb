{
 "cells": [
  {
   "cell_type": "code",
   "execution_count": 1,
   "id": "145c8b36",
   "metadata": {},
   "outputs": [],
   "source": [
    "import numpy as np\n",
    "import pandas as pd\n",
    "import matplotlib.pyplot as plt"
   ]
  },
  {
   "cell_type": "code",
   "execution_count": 15,
   "id": "50174788",
   "metadata": {},
   "outputs": [
    {
     "name": "stdout",
     "output_type": "stream",
     "text": [
      "\n",
      "List for Division:\n",
      "['Division1', 'Division2', 'Division3', 'Division4', 'Division5', 'Division6', 'Division7', 'Division8']\n",
      "\n",
      "Profit for the first Year:\n",
      "[500000.0, 1300000.0, 950000.0, 930000.0, 890000.0, 1500000.0, 810000.0, 980000.0]\n",
      "\n",
      "Profit for the Second Year:\n",
      "[1000000.0, 2600000.0, 1900000.0, 1860000.0, 1780000.0, 3000000.0, 1620000.0, 1960000.0]\n",
      "\n",
      "Profit for the Third Year:\n",
      "[2000000.0, 5200000.0, 3800000.0, 3720000.0, 3560000.0, 6000000.0, 3240000.0, 3920000.0]\n"
     ]
    }
   ],
   "source": [
    "divisions_list = ['Division1', 'Division2', 'Division3', 'Division4', 'Division5', 'Division6', 'Division7', 'Division8']\n",
    "print(\"\\nList for Division:\")\n",
    "print(divisions_list)\n",
    "# Average budget for each division\n",
    "average_budget = 2_000_000  # in BDT\n",
    "\n",
    "# Budget for each division in the first year\n",
    "budget_first_year = ([average_budget]*8)\n",
    "# Budget for the divisions\n",
    "budget_first_year[1] = average_budget + 0.30 * average_budget  # 2nd division\n",
    "budget_first_year[5] = average_budget + 0.50 * average_budget  # 6th division\n",
    "budget_first_year[0] = average_budget - 0.50 * average_budget  # 1st division\n",
    "budget_first_year[2] = average_budget - 0.05 * average_budget  # 3rd division\n",
    "budget_first_year[3] = average_budget - 0.07 * average_budget  # 4th division\n",
    "budget_first_year[4] = average_budget - 0.11 * average_budget  # 5th division\n",
    "budget_first_year[6] = average_budget - 0.19 * average_budget  # 7th division\n",
    "budget_first_year[7] = average_budget - 0.02 * average_budget  # 8th division\n",
    "# Budget for the second year (doubling each division's budget)\n",
    "budget_second_year = [budget * 2 for budget in budget_first_year]\n",
    "\n",
    "# Budget for the third year (quadrupling each division's budget)\n",
    "budget_third_year = [budget * 4 for budget in budget_first_year]\n",
    "\n",
    "# Profit for each year (half of the budget)\n",
    "profit_first_year = [budget / 2 for budget in budget_first_year]\n",
    "profit_second_year = [budget / 2 for budget in budget_second_year]\n",
    "profit_third_year = [budget / 2 for budget in budget_third_year]\n",
    "# Display the results\n",
    "print(\"\\nProfit for the first Year:\")\n",
    "print(profit_first_year)\n",
    "print(\"\\nProfit for the Second Year:\")\n",
    "print(profit_second_year)\n",
    "print(\"\\nProfit for the Third Year:\")\n",
    "print(profit_third_year)\n"
   ]
  },
  {
   "cell_type": "code",
   "execution_count": 25,
   "id": "2d502c5b",
   "metadata": {},
   "outputs": [
    {
     "name": "stdout",
     "output_type": "stream",
     "text": [
      "Tuple containing Divisions and 3 Years Profit:\n",
      "('Division1', 500000.0, 1000000.0, 2000000.0)\n",
      "('Division2', 1300000.0, 2600000.0, 5200000.0)\n",
      "('Division3', 950000.0, 1900000.0, 3800000.0)\n",
      "('Division4', 930000.0, 1860000.0, 3720000.0)\n",
      "('Division5', 890000.0, 1780000.0, 3560000.0)\n",
      "('Division6', 1500000.0, 3000000.0, 6000000.0)\n",
      "('Division7', 810000.0, 1620000.0, 3240000.0)\n",
      "('Division8', 980000.0, 1960000.0, 3920000.0)\n"
     ]
    }
   ],
   "source": [
    "## Create a tuple using the result 4 lists\n",
    "# Your existing code...\n",
    "\n",
    "# Create a tuple using the result 4 lists\n",
    "result_tuple = tuple(zip(divisions_list, profit_first_year, profit_second_year, profit_third_year))\n",
    "\n",
    "print(\"Tuple containing Divisions and 3 Years Profit:\")\n",
    "for item in result_tuple:\n",
    "    print(item)\n",
    "\n",
    "\n",
    "\n"
   ]
  },
  {
   "cell_type": "code",
   "execution_count": 36,
   "id": "a181c4d5",
   "metadata": {},
   "outputs": [
    {
     "name": "stdout",
     "output_type": "stream",
     "text": [
      "\n",
      "Dictionary containing Divisions and 3 Years Profit:\n",
      "Division1: (500000.0, 1000000.0, 2000000.0)\n",
      "Division2: (1300000.0, 2600000.0, 5200000.0)\n",
      "Division3: (950000.0, 1900000.0, 3800000.0)\n",
      "Division4: (930000.0, 1860000.0, 3720000.0)\n",
      "Division5: (890000.0, 1780000.0, 3560000.0)\n",
      "Division6: (1500000.0, 3000000.0, 6000000.0)\n",
      "Division7: (810000.0, 1620000.0, 3240000.0)\n",
      "Division8: (980000.0, 1960000.0, 3920000.0)\n"
     ]
    }
   ],
   "source": [
    "# Create a tuple using the result 4 lists\n",
    "result_tuple = tuple(zip(divisions_list, profit_first_year, profit_second_year, profit_third_year))\n",
    "\n",
    "# Convert the tuple to a dictionary\n",
    "result_dict = {item[0]: item[1:] for item in result_tuple}\n",
    "\n",
    "# Display the dictionary\n",
    "print(\"\\nDictionary containing Divisions and 3 Years Profit:\")\n",
    "for division, profits in result_dict.items():\n",
    "    print(f\"{division}: {profits}\")\n"
   ]
  },
  {
   "cell_type": "code",
   "execution_count": 50,
   "id": "05a3d1bd",
   "metadata": {},
   "outputs": [
    {
     "name": "stdout",
     "output_type": "stream",
     "text": [
      "Division  Division1  Division2  Division3  Division4  Division5  Division6  \\\n",
      "Year1      500000.0  1300000.0   950000.0   930000.0   890000.0  1500000.0   \n",
      "Year2     1000000.0  2600000.0  1900000.0  1860000.0  1780000.0  3000000.0   \n",
      "Year3     2000000.0  5200000.0  3800000.0  3720000.0  3560000.0  6000000.0   \n",
      "\n",
      "Division  Division7  Division8  \n",
      "Year1      810000.0   980000.0  \n",
      "Year2     1620000.0  1960000.0  \n",
      "Year3     3240000.0  3920000.0  \n"
     ]
    }
   ],
   "source": [
    "# Create a DataFrame from the tuple\n",
    "df = pd.DataFrame(result_tuple, columns=['Division', 'Profit_Year1', 'Profit_Year2', 'Profit_Year3'])\n",
    "# Set the index as 'Division' and transpose the DataFrame\n",
    "df = df.set_index('Division').transpose()\n",
    "# Rename the index to 'Year1', 'Year2', 'Year3'\n",
    "df.index = ['Year1', 'Year2', 'Year3']\n",
    "print(df)"
   ]
  },
  {
   "cell_type": "code",
   "execution_count": 56,
   "id": "bc45889e",
   "metadata": {},
   "outputs": [
    {
     "data": {
      "image/png": "[encoded data removed]",
      "text/plain": [
       "<Figure size 720x504 with 1 Axes>"
      ]
     },
     "metadata": {
      "needs_background": "light"
     },
     "output_type": "display_data"
    }
   ],
   "source": [
    "# Plot the horizontal bar plot\n",
    "ax = df.plot(kind='barh', figsize=(10, 7))\n",
    "\n",
    "# Set labels for both axes\n",
    "ax.set_xlabel('Profit (in BDT)')\n",
    "ax.set_ylabel('Years')\n",
    "# Set the title of the plot\n",
    "plt.title('Profit for Each Division Over 3 Years')\n",
    "\n",
    "# Show the plot\n",
    "plt.show()"
   ]
  },
  {
   "cell_type": "code",
   "execution_count": null,
   "id": "5c73ef63",
   "metadata": {},
   "outputs": [],
   "source": []
  }
 ],
 "metadata": {
  "kernelspec": {
   "display_name": "Python 3 (ipykernel)",
   "language": "python",
   "name": "python3"
  },
  "language_info": {
   "codemirror_mode": {
    "name": "ipython",
    "version": 3
   },
   "file_extension": ".py",
   "mimetype": "text/x-python",
   "name": "python",
   "nbconvert_exporter": "python",
   "pygments_lexer": "ipython3",
   "version": "3.8.18"
  }
 },
 "nbformat": 4,
 "nbformat_minor": 5
}
