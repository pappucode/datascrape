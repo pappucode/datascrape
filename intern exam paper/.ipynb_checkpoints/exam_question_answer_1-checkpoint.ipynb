{
 "cells": [
  {
   "cell_type": "markdown",
   "id": "c33d4073",
   "metadata": {
    "id": "c33d4073"
   },
   "source": [
    "XYZ Company invested an average of 2 million BDT for each of its eight divisions in Bangladesh in the first year of operation for their new branches. The second and sixth divisions receive 30% and 50% more than the average budget, respectively. 1st, 3rd, 4th, 5th, 7th, and 8th divisions receive 50%, 5%, 7%, 11%, 19%, and 2% less funding than the average budget, accordingly. The budget for each division increases by double in the second year and by quadruple in the third year. Each year, each division's profit is half of the value of every year's budget.\n",
    "\n",
    "- Make 4 separate lists\n",
    "\t- One for 8 divisions\n",
    "\t- The remaining three for 3 years profits\n",
    "- Make a tuple using the resulting 4 lists\n",
    "- Convert the tuple to the dictionary\n",
    "- Make a data frame from the dictionary and set index as Year1, Year2, Year3\n",
    "- Visualize the data frame using horizontal bar plot\n",
    "    - Label the both axis accordingly\n",
    "    - Give the title as `Year wise Eight Divisions Profit(in BDT)`"
   ]
  },
  {
   "cell_type": "markdown",
   "id": "ad96fde4",
   "metadata": {
    "id": "ad96fde4"
   },
   "source": [
    "### Start coding"
   ]
  },
  {
   "cell_type": "code",
   "execution_count": 1,
   "id": "cb27a8e2",
   "metadata": {
    "id": "cb27a8e2"
   },
   "outputs": [],
   "source": [
    "# Import Necessary libraries\n",
    "import pandas as pd\n",
    "import matplotlib.pyplot as plt"
   ]
  },
  {
   "cell_type": "code",
   "execution_count": 2,
   "id": "4fc5afee",
   "metadata": {
    "id": "4fc5afee",
    "outputId": "c71e6bc4-e6ff-446e-dd4a-8303d253834f"
   },
   "outputs": [
    {
     "name": "stdout",
     "output_type": "stream",
     "text": [
      "[1000000.0, 2600000.0, 1900000.0, 1860000.0, 1780000.0, 3000000.0, 1620000.0, 1960000.0]\n"
     ]
    }
   ],
   "source": [
    "# Code here for making 4 separate lists\n",
    "avg = 2000000\n",
    "\n",
    "divisions = ['Division'+str(i) for i in range(1,9)]\n",
    "\n",
    "budget_year1 = [avg-avg*0.5, avg+avg*0.3, avg-avg*0.05, avg-avg*0.07, avg-avg*0.11, avg+avg*0.50, avg-avg*0.19, avg-avg*0.02]\n",
    "# budget_year2 = [i+i*2 for i in budget_year1]\n",
    "# budget_year3 = [i+i*4 for i in budget_year1]\n",
    "\n",
    "# profit_year1 = [i*0.5 for i in budget_year1]\n",
    "# profit_year2 = [i*0.5 for i in budget_year2]\n",
    "# profit_year3 = [i*0.5 for i in budget_year3]\n",
    "\n",
    "# print(\"List for Divisions:\\n\")\n",
    "# print(divisions, \"\\n\")\n",
    "# print(\"List for 1st Year's Profit:\\n\")\n",
    "# print(profit_year1, \"\\n\")\n",
    "# print(\"List for 2nd Year's Profit:\\n\")\n",
    "# print(profit_year2, \"\\n\")\n",
    "# print(\"List for 3rd Year's Profits:\\n\")\n",
    "# print(profit_year3, \"\\n\")\n",
    "print(budget_year1)"
   ]
  },
  {
   "cell_type": "code",
   "execution_count": null,
   "id": "187c5dae",
   "metadata": {
    "id": "187c5dae",
    "outputId": "f4db7959-f1dd-4b90-9698-6b6f6d636109"
   },
   "outputs": [
    {
     "name": "stdout",
     "output_type": "stream",
     "text": [
      "Tuple containing Divisions and 3 Years Profit:\n",
      "\n"
     ]
    },
    {
     "data": {
      "text/plain": [
       "(('Division1', 500000.0, 1500000.0, 2500000.0),\n",
       " ('Division2', 1300000.0, 3900000.0, 6500000.0),\n",
       " ('Division3', 950000.0, 2850000.0, 4750000.0),\n",
       " ('Division4', 930000.0, 2790000.0, 4650000.0),\n",
       " ('Division5', 890000.0, 2670000.0, 4450000.0),\n",
       " ('Division6', 1500000.0, 4500000.0, 7500000.0),\n",
       " ('Division7', 810000.0, 2430000.0, 4050000.0),\n",
       " ('Division8', 980000.0, 2940000.0, 4900000.0))"
      ]
     },
     "execution_count": 3,
     "metadata": {},
     "output_type": "execute_result"
    }
   ],
   "source": [
    "# Code for tuple using the resulting list\n",
    "_tuple = tuple(zip(divisions, profit_year1, profit_year2, profit_year3))\n",
    "print(\"Tuple containing Divisions and 3 Years Profit:\\n\")\n",
    "_tuple"
   ]
  },
  {
   "cell_type": "code",
   "execution_count": null,
   "id": "6080df65",
   "metadata": {
    "id": "6080df65",
    "outputId": "3a521447-89c9-423f-e228-ebbc2bfb60a7"
   },
   "outputs": [
    {
     "name": "stdout",
     "output_type": "stream",
     "text": [
      "Dictionary containing Divisions and 3 Years Profit:\n",
      "\n"
     ]
    },
    {
     "data": {
      "text/plain": [
       "{'Division1': [500000.0, 1500000.0, 2500000.0],\n",
       " 'Division2': [1300000.0, 3900000.0, 6500000.0],\n",
       " 'Division3': [950000.0, 2850000.0, 4750000.0],\n",
       " 'Division4': [930000.0, 2790000.0, 4650000.0],\n",
       " 'Division5': [890000.0, 2670000.0, 4450000.0],\n",
       " 'Division6': [1500000.0, 4500000.0, 7500000.0],\n",
       " 'Division7': [810000.0, 2430000.0, 4050000.0],\n",
       " 'Division8': [980000.0, 2940000.0, 4900000.0]}"
      ]
     },
     "execution_count": 4,
     "metadata": {},
     "output_type": "execute_result"
    }
   ],
   "source": [
    "# Code for dictionary using the resulting tuple\n",
    "_dict = {t[0]:list(t[1:]) for t in _tuple}\n",
    "print(\"Dictionary containing Divisions and 3 Years Profit:\\n\")\n",
    "_dict"
   ]
  },
  {
   "cell_type": "code",
   "execution_count": null,
   "id": "14401eac",
   "metadata": {
    "id": "14401eac",
    "outputId": "24567508-8e80-4384-f40f-56ca680bbe5f"
   },
   "outputs": [
    {
     "data": {
      "text/html": [
       "<div>\n",
       "<style scoped>\n",
       "    .dataframe tbody tr th:only-of-type {\n",
       "        vertical-align: middle;\n",
       "    }\n",
       "\n",
       "    .dataframe tbody tr th {\n",
       "        vertical-align: top;\n",
       "    }\n",
       "\n",
       "    .dataframe thead th {\n",
       "        text-align: right;\n",
       "    }\n",
       "</style>\n",
       "<table border=\"1\" class=\"dataframe\">\n",
       "  <thead>\n",
       "    <tr style=\"text-align: right;\">\n",
       "      <th></th>\n",
       "      <th>Division1</th>\n",
       "      <th>Division2</th>\n",
       "      <th>Division3</th>\n",
       "      <th>Division4</th>\n",
       "      <th>Division5</th>\n",
       "      <th>Division6</th>\n",
       "      <th>Division7</th>\n",
       "      <th>Division8</th>\n",
       "    </tr>\n",
       "  </thead>\n",
       "  <tbody>\n",
       "    <tr>\n",
       "      <th>Year1</th>\n",
       "      <td>500000.0</td>\n",
       "      <td>1300000.0</td>\n",
       "      <td>950000.0</td>\n",
       "      <td>930000.0</td>\n",
       "      <td>890000.0</td>\n",
       "      <td>1500000.0</td>\n",
       "      <td>810000.0</td>\n",
       "      <td>980000.0</td>\n",
       "    </tr>\n",
       "    <tr>\n",
       "      <th>Year2</th>\n",
       "      <td>1500000.0</td>\n",
       "      <td>3900000.0</td>\n",
       "      <td>2850000.0</td>\n",
       "      <td>2790000.0</td>\n",
       "      <td>2670000.0</td>\n",
       "      <td>4500000.0</td>\n",
       "      <td>2430000.0</td>\n",
       "      <td>2940000.0</td>\n",
       "    </tr>\n",
       "    <tr>\n",
       "      <th>Year3</th>\n",
       "      <td>2500000.0</td>\n",
       "      <td>6500000.0</td>\n",
       "      <td>4750000.0</td>\n",
       "      <td>4650000.0</td>\n",
       "      <td>4450000.0</td>\n",
       "      <td>7500000.0</td>\n",
       "      <td>4050000.0</td>\n",
       "      <td>4900000.0</td>\n",
       "    </tr>\n",
       "  </tbody>\n",
       "</table>\n",
       "</div>"
      ],
      "text/plain": [
       "       Division1  Division2  Division3  Division4  Division5  Division6  \\\n",
       "Year1   500000.0  1300000.0   950000.0   930000.0   890000.0  1500000.0   \n",
       "Year2  1500000.0  3900000.0  2850000.0  2790000.0  2670000.0  4500000.0   \n",
       "Year3  2500000.0  6500000.0  4750000.0  4650000.0  4450000.0  7500000.0   \n",
       "\n",
       "       Division7  Division8  \n",
       "Year1   810000.0   980000.0  \n",
       "Year2  2430000.0  2940000.0  \n",
       "Year3  4050000.0  4900000.0  "
      ]
     },
     "execution_count": 5,
     "metadata": {},
     "output_type": "execute_result"
    }
   ],
   "source": [
    "# Code for data frame from the dictionary\n",
    "df = pd.DataFrame(_dict, index=['Year1', 'Year2', 'Year3'])\n",
    "df"
   ]
  },
  {
   "cell_type": "code",
   "execution_count": null,
   "id": "f07cb6ab",
   "metadata": {
    "id": "f07cb6ab",
    "outputId": "c186ba88-4388-414c-db81-b1d96f28e99b"
   },
   "outputs": [
    {
     "data": {
      "image/png": "[encoded data removed]",
      "text/plain": [
       "<Figure size 640x480 with 1 Axes>"
      ]
     },
     "metadata": {},
     "output_type": "display_data"
    }
   ],
   "source": [
    "# Visualize the data frame using horizontal bar plot\n",
    "df.plot(kind='barh')\n",
    "plt.ylabel(\"Year\")\n",
    "plt.xlabel(\"Profit Amount in BDT\")\n",
    "plt.title(\"Year wise 8 Divisions Profit(in BDT)\")\n",
    "plt.show()"
   ]
  },
  {
   "cell_type": "code",
   "execution_count": null,
   "id": "1fef1f00",
   "metadata": {
    "id": "1fef1f00"
   },
   "outputs": [],
   "source": []
  }
 ],
 "metadata": {
  "colab": {
   "provenance": []
  },
  "kernelspec": {
   "display_name": "Python 3 (ipykernel)",
   "language": "python",
   "name": "python3"
  },
  "language_info": {
   "codemirror_mode": {
    "name": "ipython",
    "version": 3
   },
   "file_extension": ".py",
   "mimetype": "text/x-python",
   "name": "python",
   "nbconvert_exporter": "python",
   "pygments_lexer": "ipython3",
   "version": "3.8.18"
  }
 },
 "nbformat": 4,
 "nbformat_minor": 5
}
