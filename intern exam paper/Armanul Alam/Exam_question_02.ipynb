{
 "cells": [
  {
   "cell_type": "markdown",
   "id": "c7a17d64",
   "metadata": {},
   "source": [
    "## Natural Language Processing"
   ]
  },
  {
   "cell_type": "markdown",
   "id": "802a0edf",
   "metadata": {},
   "source": [
    "#### Libraries need to be installed\n",
    "1) pip install nltk\n",
    "2) pip install banglanltk"
   ]
  },
  {
   "cell_type": "markdown",
   "id": "9b083403",
   "metadata": {},
   "source": [
    "#### Import libraries"
   ]
  },
  {
   "cell_type": "code",
   "execution_count": 1,
   "id": "49d73427",
   "metadata": {},
   "outputs": [],
   "source": [
    "import nltk\n",
    "import banglanltk as bn\n",
    "import re"
   ]
  },
  {
   "cell_type": "markdown",
   "id": "98eab400",
   "metadata": {},
   "source": [
    "##### Use this data for further processing\n",
    "গতকাল ডিএসইতে ১ হাজার ১৯০ কোটি ২৬ লাখ টাকার শেয়ার লেনদেন হয়েছে। যা আগের দিন থেকে ৫ কোটি ১৫ লাখ! টাকা কম! গতকাল ডি.এসইতে ১ হাজার ১৯৫ কোটি ৪১ লাখ টাকার শেয়ার লেনদেন হয়েছিল। এর আগের দিন মঙ্গলবার ১ হাজার ১৮৩ কোটি টাকা শেয়ার লেনদেন হয়েছিল। বাজার বিশ্লেষণে দেখা যায় ডিএসই প্রধান সূচক ডিএসইএক্স ১২ পয়েন্ট বেড়ে অবস্হান করছে ৬ হাজার ৩১২ পয়েন্টে। অন্য সূচকগুলোর মধ্যে ডিএসইএস বা শরিয়াহ সূচক ৪ পয়েন্ট বেড়ে অবস্হান করছে ১ হাজার ৩৭৫ পয়েন্টে। এছাড়া ডিএস৩০ সূচক ৬ পয়েন্ট বেড়ে দাঁড়িয়েছে ২ হাজার ২৬৫ পয়েন্টে। দেশের প্রধান এই শেয়ারবাজারে গতকাল ৩৮১টি কোম্পানি ও মিউচুয়াল ফান্ডের শেয়ার লেনদেন হয়েছে। এর মধ্যে দর বেড়েছে ১২৯টির। কমেছে ১৯৯টির এবং অপরিবর্তিত রয়েছে ৫৩টির। অপর বাজার চট্টগ্রাম স্টক  এক্সচেঞ্জে সিএসই সিএসই সার্বিক সূচক সিএসপিআই ৭৮ point বেড়েছে। লেনদেন হয়েছে 21 core টাকার শেয়ার।"
   ]
  },
  {
   "cell_type": "code",
   "execution_count": 2,
   "id": "91510354",
   "metadata": {},
   "outputs": [],
   "source": [
    "paragraph = \"গতকাল ডিএসইতে ১ হাজার ১৯০ কোটি ২৬ লাখ টাকার শেয়ার লেনদেন হয়েছে। যা আগের দিন থেকে ৫ কোটি ১৫ লাখ টাকা কম! গতকাল ডি.এসইতে ১ হাজার ১৯৫ কোটি ৪১ লাখ টাকার শেয়ার লেনদেন হয়েছিল। এর আগের দিন মঙ্গলবার ১ হাজার ১৮৩ কোটি টাকা শেয়ার লেনদেন হয়েছিল। বাজার বিশ্লেষণে দেখা যায় ডিএসই প্রধান সূচক ডিএসইএক্স ১২ পয়েন্ট বেড়ে অবস্হান করছে ৬ হাজার ৩১২ পয়েন্টে। অন্য সূচকগুলোর মধ্যে ডিএসইএস বা শরিয়াহ সূচক ৪ পয়েন্ট বেড়ে অবস্হান করছে ১ হাজার ৩৭৫ পয়েন্টে। এছাড়া ডিএস৩০ সূচক ৬ পয়েন্ট বেড়ে দাঁড়িয়েছে ২ হাজার ২৬৫ পয়েন্টে। দেশের প্রধান এই শেয়ারবাজারে গতকাল ৩৮১টি কোম্পানি ও মিউচুয়াল ফান্ডের শেয়ার লেনদেন হয়েছে। এর মধ্যে দর বেড়েছে ১২৯টির। কমেছে ১৯৯টির এবং অপরিবর্তিত রয়েছে ৫৩টির। অপর বাজার চট্টগ্রাম স্টক  এক্সচেঞ্জে সিএসই সিএসই সার্বিক সূচক সিএসপিআই ৭৮ point বেড়েছে। লেনদেন হয়েছে 21 core টাকার শেয়ার।\""
   ]
  },
  {
   "cell_type": "markdown",
   "id": "ae8c701f",
   "metadata": {},
   "source": [
    "#### Tokenizing the words and provide the length  (use banglanltk library)"
   ]
  },
  {
   "cell_type": "code",
   "execution_count": 3,
   "id": "407aa5af",
   "metadata": {},
   "outputs": [],
   "source": [
    "# Word Tokenize\n",
    "tokenize_word=bn.word_tokenize(paragraph)"
   ]
  },
  {
   "cell_type": "code",
   "execution_count": 4,
   "id": "bab9782d",
   "metadata": {},
   "outputs": [
    {
     "name": "stdout",
     "output_type": "stream",
     "text": [
      "133\n"
     ]
    }
   ],
   "source": [
    "# Tokenize Words length\n",
    "print(len(tokenize_word))"
   ]
  },
  {
   "cell_type": "markdown",
   "id": "2a4bccd6",
   "metadata": {},
   "source": [
    "**Expected output 133**"
   ]
  },
  {
   "cell_type": "markdown",
   "id": "3a9a2cb6",
   "metadata": {},
   "source": [
    "#### Tokenizing the Sentences and provide the length  (use banglanltk library)"
   ]
  },
  {
   "cell_type": "code",
   "execution_count": 5,
   "id": "3723ef7a",
   "metadata": {},
   "outputs": [],
   "source": [
    "# Sentence Tokenize\n",
    "tokenize_sentence=bn.sent_tokenize(paragraph)"
   ]
  },
  {
   "cell_type": "code",
   "execution_count": 6,
   "id": "adc134cc",
   "metadata": {},
   "outputs": [
    {
     "name": "stdout",
     "output_type": "stream",
     "text": [
      "12\n"
     ]
    }
   ],
   "source": [
    "# Tokenize Sentences length\n",
    "print(len(tokenize_sentence))"
   ]
  },
  {
   "cell_type": "markdown",
   "id": "5abb6af5",
   "metadata": {},
   "source": [
    "**Expected output 12**"
   ]
  },
  {
   "cell_type": "markdown",
   "id": "04a26a91",
   "metadata": {},
   "source": [
    "#### Apply stopwords and stemmer in the tokenized sentences.\n",
    "###### Use stopwords from \"from nltk.corpus import stopwords\" and stremmer from  \"banglanltk\" package"
   ]
  },
  {
   "cell_type": "code",
   "execution_count": 7,
   "id": "5511d573",
   "metadata": {},
   "outputs": [
    {
     "name": "stderr",
     "output_type": "stream",
     "text": [
      "[nltk_data] Downloading package stopwords to\n",
      "[nltk_data]     C:\\Users\\HP\\AppData\\Roaming\\nltk_data...\n",
      "[nltk_data]   Package stopwords is already up-to-date!\n"
     ]
    },
    {
     "data": {
      "text/plain": [
       "True"
      ]
     },
     "execution_count": 7,
     "metadata": {},
     "output_type": "execute_result"
    }
   ],
   "source": [
    "from nltk.corpus import stopwords\n",
    "nltk.download('stopwords')"
   ]
  },
  {
   "cell_type": "code",
   "execution_count": 8,
   "id": "9d783581",
   "metadata": {},
   "outputs": [
    {
     "name": "stderr",
     "output_type": "stream",
     "text": [
      "[nltk_data] Downloading package punkt to\n",
      "[nltk_data]     C:\\Users\\HP\\AppData\\Roaming\\nltk_data...\n",
      "[nltk_data]   Package punkt is already up-to-date!\n"
     ]
    },
    {
     "data": {
      "text/plain": [
       "True"
      ]
     },
     "execution_count": 8,
     "metadata": {},
     "output_type": "execute_result"
    }
   ],
   "source": [
    "import nltk\n",
    "nltk.download('punkt')"
   ]
  },
  {
   "cell_type": "code",
   "execution_count": 9,
   "id": "0d06ca7f",
   "metadata": {},
   "outputs": [
    {
     "name": "stdout",
     "output_type": "stream",
     "text": [
      "['গতকাল', 'ডিএসইত', '১', '১৯০', 'কে', '২৬', 'লাখ', 'টাকার', 'শেয়ার', 'লেনদে', 'হয়', 'আগের', '৫', 'কে', '১৫', 'লাখ', 'টাকা', 'কম', 'গতকাল', 'ডিএসইত', '১', '১৯৫', 'কে', '৪১', 'লাখ', 'টাকার', 'শেয়ার', 'লেনদে', 'হয়', 'আগের', 'মঙ্গলবার', '১', '১৮৩', 'কে', 'টাকা', 'শেয়ার', 'লেনদে', 'হয়', 'বাজার', 'বিশ্লেষণ', 'যায়', 'ডিএসই', 'প্রধা', 'সূচক', 'ডিএসইএক্স', '১২', 'পয়েন্ট', 'বেড়', 'অবস্হা', '৬', '৩১২', 'পয়েন্ট', 'সূচকগুলোর', 'ডিএসইএস', 'শরিয়াহ', 'সূচক', '৪', 'পয়েন্ট', 'বেড়', 'অবস্হা', '১', '৩৭৫', 'পয়েন্ট', 'এছাড়া', 'ডিএস৩০', 'সূচক', '৬', 'পয়েন্ট', 'বেড়', 'দাঁড়', '২', '২৬৫', 'পয়েন্ট', 'দেশের', 'প্রধা', 'শেয়ারবাজার', 'গতকাল', '৩৮১টি', 'কোম্', 'মিউচুয়াল', 'ফান্ডের', 'শেয়ার', 'লেনদে', 'হয়', 'দর', 'বেড়েছ', '১২৯টির', 'কমেছ', '১৯৯টির', 'অপরিবর্তিত', 'রয়', '৫৩টির', 'অপর', 'বাজার', 'চট্টগ্রাম', 'স্টক', 'এক্সচেঞ্জ', 'সিএসই', 'সিএসই', 'সার্ব', 'সূচক', 'সিএসপিআই', '৭৮', 'point', 'বেড়েছ', 'লেনদে', 'হয়', '21', 'core', 'টাকার', 'শেয়ার']\n"
     ]
    }
   ],
   "source": [
    "tokenize_sen = []\n",
    "for i in tokenize_word:\n",
    "    tokenize_sen.append(i)\n",
    "stop_words=set(stopwords.words('bengali'))\n",
    "new_sen=[]\n",
    "for word in tokenize_sen:\n",
    "    if word not in stop_words:\n",
    "        new_sen.append(word)\n",
    "stem_sen=[]\n",
    "for word in new_sen:\n",
    "    stem_sen.append(bn.stemmer(word))\n",
    "print(stem_sen)"
   ]
  },
  {
   "cell_type": "markdown",
   "id": "1ddd7b8e",
   "metadata": {},
   "source": [
    "#### Again tokenize the words in sentences that get after applying stopwords and stemming. And provide the length of the tokenize words."
   ]
  },
  {
   "cell_type": "code",
   "execution_count": 11,
   "id": "6a853972",
   "metadata": {},
   "outputs": [],
   "source": [
    "# Word Tokenize\n",
    "tokenized_words = bn.word_tokenize(\" \".join(stem_sen))"
   ]
  },
  {
   "cell_type": "code",
   "execution_count": 12,
   "id": "fedeb7c4",
   "metadata": {},
   "outputs": [
    {
     "name": "stdout",
     "output_type": "stream",
     "text": [
      "111\n"
     ]
    }
   ],
   "source": [
    "# Tokenize Words length\n",
    "print(len(tokenized_words))"
   ]
  },
  {
   "cell_type": "markdown",
   "id": "36c50539",
   "metadata": {},
   "source": [
    "**Expected output 111**"
   ]
  },
  {
   "cell_type": "markdown",
   "id": "c705a5f7",
   "metadata": {},
   "source": [
    "### Stemmer Vs Lemamtization\n",
    "Stemming and lemmatization are both techniques used in natural language processing (NLP) and text mining to reduce words to their base or root form."
   ]
  },
  {
   "cell_type": "code",
   "execution_count": 13,
   "id": "b8aa4639",
   "metadata": {},
   "outputs": [],
   "source": [
    "# What are the differences between Stemmer and Lemmatization(Provive atleast 2 points)\n",
    "# 1. Stemming is faster than Lemmatization\n",
    "# 2. Stemming often leads to incorrect meaning and spellings.One the other hand, Lemmatization reduces words to keep meaningful base form with considering the context.\n",
    "# 3. Stemming is rule based approach whereas Lemmatization is a dictionary based approach."
   ]
  },
  {
   "cell_type": "markdown",
   "id": "35ffe090",
   "metadata": {},
   "source": [
    "Suppose there are some application where we will use Stemming and Lemmatization text processing technique. Tell Us which text processing technique suitable for these applications. Provide answer like **(# Content Filtering -> Stemming)**"
   ]
  },
  {
   "cell_type": "code",
   "execution_count": 14,
   "id": "11f2fd67",
   "metadata": {},
   "outputs": [],
   "source": [
    "# Sentiment analysis -> Lemmatization\n",
    "# Chatbots application -> Lemmatization\n",
    "# Gmail spam classification -> Stemming\n",
    "# Question answer -> Lemmatization"
   ]
  },
  {
   "cell_type": "markdown",
   "id": "d7ff066d",
   "metadata": {},
   "source": [
    "### Create Bag of words\n",
    "**1.** Step 1: Cleaning the text that not contain any numeric value, any punctuations etc.(In the give text)\n",
    "\n",
    "**2.** Step 2: Apply stopwords and stemmer again in the clean data.\n",
    "\n",
    "**3.** Step 3: Create Bag of Words (Use \"from sklearn.feature_extraction.text import CountVectorizer\")"
   ]
  },
  {
   "cell_type": "code",
   "execution_count": 15,
   "id": "7d57715a",
   "metadata": {},
   "outputs": [
    {
     "name": "stdout",
     "output_type": "stream",
     "text": [
      "গতকল ডএসইত  হজর  কট  লখ টকর শয়র লনদন হয়ছ য আগর দন থক  কট  লখ টক কম গতকল ডএসইত  হজর  কট  লখ টকর শয়র লনদন হয়ছল এর আগর দন মঙগলবর  হজর  কট টক শয়র লনদন হয়ছল বজর বশলষণ দখ যয় ডএসই পরধন সচক ডএসইএকস  পয়নট বড অবসহন করছ  হজর  পয়নট অনয সচকগলর মধয ডএসইএস ব শরয়হ সচক  পয়নট বড অবসহন করছ  হজর  পয়নট এছড ডএস সচক  পয়নট বড দডয়ছ  হজর  পয়নট দশর পরধন এই শয়রবজর গতকল ট কমপন ও মউচয়ল ফনডর শয়র লনদন হয়ছ এর মধয দর বডছ টর কমছ টর এব অপরবরতত রয়ছ টর অপর বজর চটটগরম সটক  একসচঞজ সএসই সএসই সরবক সচক সএসপআই  point বডছ লনদন হয়ছ  core টকর শয়র\n"
     ]
    }
   ],
   "source": [
    "cleaned_paragraph=re.sub(r'[^\\w\\s]', '', re.sub(r'\\d+', '', paragraph))\n",
    "print(cleaned_paragraph)"
   ]
  },
  {
   "cell_type": "code",
   "execution_count": 16,
   "id": "1f914bf0",
   "metadata": {},
   "outputs": [
    {
     "name": "stdout",
     "output_type": "stream",
     "text": [
      "['গতকল', 'ডএসইত', 'হজর', 'কট', 'লখ', 'টকর', 'শয়র', 'লনদ', 'হয়', 'য', 'আগর', 'দ', 'থক', 'কট', 'লখ', 'টক', 'কম', 'গতকল', 'ডএসইত', 'হজর', 'কট', 'লখ', 'টকর', 'শয়র', 'লনদ', 'হয়ছল', 'আগর', 'দ', 'মঙগলবর', 'হজর', 'কট', 'টক', 'শয়র', 'লনদ', 'হয়ছল', 'বজর', 'বশলষণ', 'দখ', 'যয়', 'ডএসই', 'পরধ', 'সচক', 'ডএসইএকস', 'পয়নট', 'বড', 'অবসহ', 'কর', 'হজর', 'পয়নট', 'অনয', 'সচকগলর', 'মধয', 'ডএসইএস', 'ব', 'শরয়হ', 'সচক', 'পয়নট', 'বড', 'অবসহ', 'কর', 'হজর', 'পয়নট', 'এছড', 'ডএস', 'সচক', 'পয়নট', 'বড', 'দডয়ছ', 'হজর', 'পয়নট', 'দশর', 'পরধ', 'শয়রবজর', 'গতকল', 'ট', 'কমপ', 'মউচয়ল', 'ফনডর', 'শয়র', 'লনদ', 'হয়', 'মধয', 'দর', 'বডছ', 'টর', 'কমছ', 'টর', 'অপরবরতত', 'রয়', 'টর', 'অপর', 'বজর', 'চটটগরম', 'সটক', 'একসচঞজ', 'সএসই', 'সএসই', 'সরবক', 'সচক', 'সএসপআই', 'point', 'বডছ', 'লনদ', 'হয়', 'core', 'টকর', 'শয়র']\n"
     ]
    }
   ],
   "source": [
    "new_tokenize_word=bn.word_tokenize(cleaned_paragraph)\n",
    "new_tokenize_sen = []\n",
    "for i in new_tokenize_word:\n",
    "    new_tokenize_sen.append(i)\n",
    "stop_words=set(stopwords.words('bengali'))\n",
    "new_sen1=[]\n",
    "for word in new_tokenize_sen:\n",
    "    if word not in stop_words:\n",
    "        new_sen1.append(word)\n",
    "new_stem_sen=[]\n",
    "for word in new_sen1:\n",
    "    new_stem_sen.append(bn.stemmer(word))\n",
    "print(new_stem_sen)"
   ]
  },
  {
   "cell_type": "code",
   "execution_count": 17,
   "id": "02dd0948",
   "metadata": {},
   "outputs": [],
   "source": [
    "from sklearn.feature_extraction.text import CountVectorizer\n",
    "vectorizer=CountVectorizer()"
   ]
  },
  {
   "cell_type": "code",
   "execution_count": 18,
   "id": "2e5277f1",
   "metadata": {},
   "outputs": [
    {
     "data": {
      "text/plain": [
       "array(['core', 'point', 'অনয', 'অপর', 'অপরবরতত', 'অবসহ', 'আগর', 'একসচঞজ',\n",
       "       'এছড', 'কট', 'কম', 'কমছ', 'কমপ', 'কর', 'গতকল', 'চটটগরম', 'টক',\n",
       "       'টকর', 'টর', 'ডএস', 'ডএসই', 'ডএসইএকস', 'ডএসইএস', 'ডএসইত', 'থক',\n",
       "       'দখ', 'দডয়ছ', 'দর', 'দশর', 'পরধ', 'পয়নট', 'ফনডর', 'বজর', 'বড',\n",
       "       'বডছ', 'বশলষণ', 'মউচয়ল', 'মঙগলবর', 'মধয', 'যয়', 'রয়', 'লখ', 'লনদ',\n",
       "       'শরয়হ', 'শয়র', 'শয়রবজর', 'সএসই', 'সএসপআই', 'সচক', 'সচকগলর', 'সটক',\n",
       "       'সরবক', 'হজর', 'হয়', 'হয়ছল'], dtype=object)"
      ]
     },
     "execution_count": 18,
     "metadata": {},
     "output_type": "execute_result"
    }
   ],
   "source": [
    "vectorizer.fit_transform(new_stem_sen)\n",
    "vectorizer.get_feature_names_out()"
   ]
  },
  {
   "cell_type": "markdown",
   "id": "3bba0866",
   "metadata": {},
   "source": [
    "###### Expected output\n",
    "array(['অপর', 'অপরিবর্তিত', 'অবস্হা', 'আগের', 'এক্সচেঞ্জ', 'এছাড়া', 'কম',\n",
    "       'কমেছ', 'কে', 'কোম্', 'গতকাল', 'চট্টগ্রাম', 'টাকা', 'টাকার',\n",
    "       'ডিএস', 'ডিএসই', 'ডিএসইএক্স', 'ডিএসইএস', 'ডিএসইত', 'দর', 'দাঁড়',\n",
    "       'দেশের', 'প্রধা', 'পয়েন্ট', 'ফান্ডের', 'বাজার', 'বিশ্লেষণ', 'বেড়',\n",
    "       'বেড়েছ', 'মঙ্গলবার', 'মিউচুয়াল', 'যায়', 'রয়', 'লাখ', 'লেনদে',\n",
    "       'শরিয়াহ', 'শেয়ার', 'শেয়ারবাজার', 'সার্ব', 'সিএসই', 'সিএসপিআই',\n",
    "       'সূচক', 'সূচকগুলোর', 'স্টক', 'হয়'], dtype=object)"
   ]
  },
  {
   "cell_type": "code",
   "execution_count": null,
   "id": "41b93b72",
   "metadata": {},
   "outputs": [],
   "source": []
  },
  {
   "cell_type": "code",
   "execution_count": null,
   "id": "a8099914",
   "metadata": {},
   "outputs": [],
   "source": []
  },
  {
   "cell_type": "code",
   "execution_count": null,
   "id": "fe678828",
   "metadata": {},
   "outputs": [],
   "source": []
  }
 ],
 "metadata": {
  "kernelspec": {
   "display_name": "Python 3 (ipykernel)",
   "language": "python",
   "name": "python3"
  },
  "language_info": {
   "codemirror_mode": {
    "name": "ipython",
    "version": 3
   },
   "file_extension": ".py",
   "mimetype": "text/x-python",
   "name": "python",
   "nbconvert_exporter": "python",
   "pygments_lexer": "ipython3",
   "version": "3.11.5"
  }
 },
 "nbformat": 4,
 "nbformat_minor": 5
}
