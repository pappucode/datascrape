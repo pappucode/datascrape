{
 "cells": [
  {
   "cell_type": "markdown",
   "id": "e2a16c5e",
   "metadata": {},
   "source": [
    "We are excited to announce that as part of our internship selection process, we will be conducting a Jupyter Notebook exam to assess your skills and proficiency in programming. Jupyter Notebook is a powerful tool widely used in the field of data science, providing an interactive environment for coding, visualization, and documentation."
   ]
  },
  {
   "cell_type": "markdown",
   "id": "83bd48f5",
   "metadata": {},
   "source": [
    "Your objective is to write a Python script using a web scraping library (such as BeautifulSoup or Scrapy or other library) to extract relevant information from \"kathika.org\" ."
   ]
  },
  {
   "cell_type": "markdown",
   "id": "5d300afc",
   "metadata": {},
   "source": [
    "## Data Scraping"
   ]
  },
  {
   "cell_type": "markdown",
   "id": "9fa8c22b",
   "metadata": {},
   "source": [
    "import all the library"
   ]
  },
  {
   "cell_type": "code",
   "execution_count": 1,
   "id": "781d336b",
   "metadata": {},
   "outputs": [],
   "source": [
    "# code:\n",
    "import requests\n",
    "from bs4 import BeautifulSoup"
   ]
  },
  {
   "cell_type": "markdown",
   "id": "ec506f0c",
   "metadata": {},
   "source": [
    "base url: https://kathika.org/"
   ]
  },
  {
   "cell_type": "code",
   "execution_count": 2,
   "id": "42a29b21",
   "metadata": {},
   "outputs": [],
   "source": [
    "# code:\n",
    "base_url = \"https://kathika.org/\""
   ]
  },
  {
   "cell_type": "markdown",
   "id": "ac65557b",
   "metadata": {},
   "source": [
    "Extract page start from: https://kathika.org/stories"
   ]
  },
  {
   "cell_type": "code",
   "execution_count": 3,
   "id": "42a0874b",
   "metadata": {},
   "outputs": [
    {
     "name": "stdout",
     "output_type": "stream",
     "text": [
      "/\n",
      "/stories\n",
      "/users\n",
      "/about\n",
      "/\n",
      "/#\n",
      "/author/rida\n",
      "/author/anik\n",
      "/author/sekon\n",
      "/author/Unknown\n",
      "/author/anikbiswas\n",
      "/author/ano\n",
      "/author/arpon\n",
      "/author/ariza\n",
      "/author/bijoy\n",
      "/author/mahmud\n",
      "/author/rapaislam\n",
      "/author/sajibbabu\n",
      "/author/shohan\n",
      "/author/hi\n",
      "/author/corona005\n",
      "/author/sandeeproy\n",
      "/author/nipendrabiswas\n",
      "/author/pinky\n",
      "/author/akash\n",
      "/author/mohinmia2000\n",
      "/story/61c2af5a3cb9a\n",
      "/story/61edb39a25999\n",
      "/story/63c56eb4506dd\n",
      "/story/6221281f60201\n",
      "/story/61267b9737397\n",
      "/story/63a11dee5cd53\n",
      "/story/63ac83f578d27\n",
      "/story/60dbfc95c790b\n",
      "/story/62dbd3fbde5cf\n",
      "/story/6399eae18d784\n",
      "/story/63a5db429d020\n",
      "/story/616a98628a97e\n",
      "/story/61ab38c27c0e9\n",
      "/story/633ebeb5085ba\n",
      "/story/639859d01dd7d\n",
      "/story/63ba749f29a3e\n",
      "/story/6152a0094963d\n",
      "/story/63a982038db81\n",
      "/story/60f470ebd9382\n",
      "/story/61f3abed46be9\n",
      "/story/62716a1055c4d\n",
      "/story/63a93825c877b\n",
      "/story/639ca09786568\n",
      "/story/63abde47bed64\n",
      "/story/63a836839276e\n",
      "/story/63a93731edad7\n",
      "/story/6101844be606d\n",
      "/story/63aa961a9132c\n",
      "/story/63a982038db81\n",
      "/story/63aa92fc41ece\n",
      "/stories/category/romantic\n",
      "/story/63be7930dcc1a\n",
      "/story/6392e84b88f38\n",
      "/story/61f3abed46be9\n",
      "/story/6163fafe48504\n",
      "/story/6152a0094963d\n",
      "/story/626b2f7d4720e\n",
      "/story/60f1df292e700\n",
      "/story/60f99184e119d\n",
      "/story/6399eae18d784\n",
      "/story/6405871680ee5\n",
      "/stories/category/chot-glp\n",
      "/story/63d0af2a93c6d\n",
      "/story/63a0697dc6e4c\n",
      "/story/62257aa74e0b3\n",
      "/story/63c56eb4506dd\n",
      "/story/60b7c233bf2e1\n",
      "/story/63bc3e6d39b67\n",
      "/story/63ba749f29a3e\n",
      "/story/60b78901bdb7c\n",
      "/story/63c11f5a05dcf\n",
      "/story/63d3486643f81\n",
      "/stories/category/others\n",
      "/story/611a8cd4d8371\n",
      "/story/61260d8737479\n",
      "/story/6221281f60201\n",
      "/story/633ebeb5085ba\n",
      "/story/61e074b456c68\n",
      "/story/63b41248ed664\n",
      "/story/63b18e67b96b8\n",
      "/story/62dbd3fbde5cf\n",
      "/story/616d2733e9bd2\n",
      "/story/64997c9b91229\n",
      "/stories/category/mjar-glp\n",
      "/story/60ddc134e7e15\n",
      "/story/627175f5a9eff\n",
      "/story/6140ba2c7828c\n",
      "/story/627161f8d6f85\n",
      "/story/60e32b5031f00\n",
      "/story/60df2d1fb3414\n",
      "/story/60dbfc95c790b\n",
      "/story/63a3d0f105ecb\n",
      "/story/63a983bb78e3c\n",
      "/stories/category/childrens\n",
      "/story/60eb36133baee\n",
      "/story/61ab38c27c0e9\n",
      "/story/61c2af5a3cb9a\n",
      "/story/60e5f492c9157\n",
      "/story/6125320f42931\n",
      "/story/61edb39a25999\n",
      "/story/61267b9737397\n",
      "/story/60bbc65189fea\n",
      "/story/613895a1d8b02\n",
      "/stories/category/horror\n",
      "/story/60c23e6c7b8b6\n",
      "/story/63b9b21828a42\n",
      "/story/60c23cf16a249\n",
      "/story/63ac83f578d27\n",
      "/story/6103b65fa9f45\n",
      "/story/64b807e0cf76f\n",
      "/story/6163d45d600ea\n",
      "/story/639859d01dd7d\n",
      "/story/6140b9b45134f\n",
      "/story/613789fe2425d\n",
      "/story/61446a0d9d712\n",
      "https://facebook.com/kathika.org\n"
     ]
    }
   ],
   "source": [
    "# code:\n",
    "def stories():\n",
    "\n",
    "    # Send a GET request to the website\n",
    "    response = requests.get(base_url)\n",
    "\n",
    "    # Check if the request was successful (status code 200)\n",
    "    if response.status_code == 200:\n",
    "        # Parse the HTML content of the page using BeautifulSoup\n",
    "        soup = BeautifulSoup(response.text, 'html.parser')\n",
    "\n",
    "        # Example: Extracting all the links in stories page\n",
    "        links = soup.find_all('a')\n",
    "        for link in links:\n",
    "            print(link['href'])\n",
    "\n",
    "        # Add more code here to extract other relevant information on the stories page\n",
    "\n",
    "    else:\n",
    "        print(f\"Failed. Status code: {response.status_code}\")\n",
    "\n",
    "if __name__ == \"__main__\":\n",
    "    stories()"
   ]
  },
  {
   "cell_type": "markdown",
   "id": "a7cb94c8",
   "metadata": {},
   "source": [
    "Use **iteration** or **loop** to go through **each book** and **each page** and collect **(book name, writer name, book content)**\n",
    "\n",
    "hint: you can store data in a **list** or **dictionary**. **{\"book_name\":[[writer_name],[book_content]]}**\n",
    "\n",
    "caution: all the data must be contained as organized where user can tell which book belongs to which writer"
   ]
  },
  {
   "cell_type": "code",
   "execution_count": null,
   "id": "727d60ac",
   "metadata": {},
   "outputs": [],
   "source": []
  },
  {
   "cell_type": "markdown",
   "id": "0ca4905f",
   "metadata": {},
   "source": [
    "Save current Data as json or other format in you're local mechine. \n",
    "\n",
    "caution: you must be able to read it in jupyter notebook"
   ]
  },
  {
   "cell_type": "markdown",
   "id": "d25377d9",
   "metadata": {},
   "source": [
    "## Data Cleaning"
   ]
  },
  {
   "cell_type": "markdown",
   "id": "319379a5",
   "metadata": {},
   "source": [
    "import saved data in jupyter notebook"
   ]
  },
  {
   "cell_type": "code",
   "execution_count": 4,
   "id": "8593be7a",
   "metadata": {},
   "outputs": [],
   "source": [
    "# code:\n"
   ]
  },
  {
   "cell_type": "markdown",
   "id": "dc9a686c",
   "metadata": {},
   "source": [
    "Check if **book_content** contains any html element or other element which is not suppose to be there."
   ]
  },
  {
   "cell_type": "code",
   "execution_count": 5,
   "id": "8f0c64d2",
   "metadata": {},
   "outputs": [],
   "source": [
    "# Ans: Yes or No\n"
   ]
  },
  {
   "cell_type": "markdown",
   "id": "ac6012cb",
   "metadata": {},
   "source": [
    "If Answer is Yes then remove those element\n",
    "\n",
    "hint: use library **re** or other library\n",
    "\n",
    "caution: book content must maintain their Integrity"
   ]
  },
  {
   "cell_type": "code",
   "execution_count": 6,
   "id": "6a37614e",
   "metadata": {},
   "outputs": [],
   "source": [
    "# code:\n"
   ]
  },
  {
   "cell_type": "markdown",
   "id": "6a7552f8",
   "metadata": {},
   "source": [
    "Check how many stories or books you've collected and how many stories or books does website have"
   ]
  },
  {
   "cell_type": "code",
   "execution_count": 7,
   "id": "e201a67a",
   "metadata": {},
   "outputs": [],
   "source": [
    "# code\n"
   ]
  },
  {
   "cell_type": "markdown",
   "id": "441a5eb3",
   "metadata": {},
   "source": [
    "Did your books count matches with website? Yes or no"
   ]
  },
  {
   "cell_type": "code",
   "execution_count": 8,
   "id": "c9f867e4",
   "metadata": {},
   "outputs": [],
   "source": [
    "# Ans: Yes or No\n"
   ]
  },
  {
   "cell_type": "markdown",
   "id": "740f8334",
   "metadata": {},
   "source": [
    "### If your books count does not match then check your code and find the bug and fix it."
   ]
  },
  {
   "cell_type": "markdown",
   "id": "7ae94af9",
   "metadata": {},
   "source": [
    "If your books count matches then print all writer name and how many book each writer wrote.\n",
    "\n",
    "print hint: print(writer name: \"name\", number of book: \"number\")"
   ]
  },
  {
   "cell_type": "code",
   "execution_count": 9,
   "id": "283cd172",
   "metadata": {},
   "outputs": [],
   "source": [
    "# code:\n"
   ]
  },
  {
   "cell_type": "markdown",
   "id": "9aea9a7a",
   "metadata": {},
   "source": [
    "Save each books as **txt** file. where file name is **book_name.txt**. inside that file is **book_content**.\n",
    "\n",
    "Save each **book_name** and **writer_name** in **csv** file."
   ]
  },
  {
   "cell_type": "code",
   "execution_count": 10,
   "id": "f06b647d",
   "metadata": {},
   "outputs": [],
   "source": [
    "#code:\n"
   ]
  },
  {
   "cell_type": "markdown",
   "id": "3d883af2",
   "metadata": {},
   "source": [
    "**Explain what you did and what are the challange you've faced doing this exercise...**"
   ]
  },
  {
   "cell_type": "code",
   "execution_count": 11,
   "id": "1179a5d8",
   "metadata": {},
   "outputs": [],
   "source": [
    "# Ans:\n",
    "# Exam question 01's desired output was not same according to the statement."
   ]
  },
  {
   "cell_type": "markdown",
   "id": "8136e958",
   "metadata": {},
   "source": [
    "# what will you submit once exam is over?\n",
    "\n",
    "1. Provide complete jupyter notebook script.\n",
    "2. all the file you got after running the script for the last time.\n",
    "3. zip all the files and submit by following email instruction"
   ]
  }
 ],
 "metadata": {
  "kernelspec": {
   "display_name": "Python 3 (ipykernel)",
   "language": "python",
   "name": "python3"
  },
  "language_info": {
   "codemirror_mode": {
    "name": "ipython",
    "version": 3
   },
   "file_extension": ".py",
   "mimetype": "text/x-python",
   "name": "python",
   "nbconvert_exporter": "python",
   "pygments_lexer": "ipython3",
   "version": "3.11.5"
  }
 },
 "nbformat": 4,
 "nbformat_minor": 5
}
