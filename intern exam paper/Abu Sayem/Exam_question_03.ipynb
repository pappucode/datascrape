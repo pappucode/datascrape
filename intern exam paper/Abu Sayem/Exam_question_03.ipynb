{
 "cells": [
  {
   "cell_type": "markdown",
   "id": "e2a16c5e",
   "metadata": {},
   "source": [
    "We are excited to announce that as part of our internship selection process, we will be conducting a Jupyter Notebook exam to assess your skills and proficiency in programming. Jupyter Notebook is a powerful tool widely used in the field of data science, providing an interactive environment for coding, visualization, and documentation."
   ]
  },
  {
   "cell_type": "markdown",
   "id": "83bd48f5",
   "metadata": {},
   "source": [
    "Your objective is to write a Python script using a web scraping library (such as BeautifulSoup or Scrapy or other library) to extract relevant information from \"kathika.org\" ."
   ]
  },
  {
   "cell_type": "markdown",
   "id": "5d300afc",
   "metadata": {},
   "source": [
    "## Data Scraping"
   ]
  },
  {
   "cell_type": "markdown",
   "id": "9fa8c22b",
   "metadata": {},
   "source": [
    "import all the library"
   ]
  },
  {
   "cell_type": "code",
   "execution_count": null,
   "id": "781d336b",
   "metadata": {},
   "outputs": [],
   "source": [
    "# code:\n",
    "import requests as req\n",
    "from bs4 import BeautifulSoup"
   ]
  },
  {
   "cell_type": "markdown",
   "id": "ec506f0c",
   "metadata": {},
   "source": [
    "base url: https://kathika.org/"
   ]
  },
  {
   "cell_type": "code",
   "execution_count": null,
   "id": "42a29b21",
   "metadata": {},
   "outputs": [],
   "source": [
    "# code:\n",
    "url = 'https://kathika.org/'\n",
    "response = req.get(url)\n",
    "\n",
    "if response.status_code == 200:\n",
    "    print('Successful to retieved data')\n",
    "    user_input=int(input(\"Want to see ?\\nPress 1:\"))\n",
    "    if user_input == 1:\n",
    "        print(response.text)\n",
    "    else:\n",
    "        print(\"Thank you have a nice day\")\n",
    "else: \n",
    "    print('Failed to retrieved data')\n",
    "    "
   ]
  },
  {
   "cell_type": "markdown",
   "id": "ac65557b",
   "metadata": {},
   "source": [
    "Extract page start from: https://kathika.org/stories"
   ]
  },
  {
   "cell_type": "code",
   "execution_count": null,
   "id": "42a0874b",
   "metadata": {},
   "outputs": [],
   "source": [
    "# code:\n",
    "import requests\n",
    "from bs4 import BeautifulSoup\n",
    "\n",
    "def get_book_info(url):\n",
    "    book_info_dict = {}  # Dictionary to store book information\n",
    "\n",
    "    # Send a GET request to the main URL\n",
    "    response = requests.get(url)\n",
    "\n",
    "    # Check if the request was successful (status code 200)\n",
    "    if response.status_code == 200:\n",
    "        # Parse the HTML content using BeautifulSoup\n",
    "        soup = BeautifulSoup(response.text, 'html.parser')\n",
    "\n",
    "        # Find all links with class 'vs-card__title' inside div with class 'vs-card'\n",
    "        all_links = soup.find_all('a', href=True)\n",
    "\n",
    "        # Iterate through each link\n",
    "        for link in all_links:\n",
    "            link_url = link['href']\n",
    "            \n",
    "            # Extract book name from the title span\n",
    "            div_with_title = soup.find('div', class_='vs-card__title')\n",
    "            h3_tag = div_with_title.find('h3')\n",
    "            book_name = h3_tag.text.strip()\n",
    "\n",
    "            # Call the second function to get book information from the link\n",
    "            author_name, story_content = get_book_details(link_url)\n",
    "\n",
    "            # Update the dictionary with book information\n",
    "            book_info_dict[book_name] = {\n",
    "                'author': author_name,\n",
    "                'content': story_content\n",
    "            }\n",
    "\n",
    "    else:\n",
    "        print(f\"Failed to retrieve content. Status code: {response.status_code}\")\n",
    "\n",
    "    return book_info_dict\n",
    "\n",
    "def get_book_details(link_url):\n",
    "    # Send a GET request to the link URL\n",
    "    response = requests.get('https://kathika.org/'+link_url)\n",
    "    author_name = \"\"\n",
    "    story_content = \"\"\n",
    "\n",
    "    # Check if the request was successful (status code 200)\n",
    "    if response.status_code == 200:\n",
    "        # Parse the HTML content using BeautifulSoup\n",
    "        soup = BeautifulSoup(response.text, 'html.parser')\n",
    "\n",
    "        # Find the author name and story content\n",
    "        author_name_elem = soup.find('a', class_='author-name')\n",
    "        author_name = author_name_elem.text.strip() if author_name_elem else \"Unknown Author\"\n",
    "        \n",
    "        story_content_elem = soup.find('div', class_='story-content ql-editor')\n",
    "        story_content = story_content_elem.text.strip() if story_content_elem else \"Unknown Content\"\n",
    "\n",
    "    else:\n",
    "        print(f\"Failed to retrieve content from link {link_url}. Status code: {response.status_code}\")\n",
    "\n",
    "    return author_name, story_content\n",
    "\n",
    "# Call the first function with the main URL\n",
    "book_info_dict = get_book_info(\"https://kathika.org/stories\")\n",
    "\n",
    "# Print the resulting dictionary\n",
    "print(book_info_dict)\n"
   ]
  },
  {
   "cell_type": "markdown",
   "id": "a7cb94c8",
   "metadata": {},
   "source": [
    "Use **iteration** or **loop** to go through **each book** and **each page** and collect **(book name, writer name, book content)**\n",
    "\n",
    "hint: you can store data in a **list** or **dictionary**. **{\"book_name\":[[writer_name],[book_content]]}**\n",
    "\n",
    "caution: all the data must be contained as organized where user can tell which book belongs to which writer"
   ]
  },
  {
   "cell_type": "code",
   "execution_count": null,
   "id": "cb5d6749",
   "metadata": {},
   "outputs": [],
   "source": [
    "# code and check\n"
   ]
  },
  {
   "cell_type": "markdown",
   "id": "0ca4905f",
   "metadata": {},
   "source": [
    "Save current Data as json or other format in you're local mechine. \n",
    "\n",
    "caution: you must be able to read it in jupyter notebook"
   ]
  },
  {
   "cell_type": "markdown",
   "id": "d25377d9",
   "metadata": {},
   "source": [
    "## Data Cleaning"
   ]
  },
  {
   "cell_type": "markdown",
   "id": "319379a5",
   "metadata": {},
   "source": [
    "import saved data in jupyter notebook"
   ]
  },
  {
   "cell_type": "code",
   "execution_count": null,
   "id": "8593be7a",
   "metadata": {},
   "outputs": [],
   "source": [
    "# code:\n"
   ]
  },
  {
   "cell_type": "markdown",
   "id": "dc9a686c",
   "metadata": {},
   "source": [
    "Check if **book_content** contains any html element or other element which is not suppose to be there."
   ]
  },
  {
   "cell_type": "code",
   "execution_count": null,
   "id": "8f0c64d2",
   "metadata": {},
   "outputs": [],
   "source": [
    "# Ans: Yes or No\n"
   ]
  },
  {
   "cell_type": "markdown",
   "id": "ac6012cb",
   "metadata": {},
   "source": [
    "If Answer is Yes then remove those element\n",
    "\n",
    "hint: use library **re** or other library\n",
    "\n",
    "caution: book content must maintain their Integrity"
   ]
  },
  {
   "cell_type": "code",
   "execution_count": null,
   "id": "6a37614e",
   "metadata": {},
   "outputs": [],
   "source": [
    "# code:\n"
   ]
  },
  {
   "cell_type": "markdown",
   "id": "6a7552f8",
   "metadata": {},
   "source": [
    "Check how many stories or books you've collected and how many stories or books does website have"
   ]
  },
  {
   "cell_type": "code",
   "execution_count": null,
   "id": "e201a67a",
   "metadata": {},
   "outputs": [],
   "source": [
    "# code\n"
   ]
  },
  {
   "cell_type": "markdown",
   "id": "441a5eb3",
   "metadata": {},
   "source": [
    "Did your books count matches with website? Yes or no"
   ]
  },
  {
   "cell_type": "code",
   "execution_count": null,
   "id": "c9f867e4",
   "metadata": {},
   "outputs": [],
   "source": [
    "# Ans: Yes or No\n"
   ]
  },
  {
   "cell_type": "markdown",
   "id": "740f8334",
   "metadata": {},
   "source": [
    "### If your books count does not match then check your code and find the bug and fix it."
   ]
  },
  {
   "cell_type": "markdown",
   "id": "7ae94af9",
   "metadata": {},
   "source": [
    "If your books count matches then print all writer name and how many book each writer wrote.\n",
    "\n",
    "print hint: print(writer name: \"name\", number of book: \"number\")"
   ]
  },
  {
   "cell_type": "code",
   "execution_count": null,
   "id": "283cd172",
   "metadata": {},
   "outputs": [],
   "source": [
    "# code:\n"
   ]
  },
  {
   "cell_type": "markdown",
   "id": "9aea9a7a",
   "metadata": {},
   "source": [
    "Save each books as **txt** file. where file name is **book_name.txt**. inside that file is **book_content**.\n",
    "\n",
    "Save each **book_name** and **writer_name** in **csv** file."
   ]
  },
  {
   "cell_type": "code",
   "execution_count": null,
   "id": "f06b647d",
   "metadata": {},
   "outputs": [],
   "source": [
    "#code:\n"
   ]
  },
  {
   "cell_type": "markdown",
   "id": "3d883af2",
   "metadata": {},
   "source": [
    "**Explain what you did and what are the challange you've faced doing this exercise...**"
   ]
  },
  {
   "cell_type": "code",
   "execution_count": null,
   "id": "1179a5d8",
   "metadata": {},
   "outputs": [],
   "source": [
    "# Ans:\n"
   ]
  },
  {
   "cell_type": "markdown",
   "id": "8136e958",
   "metadata": {},
   "source": [
    "# what will you submit once exam is over?\n",
    "\n",
    "1. Provide complete jupyter notebook script.\n",
    "2. all the file you got after running the script for the last time.\n",
    "3. zip all the files and submit by following email instruction"
   ]
  }
 ],
 "metadata": {
  "kernelspec": {
   "display_name": "Python 3 (ipykernel)",
   "language": "python",
   "name": "python3"
  },
  "language_info": {
   "codemirror_mode": {
    "name": "ipython",
    "version": 3
   },
   "file_extension": ".py",
   "mimetype": "text/x-python",
   "name": "python",
   "nbconvert_exporter": "python",
   "pygments_lexer": "ipython3",
   "version": "3.8.18"
  },
  "widgets": {
   "application/vnd.jupyter.widget-state+json": {
    "state": {},
    "version_major": 2,
    "version_minor": 0
   }
  }
 },
 "nbformat": 4,
 "nbformat_minor": 5
}
