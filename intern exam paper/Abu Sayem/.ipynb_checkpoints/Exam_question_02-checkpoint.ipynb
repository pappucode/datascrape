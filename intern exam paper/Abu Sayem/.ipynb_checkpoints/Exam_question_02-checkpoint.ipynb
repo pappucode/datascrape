{
 "cells": [
  {
   "cell_type": "markdown",
   "id": "c7a17d64",
   "metadata": {},
   "source": [
    "## Natural Language Processing"
   ]
  },
  {
   "cell_type": "markdown",
   "id": "802a0edf",
   "metadata": {},
   "source": [
    "#### Libraries need to be installed\n",
    "1) pip install nltk\n",
    "2) pip install banglanltk"
   ]
  },
  {
   "cell_type": "markdown",
   "id": "9b083403",
   "metadata": {},
   "source": [
    "#### Import libraries"
   ]
  },
  {
   "cell_type": "code",
   "execution_count": 1,
   "id": "49d73427",
   "metadata": {},
   "outputs": [],
   "source": [
    "import nltk\n",
    "import banglanltk as bn\n",
    "import re\n",
    "from nltk.corpus import stopwords\n",
    "from sklearn.feature_extraction.text import CountVectorizer"
   ]
  },
  {
   "cell_type": "markdown",
   "id": "98eab400",
   "metadata": {},
   "source": [
    "##### Use this data for further processing\n",
    "গতকাল ডিএসইতে ১ হাজার ১৯০ কোটি ২৬ লাখ টাকার শেয়ার লেনদেন হয়েছে। যা আগের দিন থেকে ৫ কোটি ১৫ লাখ! টাকা কম! গতকাল ডি.এসইতে ১ হাজার ১৯৫ কোটি ৪১ লাখ টাকার শেয়ার লেনদেন হয়েছিল। এর আগের দিন মঙ্গলবার ১ হাজার ১৮৩ কোটি টাকা শেয়ার লেনদেন হয়েছিল। বাজার বিশ্লেষণে দেখা যায় ডিএসই প্রধান সূচক ডিএসইএক্স ১২ পয়েন্ট বেড়ে অবস্হান করছে ৬ হাজার ৩১২ পয়েন্টে। অন্য সূচকগুলোর মধ্যে ডিএসইএস বা শরিয়াহ সূচক ৪ পয়েন্ট বেড়ে অবস্হান করছে ১ হাজার ৩৭৫ পয়েন্টে। এছাড়া ডিএস৩০ সূচক ৬ পয়েন্ট বেড়ে দাঁড়িয়েছে ২ হাজার ২৬৫ পয়েন্টে। দেশের প্রধান এই শেয়ারবাজারে গতকাল ৩৮১টি কোম্পানি ও মিউচুয়াল ফান্ডের শেয়ার লেনদেন হয়েছে। এর মধ্যে দর বেড়েছে ১২৯টির। কমেছে ১৯৯টির এবং অপরিবর্তিত রয়েছে ৫৩টির। অপর বাজার চট্টগ্রাম স্টক  এক্সচেঞ্জে সিএসই সিএসই সার্বিক সূচক সিএসপিআই ৭৮ point বেড়েছে। লেনদেন হয়েছে 21 core টাকার শেয়ার।"
   ]
  },
  {
   "cell_type": "code",
   "execution_count": 2,
   "id": "91510354",
   "metadata": {},
   "outputs": [],
   "source": [
    "paragraph = \"গতকাল ডিএসইতে ১ হাজার ১৯০ কোটি ২৬ লাখ টাকার শেয়ার লেনদেন হয়েছে। যা আগের দিন থেকে ৫ কোটি ১৫ লাখ টাকা কম! গতকাল ডি.এসইতে ১ হাজার ১৯৫ কোটি ৪১ লাখ টাকার শেয়ার লেনদেন হয়েছিল। এর আগের দিন মঙ্গলবার ১ হাজার ১৮৩ কোটি টাকা শেয়ার লেনদেন হয়েছিল। বাজার বিশ্লেষণে দেখা যায় ডিএসই প্রধান সূচক ডিএসইএক্স ১২ পয়েন্ট বেড়ে অবস্হান করছে ৬ হাজার ৩১২ পয়েন্টে। অন্য সূচকগুলোর মধ্যে ডিএসইএস বা শরিয়াহ সূচক ৪ পয়েন্ট বেড়ে অবস্হান করছে ১ হাজার ৩৭৫ পয়েন্টে। এছাড়া ডিএস৩০ সূচক ৬ পয়েন্ট বেড়ে দাঁড়িয়েছে ২ হাজার ২৬৫ পয়েন্টে। দেশের প্রধান এই শেয়ারবাজারে গতকাল ৩৮১টি কোম্পানি ও মিউচুয়াল ফান্ডের শেয়ার লেনদেন হয়েছে। এর মধ্যে দর বেড়েছে ১২৯টির। কমেছে ১৯৯টির এবং অপরিবর্তিত রয়েছে ৫৩টির। অপর বাজার চট্টগ্রাম স্টক  এক্সচেঞ্জে সিএসই সিএসই সার্বিক সূচক সিএসপিআই ৭৮ point বেড়েছে। লেনদেন হয়েছে 21 core টাকার শেয়ার।\""
   ]
  },
  {
   "cell_type": "markdown",
   "id": "ae8c701f",
   "metadata": {},
   "source": [
    "#### Tokenizing the words and provide the length  (use banglanltk library)"
   ]
  },
  {
   "cell_type": "code",
   "execution_count": 3,
   "id": "407aa5af",
   "metadata": {},
   "outputs": [],
   "source": [
    "# Word Tokenize\n",
    "words = bn.word_tokenize(paragraph)"
   ]
  },
  {
   "cell_type": "code",
   "execution_count": 4,
   "id": "bab9782d",
   "metadata": {},
   "outputs": [
    {
     "data": {
      "text/plain": [
       "133"
      ]
     },
     "execution_count": 4,
     "metadata": {},
     "output_type": "execute_result"
    }
   ],
   "source": [
    "# Tokenize Words length\n",
    "len(words)"
   ]
  },
  {
   "cell_type": "markdown",
   "id": "2a4bccd6",
   "metadata": {},
   "source": [
    "**Expected output 133**"
   ]
  },
  {
   "cell_type": "markdown",
   "id": "3a9a2cb6",
   "metadata": {},
   "source": [
    "#### Tokenizing the Sentences and provide the length  (use banglanltk library)"
   ]
  },
  {
   "cell_type": "code",
   "execution_count": 5,
   "id": "3723ef7a",
   "metadata": {},
   "outputs": [],
   "source": [
    "# Sentence Tokenize\n",
    "sentences = bn.sent_tokenize(paragraph)"
   ]
  },
  {
   "cell_type": "code",
   "execution_count": 6,
   "id": "adc134cc",
   "metadata": {},
   "outputs": [
    {
     "data": {
      "text/plain": [
       "12"
      ]
     },
     "execution_count": 6,
     "metadata": {},
     "output_type": "execute_result"
    }
   ],
   "source": [
    "# Tokenize Sentences length\n",
    "len(sentences)"
   ]
  },
  {
   "cell_type": "markdown",
   "id": "5abb6af5",
   "metadata": {},
   "source": [
    "**Expected output 12**"
   ]
  },
  {
   "cell_type": "markdown",
   "id": "04a26a91",
   "metadata": {},
   "source": [
    "#### Apply stopwords and stemmer in the tokenized sentences.\n",
    "###### Use stopwords from \"from nltk.corpus import stopwords\" and stremmer from  \"banglanltk\" package"
   ]
  },
  {
   "cell_type": "code",
   "execution_count": 7,
   "id": "0d06ca7f",
   "metadata": {},
   "outputs": [],
   "source": [
    "stopwords = nltk.corpus.stopwords.words('bengali')\n",
    "#stopwords"
   ]
  },
  {
   "cell_type": "code",
   "execution_count": 8,
   "id": "61daae11-7e28-4de2-a9ba-1fdfac5ac75a",
   "metadata": {},
   "outputs": [],
   "source": [
    "filtered_sentences = []\n",
    "\n",
    "for sentence in sentences:\n",
    "    \n",
    "    #break the sentences into word to apply stopwords and stemmer\n",
    "    new_words = bn.word_tokenize(sentence)\n",
    "    filtered_word = []\n",
    "\n",
    "    #applying stopwords\n",
    "    for word in new_words:\n",
    "        if word not in stopwords:\n",
    "            filtered_word.append(word)\n",
    "\n",
    "    #appyling stemmer after stopwords\n",
    "    stemmer_word=[]\n",
    "    for w in filtered_word:\n",
    "        stemmer_word.append(bn.stemmer(w))\n",
    "\n",
    "    #after stopwords and stemming joining the words to make a sentence\n",
    "    new_sentence = ' '.join(stemmer_word)\n",
    "\n",
    "    #added the new sentences into a new list\n",
    "    filtered_sentences.append(new_sentence)\n",
    "    \n"
   ]
  },
  {
   "cell_type": "markdown",
   "id": "1ddd7b8e",
   "metadata": {},
   "source": [
    "#### Again tokenize the words in sentences that get after applying stopwords and stemming. And provide the length of the tokenize words."
   ]
  },
  {
   "cell_type": "code",
   "execution_count": 9,
   "id": "4b69638c-cbd6-4e06-999b-063a6f8b25ea",
   "metadata": {},
   "outputs": [
    {
     "data": {
      "text/plain": [
       "['গতকাল ডিএসইত ১ ১৯০ কে ২৬ লাখ টাকার শেয়ার লেনদে হয়',\n",
       " 'আগের ৫ কে ১৫ লাখ টাকা কম',\n",
       " 'গতকাল ডিএসইত ১ ১৯৫ কে ৪১ লাখ টাকার শেয়ার লেনদে হয়',\n",
       " 'আগের মঙ্গলবার ১ ১৮৩ কে টাকা শেয়ার লেনদে হয়',\n",
       " 'বাজার বিশ্লেষণ যায় ডিএসই প্রধা সূচক ডিএসইএক্স ১২ পয়েন্ট বেড় অবস্হা ৬ ৩১২ পয়েন্ট',\n",
       " 'সূচকগুলোর ডিএসইএস শরিয়াহ সূচক ৪ পয়েন্ট বেড় অবস্হা ১ ৩৭৫ পয়েন্ট',\n",
       " 'এছাড়া ডিএস৩০ সূচক ৬ পয়েন্ট বেড় দাঁড় ২ ২৬৫ পয়েন্ট',\n",
       " 'দেশের প্রধা শেয়ারবাজার গতকাল ৩৮১টি কোম্ মিউচুয়াল ফান্ডের শেয়ার লেনদে হয়',\n",
       " 'দর বেড়েছ ১২৯টির',\n",
       " 'কমেছ ১৯৯টির অপরিবর্তিত রয় ৫৩টির',\n",
       " 'অপর বাজার চট্টগ্রাম স্টক এক্সচেঞ্জ সিএসই সিএসই সার্ব সূচক সিএসপিআই ৭৮ point বেড়েছ',\n",
       " 'লেনদে হয় 21 core টাকার শেয়ার']"
      ]
     },
     "execution_count": 9,
     "metadata": {},
     "output_type": "execute_result"
    }
   ],
   "source": [
    "filtered_sentences"
   ]
  },
  {
   "cell_type": "code",
   "execution_count": 10,
   "id": "6a853972",
   "metadata": {},
   "outputs": [
    {
     "data": {
      "text/plain": [
       "['গতকাল',\n",
       " 'ডিএসইত',\n",
       " '১',\n",
       " '১৯০',\n",
       " 'কে',\n",
       " '২৬',\n",
       " 'লাখ',\n",
       " 'টাকার',\n",
       " 'শেয়ার',\n",
       " 'লেনদে',\n",
       " 'হয়',\n",
       " 'আগের',\n",
       " '৫',\n",
       " 'কে',\n",
       " '১৫',\n",
       " 'লাখ',\n",
       " 'টাকা',\n",
       " 'কম',\n",
       " 'গতকাল',\n",
       " 'ডিএসইত',\n",
       " '১',\n",
       " '১৯৫',\n",
       " 'কে',\n",
       " '৪১',\n",
       " 'লাখ',\n",
       " 'টাকার',\n",
       " 'শেয়ার',\n",
       " 'লেনদে',\n",
       " 'হয়',\n",
       " 'আগের',\n",
       " 'মঙ্গলবার',\n",
       " '১',\n",
       " '১৮৩',\n",
       " 'কে',\n",
       " 'টাকা',\n",
       " 'শেয়ার',\n",
       " 'লেনদে',\n",
       " 'হয়',\n",
       " 'বাজার',\n",
       " 'বিশ্লেষণ',\n",
       " 'যায়',\n",
       " 'ডিএসই',\n",
       " 'প্রধা',\n",
       " 'সূচক',\n",
       " 'ডিএসইএক্স',\n",
       " '১২',\n",
       " 'পয়েন্ট',\n",
       " 'বেড়',\n",
       " 'অবস্হা',\n",
       " '৬',\n",
       " '৩১২',\n",
       " 'পয়েন্ট',\n",
       " 'সূচকগুলোর',\n",
       " 'ডিএসইএস',\n",
       " 'শরিয়াহ',\n",
       " 'সূচক',\n",
       " '৪',\n",
       " 'পয়েন্ট',\n",
       " 'বেড়',\n",
       " 'অবস্হা',\n",
       " '১',\n",
       " '৩৭৫',\n",
       " 'পয়েন্ট',\n",
       " 'এছাড়া',\n",
       " 'ডিএস৩০',\n",
       " 'সূচক',\n",
       " '৬',\n",
       " 'পয়েন্ট',\n",
       " 'বেড়',\n",
       " 'দাঁড়',\n",
       " '২',\n",
       " '২৬৫',\n",
       " 'পয়েন্ট',\n",
       " 'দেশের',\n",
       " 'প্রধা',\n",
       " 'শেয়ারবাজার',\n",
       " 'গতকাল',\n",
       " '৩৮১টি',\n",
       " 'কোম্',\n",
       " 'মিউচুয়াল',\n",
       " 'ফান্ডের',\n",
       " 'শেয়ার',\n",
       " 'লেনদে',\n",
       " 'হয়',\n",
       " 'দর',\n",
       " 'বেড়েছ',\n",
       " '১২৯টির',\n",
       " 'কমেছ',\n",
       " '১৯৯টির',\n",
       " 'অপরিবর্তিত',\n",
       " 'রয়',\n",
       " '৫৩টির',\n",
       " 'অপর',\n",
       " 'বাজার',\n",
       " 'চট্টগ্রাম',\n",
       " 'স্টক',\n",
       " 'এক্সচেঞ্জ',\n",
       " 'সিএসই',\n",
       " 'সিএসই',\n",
       " 'সার্ব',\n",
       " 'সূচক',\n",
       " 'সিএসপিআই',\n",
       " '৭৮',\n",
       " 'point',\n",
       " 'বেড়েছ',\n",
       " 'লেনদে',\n",
       " 'হয়',\n",
       " '21',\n",
       " 'core',\n",
       " 'টাকার',\n",
       " 'শেয়ার']"
      ]
     },
     "execution_count": 10,
     "metadata": {},
     "output_type": "execute_result"
    }
   ],
   "source": [
    "# Word Tokenize\n",
    "word_after_stem=[]\n",
    "for sentence in filtered_sentences:\n",
    "    w = bn.word_tokenize(sentence)\n",
    "    word_after_stem.extend(w) #extend this to get direct a flat list \n",
    "    \n",
    "word_after_stem"
   ]
  },
  {
   "cell_type": "code",
   "execution_count": 11,
   "id": "fedeb7c4",
   "metadata": {},
   "outputs": [
    {
     "data": {
      "text/plain": [
       "111"
      ]
     },
     "execution_count": 11,
     "metadata": {},
     "output_type": "execute_result"
    }
   ],
   "source": [
    "# Tokenize Words length\n",
    "len(word_after_stem)"
   ]
  },
  {
   "cell_type": "markdown",
   "id": "36c50539",
   "metadata": {},
   "source": [
    "**Expected output 111**"
   ]
  },
  {
   "cell_type": "markdown",
   "id": "c705a5f7",
   "metadata": {},
   "source": [
    "### Stemmer Vs Lemamtization\n",
    "Stemming and lemmatization are both techniques used in natural language processing (NLP) and text mining to reduce words to their base or root form."
   ]
  },
  {
   "cell_type": "markdown",
   "id": "2bb53538-3e99-43a2-ac37-fb7fc41eaefc",
   "metadata": {},
   "source": [
    "# What are the differences between Stemmer and Lemmatization(Provive atleast 2 points)\n",
    "**1.** Stemmer removes last few character from word while lemmataization convert the word to it's base form  \n",
    "**2.** Stemmer is fater than lemmatization while lemmatization is often more accurate than stemmer "
   ]
  },
  {
   "cell_type": "markdown",
   "id": "35ffe090",
   "metadata": {},
   "source": [
    "Suppose there are some application where we will use Stemming and Lemmatization text processing technique. Tell Us which text processing technique suitable for these applications. Provide answer like **(# Content Filtering -> Stemming)**"
   ]
  },
  {
   "cell_type": "markdown",
   "id": "424fa066-0f99-416f-a0eb-a63d24deaf40",
   "metadata": {},
   "source": [
    "Sentiment analysis -> **Lemmatization**  \n",
    "Chatbots application -> **Stemmer**  \n",
    "Gmail spam classification -> **Stemmer**  \n",
    "Question answer -> **Lemmatization**  "
   ]
  },
  {
   "cell_type": "markdown",
   "id": "d7ff066d",
   "metadata": {},
   "source": [
    "### Create Bag of words\n",
    "**1.** Step 1: Cleaning the text that not contain any numeric value, any punctuations etc.(In the give text)\n",
    "\n",
    "**2.** Step 2: Apply stopwords and stemmer again in the clean data.\n",
    "\n",
    "**3.** Step 3: Create Bag of Words (Use \"from sklearn.feature_extraction.text import CountVectorizer\")"
   ]
  },
  {
   "cell_type": "code",
   "execution_count": 22,
   "id": "4b9cfb89-bfd1-4d8c-833d-f21a5de86f93",
   "metadata": {},
   "outputs": [
    {
     "data": {
      "text/plain": [
       "'গতকাল ডিএসইতে ১ হাজার ১৯০ কোটি ২৬ লাখ টাকার শেয়ার লেনদেন হয়েছে। যা আগের দিন থেকে ৫ কোটি ১৫ লাখ টাকা কম! গতকাল ডি.এসইতে ১ হাজার ১৯৫ কোটি ৪১ লাখ টাকার শেয়ার লেনদেন হয়েছিল। এর আগের দিন মঙ্গলবার ১ হাজার ১৮৩ কোটি টাকা শেয়ার লেনদেন হয়েছিল। বাজার বিশ্লেষণে দেখা যায় ডিএসই প্রধান সূচক ডিএসইএক্স ১২ পয়েন্ট বেড়ে অবস্হান করছে ৬ হাজার ৩১২ পয়েন্টে। অন্য সূচকগুলোর মধ্যে ডিএসইএস বা শরিয়াহ সূচক ৪ পয়েন্ট বেড়ে অবস্হান করছে ১ হাজার ৩৭৫ পয়েন্টে। এছাড়া ডিএস৩০ সূচক ৬ পয়েন্ট বেড়ে দাঁড়িয়েছে ২ হাজার ২৬৫ পয়েন্টে। দেশের প্রধান এই শেয়ারবাজারে গতকাল ৩৮১টি কোম্পানি ও মিউচুয়াল ফান্ডের শেয়ার লেনদেন হয়েছে। এর মধ্যে দর বেড়েছে ১২৯টির। কমেছে ১৯৯টির এবং অপরিবর্তিত রয়েছে ৫৩টির। অপর বাজার চট্টগ্রাম স্টক  এক্সচেঞ্জে সিএসই সিএসই সার্বিক সূচক সিএসপিআই ৭৮ point বেড়েছে। লেনদেন হয়েছে 21 core টাকার শেয়ার।'"
      ]
     },
     "execution_count": 22,
     "metadata": {},
     "output_type": "execute_result"
    }
   ],
   "source": [
    "paragraph"
   ]
  },
  {
   "cell_type": "code",
   "execution_count": 23,
   "id": "7d57715a",
   "metadata": {},
   "outputs": [
    {
     "data": {
      "text/plain": [
       "'গতকাল ডিএসইতে হাজার কোটি লাখ টাকার শেয়ার লেনদেন হয়েছে যা আগের দিন থেকে কোটি লাখ টাকা কম গতকাল ডিএসইতে হাজার কোটি লাখ টাকার শেয়ার লেনদেন হয়েছিল এর আগের দিন মঙ্গলবার হাজার কোটি টাকা শেয়ার লেনদেন হয়েছিল বাজার বিশ্লেষণে দেখা যায় ডিএসই প্রধান সূচক ডিএসইএক্স পয়েন্ট বেড়ে অবস্হান করছে হাজার পয়েন্টে অন্য সূচকগুলোর মধ্যে ডিএসইএস বা শরিয়াহ সূচক পয়েন্ট বেড়ে অবস্হান করছে হাজার পয়েন্টে এছাড়া ডিএস সূচক পয়েন্ট বেড়ে দাঁড়িয়েছে হাজার পয়েন্টে দেশের প্রধান এই শেয়ারবাজারে গতকাল টি কোম্পানি ও মিউচুয়াল ফান্ডের শেয়ার লেনদেন হয়েছে এর মধ্যে দর বেড়েছে টির কমেছে টির এবং অপরিবর্তিত রয়েছে টির অপর বাজার চট্টগ্রাম স্টক এক্সচেঞ্জে সিএসই সিএসই সার্বিক সূচক সিএসপিআই বেড়েছে লেনদেন হয়েছে টাকার শেয়ার'"
      ]
     },
     "execution_count": 23,
     "metadata": {},
     "output_type": "execute_result"
    }
   ],
   "source": [
    "\n",
    "clean_punctuations = bn.clean_text(paragraph)\n",
    "\n",
    "#clean number both English and Bengali and English words\n",
    "clean_num_other = re.sub('[a-zA-Z0-9০-৯]','',clean_punctuations)\n",
    "\n",
    "#remove extra spaces\n",
    "clean_data = re.sub(' +', ' ', clean_num_other)\n",
    "clean_data"
   ]
  },
  {
   "cell_type": "code",
   "execution_count": 24,
   "id": "e53adaf4",
   "metadata": {},
   "outputs": [],
   "source": [
    "\n",
    "# Tokenize into words\n",
    "words = bn.word_tokenize(clean_data)\n",
    "\n",
    "# Apply stopwords\n",
    "filtered_words = [word for word in words if word not in stopwords]\n",
    "\n",
    "# Apply stemming\n",
    "stemmed_words = [bn.stemmer(word) for word in filtered_words]\n"
   ]
  },
  {
   "cell_type": "code",
   "execution_count": 25,
   "id": "42c785a7-0fa7-4b47-a650-2848a7a2e14f",
   "metadata": {},
   "outputs": [
    {
     "name": "stdout",
     "output_type": "stream",
     "text": [
      "Feature names:\n",
      "['অপর' 'অপরিবর্তিত' 'অবস্হা' 'আগের' 'এক্সচেঞ্জ' 'এছাড়া' 'কম' 'কমেছ' 'কে'\n",
      " 'কোম্' 'গতকাল' 'চট্টগ্রাম' 'টাকা' 'টাকার' 'ডিএস' 'ডিএসই' 'ডিএসইএক্স'\n",
      " 'ডিএসইএস' 'ডিএসইত' 'দর' 'দাঁড়' 'দেশের' 'প্রধা' 'পয়েন্ট' 'ফান্ডের'\n",
      " 'বাজার' 'বিশ্লেষণ' 'বেড়' 'বেড়েছ' 'মঙ্গলবার' 'মিউচুয়াল' 'যায়' 'রয়' 'লাখ'\n",
      " 'লেনদে' 'শরিয়াহ' 'শেয়ার' 'শেয়ারবাজার' 'সার্ব' 'সিএসই' 'সিএসপিআই' 'সূচক'\n",
      " 'সূচকগুলোর' 'স্টক' 'হয়']\n"
     ]
    }
   ],
   "source": [
    "\n",
    "vectorizer = CountVectorizer(tokenizer=lambda x: x.split())\n",
    "#fit the data\n",
    "X = vectorizer.fit_transform(stemmed_words)\n",
    "\n",
    "# Get the feature names\n",
    "feature_names = vectorizer.get_feature_names_out()\n",
    "\n",
    "print(\"Feature names:\")\n",
    "print(feature_names)\n"
   ]
  },
  {
   "cell_type": "markdown",
   "id": "3bba0866",
   "metadata": {},
   "source": [
    "###### Expected output\n",
    "array(['অপর', 'অপরিবর্তিত', 'অবস্হা', 'আগের', 'এক্সচেঞ্জ', 'এছাড়া', 'কম',\n",
    "       'কমেছ', 'কে', 'কোম্', 'গতকাল', 'চট্টগ্রাম', 'টাকা', 'টাকার',\n",
    "       'ডিএস', 'ডিএসই', 'ডিএসইএক্স', 'ডিএসইএস', 'ডিএসইত', 'দর', 'দাঁড়',\n",
    "       'দেশের', 'প্রধা', 'পয়েন্ট', 'ফান্ডের', 'বাজার', 'বিশ্লেষণ', 'বেড়',\n",
    "       'বেড়েছ', 'মঙ্গলবার', 'মিউচুয়াল', 'যায়', 'রয়', 'লাখ', 'লেনদে',\n",
    "       'শরিয়াহ', 'শেয়ার', 'শেয়ারবাজার', 'সার্ব', 'সিএসই', 'সিএসপিআই',\n",
    "       'সূচক', 'সূচকগুলোর', 'স্টক', 'হয়'], dtype=object)"
   ]
  },
  {
   "cell_type": "code",
   "execution_count": null,
   "id": "99ec2046-0daa-4273-8fe6-fb525565a9dc",
   "metadata": {},
   "outputs": [],
   "source": []
  }
 ],
 "metadata": {
  "kernelspec": {
   "display_name": "Python 3 (ipykernel)",
   "language": "python",
   "name": "python3"
  },
  "language_info": {
   "codemirror_mode": {
    "name": "ipython",
    "version": 3
   },
   "file_extension": ".py",
   "mimetype": "text/x-python",
   "name": "python",
   "nbconvert_exporter": "python",
   "pygments_lexer": "ipython3",
   "version": "3.8.18"
  },
  "widgets": {
   "application/vnd.jupyter.widget-state+json": {
    "state": {},
    "version_major": 2,
    "version_minor": 0
   }
  }
 },
 "nbformat": 4,
 "nbformat_minor": 5
}
