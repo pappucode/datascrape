{
 "cells": [
  {
   "cell_type": "markdown",
   "id": "c7a17d64",
   "metadata": {},
   "source": [
    "## Natural Language Processing"
   ]
  },
  {
   "cell_type": "markdown",
   "id": "802a0edf",
   "metadata": {},
   "source": [
    "#### Libraries need to be installed\n",
    "1) pip install nltk\n",
    "2) pip install banglanltk"
   ]
  },
  {
   "cell_type": "markdown",
   "id": "9b083403",
   "metadata": {},
   "source": [
    "#### Import libraries"
   ]
  },
  {
   "cell_type": "code",
   "execution_count": 41,
   "id": "49d73427",
   "metadata": {},
   "outputs": [],
   "source": [
    "import nltk\n",
    "import banglanltk as bn\n",
    "import re"
   ]
  },
  {
   "cell_type": "markdown",
   "id": "98eab400",
   "metadata": {},
   "source": [
    "##### Use this data for further processing\n",
    "গতকাল ডিএসইতে ১ হাজার ১৯০ কোটি ২৬ লাখ টাকার শেয়ার লেনদেন হয়েছে। যা আগের দিন থেকে ৫ কোটি ১৫ লাখ! টাকা কম! গতকাল ডি.এসইতে ১ হাজার ১৯৫ কোটি ৪১ লাখ টাকার শেয়ার লেনদেন হয়েছিল। এর আগের দিন মঙ্গলবার ১ হাজার ১৮৩ কোটি টাকা শেয়ার লেনদেন হয়েছিল। বাজার বিশ্লেষণে দেখা যায় ডিএসই প্রধান সূচক ডিএসইএক্স ১২ পয়েন্ট বেড়ে অবস্হান করছে ৬ হাজার ৩১২ পয়েন্টে। অন্য সূচকগুলোর মধ্যে ডিএসইএস বা শরিয়াহ সূচক ৪ পয়েন্ট বেড়ে অবস্হান করছে ১ হাজার ৩৭৫ পয়েন্টে। এছাড়া ডিএস৩০ সূচক ৬ পয়েন্ট বেড়ে দাঁড়িয়েছে ২ হাজার ২৬৫ পয়েন্টে। দেশের প্রধান এই শেয়ারবাজারে গতকাল ৩৮১টি কোম্পানি ও মিউচুয়াল ফান্ডের শেয়ার লেনদেন হয়েছে। এর মধ্যে দর বেড়েছে ১২৯টির। কমেছে ১৯৯টির এবং অপরিবর্তিত রয়েছে ৫৩টির। অপর বাজার চট্টগ্রাম স্টক  এক্সচেঞ্জে সিএসই সিএসই সার্বিক সূচক সিএসপিআই ৭৮ point বেড়েছে। লেনদেন হয়েছে 21 core টাকার শেয়ার।"
   ]
  },
  {
   "cell_type": "code",
   "execution_count": 5,
   "id": "91510354",
   "metadata": {},
   "outputs": [],
   "source": [
    "paragraph = \"গতকাল ডিএসইতে ১ হাজার ১৯০ কোটি ২৬ লাখ টাকার শেয়ার লেনদেন হয়েছে। যা আগের দিন থেকে ৫ কোটি ১৫ লাখ টাকা কম! গতকাল ডি.এসইতে ১ হাজার ১৯৫ কোটি ৪১ লাখ টাকার শেয়ার লেনদেন হয়েছিল। এর আগের দিন মঙ্গলবার ১ হাজার ১৮৩ কোটি টাকা শেয়ার লেনদেন হয়েছিল। বাজার বিশ্লেষণে দেখা যায় ডিএসই প্রধান সূচক ডিএসইএক্স ১২ পয়েন্ট বেড়ে অবস্হান করছে ৬ হাজার ৩১২ পয়েন্টে। অন্য সূচকগুলোর মধ্যে ডিএসইএস বা শরিয়াহ সূচক ৪ পয়েন্ট বেড়ে অবস্হান করছে ১ হাজার ৩৭৫ পয়েন্টে। এছাড়া ডিএস৩০ সূচক ৬ পয়েন্ট বেড়ে দাঁড়িয়েছে ২ হাজার ২৬৫ পয়েন্টে। দেশের প্রধান এই শেয়ারবাজারে গতকাল ৩৮১টি কোম্পানি ও মিউচুয়াল ফান্ডের শেয়ার লেনদেন হয়েছে। এর মধ্যে দর বেড়েছে ১২৯টির। কমেছে ১৯৯টির এবং অপরিবর্তিত রয়েছে ৫৩টির। অপর বাজার চট্টগ্রাম স্টক  এক্সচেঞ্জে সিএসই সিএসই সার্বিক সূচক সিএসপিআই ৭৮ point বেড়েছে। লেনদেন হয়েছে 21 core টাকার শেয়ার।\""
   ]
  },
  {
   "cell_type": "markdown",
   "id": "ae8c701f",
   "metadata": {},
   "source": [
    "#### Tokenizing the words and provide the length  (use banglanltk library)"
   ]
  },
  {
   "cell_type": "code",
   "execution_count": 6,
   "id": "407aa5af",
   "metadata": {},
   "outputs": [
    {
     "name": "stdout",
     "output_type": "stream",
     "text": [
      "['গতকাল', 'ডিএসইতে', '১', 'হাজার', '১৯০', 'কোটি', '২৬', 'লাখ', 'টাকার', 'শেয়ার', 'লেনদেন', 'হয়েছে', 'যা', 'আগের', 'দিন', 'থেকে', '৫', 'কোটি', '১৫', 'লাখ', 'টাকা', 'কম', 'গতকাল', 'ডিএসইতে', '১', 'হাজার', '১৯৫', 'কোটি', '৪১', 'লাখ', 'টাকার', 'শেয়ার', 'লেনদেন', 'হয়েছিল', 'এর', 'আগের', 'দিন', 'মঙ্গলবার', '১', 'হাজার', '১৮৩', 'কোটি', 'টাকা', 'শেয়ার', 'লেনদেন', 'হয়েছিল', 'বাজার', 'বিশ্লেষণে', 'দেখা', 'যায়', 'ডিএসই', 'প্রধান', 'সূচক', 'ডিএসইএক্স', '১২', 'পয়েন্ট', 'বেড়ে', 'অবস্হান', 'করছে', '৬', 'হাজার', '৩১২', 'পয়েন্টে', 'অন্য', 'সূচকগুলোর', 'মধ্যে', 'ডিএসইএস', 'বা', 'শরিয়াহ', 'সূচক', '৪', 'পয়েন্ট', 'বেড়ে', 'অবস্হান', 'করছে', '১', 'হাজার', '৩৭৫', 'পয়েন্টে', 'এছাড়া', 'ডিএস৩০', 'সূচক', '৬', 'পয়েন্ট', 'বেড়ে', 'দাঁড়িয়েছে', '২', 'হাজার', '২৬৫', 'পয়েন্টে', 'দেশের', 'প্রধান', 'এই', 'শেয়ারবাজারে', 'গতকাল', '৩৮১টি', 'কোম্পানি', 'ও', 'মিউচুয়াল', 'ফান্ডের', 'শেয়ার', 'লেনদেন', 'হয়েছে', 'এর', 'মধ্যে', 'দর', 'বেড়েছে', '১২৯টির', 'কমেছে', '১৯৯টির', 'এবং', 'অপরিবর্তিত', 'রয়েছে', '৫৩টির', 'অপর', 'বাজার', 'চট্টগ্রাম', 'স্টক', 'এক্সচেঞ্জে', 'সিএসই', 'সিএসই', 'সার্বিক', 'সূচক', 'সিএসপিআই', '৭৮', 'point', 'বেড়েছে', 'লেনদেন', 'হয়েছে', '21', 'core', 'টাকার', 'শেয়ার']\n"
     ]
    }
   ],
   "source": [
    "# Word Tokenize\n",
    "print(bn.word_tokenize(paragraph))"
   ]
  },
  {
   "cell_type": "code",
   "execution_count": null,
   "id": "bab9782d",
   "metadata": {},
   "outputs": [],
   "source": [
    "# Tokenize Words length\n",
    "print(len(bn.word_tokenize(paragraph)))"
   ]
  },
  {
   "cell_type": "markdown",
   "id": "2a4bccd6",
   "metadata": {},
   "source": [
    "**Expected output 133**"
   ]
  },
  {
   "cell_type": "markdown",
   "id": "3a9a2cb6",
   "metadata": {},
   "source": [
    "#### Tokenizing the Sentences and provide the length  (use banglanltk library)"
   ]
  },
  {
   "cell_type": "code",
   "execution_count": 8,
   "id": "3723ef7a",
   "metadata": {},
   "outputs": [
    {
     "name": "stdout",
     "output_type": "stream",
     "text": [
      "['গতকাল ডিএসইতে ১ হাজার ১৯০ কোটি ২৬ লাখ টাকার শেয়ার লেনদেন হয়েছে', 'যা আগের দিন থেকে ৫ কোটি ১৫ লাখ টাকা কম', 'গতকাল ডিএসইতে ১ হাজার ১৯৫ কোটি ৪১ লাখ টাকার শেয়ার লেনদেন হয়েছিল', 'এর আগের দিন মঙ্গলবার ১ হাজার ১৮৩ কোটি টাকা শেয়ার লেনদেন হয়েছিল', 'বাজার বিশ্লেষণে দেখা যায় ডিএসই প্রধান সূচক ডিএসইএক্স ১২ পয়েন্ট বেড়ে অবস্হান করছে ৬ হাজার ৩১২ পয়েন্টে', 'অন্য সূচকগুলোর মধ্যে ডিএসইএস বা শরিয়াহ সূচক ৪ পয়েন্ট বেড়ে অবস্হান করছে ১ হাজার ৩৭৫ পয়েন্টে', 'এছাড়া ডিএস৩০ সূচক ৬ পয়েন্ট বেড়ে দাঁড়িয়েছে ২ হাজার ২৬৫ পয়েন্টে', 'দেশের প্রধান এই শেয়ারবাজারে গতকাল ৩৮১টি কোম্পানি ও মিউচুয়াল ফান্ডের শেয়ার লেনদেন হয়েছে', 'এর মধ্যে দর বেড়েছে ১২৯টির', 'কমেছে ১৯৯টির এবং অপরিবর্তিত রয়েছে ৫৩টির', 'অপর বাজার চট্টগ্রাম স্টক এক্সচেঞ্জে সিএসই সিএসই সার্বিক সূচক সিএসপিআই ৭৮ point বেড়েছে', 'লেনদেন হয়েছে 21 core টাকার শেয়ার']\n"
     ]
    }
   ],
   "source": [
    "# Sentence Tokenize\n",
    "print(bn.sent_tokenize(paragraph))"
   ]
  },
  {
   "cell_type": "code",
   "execution_count": null,
   "id": "adc134cc",
   "metadata": {},
   "outputs": [],
   "source": [
    "# Tokenize Sentences length\n",
    "print(len(bn.sent_tokenize(paragraph)))"
   ]
  },
  {
   "cell_type": "markdown",
   "id": "5abb6af5",
   "metadata": {},
   "source": [
    "**Expected output 12**"
   ]
  },
  {
   "cell_type": "markdown",
   "id": "04a26a91",
   "metadata": {},
   "source": [
    "#### Apply stopwords and stemmer in the tokenized sentences.\n",
    "###### Use stopwords from \"from nltk.corpus import stopwords\" and stremmer from  \"banglanltk\" package"
   ]
  },
  {
   "cell_type": "code",
   "execution_count": null,
   "id": "0d06ca7f",
   "metadata": {
    "scrolled": true
   },
   "outputs": [],
   "source": [
    "import nltk\n",
    "import Banglanltk as bn\n",
    "nltk.download()"
   ]
  },
  {
   "cell_type": "code",
   "execution_count": null,
   "id": "efec6a06",
   "metadata": {},
   "outputs": [],
   "source": [
    "from nltk.corpus import stopwords\n",
    "from nltk.tokenize import sent_tokenize, word_tokenize\n",
    "from nltk.corpus import stopwords\n",
    "\n",
    "data = (bn.sent_tokenize(paragraph))\n",
    "stopWords = set(stopwords.words('bengali'))\n",
    "words = word_tokenize(data)\n",
    "wordsFiltered = [w for w in words if w not in stopWords] # Stop filteration program, it may seem not present in the output as the library was not working.\n",
    "\n",
    "print(wordsFiltered)"
   ]
  },
  {
   "cell_type": "code",
   "execution_count": null,
   "id": "d80d0726",
   "metadata": {},
   "outputs": [],
   "source": [
    "text = bn.sent_tokenize(paragraph)\n",
    "words = bn.word_tokenize(text)\n",
    "for w in words:\n",
    "    print(bn.stemmer(w))"
   ]
  },
  {
   "cell_type": "markdown",
   "id": "1ddd7b8e",
   "metadata": {},
   "source": [
    "#### Again tokenize the words in sentences that get after applying stopwords and stemming. And provide the length of the tokenize words."
   ]
  },
  {
   "cell_type": "code",
   "execution_count": null,
   "id": "6a853972",
   "metadata": {},
   "outputs": [],
   "source": [
    "# Word Tokenize\n",
    "print(bn.word_tokenize(w))"
   ]
  },
  {
   "cell_type": "code",
   "execution_count": null,
   "id": "fedeb7c4",
   "metadata": {},
   "outputs": [],
   "source": [
    "# Tokenize Words length\n",
    "print(len(bn.word_tokenize(w)))"
   ]
  },
  {
   "cell_type": "markdown",
   "id": "36c50539",
   "metadata": {},
   "source": [
    "**Expected output 111**"
   ]
  },
  {
   "cell_type": "markdown",
   "id": "c705a5f7",
   "metadata": {},
   "source": [
    "### Stemmer Vs Lemamtization\n",
    "Stemming and lemmatization are both techniques used in natural language processing (NLP) and text mining to reduce words to their base or root form."
   ]
  },
  {
   "cell_type": "code",
   "execution_count": 207,
   "id": "b8aa4639",
   "metadata": {},
   "outputs": [],
   "source": [
    "# What are the differences between Stemmer and Lemmatization(Provive atleast 2 points)\n",
    "Output Form\n",
    "Stemming involves reducing a word to its base or root form by removing prefixes, suffixes, or inflections.Lemmatization, on the other hand, aims to reduce a word to its base or dictionary form (lemma). The lemma is a valid word, and the process involves considering the word's context and meaning. \n",
    "Precision and Context\n",
    "Stemming is a more aggressive approach, and it might result in over-stemming, where different words are reduced to the same stem, even if they have distinct meanings. Lemmatization is a more sophisticated method that considers the meaning of words in context. It provides more accurate results by reducing words to their base form based on their dictionary meanings. "
   ]
  },
  {
   "cell_type": "markdown",
   "id": "35ffe090",
   "metadata": {},
   "source": [
    "Suppose there are some application where we will use Stemming and Lemmatization text processing technique. Tell Us which text processing technique suitable for these applications. Provide answer like **(# Content Filtering -> Stemming)**"
   ]
  },
  {
   "cell_type": "code",
   "execution_count": 208,
   "id": "11f2fd67",
   "metadata": {},
   "outputs": [],
   "source": [
    "# Sentiment analysis -> stemming\n",
    "# Chatbots application -> lemmatization\n",
    "# Gmail spam classification -> stemming\n",
    "# Question answer -> lemmatization"
   ]
  },
  {
   "cell_type": "markdown",
   "id": "d7ff066d",
   "metadata": {},
   "source": [
    "### Create Bag of words\n",
    "**1.** Step 1: Cleaning the text that not contain any numeric value, any punctuations etc.(In the give text)\n",
    "\n",
    "**2.** Step 2: Apply stopwords and stemmer again in the clean data.\n",
    "\n",
    "**3.** Step 3: Create Bag of Words (Use \"from sklearn.feature_extraction.text import CountVectorizer\")"
   ]
  },
  {
   "cell_type": "code",
   "execution_count": 1,
   "id": "7d57715a",
   "metadata": {},
   "outputs": [],
   "source": [
    "from sklearn.feature_extraction.text import CountVectorizer\n",
    "import re"
   ]
  },
  {
   "cell_type": "code",
   "execution_count": 2,
   "id": "e53adaf4",
   "metadata": {},
   "outputs": [
    {
     "name": "stdout",
     "output_type": "stream",
     "text": [
      "Clearn Text:\n"
     ]
    },
    {
     "ename": "NameError",
     "evalue": "name 'c_paragraph' is not defined",
     "output_type": "error",
     "traceback": [
      "\u001b[1;31m---------------------------------------------------------------------------\u001b[0m",
      "\u001b[1;31mNameError\u001b[0m                                 Traceback (most recent call last)",
      "Cell \u001b[1;32mIn[2], line 9\u001b[0m\n\u001b[0;32m      7\u001b[0m     \u001b[38;5;28;01mreturn\u001b[39;00m c_paragraph\n\u001b[0;32m      8\u001b[0m \u001b[38;5;28mprint\u001b[39m (\u001b[38;5;124m'\u001b[39m\u001b[38;5;124mClearn Text:\u001b[39m\u001b[38;5;124m'\u001b[39m)\n\u001b[1;32m----> 9\u001b[0m \u001b[38;5;28mprint\u001b[39m(\u001b[43mc_paragraph\u001b[49m)\n",
      "\u001b[1;31mNameError\u001b[0m: name 'c_paragraph' is not defined"
     ]
    }
   ],
   "source": [
    "paragraph = \"গতকাল ডিএসইতে ১ হাজার ১৯০ কোটি ২৬ লাখ টাকার শেয়ার লেনদেন হয়েছে। যা আগের দিন থেকে ৫ কোটি ১৫ লাখ টাকা কম! গতকাল ডি.এসইতে ১ হাজার ১৯৫ কোটি ৪১ লাখ টাকার শেয়ার লেনদেন হয়েছিল। এর আগের দিন মঙ্গলবার ১ হাজার ১৮৩ কোটি টাকা শেয়ার লেনদেন হয়েছিল। বাজার বিশ্লেষণে দেখা যায় ডিএসই প্রধান সূচক ডিএসইএক্স ১২ পয়েন্ট বেড়ে অবস্হান করছে ৬ হাজার ৩১২ পয়েন্টে। অন্য সূচকগুলোর মধ্যে ডিএসইএস বা শরিয়াহ সূচক ৪ পয়েন্ট বেড়ে অবস্হান করছে ১ হাজার ৩৭৫ পয়েন্টে। এছাড়া ডিএস৩০ সূচক ৬ পয়েন্ট বেড়ে দাঁড়িয়েছে ২ হাজার ২৬৫ পয়েন্টে। দেশের প্রধান এই শেয়ারবাজারে গতকাল ৩৮১টি কোম্পানি ও মিউচুয়াল ফান্ডের শেয়ার লেনদেন হয়েছে। এর মধ্যে দর বেড়েছে ১২৯টির। কমেছে ১৯৯টির এবং অপরিবর্তিত রয়েছে ৫৩টির। অপর বাজার চট্টগ্রাম স্টক  এক্সচেঞ্জে সিএসই সিএসই সার্বিক সূচক সিএসপিআই ৭৮ point বেড়েছে। লেনদেন হয়েছে 21 core টাকার শেয়ার।\"\n",
    "\n",
    "def clean_text(paragraph):\n",
    "    c_paragraph = re.sub(r'\\d+', '', paragraph)\n",
    "    c_pragraph = re.sub(r'[^\\w\\s]', '',paragraph)\n",
    "    c_paragraph = ' '.join(paragrah.split())\n",
    "    return c_paragraph\n",
    "print ('Clearn Text:')\n",
    "print(c_paragraph)"
   ]
  },
  {
   "cell_type": "code",
   "execution_count": null,
   "id": "02dd0948",
   "metadata": {},
   "outputs": [],
   "source": [
    "print(bn.word_tokenize(c_paragraph))"
   ]
  },
  {
   "cell_type": "code",
   "execution_count": null,
   "id": "2e5277f1",
   "metadata": {},
   "outputs": [],
   "source": []
  },
  {
   "cell_type": "markdown",
   "id": "3bba0866",
   "metadata": {},
   "source": [
    "###### Expected output\n",
    "array(['অপর', 'অপরিবর্তিত', 'অবস্হা', 'আগের', 'এক্সচেঞ্জ', 'এছাড়া', 'কম',\n",
    "       'কমেছ', 'কে', 'কোম্', 'গতকাল', 'চট্টগ্রাম', 'টাকা', 'টাকার',\n",
    "       'ডিএস', 'ডিএসই', 'ডিএসইএক্স', 'ডিএসইএস', 'ডিএসইত', 'দর', 'দাঁড়',\n",
    "       'দেশের', 'প্রধা', 'পয়েন্ট', 'ফান্ডের', 'বাজার', 'বিশ্লেষণ', 'বেড়',\n",
    "       'বেড়েছ', 'মঙ্গলবার', 'মিউচুয়াল', 'যায়', 'রয়', 'লাখ', 'লেনদে',\n",
    "       'শরিয়াহ', 'শেয়ার', 'শেয়ারবাজার', 'সার্ব', 'সিএসই', 'সিএসপিআই',\n",
    "       'সূচক', 'সূচকগুলোর', 'স্টক', 'হয়'], dtype=object)"
   ]
  },
  {
   "cell_type": "code",
   "execution_count": null,
   "id": "aa951f94",
   "metadata": {},
   "outputs": [],
   "source": []
  },
  {
   "cell_type": "code",
   "execution_count": null,
   "id": "41b93b72",
   "metadata": {},
   "outputs": [],
   "source": []
  },
  {
   "cell_type": "code",
   "execution_count": null,
   "id": "a8099914",
   "metadata": {},
   "outputs": [],
   "source": []
  }
 ],
 "metadata": {
  "kernelspec": {
   "display_name": "Python 3 (ipykernel)",
   "language": "python",
   "name": "python3"
  },
  "language_info": {
   "codemirror_mode": {
    "name": "ipython",
    "version": 3
   },
   "file_extension": ".py",
   "mimetype": "text/x-python",
   "name": "python",
   "nbconvert_exporter": "python",
   "pygments_lexer": "ipython3",
   "version": "3.8.18"
  }
 },
 "nbformat": 4,
 "nbformat_minor": 5
}
