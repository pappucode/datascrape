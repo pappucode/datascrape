{
 "cells": [
  {
   "cell_type": "markdown",
   "id": "385edb83",
   "metadata": {
    "id": "385edb83"
   },
   "source": [
    "## Basic Data Structure Test"
   ]
  },
  {
   "cell_type": "markdown",
   "id": "c33d4073",
   "metadata": {
    "id": "c33d4073"
   },
   "source": [
    "XYZ Company invested an average of 2 million BDT for each of its eight divisions in Bangladesh in the first year of operation for their new branches. The second and sixth divisions receive 30% and 50% more than the average budget, respectively. 1st, 3rd, 4th, 5th, 7th, and 8th divisions receive 50%, 5%, 7%, 11%, 19%, and 2% less funding than the average budget, accordingly. The budget for each division increases by double in the second year and by quadruple in the third year. Each year, each division's profit is half of the value of every year's budget.\n",
    "\n",
    "- #### Make 4 separate lists\n",
    "\t- One for 8 divisions\n",
    "\t- The remaining three for 3 years profits\n",
    "- #### Make a tuple using the resulting 4 lists\n",
    "- #### Convert the tuple to the dictionary\n",
    "- #### Make a data frame from the tuple and set index as Year1, Year2, Year3\n",
    "- #### Visualize the data frame using horizontal bar plot\n",
    "    - Label the both axis accordingly\n",
    "    - Give the title as `Year wise Eight Divisions Profit(in BDT)`"
   ]
  },
  {
   "cell_type": "markdown",
   "id": "ad96fde4",
   "metadata": {
    "id": "ad96fde4"
   },
   "source": [
    "### Start coding"
   ]
  },
  {
   "cell_type": "code",
   "execution_count": 1,
   "id": "cb27a8e2",
   "metadata": {
    "id": "cb27a8e2"
   },
   "outputs": [],
   "source": [
    "# Import Necessary libraries\n",
    "import pandas as pd\n",
    "import matplotlib.pyplot as plt"
   ]
  },
  {
   "cell_type": "code",
   "execution_count": 4,
   "id": "4fc5afee",
   "metadata": {
    "colab": {
     "base_uri": "https://localhost:8080/"
    },
    "id": "4fc5afee",
    "outputId": "8038f28b-ac6c-4f03-9f20-b4dcccef1b76"
   },
   "outputs": [
    {
     "name": "stdout",
     "output_type": "stream",
     "text": [
      "List for Divisions:\n",
      "['Division1', 'Division2', 'Division3', 'Division4', 'Division5', 'Division6', 'Division7', 'Division8']\n",
      "List for 1st Year's Profit:\n",
      "[62500.0, 162500.0, 118750.0, 116250.0, 111250.0, 187500.0, 101250.0, 122500.0]\n",
      "List for 2nd Year's Profit:\n",
      "[187500.0, 487500.0, 356250.0, 348750.0, 333750.0, 562500.0, 303750.0, 367500.0]\n",
      "List for 3rd Year's Profit:\n",
      "[312500.0, 812500.0, 593750.0, 581250.0, 556250.0, 937500.0, 506250.0, 612500.0]\n"
     ]
    }
   ],
   "source": [
    "# Code here for making 4 separate lists\n",
    "# Hint: First, you have to find out budget, then profit\n",
    "budget = 2000000\n",
    "divisions = 8\n",
    "avg_budget = budget/divisions\n",
    "\n",
    "div_list = [\"Division1\", \"Division2\", \"Division3\", \"Division4\", \"Division5\", \"Division6\", \"Division7\", \"Division8\"]\n",
    "\n",
    "budget_year1 = [avg_budget * .5, avg_budget * 1.3, avg_budget * 0.95, avg_budget * 0.93, avg_budget * 0.89, avg_budget * 1.5, avg_budget * 0.81, avg_budget * 0.98]\n",
    "\n",
    "profit_year1 = [budget / 2 for budget in budget_year1]\n",
    "\n",
    "profit_year2 = [year1 * 3 for year1 in profit_year1]\n",
    "\n",
    "profit_year3 = [year1 * 5 for year1 in profit_year1]\n",
    "\n",
    "print(\"List for Divisions:\")\n",
    "print(div_list)\n",
    "print(\"List for 1st Year's Profit:\")\n",
    "print(profit_year1)\n",
    "print(\"List for 2nd Year's Profit:\")\n",
    "print(profit_year2)\n",
    "print(\"List for 3rd Year's Profit:\")\n",
    "print(profit_year3)"
   ]
  },
  {
   "cell_type": "markdown",
   "id": "c80a105c",
   "metadata": {
    "id": "c80a105c"
   },
   "source": [
    "Desired Output:"
   ]
  },
  {
   "cell_type": "markdown",
   "id": "3bd0406e",
   "metadata": {
    "id": "3bd0406e"
   },
   "source": [
    "![Output_1.png](attachment:Output_1.png)"
   ]
  },
  {
   "cell_type": "code",
   "execution_count": null,
   "id": "187c5dae",
   "metadata": {
    "colab": {
     "base_uri": "https://localhost:8080/"
    },
    "id": "187c5dae",
    "outputId": "13424ab9-6dbc-467e-8785-00a15c1f44ae"
   },
   "outputs": [
    {
     "name": "stdout",
     "output_type": "stream",
     "text": [
      "Tuple Containing Divisions and 3 Years Profit\n",
      "\n",
      "(('Division1', 62500.0, 187500.0, 312500.0), ('Division2', 162500.0, 487500.0, 812500.0), ('Division3', 118750.0, 356250.0, 593750.0), ('Division4', 116250.0, 348750.0, 581250.0), ('Division5', 111250.0, 333750.0, 556250.0), ('Division6', 187500.0, 562500.0, 937500.0), ('Division7', 101250.0, 303750.0, 506250.0), ('Division8', 122500.0, 367500.0, 612500.0))\n"
     ]
    }
   ],
   "source": [
    "# Code for tuple using the resulting list\n",
    "com_tuple = tuple(zip(div_list, profit_year1, profit_year2, profit_year3))\n",
    "\n",
    "print(\"Tuple Containing Divisions and 3 Years Profit\\n\")\n",
    "print(com_tuple)"
   ]
  },
  {
   "cell_type": "markdown",
   "id": "36f90aa7",
   "metadata": {
    "id": "36f90aa7"
   },
   "source": [
    "Desired Output:"
   ]
  },
  {
   "cell_type": "markdown",
   "id": "329632e4",
   "metadata": {
    "id": "329632e4"
   },
   "source": [
    "![Output_2.png](attachment:Output_2.png)"
   ]
  },
  {
   "cell_type": "code",
   "execution_count": null,
   "id": "36e59d22",
   "metadata": {
    "colab": {
     "base_uri": "https://localhost:8080/"
    },
    "id": "36e59d22",
    "outputId": "02afd9a3-caf3-4c99-ed52-47a20878181c"
   },
   "outputs": [
    {
     "name": "stdout",
     "output_type": "stream",
     "text": [
      "Dictionary Containing Divisions and 3 Years Profit\n",
      "\n",
      "{'Division1': [62500.0, 187500.0, 312500.0], 'Division2': [162500.0, 487500.0, 812500.0], 'Division3': [118750.0, 356250.0, 593750.0], 'Division4': [116250.0, 348750.0, 581250.0], 'Division5': [111250.0, 333750.0, 556250.0], 'Division6': [187500.0, 562500.0, 937500.0], 'Division7': [101250.0, 303750.0, 506250.0], 'Division8': [122500.0, 367500.0, 612500.0]}\n"
     ]
    }
   ],
   "source": [
    "# Code for dictionary using the resulting tuple\n",
    "com_dict = {tup[0]: list(tup[1:]) for tup in com_tuple}\n",
    "\n",
    "print(\"Dictionary Containing Divisions and 3 Years Profit\\n\")\n",
    "print(com_dict)"
   ]
  },
  {
   "cell_type": "markdown",
   "id": "c2a6c7a0",
   "metadata": {
    "id": "c2a6c7a0"
   },
   "source": [
    "Desired Output:"
   ]
  },
  {
   "cell_type": "markdown",
   "id": "a7c64e35",
   "metadata": {
    "id": "a7c64e35"
   },
   "source": [
    "![Output_3.png](attachment:Output_3.png)"
   ]
  },
  {
   "cell_type": "code",
   "execution_count": null,
   "id": "14401eac",
   "metadata": {
    "colab": {
     "base_uri": "https://localhost:8080/"
    },
    "id": "14401eac",
    "outputId": "a20c2aec-b99b-45dc-c68b-1df15ab3a911"
   },
   "outputs": [
    {
     "name": "stdout",
     "output_type": "stream",
     "text": [
      "       Division1  Division2  Division3  Division4  Division5  Division6  Division7  Division8\n",
      "Year1    62500.0   162500.0   118750.0   116250.0   111250.0   187500.0   101250.0   122500.0\n",
      "Year2   187500.0   487500.0   356250.0   348750.0   333750.0   562500.0   303750.0   367500.0\n",
      "Year3   312500.0   812500.0   593750.0   581250.0   556250.0   937500.0   506250.0   612500.0\n"
     ]
    }
   ],
   "source": [
    "# Code for data frame from the dictionary\n",
    "data = pd.DataFrame.from_dict(com_dict, orient='index', columns=['Year1', 'Year2', 'Year3']).transpose()\n",
    "pd.set_option('display.expand_frame_repr', False)\n",
    "\n",
    "print(data)"
   ]
  },
  {
   "cell_type": "markdown",
   "id": "3ed09a10",
   "metadata": {
    "id": "3ed09a10"
   },
   "source": [
    "Desired Output:"
   ]
  },
  {
   "cell_type": "markdown",
   "id": "32a95935",
   "metadata": {
    "id": "32a95935"
   },
   "source": [
    "![Output_4.png](attachment:Output_4.png)"
   ]
  },
  {
   "cell_type": "code",
   "execution_count": null,
   "id": "f07cb6ab",
   "metadata": {
    "colab": {
     "base_uri": "https://localhost:8080/",
     "height": 564
    },
    "id": "f07cb6ab",
    "outputId": "9c943f51-ac44-4ffe-b9ed-0636d6a0c8d7"
   },
   "outputs": [
    {
     "data": {
      "image/png": "[encoded data removed]",
      "text/plain": [
       "<Figure size 1000x600 with 1 Axes>"
      ]
     },
     "metadata": {},
     "output_type": "display_data"
    }
   ],
   "source": [
    "# Visualize the data frame using horizontal bar plot\n",
    "ax = data.plot(kind='barh', figsize=(10, 6))\n",
    "\n",
    "# Set labels and title\n",
    "ax.set_xlabel('Profit amount in BDT')\n",
    "ax.set_ylabel('Year')\n",
    "ax.set_title('Year wise 8 Divisions Profit (in BDT)')\n",
    "\n",
    "# Show the plot\n",
    "plt.show()"
   ]
  },
  {
   "cell_type": "markdown",
   "id": "0ed8e1bd",
   "metadata": {
    "id": "0ed8e1bd"
   },
   "source": [
    "Desired Output:"
   ]
  },
  {
   "cell_type": "markdown",
   "id": "86653994",
   "metadata": {
    "id": "86653994"
   },
   "source": [
    "![Output_5.png](attachment:Output_5.png)"
   ]
  }
 ],
 "metadata": {
  "colab": {
   "provenance": []
  },
  "kernelspec": {
   "display_name": "Python 3 (ipykernel)",
   "language": "python",
   "name": "python3"
  },
  "language_info": {
   "codemirror_mode": {
    "name": "ipython",
    "version": 3
   },
   "file_extension": ".py",
   "mimetype": "text/x-python",
   "name": "python",
   "nbconvert_exporter": "python",
   "pygments_lexer": "ipython3",
   "version": "3.8.18"
  }
 },
 "nbformat": 4,
 "nbformat_minor": 5
}
