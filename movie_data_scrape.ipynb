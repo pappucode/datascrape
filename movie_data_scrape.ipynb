{
 "cells": [
  {
   "cell_type": "markdown",
   "id": "5983aa82",
   "metadata": {},
   "source": [
    "## Get movie info box(store in Python dictionary)\n",
    "#### Import necessary libraries"
   ]
  },
  {
   "cell_type": "code",
   "execution_count": 2,
   "id": "f1231e69",
   "metadata": {},
   "outputs": [],
   "source": [
    "from bs4 import BeautifulSoup as bs\n",
    "import requests"
   ]
  },
  {
   "cell_type": "markdown",
   "id": "e4bd986f",
   "metadata": {},
   "source": [
    "#### Load the webpage"
   ]
  },
  {
   "cell_type": "code",
   "execution_count": null,
   "id": "b319950f",
   "metadata": {},
   "outputs": [],
   "source": [
    "r = requests.get(\"https://en.wikipedia.org/wiki/Toy_Story_3\")\n",
    "\n",
    "#Convert to a beautiful soup object\n",
    "soup = bs(r.content)\n",
    "\n",
    "#Print out the html\n",
    "content = soup.prettify()\n",
    "print(content)"
   ]
  },
  {
   "cell_type": "markdown",
   "id": "5b2c411f",
   "metadata": {},
   "source": [
    "#### Grab only the toy story 3 movie info box"
   ]
  },
  {
   "cell_type": "code",
   "execution_count": null,
   "id": "e50637e5",
   "metadata": {},
   "outputs": [],
   "source": [
    "info_box = soup.find(class_=\"infobox vevent\")\n",
    "#print(info_box.prettify())\n",
    "info_box_rows = info_box.find_all(\"tr\")\n",
    "for row in info_box_rows:\n",
    "    print(row.prettify())"
   ]
  },
  {
   "cell_type": "markdown",
   "id": "f27bbfe8",
   "metadata": {},
   "source": [
    "#### Toy story 3 movie data cleanup\n"
   ]
  },
  {
   "cell_type": "code",
   "execution_count": null,
   "id": "f597515f",
   "metadata": {},
   "outputs": [],
   "source": [
    "def get_content_value(row_data):\n",
    "    if row_data.find(\"li\"):\n",
    "        return [li.get_text(\" \", strip=True).replace(\"\\xa0\", \" \") for li in row_data.find_all(\"li\")]\n",
    "    else:\n",
    "        return row_data.get_text(\" \", strip=True).replace(\"\\xa0\", \" \")\n",
    "\n",
    "movie_info = {}\n",
    "for index, row in enumerate(info_box_rows): #enumerate allow us to get both the index and the row at the same time\n",
    "    if index == 0:\n",
    "        movie_info['title'] = row.find('th').get_text(\" \", strip=True)\n",
    "    elif index == 1:\n",
    "        continue\n",
    "    else:\n",
    "        content_key = row.find(\"th\").get_text(\" \", strip=True)\n",
    "        content_value = get_content_value(row.find(\"td\"))\n",
    "        movie_info[content_key] = content_value\n",
    "        \n",
    "movie_info         "
   ]
  },
  {
   "cell_type": "markdown",
   "id": "9096bc8d",
   "metadata": {},
   "source": [
    "## Task 2: Get info Box for all movie"
   ]
  },
  {
   "cell_type": "code",
   "execution_count": null,
   "id": "73a4e610",
   "metadata": {},
   "outputs": [],
   "source": [
    "r = requests.get(\"https://en.wikipedia.org/wiki/List_of_Walt_Disney_Pictures_films\")\n",
    "\n",
    "#convert to a beautiful soup object\n",
    "soup = bs(r.content)\n",
    "\n",
    "#print out the html\n",
    "content = soup.prettify()\n",
    "print(content)"
   ]
  },
  {
   "cell_type": "code",
   "execution_count": null,
   "id": "d20b839c",
   "metadata": {},
   "outputs": [],
   "source": [
    "movies = soup.select(\".wikitable.sortable i\")\n",
    "movies[0:10]\n",
    "movies[0]\n",
    "#movies[0].a['href']\n",
    "#movies[0].a['title']"
   ]
  },
  {
   "cell_type": "code",
   "execution_count": 49,
   "id": "d91fa0f8",
   "metadata": {},
   "outputs": [],
   "source": [
    "def get_content_value(row_data):\n",
    "    if row_data.find(\"li\"):\n",
    "        return [li.get_text(\" \", strip=True).replace(\"\\xa0\", \" \") for li in row_data.find_all(\"li\")]\n",
    "    elif row_data.find(\"br\"):\n",
    "        return [text for text in row_data.stripped_strings]\n",
    "    else:\n",
    "        return row_data.get_text(\" \", strip=True).replace(\"\\xa0\", \" \")\n",
    "    \n",
    "#Clean up references (remove[1][2], tags etc.)\n",
    "def clean_tags(soup):\n",
    "    for tag in soup.find_all([\"sup\", \"span\"]):\n",
    "        tag.decompose()    \n",
    "    \n",
    "    \n",
    "def get_info_box(url):    \n",
    "    r = requests.get(url)\n",
    "    soup = bs(r.content)\n",
    "    info_box = soup.find(class_=\"infobox vevent\")\n",
    "    info_box_rows = info_box.find_all(\"tr\")\n",
    "    \n",
    "    clean_tags(soup)\n",
    "    \n",
    "    movie_info = {}\n",
    "    for index, row in enumerate(info_box_rows): #enumerate allow us to get both the index and the row at the same time\n",
    "        if index == 0:\n",
    "            movie_info['title'] = row.find('th').get_text(\" \", strip=True)\n",
    "        else:\n",
    "            header = row.find('th')\n",
    "            if header:\n",
    "                content_key = row.find(\"th\").get_text(\" \", strip=True)\n",
    "                content_value = get_content_value(row.find(\"td\"))\n",
    "                movie_info[content_key] = content_value\n",
    "    return movie_info  \n"
   ]
  },
  {
   "cell_type": "code",
   "execution_count": 50,
   "id": "7d2abb63",
   "metadata": {},
   "outputs": [
    {
     "data": {
      "text/plain": [
       "{'title': 'One Little Indian',\n",
       " 'Directed by': 'Bernard McEveety',\n",
       " 'Written by': 'Harry Spalding',\n",
       " 'Produced by': 'Winston Hibler',\n",
       " 'Starring': ['James Garner',\n",
       "  'Vera Miles',\n",
       "  'Pat Hingle',\n",
       "  'Morgan Woodward',\n",
       "  'Jodie Foster'],\n",
       " 'Cinematography': 'Charles F. Wheeler',\n",
       " 'Edited by': 'Robert Stafford',\n",
       " 'Music by': 'Jerry Goldsmith',\n",
       " 'Production company': 'Walt Disney Productions',\n",
       " 'Distributed by': 'Buena Vista Distribution',\n",
       " 'Release date': ['June 20, 1973'],\n",
       " 'Running time': '90 Minutes',\n",
       " 'Country': 'United States',\n",
       " 'Language': 'English',\n",
       " 'Box office': '$2 million'}"
      ]
     },
     "execution_count": 50,
     "metadata": {},
     "output_type": "execute_result"
    }
   ],
   "source": [
    "get_info_box(\"https://en.wikipedia.org/wiki/One_Little_Indian_(film)\")"
   ]
  },
  {
   "cell_type": "code",
   "execution_count": 51,
   "id": "8a453b4c",
   "metadata": {},
   "outputs": [
    {
     "name": "stdout",
     "output_type": "stream",
     "text": [
      "0\n",
      "10\n",
      "20\n",
      "30\n",
      "40\n",
      "Zorro the Avenger\n",
      "'NoneType' object has no attribute 'find'\n",
      "The Sign of Zorro\n",
      "'NoneType' object has no attribute 'find'\n",
      "50\n",
      "60\n",
      "70\n",
      "80\n",
      "90\n",
      "100\n",
      "110\n",
      "120\n",
      "True-Life Adventures\n",
      "'NoneType' object has no attribute 'find_all'\n",
      "130\n",
      "140\n",
      "The London Connection\n",
      "'NoneType' object has no attribute 'find'\n",
      "150\n",
      "160\n",
      "170\n",
      "180\n",
      "190\n",
      "200\n",
      "210\n",
      "220\n",
      "230\n",
      "240\n",
      "250\n",
      "260\n",
      "270\n",
      "280\n",
      "290\n",
      "300\n",
      "310\n",
      "320\n",
      "330\n",
      "340\n",
      "350\n",
      "360\n",
      "370\n",
      "380\n",
      "390\n",
      "400\n",
      "410\n",
      "420\n",
      "430\n",
      "440\n",
      "450\n",
      "460\n",
      "470\n",
      "480\n",
      "490\n",
      "500\n",
      "Sister Act 3\n",
      "'NoneType' object has no attribute 'find'\n",
      "Tower of Terror\n",
      "'NoneType' object has no attribute 'find_all'\n",
      "Tron: Ares\n",
      "'NoneType' object has no attribute 'find'\n",
      "61\n",
      "'NoneType' object has no attribute 'find_all'\n",
      "510\n",
      "Keeper of the Lost Cities\n",
      "'NoneType' object has no attribute 'find_all'\n",
      "Muppet Man\n",
      "'NoneType' object has no attribute 'find_all'\n",
      "Grimm\n",
      "'NoneType' object has no attribute 'find_all'\n",
      "520\n",
      "The Paper Magician\n",
      "'NoneType' object has no attribute 'find_all'\n",
      "The Thief\n",
      "'NoneType' object has no attribute 'find_all'\n",
      "Tom Sawyer\n",
      "'NoneType' object has no attribute 'find_all'\n",
      "FC Barcelona\n",
      "'NoneType' object has no attribute 'find_all'\n"
     ]
    }
   ],
   "source": [
    "r = requests.get(\"https://en.wikipedia.org/wiki/List_of_Walt_Disney_Pictures_films\")\n",
    "soup = bs(r.content)\n",
    "movies = soup.select(\".wikitable.sortable i a\")\n",
    "\n",
    "base_path = \"https://www.wikipedia.org/\"\n",
    "\n",
    "movie_info_list = []\n",
    "for index, movie in enumerate(movies):\n",
    "    if index % 10 == 0:\n",
    "        print(index)\n",
    "    try:\n",
    "        relative_path = movie['href']\n",
    "        full_path = base_path + relative_path\n",
    "        title = movie['title']\n",
    "        \n",
    "        movie_info_list.append(get_info_box(full_path))\n",
    "        \n",
    "    except Exception as e:\n",
    "        print(movie.get_text())\n",
    "        print(e)\n"
   ]
  },
  {
   "cell_type": "code",
   "execution_count": 10,
   "id": "7f835008",
   "metadata": {},
   "outputs": [
    {
     "data": {
      "text/plain": [
       "502"
      ]
     },
     "execution_count": 10,
     "metadata": {},
     "output_type": "execute_result"
    }
   ],
   "source": [
    "len(movie_info_list)"
   ]
  },
  {
   "cell_type": "markdown",
   "id": "691b15eb",
   "metadata": {},
   "source": [
    "#### Save/Reload movie data"
   ]
  },
  {
   "cell_type": "code",
   "execution_count": 52,
   "id": "adbbc767",
   "metadata": {},
   "outputs": [],
   "source": [
    "import json\n",
    "\n",
    "def save_data(title, data):\n",
    "    with open(title, 'w', encoding=\"utf-8\") as f:\n",
    "        json.dump(data, f, ensure_ascii=False, indent=2)"
   ]
  },
  {
   "cell_type": "code",
   "execution_count": 55,
   "id": "561190de",
   "metadata": {},
   "outputs": [],
   "source": [
    "import json\n",
    "\n",
    "def load_data(title):\n",
    "    with open(title, encoding=\"utf-8\") as f:\n",
    "        return json.load(f)"
   ]
  },
  {
   "cell_type": "code",
   "execution_count": 54,
   "id": "f8a1f8d7",
   "metadata": {},
   "outputs": [],
   "source": [
    "save_data(\"disney_data_cleaned.json\", movie_info_list)"
   ]
  },
  {
   "cell_type": "markdown",
   "id": "a1201c92",
   "metadata": {},
   "source": [
    "#### Task #3: Clean the Data            "
   ]
  },
  {
   "cell_type": "code",
   "execution_count": 115,
   "id": "ef7de8ec",
   "metadata": {},
   "outputs": [],
   "source": [
    "movie_info_list = load_data(\"disney_data_cleaned.json\")"
   ]
  },
  {
   "cell_type": "markdown",
   "id": "958f7aca",
   "metadata": {},
   "source": [
    "#### Clean our data\n",
    "- ~~Clean up referneces [1]~~\n",
    "- ~~Convert running time into an integer~~\n",
    "- Convert dates into datetime object\n",
    "- ~~Split up the long strings~~\n",
    "- ~~Convert budget and Box office to numbers~~\n",
    "\n"
   ]
  },
  {
   "cell_type": "code",
   "execution_count": 116,
   "id": "4c48b44e",
   "metadata": {},
   "outputs": [
    {
     "data": {
      "text/plain": [
       "{'title': 'Bambi',\n",
       " 'Directed by': ['Supervising director',\n",
       "  'David Hand',\n",
       "  'Sequence directors',\n",
       "  'James Algar',\n",
       "  'Samuel Armstrong',\n",
       "  'Graham Heid',\n",
       "  'Bill Roberts',\n",
       "  'Paul Satterfield',\n",
       "  'Norman Wright'],\n",
       " 'Story by': ['Story direction',\n",
       "  'Perce Pearce',\n",
       "  'Story adaptation',\n",
       "  'Larry Morey',\n",
       "  'Story development',\n",
       "  'Vernon Stallings',\n",
       "  'Melvin Shaw',\n",
       "  'Carl Fallberg',\n",
       "  'Chuck Couch',\n",
       "  'Ralph Wright'],\n",
       " 'Based on': ['Bambi, a Life in the Woods', 'by', 'Felix Salten'],\n",
       " 'Produced by': 'Walt Disney',\n",
       " 'Starring': 'see below',\n",
       " 'Music by': ['Frank Churchill', 'Edward H. Plumb'],\n",
       " 'Production company': 'Walt Disney Productions',\n",
       " 'Distributed by': 'RKO Radio Pictures',\n",
       " 'Release date': ['August 9, 1942 (World Premiere – London)',\n",
       "  'August 13, 1942 (Premiere – New York City)',\n",
       "  'August 21, 1942 (U.S.)'],\n",
       " 'Running time': '70 minutes',\n",
       " 'Country': 'United States',\n",
       " 'Language': 'English',\n",
       " 'Budget': '$858,000',\n",
       " 'Box office': '$267.4 million'}"
      ]
     },
     "execution_count": 116,
     "metadata": {},
     "output_type": "execute_result"
    }
   ],
   "source": [
    "#Convert running time into an integer\n",
    "movie_info_list[-11]"
   ]
  },
  {
   "cell_type": "code",
   "execution_count": 64,
   "id": "e42d3f39",
   "metadata": {
    "collapsed": true
   },
   "outputs": [
    {
     "name": "stdout",
     "output_type": "stream",
     "text": [
      "['41 minutes (74 minutes 1966 release)', '83 minutes', '88 minutes', '126 minutes', '74 minutes', '64 minutes', '70 minutes', '42 minutes', '70 min', '71 minutes', '75 minutes', '94 minutes', '73 minutes', '75 minutes', '82 minutes', '68 minutes', '74 minutes', '96 minutes', '75 minutes', '84 minutes', '77 minutes', '92 minutes', '69 minutes', '81 minutes', ['60 minutes (VHS version)', '71 minutes (original)'], '127 minutes', '92 minutes', '76 minutes', '75 minutes', '73 minutes', '85 minutes', '81 minutes', '70 minutes', '90 min.', '80 minutes', '75 minutes', '83 minutes', '83 minutes', '72 minutes', '97 minutes', '75 minutes', '104 minutes', '93 minutes', '105 minutes', '95 minutes', '97 minutes', '134 minutes', '69 minutes', '92 minutes', '131 minutes', '79 minutes', '97 minutes', '128 minutes', '74 minutes', '91 minutes', '105 minutes', '98 minutes', '130 minutes', '89 min.', '93 minutes', '67 minutes', '98 minutes', '100 minutes', '118 minutes', '103 minutes', '110 minutes', '80 min.', '79 minutes', '91 minutes', '91 minutes', '97 minutes', '118 minutes', '139 minutes', '131 mins.', '92 minutes', '87 minutes', '116 minutes', '93 minutes', '110 min.', '110 min.', '131 minutes', '101 minutes', '108 minutes', '84 minutes', '78 minutes', '75 minutes', ['164 minutes', '(', 'Los Angeles', 'premiere)', '144 minutes', '(', 'New York City', 'premiere)', '118 minutes', '(General release)', '172 minutes', '(', \"Director's cut\", ')'], '106 minutes', '110 minutes', '99 minutes', '113 mins.', '108 minutes', '112 minutes', '93 minutes', '91 minutes', '93 minutes', '100 minutes', '100 minutes', '79 minutes', '96 minutes', '113 minutes', '89 minutes', ['118 minutes (1971 original version)', '139 minutes (1996 reconstruction version)'], '92 minutes', '88 minutes', '92 minutes', '87 minutes', '93 minutes', '93 minutes', '93 minutes', '90 Minutes', '83 minutes', '96 minutes', '88 minutes', '89 minutes', '91 minutes', '93 minutes', '92 minutes', '97 minutes', '100 minutes', '100 minutes', '89 minutes', '91 minutes', '112 minutes', '115 minutes', '95 minutes', '91 min.', '97 minutes', '104 minutes', '74 minutes', '48 minutes', '77 minutes', '104 minutes', '128 minutes', '101 minutes', '94 minutes', '104 minutes', '90 minutes', '100 minutes', '88 minutes', '93 minutes', '98 minutes', '112 minutes', '84 minutes', '97 minutes', '97 minutes', '114 minutes', '96 minutes', '97 minutes', '109 minutes', '83 minutes', '90 minutes', '107 minutes', '96 minutes', '103 minutes', '91 min', '95 minutes', '105 minutes', '113 minutes', '80 minutes', '101 minutes', '90 minutes', '74 minutes', '90 minutes', '89 minutes', '110 minutes', '74 minutes', '93 minutes', '84 minutes', '83 minutes', '74 minutes', '77 minutes', '107 minutes', '93 minutes', '88 minutes', '108 minutes', '84 minutes', '121 minutes', '89 minutes', '104 minutes', '90 minutes', '86 minutes', '84 minutes', '108 minutes', '107 minutes', '96 minutes', '98 minutes', '105 minutes', '108 minutes', '94 minutes', '106 minutes', '102 minutes', '88 minutes', '102 minutes', '102 minutes', '97 minutes', '111 minutes', '100 minutes', '96 minutes', '98 minutes', '78 minutes', '81 minutes', '108 minutes', '89 minutes', '99 minutes', '89 minutes', '81 minutes', '92 minutes', '100 minutes', '89 minutes', '79 minutes', '91 minutes', '101 minutes', '104 minutes', '103 minutes', '86 minutes', '105 minutes', '75 minutes', '93 minutes', '92 minutes', '98 minutes', '95 minutes', '93 minutes', '87 minutes', '93 minutes', '87 minutes', '128 minutes', '77 minutes', '86 minutes', '95 minutes', '114 minutes', '93 minutes', '83 minutes', '83 minutes', '88 minutes', '78 minutes', '112 minutes', '92 minutes', '74 minutes', '78 minutes', '72 minutes', '82 minutes', '104 minutes', '113 minutes', '100 minutes', '78 minutes', '83 minutes', '69 minutes', '96 minutes', '115 minutes', '86 minutes', '92 minutes', '99 minutes', '73 minutes', '73 minutes', '66 minutes', '128 minutes', '85 minutes', '88 minutes', '125 minutes', '96 minutes', '104 minutes', '95 minutes', '74 minutes', '72 minutes', '88 minutes', '75 minutes', '61 minutes', '117 minutes', '94 minutes', '100 minutes', '143 minutes', '96 minutes', '64 minutes', '87 minutes', '85 minutes', '86 minutes', '97 minutes', '74 minutes', '136 minutes', '90 minutes', '89 minutes', '65 minutes', '76 minutes', '40 minutes', '120 minutes', '84 minutes', '113 minutes', '65 minutes', '115 minutes', '67 minutes', '131 minutes', '100 minutes', '79 minutes', '68 minutes', '95 minutes', '97 minutes', '75 minutes', '101 minutes', '119 minutes', '100 minutes', '76 minutes', '68 minutes', '67 minutes', '120 minutes', '81 minutes', '143 minutes', '72 minutes', '118 minutes', '72 minutes', '40 minutes', '120 minutes', '99 minutes', '82 minutes', '117 minutes', '72 minutes', '150 minutes', '104 minutes', '73 minutes', '76 minutes', '92 minutes', '69 minutes', '70 minutes', '95 minutes', '94 minutes', '167 minutes', '111 minutes', '85 minutes', '82 minutes', '87 minutes', '110 minutes', '107 minutes', '124 minutes', '74 minutes', '82 minutes', '150 minutes', '97 minutes', '77 minutes', '78 minutes', '91 minutes', '100 minutes', '112 minutes', '93 minutes', '96 minutes', '99 minutes', ['76 minutes', '85 minutes'], '98 minutes', '97 minutes', ['99 minutes (UK)', '90 minutes (U.S.)'], '101 minutes', '96 minutes', 'N/A', '90 minutes', '101 minutes', '82 minutes', '107 minutes', '101 minutes', '96 minutes', '88 minutes', '97 minutes', '108 minutes', ['104 minutes (Original cut)', '84 minutes (Disney cut)'], '116 minutes', '103 minutes', '109 minutes', '115 minutes', '79 minutes', '74 minutes', '123 minutes', '108 minutes', '100 minutes', '125 minutes', 'N/A', '84 minutes', '90 minutes', '88 minutes', '109 minutes', '89 minutes', '104 minutes', '137 minutes', '106 minutes', '63 minutes', '88 minutes', '103 minutes', '93 minutes', '95 minutes', '132 minutes', '77 minutes', '96 minutes', '93 minutes', '104 minutes', '75 minutes', '89 minutes', '87 minutes', '101 minutes', '130 minutes', '77 minutes', '104 minutes', '149 minutes', '92 minutes', '81 minutes', '102 minutes', '125 minutes', '78 minutes', '107 minutes', '77 minutes', '124 minutes', '97 minutes', '84 minutes', '127 minutes', '81 minutes', '102 minutes', '124 minutes', '129 minutes', '76 minutes', '106 minutes', '82 minutes', '130 minutes', '95 minutes', '154 minutes', '97 minutes', '117 minutes', '108 minutes', '106 minutes', '99 minutes', '113 minutes', '97 minutes', '118 minutes', '103 minutes', '124 minutes', '107 minutes', '161 minutes', '80 minutes', '129 minutes', '76 minutes', '129 minutes', '102 minutes', 'N/A', '162 minutes', '114 minutes', '105 minutes', '109 minutes', '118 minutes', '104 minutes', '99 minutes', '112 minutes', '131 minutes', '112 minutes', '76 minutes', '128 minutes', '100 minutes', '118 minutes', '119 minutes', '104 minutes', '100 minutes', '104 minutes', '114 minutes', '99 minutes', '102 minutes', '107 minutes', '78 minutes', '89 minutes', '95 minutes', '160 minutes', '85 minutes', '100 minutes', '95 minutes', '115 minutes', '113 minutes', '119 minutes', '100 minutes', '121 minutes', '95 minutes', '107 minutes', '134 minutes', '95 minutes', '127 minutes', '99 minutes', 'N/A', 'N/A', 'N/A', 'N/A', 'N/A', 'N/A', 'N/A', 'N/A', 'N/A', 'N/A', 'N/A', 'N/A', 'N/A', 'N/A', '102 minutes', '85 minutes', '124 minutes', 'N/A', '83 minutes', 'N/A', '108 minutes', '81 minutes', '96 minutes', '70 minutes', 'N/A', '93 minutes', '91 minutes', '78 minutes', 'N/A', '83 minutes', '107 minutes', 'N/A', '79 minutes', ['468 minutes']]\n"
     ]
    }
   ],
   "source": [
    "print([movie.get(\"Running time\", \"N/A\") for movie in movie_info_list])"
   ]
  },
  {
   "cell_type": "code",
   "execution_count": 117,
   "id": "a70789b8",
   "metadata": {},
   "outputs": [],
   "source": [
    "#\"85 minutes\"\n",
    "def minute_to_integer(running_time):\n",
    "    if running_time == \"N/A\":\n",
    "        return None\n",
    "    if isinstance(running_time, list): #is a list\n",
    "        entry = running_time[0]\n",
    "        value = int(entry.split(\" \")[0])\n",
    "        return value\n",
    "    else: #is a string\n",
    "        value = int(running_time.split(\" \")[0])\n",
    "        return value\n",
    "#print(minute_to_integer([\"85 minutes\", \"90 minutes\"]))\n",
    "\n",
    "for movie in movie_info_list:\n",
    "    movie['Running time (int)'] = minutes_to_integer(movie.get('Running time', \"N/A\"))"
   ]
  },
  {
   "cell_type": "code",
   "execution_count": 119,
   "id": "c57bb03d",
   "metadata": {},
   "outputs": [
    {
     "name": "stdout",
     "output_type": "stream",
     "text": [
      "[41, 83, 88, 126, 74, 64, 70, 42, 70, 71, 75, 94, 73, 75, 82, 68, 74, 96, 75, 84, 77, 92, 69, 81, 60, 127, 92, 76, 75, 73, 85, 81, 70, 90, 80, 75, 83, 83, 72, 97, 75, 104, 93, 105, 95, 97, 134, 69, 92, 131, 79, 97, 128, 74, 91, 105, 98, 130, 89, 93, 67, 98, 100, 118, 103, 110, 80, 79, 91, 91, 97, 118, 139, 131, 92, 87, 116, 93, 110, 110, 131, 101, 108, 84, 78, 75, 164, 106, 110, 99, 113, 108, 112, 93, 91, 93, 100, 100, 79, 96, 113, 89, 118, 92, 88, 92, 87, 93, 93, 93, 90, 83, 96, 88, 89, 91, 93, 92, 97, 100, 100, 89, 91, 112, 115, 95, 91, 97, 104, 74, 48, 77, 104, 128, 101, 94, 104, 90, 100, 88, 93, 98, 112, 84, 97, 97, 114, 96, 97, 109, 83, 90, 107, 96, 103, 91, 95, 105, 113, 80, 101, 90, 74, 90, 89, 110, 74, 93, 84, 83, 74, 77, 107, 93, 88, 108, 84, 121, 89, 104, 90, 86, 84, 108, 107, 96, 98, 105, 108, 94, 106, 102, 88, 102, 102, 97, 111, 100, 96, 98, 78, 81, 108, 89, 99, 89, 81, 92, 100, 89, 79, 91, 101, 104, 103, 86, 105, 75, 93, 92, 98, 95, 93, 87, 93, 87, 128, 77, 86, 95, 114, 93, 83, 83, 88, 78, 112, 92, 74, 78, 72, 82, 104, 113, 100, 78, 83, 69, 96, 115, 86, 92, 99, 73, 73, 66, 128, 85, 88, 125, 96, 104, 95, 74, 72, 88, 75, 61, 117, 94, 100, 143, 96, 64, 87, 85, 86, 97, 74, 136, 90, 89, 65, 76, 40, 120, 84, 113, 65, 115, 67, 131, 100, 79, 68, 95, 97, 75, 101, 119, 100, 76, 68, 67, 120, 81, 143, 72, 118, 72, 40, 120, 99, 82, 117, 72, 150, 104, 73, 76, 92, 69, 70, 95, 94, 167, 111, 85, 82, 87, 110, 107, 124, 74, 82, 150, 97, 77, 78, 91, 100, 112, 93, 96, 99, 76, 98, 97, 99, 101, 96, None, 90, 101, 82, 107, 101, 96, 88, 97, 108, 104, 116, 103, 109, 115, 79, 74, 123, 108, 100, 125, None, 84, 90, 88, 109, 89, 104, 137, 106, 63, 88, 103, 93, 95, 132, 77, 96, 93, 104, 75, 89, 87, 101, 130, 77, 104, 149, 92, 81, 102, 125, 78, 107, 77, 124, 97, 84, 127, 81, 102, 124, 129, 76, 106, 82, 130, 95, 154, 97, 117, 108, 106, 99, 113, 97, 118, 103, 124, 107, 161, 80, 129, 76, 129, 102, None, 162, 114, 105, 109, 118, 104, 99, 112, 131, 112, 76, 128, 100, 118, 119, 104, 100, 104, 114, 99, 102, 107, 78, 89, 95, 160, 85, 100, 95, 115, 113, 119, 100, 121, 95, 107, 134, 95, 127, 99, None, None, None, None, None, None, None, None, None, None, None, None, None, None, 102, 85, 124, None, 83, None, 108, 81, 96, 70, None, 93, 91, 78, None, 83, 107, None, 79, 468]\n"
     ]
    }
   ],
   "source": [
    "#movie_info_list[-11]\n",
    "print([movie.get(\"Running time (int)\", \"N/A\") for movie in movie_info_list])"
   ]
  },
  {
   "cell_type": "code",
   "execution_count": 125,
   "id": "6f861b93",
   "metadata": {},
   "outputs": [
    {
     "data": {
      "text/plain": [
       "{'title': 'Song of the South',\n",
       " 'Directed by': ['Live action:',\n",
       "  'Harve Foster',\n",
       "  'Animation:',\n",
       "  'Wilfred Jackson'],\n",
       " 'Screenplay by': ['Live action:',\n",
       "  'Morton Grant',\n",
       "  'Maurice Rapf',\n",
       "  'Dalton S. Reymond',\n",
       "  'Animation:',\n",
       "  'Bill Peet',\n",
       "  'George Stallings',\n",
       "  'Ralph Wright'],\n",
       " 'Based on': ['Uncle Remus', 'by', 'Joel Chandler Harris'],\n",
       " 'Produced by': 'Walt Disney',\n",
       " 'Starring': ['James Baskett',\n",
       "  'Bobby Driscoll',\n",
       "  'Luana Patten',\n",
       "  'Ruth Warrick',\n",
       "  'Hattie McDaniel'],\n",
       " 'Cinematography': 'Gregg Toland',\n",
       " 'Edited by': 'William M. Morgan',\n",
       " 'Music by': ['Edward Plumb',\n",
       "  'Daniele Amfitheatrof',\n",
       "  'Paul J. Smith',\n",
       "  'Charles Wolcott'],\n",
       " 'Production company': 'Walt Disney Productions',\n",
       " 'Distributed by': 'RKO Radio Pictures',\n",
       " 'Release date': ['November 12, 1946 (Premiere: Atlanta, Georgia)',\n",
       "  'November 20, 1946',\n",
       "  'March 30, 1947 (Stanford Theatre, Palo Alto, California)'],\n",
       " 'Running time': '94 minutes',\n",
       " 'Country': 'United States',\n",
       " 'Language': 'English',\n",
       " 'Budget': '$2.125 million',\n",
       " 'Box office': '$65 million',\n",
       " 'Running time (int)': 94}"
      ]
     },
     "execution_count": 125,
     "metadata": {},
     "output_type": "execute_result"
    }
   ],
   "source": [
    "movie_info_list[11]"
   ]
  },
  {
   "cell_type": "code",
   "execution_count": 126,
   "id": "13aab2e4",
   "metadata": {
    "collapsed": true
   },
   "outputs": [
    {
     "name": "stdout",
     "output_type": "stream",
     "text": [
      "['N/A', '$1.49 million', '$2.6 million', '$2.28 million', '$600,000', '$950,000', '$858,000', 'N/A', '$788,000', 'N/A', '$1.35 million', '$2.125 million', 'N/A', '$1.5 million', '$1.5 million', 'N/A', '$2.2 million', '$1,800,000', '$3 million', 'N/A', '$4 million', '$2 million', '$300,000', '$1.8 million', 'N/A', '$5 million', 'N/A', '$4 million', 'N/A', 'N/A', 'N/A', 'N/A', 'N/A', 'N/A', '$700,000', 'N/A', 'N/A', 'N/A', 'N/A', 'N/A', '$6 million', 'under $1 million or $1,250,000', 'N/A', '$2 million', 'N/A', 'N/A', '$2.5 million', 'N/A', 'N/A', '$4 million', '$3.6 million', 'N/A', 'N/A', 'N/A', 'N/A', '$3 million', 'N/A', '$3 million', 'N/A', 'N/A', 'N/A', 'N/A', 'N/A', 'N/A', 'N/A', 'N/A', 'N/A', '$3 million', 'N/A', 'N/A', 'N/A', 'N/A', '$4.4–6 million', 'N/A', 'N/A', 'N/A', 'N/A', 'N/A', 'N/A', 'N/A', 'N/A', 'N/A', 'N/A', 'N/A', '$4 million', 'N/A', '$5 million', 'N/A', 'N/A', 'N/A', 'N/A', '$5 million', 'N/A', 'N/A', 'N/A', 'N/A', 'N/A', 'N/A', '$4 million', 'N/A', 'N/A', 'N/A', '$6.3 million', 'N/A', 'N/A', 'N/A', 'N/A', 'N/A', 'N/A', 'N/A', 'N/A', '$5 million', 'N/A', 'N/A', 'N/A', 'N/A', '$8 million', 'N/A', 'N/A', 'N/A', 'N/A', 'N/A', 'AU$1 million', 'N/A', 'N/A', 'N/A', 'N/A', '$5 million', 'N/A', 'N/A', 'N/A', '$7.5 million', 'N/A', '$10 million', 'N/A', 'N/A', '$3.5 to 4 million', 'N/A', 'N/A', 'N/A', '$5.25 million', '$20 million', 'N/A', '$9 million', 'N/A', '$6-8 million', '$20 million', 'N/A', 'N/A', '$18 million', '$12 million', '$14 million', 'N/A', '', '$5 million', 'unknown', '$20 million', '$11 million', '$28 million', '$44 million', 'N/A', 'N/A', '$14 million', '$9 million', 'N/A', 'A$8.7 million', '$31 million', '$18 million', '$5 million', '$40 million', '$20 million', '$37 million', '$14 million', '60 million Norwegian Kroner (around $8.7 million in 1989)', 'N/A', '$35-40 million', '$25 million', '$15 million', '$40 million', '$14 million', '$28 million', '$12 million', 'N/A', 'N/A', '$6.5 million', '$28 million', '$17 million', '$30 million', 'N/A', '$13 million', 'N/A', 'N/A', '$45 million', '$31 million', 'N/A', '$22 million', '$30 million', 'N/A', '$22 million', ['$32 million', '(estimated)'], '$18 million', '$55 million', '$24 million', '$15 million', '$12 million', 'N/A', '$30 million', 'N/A', '$31 million', 'N/A', '$38 million', '$70 million', '$15 million', 'N/A', '$67 million', 'N/A', '$32 million', '$7 million', '$85 million', '$55 million', '$3 million', '$16 million', '$80 million', '$30 million', '$24 million', '$90 million', '$15 million', 'N/A', '$30 million', '$120 million', '$90 million', '$65 million', '$5 million', 'N/A', '$130 million', '$75–90 million', '$10 million', '$90 million', '$80–$85 million', '$15 million –$30 million', '$4,000,000 (estimated)', '$127.5 million', '$65 million', '$30 million', '$85 million', '$100 million', '$23 million', 'N/A', '$90–120 million', '$26 million', '$25 million', '$115 million', '$33 million', '$20 million', '$5 million', 'N/A', '$22 million', '$80 million', '$35 million', '(US$15–19.2 million)', '$15 million', '$65 million', '$140 million', 'N/A', '$20 million', '$12 million', '$46 million', '$13 million', '$20 million', '$17 million', '$94 million', '$140 million', '$26 million', 'N/A', 'N/A', '$46 million', '$90 million', 'N/A', '$10 million', '$28 million', 'N/A', '$15 million', 'N/A', '$110 million', 'N/A', '$110 million', 'N/A', '$45 million', 'N/A', '$92 million', 'N/A', '$100 million', 'N/A', 'N/A', '$20 million', '$56 million', '$25 million', 'N/A', '$50 million', ['¥', '2.4 billion', 'US$24 million'], '$35 million', '$35 million', 'N/A', 'N/A', '$25 million', '$150 million', '$180 million', 'N/A', '$30 million', 'N/A', '$1 million', '$40 million', '$50 million', '$80 million', '$120 million', 'N/A', '$225 million', '$30 million', 'N/A', '$24 million', '$12 million', 'N/A', 'N/A', '$17 million', '$150 million', '$300 million', '$150 million', 'N/A', '$25 million', 'N/A', '$22 million', '$85 million', '$130 million', '$7 million', '$25 million', '$225 million', '$180 million', 'N/A', '$50 million', '$20 million', 'N/A', '$11 million', 'N/A', '$150 million', '$80 million', 'N/A', '$50 million', '$30 million', '$47 million', 'N/A', '$175 million', 'N/A', '$150 million', ['¥', '3.4 billion', '(', 'US$', '34 million)'], '$30—$35 million', 'N/A', '$8 million ( ₽ 350 million)', '$175-200 million', '$35 million', '$105 million', '$150 –$200 million', '$80 million', '$150–200 million', '$200 million', '$150 million', '$22 million', '$30—$35 million', 'N/A', '$35 million', 'N/A', '$260 million', '$170 million', '', 'N/A', 'N/A', '$150 million', 'N/A', '$5 million', '$8 million', ['$410.6 million (gross)', '$378.5 million (net)'], '$200 million', '$30 million', 'N/A', '$45 million', 'N/A', '$23 million', ['$306.6 million (gross)', '$263.7 million (net)'], '$5 million', 'N/A', '$185 million', '$25 million', '$30—35 million', 'N/A', '$39 million', '$165 million', '$200–215 million', 'N/A', '$200 million', '$225–250 million', '$50 million', 'N/A', '$150 million', '$35 million', 'N/A', '$51 million', '$5 million', '$25 million', '$180–263 million', '$50 million', '(US$3.1 million)', '$28 million', '$165 million', '$50 million', '$17 million', 'N/A', '$84.21-95 million', '$5–10 million', '$180–190 million', '$175 million', '', '$175–200 million', '$70–80 million', '$150 million', '$175–177 million', 'N/A', '$170 million', '$175–200 million', '$140 million', '$65 million', '$15 million', '$150–175 million', '70 crore', '$8 million', '$160–255 million', '$5–10 million', '$230–320 million', '$175 million', 'N/A', ['131\\xa0crore'], ['~$8 million', '₽', '370 million'], '$175–225 million', '$100–130 million', '$200 million', '$75 million', '$120–133 million', '$175 million', '$130 million', '$170 million', 'N/A', '$183 million', '$200 million', '$250–260 million', '$185 million', '$60 million', 'N/A', '$150 million', '$40 million', '$42 million', '$175–200 million', 'N/A', 'N/A', 'N/A', '$125 million', '$12.5 million (stage production)', 'N/A', '$24 million', 'N/A', '$200 million', 'N/A', 'N/A', '$150 million+', '₽ 650 million', 'N/A', '$100 million+', '$100–200 million', 'N/A', '$200 million', '$120 million', 'N/A', 'N/A', 'N/A', 'N/A', 'N/A', 'N/A', 'N/A', 'N/A', 'N/A', '$53.4 million', 'N/A', 'N/A', 'N/A', 'N/A', '$11 million', '$80 million', '$130 million', 'N/A', '$1.49 million', 'N/A', '$35-40 million', '$28 million', '$90–120 million', '$858,000', 'N/A', '$85 million', '$70 million', '$75–90 million', 'N/A', '$5 million', '$18 million or $25 million', 'N/A', '$3 million', 'N/A']\n"
     ]
    }
   ],
   "source": [
    "print([movie.get('Budget', 'N/A') for movie in movie_info_list])"
   ]
  },
  {
   "cell_type": "code",
   "execution_count": 143,
   "id": "1caec5f3",
   "metadata": {},
   "outputs": [],
   "source": [
    "import re\n",
    "\n",
    "amounts = r\"thousand|million|billion\"\n",
    "number = r\"\\d+(,\\d{3})*\\.*\\d*\"\n",
    "\n",
    "word_re = rf\"\\${number}(-|\\sto\\s)?({number})?\\s({amounts})\"\n",
    "value_re = rf\"\\${number}\"\n",
    "\n",
    "\n",
    "def word_to_value(word):\n",
    "    value_dict = {\"thousand\": 1000, \"million\": 1000000, \"billion\": 1000000000}\n",
    "    return value_dict[word]\n",
    "\n",
    "\n",
    "def parse_word_syntax(string):\n",
    "    value_string = re.search(number, string).group()\n",
    "    value = float(value_string.replace(\",\", \"\"))\n",
    "    word = re.search(amounts, string, flags=re.I).group().lower()\n",
    "    word_value = word_to_value(word)\n",
    "    return  value*word_value\n",
    "\n",
    "\n",
    "def parse_value_syntax(string):\n",
    "    value_string = re.search(number, string).group()\n",
    "    value = float(value_string.replace(\",\", \"\"))\n",
    "    return value\n",
    "\n",
    "'''\n",
    "money_conversion(\"$12.2 million\") --> 12200000 ##the word syntax\n",
    "money_conversion(\"$790,000\") --> 790000        ##The value Syntax\n",
    "'''\n",
    "\n",
    "\n",
    "def money_conversion(money):\n",
    "    if money == \"N/A\":\n",
    "        return None\n",
    "\n",
    "    if isinstance(money, list):\n",
    "        money = money[0]\n",
    "\n",
    "    word_syntax = re.search(word_re, money, flags=re.I)\n",
    "    value_syntax = re.search(value_re, money)\n",
    "\n",
    "    if word_syntax:\n",
    "        return parse_word_syntax(word_syntax.group())\n",
    "    elif value_syntax:\n",
    "        return parse_value_syntax(value_syntax.group())\n",
    "    else:\n",
    "        return None\n",
    "\n",
    "#print(money_conversion(\"$790 million\"))"
   ]
  },
  {
   "cell_type": "code",
   "execution_count": 145,
   "id": "2502e6b9",
   "metadata": {},
   "outputs": [],
   "source": [
    "for movie in movie_info_list:\n",
    "    movie['Budget (float)'] = money_conversion(movie.get('Budget', \"N/A\"))\n",
    "    movie['Box office (float)'] = money_conversion(movie.get('Box office', \"N/A\"))"
   ]
  },
  {
   "cell_type": "code",
   "execution_count": 153,
   "id": "ea3c4345",
   "metadata": {},
   "outputs": [],
   "source": [
    "data = [movie.get('Budget', 'N/A') for movie in movie_info_list]"
   ]
  },
  {
   "cell_type": "code",
   "execution_count": 169,
   "id": "bfe10ac5",
   "metadata": {},
   "outputs": [
    {
     "ename": "TypeError",
     "evalue": "expected string or bytes-like object",
     "output_type": "error",
     "traceback": [
      "\u001b[1;31m---------------------------------------------------------------------------\u001b[0m",
      "\u001b[1;31mTypeError\u001b[0m                                 Traceback (most recent call last)",
      "\u001b[1;32m<ipython-input-169-67112092fcc8>\u001b[0m in \u001b[0;36m<module>\u001b[1;34m\u001b[0m\n\u001b[1;32m----> 1\u001b[1;33m \u001b[0mmoney_conversion\u001b[0m\u001b[1;33m(\u001b[0m\u001b[0mmovie_info_list\u001b[0m\u001b[1;33m[\u001b[0m\u001b[1;36m12\u001b[0m\u001b[1;33m]\u001b[0m\u001b[1;33m)\u001b[0m\u001b[1;33m\u001b[0m\u001b[1;33m\u001b[0m\u001b[0m\n\u001b[0m",
      "\u001b[1;32m<ipython-input-143-aef2257e9325>\u001b[0m in \u001b[0;36mmoney_conversion\u001b[1;34m(money)\u001b[0m\n\u001b[0;32m     39\u001b[0m         \u001b[0mmoney\u001b[0m \u001b[1;33m=\u001b[0m \u001b[0mmoney\u001b[0m\u001b[1;33m[\u001b[0m\u001b[1;36m0\u001b[0m\u001b[1;33m]\u001b[0m\u001b[1;33m\u001b[0m\u001b[1;33m\u001b[0m\u001b[0m\n\u001b[0;32m     40\u001b[0m \u001b[1;33m\u001b[0m\u001b[0m\n\u001b[1;32m---> 41\u001b[1;33m     \u001b[0mword_syntax\u001b[0m \u001b[1;33m=\u001b[0m \u001b[0mre\u001b[0m\u001b[1;33m.\u001b[0m\u001b[0msearch\u001b[0m\u001b[1;33m(\u001b[0m\u001b[0mword_re\u001b[0m\u001b[1;33m,\u001b[0m \u001b[0mmoney\u001b[0m\u001b[1;33m,\u001b[0m \u001b[0mflags\u001b[0m\u001b[1;33m=\u001b[0m\u001b[0mre\u001b[0m\u001b[1;33m.\u001b[0m\u001b[0mI\u001b[0m\u001b[1;33m)\u001b[0m\u001b[1;33m\u001b[0m\u001b[1;33m\u001b[0m\u001b[0m\n\u001b[0m\u001b[0;32m     42\u001b[0m     \u001b[0mvalue_syntax\u001b[0m \u001b[1;33m=\u001b[0m \u001b[0mre\u001b[0m\u001b[1;33m.\u001b[0m\u001b[0msearch\u001b[0m\u001b[1;33m(\u001b[0m\u001b[0mvalue_re\u001b[0m\u001b[1;33m,\u001b[0m \u001b[0mmoney\u001b[0m\u001b[1;33m)\u001b[0m\u001b[1;33m\u001b[0m\u001b[1;33m\u001b[0m\u001b[0m\n\u001b[0;32m     43\u001b[0m \u001b[1;33m\u001b[0m\u001b[0m\n",
      "\u001b[1;32m~\\anaconda3\\lib\\re.py\u001b[0m in \u001b[0;36msearch\u001b[1;34m(pattern, string, flags)\u001b[0m\n\u001b[0;32m    199\u001b[0m     \"\"\"Scan through string looking for a match to the pattern, returning\n\u001b[0;32m    200\u001b[0m     a Match object, or None if no match was found.\"\"\"\n\u001b[1;32m--> 201\u001b[1;33m     \u001b[1;32mreturn\u001b[0m \u001b[0m_compile\u001b[0m\u001b[1;33m(\u001b[0m\u001b[0mpattern\u001b[0m\u001b[1;33m,\u001b[0m \u001b[0mflags\u001b[0m\u001b[1;33m)\u001b[0m\u001b[1;33m.\u001b[0m\u001b[0msearch\u001b[0m\u001b[1;33m(\u001b[0m\u001b[0mstring\u001b[0m\u001b[1;33m)\u001b[0m\u001b[1;33m\u001b[0m\u001b[1;33m\u001b[0m\u001b[0m\n\u001b[0m\u001b[0;32m    202\u001b[0m \u001b[1;33m\u001b[0m\u001b[0m\n\u001b[0;32m    203\u001b[0m \u001b[1;32mdef\u001b[0m \u001b[0msub\u001b[0m\u001b[1;33m(\u001b[0m\u001b[0mpattern\u001b[0m\u001b[1;33m,\u001b[0m \u001b[0mrepl\u001b[0m\u001b[1;33m,\u001b[0m \u001b[0mstring\u001b[0m\u001b[1;33m,\u001b[0m \u001b[0mcount\u001b[0m\u001b[1;33m=\u001b[0m\u001b[1;36m0\u001b[0m\u001b[1;33m,\u001b[0m \u001b[0mflags\u001b[0m\u001b[1;33m=\u001b[0m\u001b[1;36m0\u001b[0m\u001b[1;33m)\u001b[0m\u001b[1;33m:\u001b[0m\u001b[1;33m\u001b[0m\u001b[1;33m\u001b[0m\u001b[0m\n",
      "\u001b[1;31mTypeError\u001b[0m: expected string or bytes-like object"
     ]
    }
   ],
   "source": [
    "money_conversion(movie_info_list[12])"
   ]
  },
  {
   "cell_type": "code",
   "execution_count": null,
   "id": "b7cd2ff0",
   "metadata": {},
   "outputs": [],
   "source": []
  },
  {
   "cell_type": "code",
   "execution_count": null,
   "id": "1dc687d0",
   "metadata": {},
   "outputs": [],
   "source": []
  },
  {
   "cell_type": "code",
   "execution_count": null,
   "id": "d6443bee",
   "metadata": {},
   "outputs": [],
   "source": []
  }
 ],
 "metadata": {
  "kernelspec": {
   "display_name": "Python 3",
   "language": "python",
   "name": "python3"
  },
  "language_info": {
   "codemirror_mode": {
    "name": "ipython",
    "version": 3
   },
   "file_extension": ".py",
   "mimetype": "text/x-python",
   "name": "python",
   "nbconvert_exporter": "python",
   "pygments_lexer": "ipython3",
   "version": "3.8.8"
  }
 },
 "nbformat": 4,
 "nbformat_minor": 5
}
