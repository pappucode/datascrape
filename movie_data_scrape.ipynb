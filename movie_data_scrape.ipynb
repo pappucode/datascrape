{
 "cells": [
  {
   "cell_type": "markdown",
   "id": "5983aa82",
   "metadata": {},
   "source": [
    "## Get movie info box(store in Python dictionary)\n",
    "#### Import necessary libraries"
   ]
  },
  {
   "cell_type": "code",
   "execution_count": 2,
   "id": "f1231e69",
   "metadata": {},
   "outputs": [],
   "source": [
    "from bs4 import BeautifulSoup as bs\n",
    "import requests"
   ]
  },
  {
   "cell_type": "markdown",
   "id": "e4bd986f",
   "metadata": {},
   "source": [
    "#### Load the webpage"
   ]
  },
  {
   "cell_type": "code",
   "execution_count": null,
   "id": "b319950f",
   "metadata": {},
   "outputs": [],
   "source": [
    "r = requests.get(\"https://en.wikipedia.org/wiki/Toy_Story_3\")\n",
    "\n",
    "#Convert to a beautiful soup object\n",
    "soup = bs(r.content)\n",
    "\n",
    "#Print out the html\n",
    "content = soup.prettify()\n",
    "print(content)"
   ]
  },
  {
   "cell_type": "markdown",
   "id": "5b2c411f",
   "metadata": {},
   "source": [
    "#### Grab only the toy story 3 movie info box"
   ]
  },
  {
   "cell_type": "code",
   "execution_count": null,
   "id": "e50637e5",
   "metadata": {},
   "outputs": [],
   "source": [
    "info_box = soup.find(class_=\"infobox vevent\")\n",
    "#print(info_box.prettify())\n",
    "info_box_rows = info_box.find_all(\"tr\")\n",
    "for row in info_box_rows:\n",
    "    print(row.prettify())"
   ]
  },
  {
   "cell_type": "markdown",
   "id": "f27bbfe8",
   "metadata": {},
   "source": [
    "#### Toy story 3 movie data cleanup\n"
   ]
  },
  {
   "cell_type": "code",
   "execution_count": null,
   "id": "f597515f",
   "metadata": {},
   "outputs": [],
   "source": [
    "def get_content_value(row_data):\n",
    "    if row_data.find(\"li\"):\n",
    "        return [li.get_text(\" \", strip=True).replace(\"\\xa0\", \" \") for li in row_data.find_all(\"li\")]\n",
    "    else:\n",
    "        return row_data.get_text(\" \", strip=True).replace(\"\\xa0\", \" \")\n",
    "\n",
    "movie_info = {}\n",
    "for index, row in enumerate(info_box_rows): #enumerate allow us to get both the index and the row at the same time\n",
    "    if index == 0:\n",
    "        movie_info['title'] = row.find('th').get_text(\" \", strip=True)\n",
    "    elif index == 1:\n",
    "        continue\n",
    "    else:\n",
    "        content_key = row.find(\"th\").get_text(\" \", strip=True)\n",
    "        content_value = get_content_value(row.find(\"td\"))\n",
    "        movie_info[content_key] = content_value\n",
    "        \n",
    "movie_info         "
   ]
  },
  {
   "cell_type": "markdown",
   "id": "9096bc8d",
   "metadata": {},
   "source": [
    "## Task 2: Get info Box for all movie"
   ]
  },
  {
   "cell_type": "code",
   "execution_count": null,
   "id": "73a4e610",
   "metadata": {},
   "outputs": [],
   "source": [
    "r = requests.get(\"https://en.wikipedia.org/wiki/List_of_Walt_Disney_Pictures_films\")\n",
    "\n",
    "#convert to a beautiful soup object\n",
    "soup = bs(r.content)\n",
    "\n",
    "#print out the html\n",
    "content = soup.prettify()\n",
    "print(content)"
   ]
  },
  {
   "cell_type": "code",
   "execution_count": null,
   "id": "d20b839c",
   "metadata": {},
   "outputs": [],
   "source": [
    "movies = soup.select(\".wikitable.sortable i\")\n",
    "movies[0:10]\n",
    "movies[0]\n",
    "#movies[0].a['href']\n",
    "#movies[0].a['title']"
   ]
  },
  {
   "cell_type": "code",
   "execution_count": 8,
   "id": "d91fa0f8",
   "metadata": {},
   "outputs": [],
   "source": [
    "def get_content_value(row_data):\n",
    "    if row_data.find(\"li\"):\n",
    "        return [li.get_text(\" \", strip=True).replace(\"\\xa0\", \" \") for li in row_data.find_all(\"li\")]\n",
    "    else:\n",
    "        return row_data.get_text(\" \", strip=True).replace(\"\\xa0\", \" \")\n",
    "\n",
    "def get_info_box(url):    \n",
    "    r = requests.get(url)\n",
    "    soup = bs(r.content)\n",
    "    info_box = soup.find(class_=\"infobox vevent\")\n",
    "    info_box_rows = info_box.find_all(\"tr\")\n",
    "    \n",
    "    movie_info = {}\n",
    "    for index, row in enumerate(info_box_rows): #enumerate allow us to get both the index and the row at the same time\n",
    "        if index == 0:\n",
    "            movie_info['title'] = row.find('th').get_text(\" \", strip=True)\n",
    "        elif index == 1:\n",
    "            continue\n",
    "        else:\n",
    "            content_key = row.find(\"th\").get_text(\" \", strip=True)\n",
    "            content_value = get_content_value(row.find(\"td\"))\n",
    "            movie_info[content_key] = content_value\n",
    "    return movie_info        "
   ]
  },
  {
   "cell_type": "code",
   "execution_count": 9,
   "id": "8a453b4c",
   "metadata": {},
   "outputs": [
    {
     "name": "stdout",
     "output_type": "stream",
     "text": [
      "Zorro the Avenger\n",
      "'NoneType' object has no attribute 'find'\n",
      "The Sign of Zorro\n",
      "'NoneType' object has no attribute 'find'\n",
      "True-Life Adventures\n",
      "'NoneType' object has no attribute 'find_all'\n",
      "The London Connection\n",
      "'NoneType' object has no attribute 'find'\n",
      "Spirited Away\n",
      "'NoneType' object has no attribute 'get_text'\n",
      "Howl's Moving Castle\n",
      "'NoneType' object has no attribute 'get_text'\n",
      "The Nightmare Before Christmas 3D\n",
      "'NoneType' object has no attribute 'get_text'\n",
      "The Secret of the Magic Gourd\n",
      "'NoneType' object has no attribute 'get_text'\n",
      "Ponyo\n",
      "'NoneType' object has no attribute 'get_text'\n",
      "Tales from Earthsea\n",
      "'NoneType' object has no attribute 'get_text'\n",
      "Anaganaga O Dheerudu\n",
      "'NoneType' object has no attribute 'get_text'\n",
      "The Secret World of Arrietty\n",
      "'NoneType' object has no attribute 'get_text'\n",
      "Tini: The Movie\n",
      "'NoneType' object has no attribute 'get_text'\n",
      "Born in China\n",
      "'NoneType' object has no attribute 'get_text'\n",
      "Sister Act 3\n",
      "'NoneType' object has no attribute 'find'\n",
      "Tower of Terror\n",
      "'NoneType' object has no attribute 'find_all'\n",
      "Tron: Ares\n",
      "'NoneType' object has no attribute 'find'\n",
      "61\n",
      "'NoneType' object has no attribute 'find_all'\n",
      "Muppet Man\n",
      "'NoneType' object has no attribute 'find_all'\n",
      "Grimm\n",
      "'NoneType' object has no attribute 'find_all'\n",
      "The Paper Magician\n",
      "'NoneType' object has no attribute 'find_all'\n",
      "The Thief\n",
      "'NoneType' object has no attribute 'find_all'\n",
      "Tom Sawyer\n",
      "'NoneType' object has no attribute 'find_all'\n",
      "FC Barcelona\n",
      "'NoneType' object has no attribute 'find_all'\n"
     ]
    }
   ],
   "source": [
    "r = requests.get(\"https://en.wikipedia.org/wiki/List_of_Walt_Disney_Pictures_films\")\n",
    "soup = bs(r.content)\n",
    "movies = soup.select(\".wikitable.sortable i a\")\n",
    "\n",
    "base_path = \"https://www.wikipedia.org/\"\n",
    "\n",
    "movie_info_list = []\n",
    "for index, movie in enumerate(movies):\n",
    "    try:\n",
    "        relative_path = movie['href']\n",
    "        full_path = base_path + relative_path\n",
    "        title = movie['title']\n",
    "        \n",
    "        movie_info_list.append(get_info_box(full_path))\n",
    "        \n",
    "    except Exception as e:\n",
    "        print(movie.get_text())\n",
    "        print(e)\n"
   ]
  },
  {
   "cell_type": "code",
   "execution_count": 10,
   "id": "7f835008",
   "metadata": {},
   "outputs": [
    {
     "data": {
      "text/plain": [
       "502"
      ]
     },
     "execution_count": 10,
     "metadata": {},
     "output_type": "execute_result"
    }
   ],
   "source": [
    "len(movie_info_list)"
   ]
  },
  {
   "cell_type": "markdown",
   "id": "f0118791",
   "metadata": {},
   "source": [
    "#### Save/Reload movie data"
   ]
  },
  {
   "cell_type": "code",
   "execution_count": 14,
   "id": "95503ae7",
   "metadata": {},
   "outputs": [],
   "source": [
    "import json\n",
    "\n",
    "def save_data(title, data):\n",
    "    with open(title, 'w', encoding=\"utf-8\") as f:\n",
    "        json.dump(data, f, ensure_ascii=False, indent=2)"
   ]
  },
  {
   "cell_type": "code",
   "execution_count": 15,
   "id": "1c21408f",
   "metadata": {},
   "outputs": [],
   "source": [
    "import json\n",
    "\n",
    "def load_data(title):\n",
    "    with open(title, encoding=\"utf-8\") as f:\n",
    "        return json.load(f)"
   ]
  },
  {
   "cell_type": "code",
   "execution_count": 16,
   "id": "bf9e925c",
   "metadata": {},
   "outputs": [],
   "source": [
    "save_data(\"disney_data.json\", movie_info_list)"
   ]
  },
  {
   "cell_type": "code",
   "execution_count": null,
   "id": "e99b3574",
   "metadata": {},
   "outputs": [],
   "source": []
  }
 ],
 "metadata": {
  "kernelspec": {
   "display_name": "Python 3",
   "language": "python",
   "name": "python3"
  },
  "language_info": {
   "codemirror_mode": {
    "name": "ipython",
    "version": 3
   },
   "file_extension": ".py",
   "mimetype": "text/x-python",
   "name": "python",
   "nbconvert_exporter": "python",
   "pygments_lexer": "ipython3",
   "version": "3.8.8"
  }
 },
 "nbformat": 4,
 "nbformat_minor": 5
}
