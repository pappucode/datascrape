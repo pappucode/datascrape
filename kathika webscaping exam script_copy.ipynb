{
 "cells": [
  {
   "cell_type": "markdown",
   "id": "e2a16c5e",
   "metadata": {},
   "source": [
    "We are excited to announce that as part of our internship selection process, we will be conducting a Jupyter Notebook exam to assess your skills and proficiency in programming. Jupyter Notebook is a powerful tool widely used in the field of data science, providing an interactive environment for coding, visualization, and documentation."
   ]
  },
  {
   "cell_type": "markdown",
   "id": "83bd48f5",
   "metadata": {},
   "source": [
    "Your objective is to write a Python script using a web scraping library (such as BeautifulSoup or Scrapy or other library) to extract relevant information from \"kathika.org\" ."
   ]
  },
  {
   "cell_type": "markdown",
   "id": "5d300afc",
   "metadata": {},
   "source": [
    "## Data Scraping"
   ]
  },
  {
   "cell_type": "markdown",
   "id": "9fa8c22b",
   "metadata": {},
   "source": [
    "import all the library"
   ]
  },
  {
   "cell_type": "code",
   "execution_count": 19,
   "id": "781d336b",
   "metadata": {},
   "outputs": [],
   "source": [
    "# code:\n",
    "from bs4 import BeautifulSoup\n",
    "from selenium import webdriver\n",
    "from selenium.webdriver.chrome.service import Service\n",
    "from selenium.webdriver.chrome.options import Options\n",
    "\n",
    "from urllib.parse import urljoin\n",
    "import time"
   ]
  },
  {
   "cell_type": "markdown",
   "id": "ec506f0c",
   "metadata": {},
   "source": [
    "base url: https://kathika.org/"
   ]
  },
  {
   "cell_type": "code",
   "execution_count": 20,
   "id": "42a29b21",
   "metadata": {},
   "outputs": [],
   "source": [
    "# code:\n",
    "base_url = \"https://kathika.org/\""
   ]
  },
  {
   "cell_type": "markdown",
   "id": "ac65557b",
   "metadata": {},
   "source": [
    "Extract page start from: https://kathika.org/stories"
   ]
  },
  {
   "cell_type": "code",
   "execution_count": 26,
   "id": "42a0874b",
   "metadata": {},
   "outputs": [],
   "source": [
    "# code:\n",
    "#getting page count.\n",
    "initial_url = \"https://kathika.org/stories/\"\n",
    "\n",
    "# chrome_options = Options()\n",
    "# chrome_options.add_argument(\"--headless\")\n",
    "\n",
    "path = \"C:/Users/Pappu/Desktop/books/chromedriver-win64/chromedriver.exe\"\n",
    "service = Service(path)\n",
    "\n",
    "try:\n",
    "    #with webdriver.Chrome(options=chrome_options) as driver:\n",
    "    with webdriver.Chrome(service=service) as driver:\n",
    "        driver.get(initial_url)\n",
    "        time.sleep(5)\n",
    "        soup = BeautifulSoup(driver.page_source, 'html.parser')\n",
    "        #print(soup.prettify())\n",
    "        driver.quit()\n",
    "except Exception as e:\n",
    "    print(f\"An error occurred: {e}\")"
   ]
  },
  {
   "cell_type": "code",
   "execution_count": 27,
   "id": "851f0149",
   "metadata": {},
   "outputs": [
    {
     "name": "stdout",
     "output_type": "stream",
     "text": [
      "6\n"
     ]
    }
   ],
   "source": [
    "# Find the div element with class \"vs-pagination\"\n",
    "pagination_div = soup.find(\"div\", class_=\"vs-pagination\")\n",
    "\n",
    "# Check if the element was found before trying to access its text\n",
    "if pagination_div:\n",
    "    # Extract the text content if the element exists\n",
    "    numbers = pagination_div.text\n",
    "    # Find the maximum digit using map and max\n",
    "    max_num = max_digit = max(map(int, numbers))\n",
    "    # Print or use max_num as needed\n",
    "    print(max_num)\n",
    "else:\n",
    "    print(\"Element with class 'vs-pagination' not found on the webpage.\")\n"
   ]
  },
  {
   "cell_type": "code",
   "execution_count": 29,
   "id": "262a704b",
   "metadata": {},
   "outputs": [
    {
     "data": {
      "text/plain": [
       "6"
      ]
     },
     "execution_count": 29,
     "metadata": {},
     "output_type": "execute_result"
    }
   ],
   "source": [
    "numbers = soup.find(\"div\", class_=\"vs-pagination\").text\n",
    "max_num = max_digit = max(map(int, numbers))\n",
    "max_num"
   ]
  },
  {
   "cell_type": "markdown",
   "id": "a7cb94c8",
   "metadata": {},
   "source": [
    "Use **iteration** or **loop** to go through **each book** and **each page** and collect **(book name, writer name, book content)**\n",
    "\n",
    "hint: you can store data in a **list** or **dictionary**. **{\"book_name\":[[writer_name],[book_content]]}**\n",
    "\n",
    "caution: all the data must be contained as organized where user can tell which book belongs to which writer"
   ]
  },
  {
   "cell_type": "code",
   "execution_count": 5,
   "id": "62230d9d",
   "metadata": {},
   "outputs": [],
   "source": [
    "def get_soup(link):\n",
    "    initial_url = link\n",
    "    # Initializing the ChromeDriver service\n",
    "#     s = Service(chrome_driver_path)\n",
    "    try:\n",
    "        with webdriver.Chrome(service=service) as driver:\n",
    "            driver.get(initial_url)\n",
    "            soup = BeautifulSoup(driver.page_source, 'html.parser')\n",
    "            return soup\n",
    "    except Exception as e:\n",
    "        print(f\"An error occurred: {e}\")"
   ]
  },
  {
   "cell_type": "code",
   "execution_count": 6,
   "id": "cb5d6749",
   "metadata": {},
   "outputs": [
    {
     "ename": "NameError",
     "evalue": "name 'max_num' is not defined",
     "output_type": "error",
     "traceback": [
      "\u001b[1;31m---------------------------------------------------------------------------\u001b[0m",
      "\u001b[1;31mNameError\u001b[0m                                 Traceback (most recent call last)",
      "Cell \u001b[1;32mIn[6], line 3\u001b[0m\n\u001b[0;32m      1\u001b[0m \u001b[38;5;66;03m# code and check\u001b[39;00m\n\u001b[0;32m      2\u001b[0m all_id \u001b[38;5;241m=\u001b[39m []\n\u001b[1;32m----> 3\u001b[0m \u001b[38;5;28;01mfor\u001b[39;00m i \u001b[38;5;129;01min\u001b[39;00m \u001b[38;5;28mrange\u001b[39m(\u001b[38;5;241m1\u001b[39m, \u001b[43mmax_num\u001b[49m\u001b[38;5;241m+\u001b[39m\u001b[38;5;241m1\u001b[39m):\n\u001b[0;32m      4\u001b[0m     url \u001b[38;5;241m=\u001b[39m \u001b[38;5;124mf\u001b[39m\u001b[38;5;124m\"\u001b[39m\u001b[38;5;124mhttps://kathika.org/stories?page=\u001b[39m\u001b[38;5;132;01m{\u001b[39;00mi\u001b[38;5;132;01m}\u001b[39;00m\u001b[38;5;124m\"\u001b[39m\n\u001b[0;32m      5\u001b[0m     \u001b[38;5;28mprint\u001b[39m(url)\n",
      "\u001b[1;31mNameError\u001b[0m: name 'max_num' is not defined"
     ]
    }
   ],
   "source": [
    "# code and check\n",
    "all_id = []\n",
    "for i in range(1, max_num+1):\n",
    "    url = f\"https://kathika.org/stories?page={i}\"\n",
    "    print(url)\n",
    "    try:\n",
    "        soup = get_soup(url)\n",
    "        stories_link = soup.find_all(\"div\", class_=\"c-card\")\n",
    "        for st in stories_link:\n",
    "            all_id.append(st.find(\"a\").get(\"href\").split(\"/\")[2])\n",
    "    except:\n",
    "        print(\"problem\")\n"
   ]
  },
  {
   "cell_type": "code",
   "execution_count": null,
   "id": "cfb36956",
   "metadata": {},
   "outputs": [],
   "source": []
  },
  {
   "cell_type": "code",
   "execution_count": null,
   "id": "6a5ac812",
   "metadata": {
    "scrolled": true
   },
   "outputs": [],
   "source": [
    "print(\"total_stories: \", len(all_id))\n",
    "Data = {}\n",
    "for ids in all_id:\n",
    "    url = f\"https://kathika.org/story/{ids}\"\n",
    "    \n",
    "    soup = get_soup(url)\n",
    "    title = soup.find(\"div\", class_=\"story-title\").h1.text\n",
    "    writer = soup.find(\"div\", class_=\"user-details\").h3.text\n",
    "    content = soup.find(\"div\", class_=\"story-content\").text.replace(\"\\xa0\", \" \")\n",
    "    Data[title] = [[writer],[content]]\n",
    "    print(\"Done:\", url, \" title: \", title)"
   ]
  },
  {
   "cell_type": "code",
   "execution_count": null,
   "id": "09140319",
   "metadata": {},
   "outputs": [],
   "source": []
  },
  {
   "cell_type": "markdown",
   "id": "0ca4905f",
   "metadata": {},
   "source": [
    "Save current Data as json or other format in you're local mechine. \n",
    "\n",
    "caution: you must be able to read it in jupyter notebook"
   ]
  },
  {
   "cell_type": "markdown",
   "id": "d25377d9",
   "metadata": {},
   "source": [
    "## Data Cleaning"
   ]
  },
  {
   "cell_type": "markdown",
   "id": "319379a5",
   "metadata": {},
   "source": [
    "import saved data in jupyter notebook"
   ]
  },
  {
   "cell_type": "code",
   "execution_count": null,
   "id": "8593be7a",
   "metadata": {},
   "outputs": [],
   "source": [
    "# code:\n"
   ]
  },
  {
   "cell_type": "markdown",
   "id": "dc9a686c",
   "metadata": {},
   "source": [
    "Check if **book_content** contains any html element or other element which is not suppose to be there."
   ]
  },
  {
   "cell_type": "code",
   "execution_count": null,
   "id": "8f0c64d2",
   "metadata": {},
   "outputs": [],
   "source": [
    "# Ans: Yes or No\n",
    "# No"
   ]
  },
  {
   "cell_type": "markdown",
   "id": "ac6012cb",
   "metadata": {},
   "source": [
    "If Answer is Yes then remove those element\n",
    "\n",
    "hint: use library **re** or other library\n",
    "\n",
    "caution: book content must maintain their Integrity"
   ]
  },
  {
   "cell_type": "code",
   "execution_count": null,
   "id": "6a37614e",
   "metadata": {},
   "outputs": [],
   "source": [
    "# code:\n"
   ]
  },
  {
   "cell_type": "markdown",
   "id": "6a7552f8",
   "metadata": {},
   "source": [
    "Check how many stories or books you've collected and how many stories or books does website have"
   ]
  },
  {
   "cell_type": "code",
   "execution_count": null,
   "id": "e201a67a",
   "metadata": {},
   "outputs": [],
   "source": [
    "# code\n"
   ]
  },
  {
   "cell_type": "markdown",
   "id": "441a5eb3",
   "metadata": {},
   "source": [
    "Did your books count matches with website? Yes or no"
   ]
  },
  {
   "cell_type": "code",
   "execution_count": null,
   "id": "c9f867e4",
   "metadata": {},
   "outputs": [],
   "source": [
    "# Ans: Yes or No\n",
    "# Yes"
   ]
  },
  {
   "cell_type": "markdown",
   "id": "740f8334",
   "metadata": {},
   "source": [
    "### If your books count does not match then check your code and find the bug and fix it."
   ]
  },
  {
   "cell_type": "markdown",
   "id": "7ae94af9",
   "metadata": {},
   "source": [
    "If your books count matches then print all writer name and how many book each writer wrote.\n",
    "\n",
    "print hint: print(writer name: \"name\", number of book: \"number\")"
   ]
  },
  {
   "cell_type": "code",
   "execution_count": null,
   "id": "283cd172",
   "metadata": {},
   "outputs": [],
   "source": [
    "# code:\n"
   ]
  },
  {
   "cell_type": "markdown",
   "id": "9aea9a7a",
   "metadata": {},
   "source": [
    "Save each books as **txt** file. where file name is **book_name.txt**. inside that file is **book_content**.\n",
    "\n",
    "Save each **book_name** and **writer_name** in **csv** file."
   ]
  },
  {
   "cell_type": "code",
   "execution_count": null,
   "id": "f06b647d",
   "metadata": {},
   "outputs": [],
   "source": [
    "#code:\n",
    "import pandas as pd\n",
    "df = pd.DataFrame()\n",
    "\n",
    "# Initialize an empty DataFrame with column names\n",
    "columns = ['Title', 'Writer', 'Content']\n",
    "df = pd.DataFrame(columns=columns)\n",
    "\n",
    "# Iterate over the dictionary and append rows to the DataFrame\n",
    "for key, val in Data.items():\n",
    "    title, writer, content = key, val[0][0], val[1][0]\n",
    "    df = pd.concat([df, pd.DataFrame([[title, writer, content]], columns=columns)], ignore_index=True)\n",
    "df.to_csv(\"kathika.csv\")"
   ]
  },
  {
   "cell_type": "markdown",
   "id": "3d883af2",
   "metadata": {},
   "source": [
    "**Explain what you did and what are the challange you've faced doing this exercise...**"
   ]
  },
  {
   "cell_type": "code",
   "execution_count": null,
   "id": "1179a5d8",
   "metadata": {},
   "outputs": [],
   "source": [
    "# Ans:\n"
   ]
  },
  {
   "cell_type": "markdown",
   "id": "8136e958",
   "metadata": {},
   "source": [
    "# what will you submit once exam is over?\n",
    "\n",
    "1. Provide complete jupyter notebook script.\n",
    "2. all the file you got after running the script for the last time.\n",
    "3. zip all the files and submit by following email instruction"
   ]
  },
  {
   "cell_type": "markdown",
   "id": "f6fcc399",
   "metadata": {},
   "source": []
  }
 ],
 "metadata": {
  "kernelspec": {
   "display_name": "Python 3 (ipykernel)",
   "language": "python",
   "name": "python3"
  },
  "language_info": {
   "codemirror_mode": {
    "name": "ipython",
    "version": 3
   },
   "file_extension": ".py",
   "mimetype": "text/x-python",
   "name": "python",
   "nbconvert_exporter": "python",
   "pygments_lexer": "ipython3",
   "version": "3.8.18"
  }
 },
 "nbformat": 4,
 "nbformat_minor": 5
}
