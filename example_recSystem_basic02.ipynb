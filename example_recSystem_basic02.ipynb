{
 "cells": [
  {
   "cell_type": "markdown",
   "metadata": {},
   "source": [
    "# Recommender System : Collaborative Filtering"
   ]
  },
  {
   "cell_type": "markdown",
   "metadata": {},
   "source": [
    "## Neighborhood-based Filtering\n",
    "## Synthetic Data\n",
    "### Utility Matrix : Ordinal Ratings \n",
    "\n",
    "#### Part 1 : User-User Filtering\n",
    "\n",
    "1. Euclidean Distance\n",
    "2. Pearson Correlation Measure\n",
    "\n",
    "#### Part 2 : Item Recommendation\n",
    "\n",
    "1. Using Rating Thresholds\n",
    "2. Using Distance Weights\n",
    "\n",
    "#### Reference : Programming Collective Intelligence, Toby Segaran"
   ]
  },
  {
   "cell_type": "code",
   "execution_count": 1,
   "metadata": {},
   "outputs": [],
   "source": [
    "import numpy as np\n",
    "import pandas as pd\n",
    "np.set_printoptions(precision=2)"
   ]
  },
  {
   "cell_type": "code",
   "execution_count": 2,
   "metadata": {},
   "outputs": [],
   "source": [
    "import os, sys"
   ]
  },
  {
   "cell_type": "markdown",
   "metadata": {},
   "source": [
    "## Data"
   ]
  },
  {
   "cell_type": "code",
   "execution_count": 3,
   "metadata": {},
   "outputs": [],
   "source": [
    "critics_dict = {\n",
    "    'Lisa Rose': {\n",
    "        'Lady in the Water': 2.5, \n",
    "        'Snakes on a Plane': 3.5,\n",
    "        'Just My Luck': 3.0, \n",
    "        'Superman Returns': 3.5, \n",
    "        'You, Me and Dupree': 2.5, \n",
    "        'The Night Listener': 3.0\n",
    "                 },\n",
    "    'Gene Seymour': {\n",
    "        'Lady in the Water': 3.0, \n",
    "        'Snakes on a Plane': 3.5,\n",
    "        'Just My Luck': 1.5, \n",
    "        'Superman Returns': 5.0, \n",
    "        'The Night Listener': 3.0,\n",
    "        'Lulu and the River': 1.0, \n",
    "        'You, Me and Dupree': 3.5\n",
    "    },\n",
    "    'Michael Phillips': {\n",
    "        'Lady in the Water': 2.5, \n",
    "        'Lulu and the River': 2.0,\n",
    "        'Snakes on a Plane': 3.0,\n",
    "        'Superman Returns': 3.5, \n",
    "        'The Night Listener': 4.0\n",
    "    },\n",
    "    'Claudia Puig': {\n",
    "        'Snakes on a Plane': 3.5, \n",
    "        'Just My Luck': 3.0,\n",
    "        'The Night Listener': 4.5, \n",
    "        'Superman Returns': 4.0,\n",
    "        'You, Me and Dupree': 2.5\n",
    "    },\n",
    "    'Mick LaSalle': {\n",
    "        'Lady in the Water': 3.0, \n",
    "        'Snakes on a Plane': 4.0,\n",
    "        'Just My Luck': 2.0, \n",
    "        'Superman Returns': 3.0, \n",
    "        'The Night Listener': 3.0,\n",
    "        'You, Me and Dupree': 2.0\n",
    "    },\n",
    "    'Jack Matthews': {\n",
    "        'Lady in the Water': 3.0, \n",
    "        'Snakes on a Plane': 4.0,\n",
    "        'The Night Listener': 3.0, \n",
    "        'Superman Returns': 5.0, \n",
    "        'You, Me and Dupree': 3.5\n",
    "    }, \n",
    "    'Toby Segaran': {\n",
    "        'Snakes on a Plane':4.5,\n",
    "        'You, Me and Dupree':1.0,\n",
    "        'Superman Returns':4.0\n",
    "    }\n",
    "}"
   ]
  },
  {
   "cell_type": "code",
   "execution_count": 4,
   "metadata": {},
   "outputs": [
    {
     "data": {
      "text/plain": [
       "['Lisa Rose',\n",
       " 'Gene Seymour',\n",
       " 'Michael Phillips',\n",
       " 'Claudia Puig',\n",
       " 'Mick LaSalle',\n",
       " 'Jack Matthews',\n",
       " 'Toby Segaran']"
      ]
     },
     "execution_count": 4,
     "metadata": {},
     "output_type": "execute_result"
    }
   ],
   "source": [
    "critic_list = list( critics_dict.keys() )\n",
    "critic_list"
   ]
  },
  {
   "cell_type": "code",
   "execution_count": 5,
   "metadata": {},
   "outputs": [],
   "source": [
    "s1 = set( critics_dict['Lisa Rose'].keys() )\n",
    "s2 = set( critics_dict['Gene Seymour'].keys() )"
   ]
  },
  {
   "cell_type": "code",
   "execution_count": 6,
   "metadata": {},
   "outputs": [
    {
     "data": {
      "text/plain": [
       "{'Just My Luck',\n",
       " 'Lady in the Water',\n",
       " 'Snakes on a Plane',\n",
       " 'Superman Returns',\n",
       " 'The Night Listener',\n",
       " 'You, Me and Dupree'}"
      ]
     },
     "execution_count": 6,
     "metadata": {},
     "output_type": "execute_result"
    }
   ],
   "source": [
    "s1.intersection(s2)"
   ]
  },
  {
   "cell_type": "markdown",
   "metadata": {},
   "source": [
    "### Convert Data from Dictionary to DataFrame"
   ]
  },
  {
   "cell_type": "code",
   "execution_count": 7,
   "metadata": {},
   "outputs": [],
   "source": [
    "critics_data = pd.json_normalize(critics_dict, sep='_').T.reset_index()\n",
    "critics_data = critics_data.rename(columns={'index':'user_item', 0:'rating'})"
   ]
  },
  {
   "cell_type": "code",
   "execution_count": 8,
   "metadata": {},
   "outputs": [
    {
     "data": {
      "text/html": [
       "<div>\n",
       "<style scoped>\n",
       "    .dataframe tbody tr th:only-of-type {\n",
       "        vertical-align: middle;\n",
       "    }\n",
       "\n",
       "    .dataframe tbody tr th {\n",
       "        vertical-align: top;\n",
       "    }\n",
       "\n",
       "    .dataframe thead th {\n",
       "        text-align: right;\n",
       "    }\n",
       "</style>\n",
       "<table border=\"1\" class=\"dataframe\">\n",
       "  <thead>\n",
       "    <tr style=\"text-align: right;\">\n",
       "      <th></th>\n",
       "      <th>critics</th>\n",
       "      <th>movies</th>\n",
       "      <th>rating</th>\n",
       "    </tr>\n",
       "  </thead>\n",
       "  <tbody>\n",
       "    <tr>\n",
       "      <th>0</th>\n",
       "      <td>Lisa Rose</td>\n",
       "      <td>Lady in the Water</td>\n",
       "      <td>2.5</td>\n",
       "    </tr>\n",
       "    <tr>\n",
       "      <th>1</th>\n",
       "      <td>Lisa Rose</td>\n",
       "      <td>Snakes on a Plane</td>\n",
       "      <td>3.5</td>\n",
       "    </tr>\n",
       "    <tr>\n",
       "      <th>2</th>\n",
       "      <td>Lisa Rose</td>\n",
       "      <td>Just My Luck</td>\n",
       "      <td>3.0</td>\n",
       "    </tr>\n",
       "    <tr>\n",
       "      <th>3</th>\n",
       "      <td>Lisa Rose</td>\n",
       "      <td>Superman Returns</td>\n",
       "      <td>3.5</td>\n",
       "    </tr>\n",
       "    <tr>\n",
       "      <th>4</th>\n",
       "      <td>Lisa Rose</td>\n",
       "      <td>You, Me and Dupree</td>\n",
       "      <td>2.5</td>\n",
       "    </tr>\n",
       "  </tbody>\n",
       "</table>\n",
       "</div>"
      ],
      "text/plain": [
       "     critics              movies  rating\n",
       "0  Lisa Rose   Lady in the Water     2.5\n",
       "1  Lisa Rose   Snakes on a Plane     3.5\n",
       "2  Lisa Rose        Just My Luck     3.0\n",
       "3  Lisa Rose    Superman Returns     3.5\n",
       "4  Lisa Rose  You, Me and Dupree     2.5"
      ]
     },
     "execution_count": 8,
     "metadata": {},
     "output_type": "execute_result"
    }
   ],
   "source": [
    "critics_data['critics'] = critics_data.apply(lambda x : x[0].split('_')[0], axis=1)\n",
    "critics_data['movies']  = critics_data.apply(lambda x : x[0].split('_')[1], axis=1)\n",
    "critics_data = critics_data[['critics','movies','rating']]\n",
    "critics_data.head()"
   ]
  },
  {
   "cell_type": "markdown",
   "metadata": {},
   "source": [
    "### Re-shape Data"
   ]
  },
  {
   "cell_type": "code",
   "execution_count": 9,
   "metadata": {},
   "outputs": [],
   "source": [
    "user_item = critics_data.pivot(index='critics', columns='movies', values='rating')"
   ]
  },
  {
   "cell_type": "markdown",
   "metadata": {},
   "source": [
    "#### Utility Matrix : Fill NaN Values with 0"
   ]
  },
  {
   "cell_type": "code",
   "execution_count": 10,
   "metadata": {},
   "outputs": [
    {
     "data": {
      "text/html": [
       "<div>\n",
       "<style scoped>\n",
       "    .dataframe tbody tr th:only-of-type {\n",
       "        vertical-align: middle;\n",
       "    }\n",
       "\n",
       "    .dataframe tbody tr th {\n",
       "        vertical-align: top;\n",
       "    }\n",
       "\n",
       "    .dataframe thead th {\n",
       "        text-align: right;\n",
       "    }\n",
       "</style>\n",
       "<table border=\"1\" class=\"dataframe\">\n",
       "  <thead>\n",
       "    <tr style=\"text-align: right;\">\n",
       "      <th>movies</th>\n",
       "      <th>Just My Luck</th>\n",
       "      <th>Lady in the Water</th>\n",
       "      <th>Lulu and the River</th>\n",
       "      <th>Snakes on a Plane</th>\n",
       "      <th>Superman Returns</th>\n",
       "      <th>The Night Listener</th>\n",
       "      <th>You, Me and Dupree</th>\n",
       "    </tr>\n",
       "    <tr>\n",
       "      <th>critics</th>\n",
       "      <th></th>\n",
       "      <th></th>\n",
       "      <th></th>\n",
       "      <th></th>\n",
       "      <th></th>\n",
       "      <th></th>\n",
       "      <th></th>\n",
       "    </tr>\n",
       "  </thead>\n",
       "  <tbody>\n",
       "    <tr>\n",
       "      <th>Claudia Puig</th>\n",
       "      <td>3.0</td>\n",
       "      <td>0.0</td>\n",
       "      <td>0.0</td>\n",
       "      <td>3.5</td>\n",
       "      <td>4.0</td>\n",
       "      <td>4.5</td>\n",
       "      <td>2.5</td>\n",
       "    </tr>\n",
       "    <tr>\n",
       "      <th>Gene Seymour</th>\n",
       "      <td>1.5</td>\n",
       "      <td>3.0</td>\n",
       "      <td>1.0</td>\n",
       "      <td>3.5</td>\n",
       "      <td>5.0</td>\n",
       "      <td>3.0</td>\n",
       "      <td>3.5</td>\n",
       "    </tr>\n",
       "    <tr>\n",
       "      <th>Jack Matthews</th>\n",
       "      <td>0.0</td>\n",
       "      <td>3.0</td>\n",
       "      <td>0.0</td>\n",
       "      <td>4.0</td>\n",
       "      <td>5.0</td>\n",
       "      <td>3.0</td>\n",
       "      <td>3.5</td>\n",
       "    </tr>\n",
       "    <tr>\n",
       "      <th>Lisa Rose</th>\n",
       "      <td>3.0</td>\n",
       "      <td>2.5</td>\n",
       "      <td>0.0</td>\n",
       "      <td>3.5</td>\n",
       "      <td>3.5</td>\n",
       "      <td>3.0</td>\n",
       "      <td>2.5</td>\n",
       "    </tr>\n",
       "    <tr>\n",
       "      <th>Michael Phillips</th>\n",
       "      <td>0.0</td>\n",
       "      <td>2.5</td>\n",
       "      <td>2.0</td>\n",
       "      <td>3.0</td>\n",
       "      <td>3.5</td>\n",
       "      <td>4.0</td>\n",
       "      <td>0.0</td>\n",
       "    </tr>\n",
       "    <tr>\n",
       "      <th>Mick LaSalle</th>\n",
       "      <td>2.0</td>\n",
       "      <td>3.0</td>\n",
       "      <td>0.0</td>\n",
       "      <td>4.0</td>\n",
       "      <td>3.0</td>\n",
       "      <td>3.0</td>\n",
       "      <td>2.0</td>\n",
       "    </tr>\n",
       "    <tr>\n",
       "      <th>Toby Segaran</th>\n",
       "      <td>0.0</td>\n",
       "      <td>0.0</td>\n",
       "      <td>0.0</td>\n",
       "      <td>4.5</td>\n",
       "      <td>4.0</td>\n",
       "      <td>0.0</td>\n",
       "      <td>1.0</td>\n",
       "    </tr>\n",
       "  </tbody>\n",
       "</table>\n",
       "</div>"
      ],
      "text/plain": [
       "movies            Just My Luck  Lady in the Water  Lulu and the River  \\\n",
       "critics                                                                 \n",
       "Claudia Puig               3.0                0.0                 0.0   \n",
       "Gene Seymour               1.5                3.0                 1.0   \n",
       "Jack Matthews              0.0                3.0                 0.0   \n",
       "Lisa Rose                  3.0                2.5                 0.0   \n",
       "Michael Phillips           0.0                2.5                 2.0   \n",
       "Mick LaSalle               2.0                3.0                 0.0   \n",
       "Toby Segaran               0.0                0.0                 0.0   \n",
       "\n",
       "movies            Snakes on a Plane  Superman Returns  The Night Listener  \\\n",
       "critics                                                                     \n",
       "Claudia Puig                    3.5               4.0                 4.5   \n",
       "Gene Seymour                    3.5               5.0                 3.0   \n",
       "Jack Matthews                   4.0               5.0                 3.0   \n",
       "Lisa Rose                       3.5               3.5                 3.0   \n",
       "Michael Phillips                3.0               3.5                 4.0   \n",
       "Mick LaSalle                    4.0               3.0                 3.0   \n",
       "Toby Segaran                    4.5               4.0                 0.0   \n",
       "\n",
       "movies            You, Me and Dupree  \n",
       "critics                               \n",
       "Claudia Puig                     2.5  \n",
       "Gene Seymour                     3.5  \n",
       "Jack Matthews                    3.5  \n",
       "Lisa Rose                        2.5  \n",
       "Michael Phillips                 0.0  \n",
       "Mick LaSalle                     2.0  \n",
       "Toby Segaran                     1.0  "
      ]
     },
     "execution_count": 10,
     "metadata": {},
     "output_type": "execute_result"
    }
   ],
   "source": [
    "utility = user_item.fillna(value=0, inplace=False)\n",
    "utility"
   ]
  },
  {
   "cell_type": "markdown",
   "metadata": {},
   "source": [
    "#### User List"
   ]
  },
  {
   "cell_type": "code",
   "execution_count": 11,
   "metadata": {},
   "outputs": [
    {
     "name": "stdout",
     "output_type": "stream",
     "text": [
      "['Claudia Puig' 'Gene Seymour' 'Jack Matthews' 'Lisa Rose'\n",
      " 'Michael Phillips' 'Mick LaSalle' 'Toby Segaran']\n"
     ]
    }
   ],
   "source": [
    "user_list = utility.index.to_numpy()\n",
    "print(user_list)"
   ]
  },
  {
   "cell_type": "markdown",
   "metadata": {},
   "source": [
    "----------------------------------------------------------------------"
   ]
  },
  {
   "cell_type": "markdown",
   "metadata": {},
   "source": [
    "## Part 1 : User Similarity Measure\n",
    "### Method 1 : Pairwise Euclidean Distance among Users"
   ]
  },
  {
   "cell_type": "code",
   "execution_count": 12,
   "metadata": {},
   "outputs": [],
   "source": [
    "from sklearn.metrics import pairwise_distances\n",
    "euclidean_dist = pairwise_distances(utility.values, utility.values, metric='euclidean', force_all_finite='allow-nan')"
   ]
  },
  {
   "cell_type": "code",
   "execution_count": 13,
   "metadata": {},
   "outputs": [
    {
     "data": {
      "text/plain": [
       "array([[0.  , 4.06, 4.74, 2.96, 5.12, 3.71, 5.7 ],\n",
       "       [4.06, 0.  , 1.87, 2.6 , 4.39, 2.78, 5.43],\n",
       "       [4.74, 1.87, 0.  , 3.57, 4.56, 3.2 , 5.05],\n",
       "       [2.96, 2.6 , 3.57, 0.  , 4.53, 1.41, 5.27],\n",
       "       [5.12, 4.39, 4.56, 4.53, 0.  , 3.81, 5.45],\n",
       "       [3.71, 2.78, 3.2 , 1.41, 3.81, 0.  , 4.92],\n",
       "       [5.7 , 5.43, 5.05, 5.27, 5.45, 4.92, 0.  ]])"
      ]
     },
     "execution_count": 13,
     "metadata": {},
     "output_type": "execute_result"
    }
   ],
   "source": [
    "euclidean_dist"
   ]
  },
  {
   "cell_type": "markdown",
   "metadata": {},
   "source": [
    "#### Re-scale Pairwise Distances in-between 0 and 1 \n",
    "\n",
    "0 = Dissimilar\n",
    "1 = Most Similar"
   ]
  },
  {
   "cell_type": "code",
   "execution_count": 14,
   "metadata": {},
   "outputs": [
    {
     "data": {
      "text/plain": [
       "array([[1.    , 0.1975, 0.1741, 0.2527, 0.1633, 0.2124, 0.1492],\n",
       "       [0.1975, 1.    , 0.3483, 0.2779, 0.1856, 0.2643, 0.1555],\n",
       "       [0.1741, 0.3483, 1.    , 0.2188, 0.18  , 0.238 , 0.1653],\n",
       "       [0.2527, 0.2779, 0.2188, 1.    , 0.1809, 0.4142, 0.1595],\n",
       "       [0.1633, 0.1856, 0.18  , 0.1809, 1.    , 0.208 , 0.1549],\n",
       "       [0.2124, 0.2643, 0.238 , 0.4142, 0.208 , 1.    , 0.1688],\n",
       "       [0.1492, 0.1555, 0.1653, 0.1595, 0.1549, 0.1688, 1.    ]])"
      ]
     },
     "execution_count": 14,
     "metadata": {},
     "output_type": "execute_result"
    }
   ],
   "source": [
    "np.set_printoptions(precision=4)\n",
    "rescaled_dist = 1/(1 + euclidean_dist)\n",
    "rescaled_dist"
   ]
  },
  {
   "cell_type": "code",
   "execution_count": 15,
   "metadata": {},
   "outputs": [
    {
     "data": {
      "text/html": [
       "<div>\n",
       "<style scoped>\n",
       "    .dataframe tbody tr th:only-of-type {\n",
       "        vertical-align: middle;\n",
       "    }\n",
       "\n",
       "    .dataframe tbody tr th {\n",
       "        vertical-align: top;\n",
       "    }\n",
       "\n",
       "    .dataframe thead th {\n",
       "        text-align: right;\n",
       "    }\n",
       "</style>\n",
       "<table border=\"1\" class=\"dataframe\">\n",
       "  <thead>\n",
       "    <tr style=\"text-align: right;\">\n",
       "      <th></th>\n",
       "      <th>Claudia Puig</th>\n",
       "      <th>Gene Seymour</th>\n",
       "      <th>Jack Matthews</th>\n",
       "      <th>Lisa Rose</th>\n",
       "      <th>Michael Phillips</th>\n",
       "      <th>Mick LaSalle</th>\n",
       "      <th>Toby Segaran</th>\n",
       "    </tr>\n",
       "  </thead>\n",
       "  <tbody>\n",
       "    <tr>\n",
       "      <th>Claudia Puig</th>\n",
       "      <td>1.000000</td>\n",
       "      <td>0.197550</td>\n",
       "      <td>0.174112</td>\n",
       "      <td>0.252650</td>\n",
       "      <td>0.163306</td>\n",
       "      <td>0.212400</td>\n",
       "      <td>0.149234</td>\n",
       "    </tr>\n",
       "    <tr>\n",
       "      <th>Gene Seymour</th>\n",
       "      <td>0.197550</td>\n",
       "      <td>1.000000</td>\n",
       "      <td>0.348331</td>\n",
       "      <td>0.277926</td>\n",
       "      <td>0.185615</td>\n",
       "      <td>0.264279</td>\n",
       "      <td>0.155487</td>\n",
       "    </tr>\n",
       "    <tr>\n",
       "      <th>Jack Matthews</th>\n",
       "      <td>0.174112</td>\n",
       "      <td>0.348331</td>\n",
       "      <td>1.000000</td>\n",
       "      <td>0.218784</td>\n",
       "      <td>0.180011</td>\n",
       "      <td>0.238007</td>\n",
       "      <td>0.165296</td>\n",
       "    </tr>\n",
       "    <tr>\n",
       "      <th>Lisa Rose</th>\n",
       "      <td>0.252650</td>\n",
       "      <td>0.277926</td>\n",
       "      <td>0.218784</td>\n",
       "      <td>1.000000</td>\n",
       "      <td>0.180907</td>\n",
       "      <td>0.414214</td>\n",
       "      <td>0.159545</td>\n",
       "    </tr>\n",
       "    <tr>\n",
       "      <th>Michael Phillips</th>\n",
       "      <td>0.163306</td>\n",
       "      <td>0.185615</td>\n",
       "      <td>0.180011</td>\n",
       "      <td>0.180907</td>\n",
       "      <td>1.000000</td>\n",
       "      <td>0.207992</td>\n",
       "      <td>0.154934</td>\n",
       "    </tr>\n",
       "  </tbody>\n",
       "</table>\n",
       "</div>"
      ],
      "text/plain": [
       "                  Claudia Puig  Gene Seymour  Jack Matthews  Lisa Rose  \\\n",
       "Claudia Puig          1.000000      0.197550       0.174112   0.252650   \n",
       "Gene Seymour          0.197550      1.000000       0.348331   0.277926   \n",
       "Jack Matthews         0.174112      0.348331       1.000000   0.218784   \n",
       "Lisa Rose             0.252650      0.277926       0.218784   1.000000   \n",
       "Michael Phillips      0.163306      0.185615       0.180011   0.180907   \n",
       "\n",
       "                  Michael Phillips  Mick LaSalle  Toby Segaran  \n",
       "Claudia Puig              0.163306      0.212400      0.149234  \n",
       "Gene Seymour              0.185615      0.264279      0.155487  \n",
       "Jack Matthews             0.180011      0.238007      0.165296  \n",
       "Lisa Rose                 0.180907      0.414214      0.159545  \n",
       "Michael Phillips          1.000000      0.207992      0.154934  "
      ]
     },
     "execution_count": 15,
     "metadata": {},
     "output_type": "execute_result"
    }
   ],
   "source": [
    "user_user = pd.DataFrame(rescaled_dist, index=user_list, columns=user_list)\n",
    "user_user.head(5)"
   ]
  },
  {
   "cell_type": "markdown",
   "metadata": {},
   "source": [
    "#### Convert Results into Stacked Form"
   ]
  },
  {
   "cell_type": "code",
   "execution_count": 16,
   "metadata": {},
   "outputs": [
    {
     "data": {
      "text/html": [
       "<div>\n",
       "<style scoped>\n",
       "    .dataframe tbody tr th:only-of-type {\n",
       "        vertical-align: middle;\n",
       "    }\n",
       "\n",
       "    .dataframe tbody tr th {\n",
       "        vertical-align: top;\n",
       "    }\n",
       "\n",
       "    .dataframe thead th {\n",
       "        text-align: right;\n",
       "    }\n",
       "</style>\n",
       "<table border=\"1\" class=\"dataframe\">\n",
       "  <thead>\n",
       "    <tr style=\"text-align: right;\">\n",
       "      <th></th>\n",
       "      <th>level_0</th>\n",
       "      <th>level_1</th>\n",
       "      <th>dist</th>\n",
       "    </tr>\n",
       "  </thead>\n",
       "  <tbody>\n",
       "    <tr>\n",
       "      <th>0</th>\n",
       "      <td>Claudia Puig</td>\n",
       "      <td>Claudia Puig</td>\n",
       "      <td>1.000000</td>\n",
       "    </tr>\n",
       "    <tr>\n",
       "      <th>1</th>\n",
       "      <td>Claudia Puig</td>\n",
       "      <td>Gene Seymour</td>\n",
       "      <td>0.197550</td>\n",
       "    </tr>\n",
       "    <tr>\n",
       "      <th>2</th>\n",
       "      <td>Claudia Puig</td>\n",
       "      <td>Jack Matthews</td>\n",
       "      <td>0.174112</td>\n",
       "    </tr>\n",
       "    <tr>\n",
       "      <th>3</th>\n",
       "      <td>Claudia Puig</td>\n",
       "      <td>Lisa Rose</td>\n",
       "      <td>0.252650</td>\n",
       "    </tr>\n",
       "    <tr>\n",
       "      <th>4</th>\n",
       "      <td>Claudia Puig</td>\n",
       "      <td>Michael Phillips</td>\n",
       "      <td>0.163306</td>\n",
       "    </tr>\n",
       "  </tbody>\n",
       "</table>\n",
       "</div>"
      ],
      "text/plain": [
       "        level_0           level_1      dist\n",
       "0  Claudia Puig      Claudia Puig  1.000000\n",
       "1  Claudia Puig      Gene Seymour  0.197550\n",
       "2  Claudia Puig     Jack Matthews  0.174112\n",
       "3  Claudia Puig         Lisa Rose  0.252650\n",
       "4  Claudia Puig  Michael Phillips  0.163306"
      ]
     },
     "execution_count": 16,
     "metadata": {},
     "output_type": "execute_result"
    }
   ],
   "source": [
    "user_stacked = user_user.stack().reset_index(drop=False).rename(columns={0:'dist'})\n",
    "user_stacked.head(5)"
   ]
  },
  {
   "cell_type": "markdown",
   "metadata": {},
   "source": [
    "#### Sort rows by distance"
   ]
  },
  {
   "cell_type": "code",
   "execution_count": 17,
   "metadata": {},
   "outputs": [],
   "source": [
    "user_sorted = user_stacked.groupby(['level_0']).apply(lambda col: col.sort_values([\"dist\"], ascending=False))\n",
    "user_sorted = user_sorted.reset_index(drop=True)"
   ]
  },
  {
   "cell_type": "markdown",
   "metadata": {},
   "source": [
    "#### Remove distances between an User with Itself"
   ]
  },
  {
   "cell_type": "code",
   "execution_count": 18,
   "metadata": {},
   "outputs": [
    {
     "data": {
      "text/html": [
       "<div>\n",
       "<style scoped>\n",
       "    .dataframe tbody tr th:only-of-type {\n",
       "        vertical-align: middle;\n",
       "    }\n",
       "\n",
       "    .dataframe tbody tr th {\n",
       "        vertical-align: top;\n",
       "    }\n",
       "\n",
       "    .dataframe thead th {\n",
       "        text-align: right;\n",
       "    }\n",
       "</style>\n",
       "<table border=\"1\" class=\"dataframe\">\n",
       "  <thead>\n",
       "    <tr style=\"text-align: right;\">\n",
       "      <th></th>\n",
       "      <th>level_0</th>\n",
       "      <th>level_1</th>\n",
       "      <th>dist</th>\n",
       "    </tr>\n",
       "  </thead>\n",
       "  <tbody>\n",
       "    <tr>\n",
       "      <th>0</th>\n",
       "      <td>Claudia Puig</td>\n",
       "      <td>Lisa Rose</td>\n",
       "      <td>0.252650</td>\n",
       "    </tr>\n",
       "    <tr>\n",
       "      <th>1</th>\n",
       "      <td>Claudia Puig</td>\n",
       "      <td>Mick LaSalle</td>\n",
       "      <td>0.212400</td>\n",
       "    </tr>\n",
       "    <tr>\n",
       "      <th>2</th>\n",
       "      <td>Claudia Puig</td>\n",
       "      <td>Gene Seymour</td>\n",
       "      <td>0.197550</td>\n",
       "    </tr>\n",
       "    <tr>\n",
       "      <th>3</th>\n",
       "      <td>Claudia Puig</td>\n",
       "      <td>Jack Matthews</td>\n",
       "      <td>0.174112</td>\n",
       "    </tr>\n",
       "    <tr>\n",
       "      <th>4</th>\n",
       "      <td>Claudia Puig</td>\n",
       "      <td>Michael Phillips</td>\n",
       "      <td>0.163306</td>\n",
       "    </tr>\n",
       "  </tbody>\n",
       "</table>\n",
       "</div>"
      ],
      "text/plain": [
       "        level_0           level_1      dist\n",
       "0  Claudia Puig         Lisa Rose  0.252650\n",
       "1  Claudia Puig      Mick LaSalle  0.212400\n",
       "2  Claudia Puig      Gene Seymour  0.197550\n",
       "3  Claudia Puig     Jack Matthews  0.174112\n",
       "4  Claudia Puig  Michael Phillips  0.163306"
      ]
     },
     "execution_count": 18,
     "metadata": {},
     "output_type": "execute_result"
    }
   ],
   "source": [
    "user_clipped = user_sorted[ (1.0-user_sorted.dist) > 1.0E-04 ]\n",
    "user_clipped = user_clipped.reset_index(drop=True)\n",
    "user_clipped.head(5)"
   ]
  },
  {
   "cell_type": "markdown",
   "metadata": {},
   "source": [
    "#### Create User Similarity Dictionary to Help Searching"
   ]
  },
  {
   "cell_type": "code",
   "execution_count": 19,
   "metadata": {},
   "outputs": [],
   "source": [
    "euclideanDict = {key:[] for key in user_list}\n",
    "\n",
    "keys = user_clipped['level_0'].to_numpy()\n",
    "vals = user_clipped['level_1'].to_numpy()\n",
    "dist = user_clipped['dist'].to_numpy()\n",
    "\n",
    "for i in range( len(keys) ):\n",
    "    if keys[i] in list(euclideanDict.keys()):\n",
    "        euclideanDict[keys[i]].append( (vals[i], round(dist[i],6) ) )\n",
    "    else:\n",
    "        print('The user is not in the record')\n",
    "        "
   ]
  },
  {
   "cell_type": "code",
   "execution_count": 20,
   "metadata": {},
   "outputs": [],
   "source": [
    "def userSimilarity_euclidean(euclideanDict, search_item):\n",
    "    if search_item in list(euclideanDict.keys()):\n",
    "        theValue =  euclideanDict[search_item]          # returning the entire list\n",
    "        # theValue =  euclideanDict[search_item][0:5]   # returning the top five of list   \n",
    "        return theValue\n",
    "    else:\n",
    "        print('The user is not in the record')"
   ]
  },
  {
   "cell_type": "code",
   "execution_count": 21,
   "metadata": {},
   "outputs": [
    {
     "data": {
      "text/plain": [
       "[('Mick LaSalle', 0.414214),\n",
       " ('Gene Seymour', 0.277926),\n",
       " ('Claudia Puig', 0.25265),\n",
       " ('Jack Matthews', 0.218784),\n",
       " ('Michael Phillips', 0.180907),\n",
       " ('Toby Segaran', 0.159545)]"
      ]
     },
     "execution_count": 21,
     "metadata": {},
     "output_type": "execute_result"
    }
   ],
   "source": [
    "userA = 'Lisa Rose'\n",
    "user_weight = userSimilarity_euclidean(euclideanDict, userA)\n",
    "user_weight"
   ]
  },
  {
   "cell_type": "code",
   "execution_count": 22,
   "metadata": {},
   "outputs": [],
   "source": [
    "\"\"\"Clean Workspace\"\"\"\n",
    "del user_user, user_stacked, user_sorted"
   ]
  },
  {
   "cell_type": "markdown",
   "metadata": {},
   "source": [
    "----------------------------------------------------"
   ]
  },
  {
   "cell_type": "markdown",
   "metadata": {},
   "source": [
    "## Part 1 : User Similarity Measure\n",
    "### Method 2 : Pearson Correlation among Critics"
   ]
  },
  {
   "cell_type": "code",
   "execution_count": 23,
   "metadata": {},
   "outputs": [
    {
     "data": {
      "text/plain": [
       "array([[1.    , 0.5294, 0.4729, 0.7575, 0.2853, 0.5739, 0.4757],\n",
       "       [0.5294, 1.    , 0.9738, 0.7023, 0.4343, 0.7071, 0.7075],\n",
       "       [0.4729, 0.9738, 1.    , 0.6576, 0.505 , 0.7513, 0.7025],\n",
       "       [0.7575, 0.7023, 0.6576, 1.    , 0.2099, 0.9006, 0.5369],\n",
       "       [0.2853, 0.4343, 0.505 , 0.2099, 1.    , 0.4561, 0.3693],\n",
       "       [0.5739, 0.7071, 0.7513, 0.9006, 0.4561, 1.    , 0.5804],\n",
       "       [0.4757, 0.7075, 0.7025, 0.5369, 0.3693, 0.5804, 1.    ]])"
      ]
     },
     "execution_count": 23,
     "metadata": {},
     "output_type": "execute_result"
    }
   ],
   "source": [
    "pearson_dist = np.corrcoef(utility.values)\n",
    "pearson_dist"
   ]
  },
  {
   "cell_type": "code",
   "execution_count": 24,
   "metadata": {},
   "outputs": [
    {
     "data": {
      "text/html": [
       "<div>\n",
       "<style scoped>\n",
       "    .dataframe tbody tr th:only-of-type {\n",
       "        vertical-align: middle;\n",
       "    }\n",
       "\n",
       "    .dataframe tbody tr th {\n",
       "        vertical-align: top;\n",
       "    }\n",
       "\n",
       "    .dataframe thead th {\n",
       "        text-align: right;\n",
       "    }\n",
       "</style>\n",
       "<table border=\"1\" class=\"dataframe\">\n",
       "  <thead>\n",
       "    <tr style=\"text-align: right;\">\n",
       "      <th></th>\n",
       "      <th>Claudia Puig</th>\n",
       "      <th>Gene Seymour</th>\n",
       "      <th>Jack Matthews</th>\n",
       "      <th>Lisa Rose</th>\n",
       "      <th>Michael Phillips</th>\n",
       "      <th>Mick LaSalle</th>\n",
       "      <th>Toby Segaran</th>\n",
       "    </tr>\n",
       "  </thead>\n",
       "  <tbody>\n",
       "    <tr>\n",
       "      <th>Claudia Puig</th>\n",
       "      <td>1.000000</td>\n",
       "      <td>0.529426</td>\n",
       "      <td>0.472908</td>\n",
       "      <td>0.757476</td>\n",
       "      <td>0.285299</td>\n",
       "      <td>0.573944</td>\n",
       "      <td>0.475731</td>\n",
       "    </tr>\n",
       "    <tr>\n",
       "      <th>Gene Seymour</th>\n",
       "      <td>0.529426</td>\n",
       "      <td>1.000000</td>\n",
       "      <td>0.973789</td>\n",
       "      <td>0.702260</td>\n",
       "      <td>0.434340</td>\n",
       "      <td>0.707141</td>\n",
       "      <td>0.707452</td>\n",
       "    </tr>\n",
       "    <tr>\n",
       "      <th>Jack Matthews</th>\n",
       "      <td>0.472908</td>\n",
       "      <td>0.973789</td>\n",
       "      <td>1.000000</td>\n",
       "      <td>0.657584</td>\n",
       "      <td>0.504987</td>\n",
       "      <td>0.751260</td>\n",
       "      <td>0.702479</td>\n",
       "    </tr>\n",
       "    <tr>\n",
       "      <th>Lisa Rose</th>\n",
       "      <td>0.757476</td>\n",
       "      <td>0.702260</td>\n",
       "      <td>0.657584</td>\n",
       "      <td>1.000000</td>\n",
       "      <td>0.209933</td>\n",
       "      <td>0.900552</td>\n",
       "      <td>0.536855</td>\n",
       "    </tr>\n",
       "    <tr>\n",
       "      <th>Michael Phillips</th>\n",
       "      <td>0.285299</td>\n",
       "      <td>0.434340</td>\n",
       "      <td>0.504987</td>\n",
       "      <td>0.209933</td>\n",
       "      <td>1.000000</td>\n",
       "      <td>0.456148</td>\n",
       "      <td>0.369321</td>\n",
       "    </tr>\n",
       "  </tbody>\n",
       "</table>\n",
       "</div>"
      ],
      "text/plain": [
       "                  Claudia Puig  Gene Seymour  Jack Matthews  Lisa Rose  \\\n",
       "Claudia Puig          1.000000      0.529426       0.472908   0.757476   \n",
       "Gene Seymour          0.529426      1.000000       0.973789   0.702260   \n",
       "Jack Matthews         0.472908      0.973789       1.000000   0.657584   \n",
       "Lisa Rose             0.757476      0.702260       0.657584   1.000000   \n",
       "Michael Phillips      0.285299      0.434340       0.504987   0.209933   \n",
       "\n",
       "                  Michael Phillips  Mick LaSalle  Toby Segaran  \n",
       "Claudia Puig              0.285299      0.573944      0.475731  \n",
       "Gene Seymour              0.434340      0.707141      0.707452  \n",
       "Jack Matthews             0.504987      0.751260      0.702479  \n",
       "Lisa Rose                 0.209933      0.900552      0.536855  \n",
       "Michael Phillips          1.000000      0.456148      0.369321  "
      ]
     },
     "execution_count": 24,
     "metadata": {},
     "output_type": "execute_result"
    }
   ],
   "source": [
    "user_user = pd.DataFrame(pearson_dist, index=user_list, columns=user_list)\n",
    "user_user.head(5)"
   ]
  },
  {
   "cell_type": "markdown",
   "metadata": {},
   "source": [
    "#### Convert Results into Stacked Form"
   ]
  },
  {
   "cell_type": "code",
   "execution_count": 25,
   "metadata": {},
   "outputs": [
    {
     "data": {
      "text/html": [
       "<div>\n",
       "<style scoped>\n",
       "    .dataframe tbody tr th:only-of-type {\n",
       "        vertical-align: middle;\n",
       "    }\n",
       "\n",
       "    .dataframe tbody tr th {\n",
       "        vertical-align: top;\n",
       "    }\n",
       "\n",
       "    .dataframe thead th {\n",
       "        text-align: right;\n",
       "    }\n",
       "</style>\n",
       "<table border=\"1\" class=\"dataframe\">\n",
       "  <thead>\n",
       "    <tr style=\"text-align: right;\">\n",
       "      <th></th>\n",
       "      <th>level_0</th>\n",
       "      <th>level_1</th>\n",
       "      <th>dist</th>\n",
       "    </tr>\n",
       "  </thead>\n",
       "  <tbody>\n",
       "    <tr>\n",
       "      <th>0</th>\n",
       "      <td>Claudia Puig</td>\n",
       "      <td>Claudia Puig</td>\n",
       "      <td>1.000000</td>\n",
       "    </tr>\n",
       "    <tr>\n",
       "      <th>1</th>\n",
       "      <td>Claudia Puig</td>\n",
       "      <td>Gene Seymour</td>\n",
       "      <td>0.529426</td>\n",
       "    </tr>\n",
       "    <tr>\n",
       "      <th>2</th>\n",
       "      <td>Claudia Puig</td>\n",
       "      <td>Jack Matthews</td>\n",
       "      <td>0.472908</td>\n",
       "    </tr>\n",
       "    <tr>\n",
       "      <th>3</th>\n",
       "      <td>Claudia Puig</td>\n",
       "      <td>Lisa Rose</td>\n",
       "      <td>0.757476</td>\n",
       "    </tr>\n",
       "    <tr>\n",
       "      <th>4</th>\n",
       "      <td>Claudia Puig</td>\n",
       "      <td>Michael Phillips</td>\n",
       "      <td>0.285299</td>\n",
       "    </tr>\n",
       "  </tbody>\n",
       "</table>\n",
       "</div>"
      ],
      "text/plain": [
       "        level_0           level_1      dist\n",
       "0  Claudia Puig      Claudia Puig  1.000000\n",
       "1  Claudia Puig      Gene Seymour  0.529426\n",
       "2  Claudia Puig     Jack Matthews  0.472908\n",
       "3  Claudia Puig         Lisa Rose  0.757476\n",
       "4  Claudia Puig  Michael Phillips  0.285299"
      ]
     },
     "execution_count": 25,
     "metadata": {},
     "output_type": "execute_result"
    }
   ],
   "source": [
    "user_stacked = user_user.stack().reset_index(drop=False).rename(columns={0:'dist'})\n",
    "user_stacked.head(5)"
   ]
  },
  {
   "cell_type": "markdown",
   "metadata": {},
   "source": [
    "#### Sort rows by distance "
   ]
  },
  {
   "cell_type": "code",
   "execution_count": 26,
   "metadata": {},
   "outputs": [],
   "source": [
    "user_sorted = user_stacked.groupby(['level_0']).apply(lambda col: col.sort_values([\"dist\"], ascending=False))\n",
    "user_sorted = user_sorted.reset_index(drop=True)"
   ]
  },
  {
   "cell_type": "markdown",
   "metadata": {},
   "source": [
    "#### Remove distances between an User with Itself"
   ]
  },
  {
   "cell_type": "code",
   "execution_count": 27,
   "metadata": {},
   "outputs": [
    {
     "data": {
      "text/html": [
       "<div>\n",
       "<style scoped>\n",
       "    .dataframe tbody tr th:only-of-type {\n",
       "        vertical-align: middle;\n",
       "    }\n",
       "\n",
       "    .dataframe tbody tr th {\n",
       "        vertical-align: top;\n",
       "    }\n",
       "\n",
       "    .dataframe thead th {\n",
       "        text-align: right;\n",
       "    }\n",
       "</style>\n",
       "<table border=\"1\" class=\"dataframe\">\n",
       "  <thead>\n",
       "    <tr style=\"text-align: right;\">\n",
       "      <th></th>\n",
       "      <th>level_0</th>\n",
       "      <th>level_1</th>\n",
       "      <th>dist</th>\n",
       "    </tr>\n",
       "  </thead>\n",
       "  <tbody>\n",
       "    <tr>\n",
       "      <th>0</th>\n",
       "      <td>Claudia Puig</td>\n",
       "      <td>Lisa Rose</td>\n",
       "      <td>0.757476</td>\n",
       "    </tr>\n",
       "    <tr>\n",
       "      <th>1</th>\n",
       "      <td>Claudia Puig</td>\n",
       "      <td>Mick LaSalle</td>\n",
       "      <td>0.573944</td>\n",
       "    </tr>\n",
       "    <tr>\n",
       "      <th>2</th>\n",
       "      <td>Claudia Puig</td>\n",
       "      <td>Gene Seymour</td>\n",
       "      <td>0.529426</td>\n",
       "    </tr>\n",
       "    <tr>\n",
       "      <th>3</th>\n",
       "      <td>Claudia Puig</td>\n",
       "      <td>Toby Segaran</td>\n",
       "      <td>0.475731</td>\n",
       "    </tr>\n",
       "    <tr>\n",
       "      <th>4</th>\n",
       "      <td>Claudia Puig</td>\n",
       "      <td>Jack Matthews</td>\n",
       "      <td>0.472908</td>\n",
       "    </tr>\n",
       "  </tbody>\n",
       "</table>\n",
       "</div>"
      ],
      "text/plain": [
       "        level_0        level_1      dist\n",
       "0  Claudia Puig      Lisa Rose  0.757476\n",
       "1  Claudia Puig   Mick LaSalle  0.573944\n",
       "2  Claudia Puig   Gene Seymour  0.529426\n",
       "3  Claudia Puig   Toby Segaran  0.475731\n",
       "4  Claudia Puig  Jack Matthews  0.472908"
      ]
     },
     "execution_count": 27,
     "metadata": {},
     "output_type": "execute_result"
    }
   ],
   "source": [
    "user_clipped = user_sorted[ (1.0-user_sorted.dist) > 1.0E-04 ]\n",
    "user_clipped = user_clipped.reset_index(drop=True)\n",
    "user_clipped.head(5)"
   ]
  },
  {
   "cell_type": "markdown",
   "metadata": {},
   "source": [
    "#### Create User Similarity Dictionary to Help Searching\n",
    "for a given test user, this dictionary will store its distances from all other users "
   ]
  },
  {
   "cell_type": "code",
   "execution_count": 28,
   "metadata": {},
   "outputs": [],
   "source": [
    "pearsonDict = {key:[] for key in user_list}\n",
    "\n",
    "keys = user_clipped['level_0'].to_numpy()\n",
    "vals = user_clipped['level_1'].to_numpy()\n",
    "dist = user_clipped['dist'].to_numpy()\n",
    "\n",
    "for i in range( len(keys) ):\n",
    "    if keys[i] in list(pearsonDict.keys()):\n",
    "        pearsonDict[keys[i]].append( (vals[i], round(dist[i],4)) )\n",
    "    else:\n",
    "        print('Pearson Correlation : The item is not in the list')"
   ]
  },
  {
   "cell_type": "code",
   "execution_count": 29,
   "metadata": {},
   "outputs": [],
   "source": [
    "def userSimilarity_pearson(pearsonDict, search_item):\n",
    "    \"\"\"\n",
    "    inputs\n",
    "    search_item  : The key to search userSimilarity dictoinary \n",
    "    pearsonDict  : The userSimilarity dictoinary \n",
    "    \n",
    "    outputs\n",
    "    theValue     : A list, the value corresponding to the key\n",
    "    \"\"\"\n",
    "    \n",
    "    if search_item in list(pearsonDict.keys()):\n",
    "        theValue =  pearsonDict[search_item]          # returning the entire list\n",
    "        # theValue =  pearsonDict[search_item][0:5]   # returning the top five of list      \n",
    "        return theValue\n",
    "    else:\n",
    "        print('Pearson Correlation : The item is not in the record')"
   ]
  },
  {
   "cell_type": "code",
   "execution_count": 30,
   "metadata": {},
   "outputs": [
    {
     "data": {
      "text/plain": [
       "[('Mick LaSalle', 0.9006),\n",
       " ('Claudia Puig', 0.7575),\n",
       " ('Gene Seymour', 0.7023),\n",
       " ('Jack Matthews', 0.6576),\n",
       " ('Toby Segaran', 0.5369),\n",
       " ('Michael Phillips', 0.2099)]"
      ]
     },
     "execution_count": 30,
     "metadata": {},
     "output_type": "execute_result"
    }
   ],
   "source": [
    "userA = 'Lisa Rose'\n",
    "user_weight = userSimilarity_pearson(pearsonDict, userA)\n",
    "user_weight"
   ]
  },
  {
   "cell_type": "code",
   "execution_count": 31,
   "metadata": {},
   "outputs": [],
   "source": [
    "\"\"\"Clean Workspace\"\"\"\n",
    "del user_user, user_stacked, user_sorted, user_clipped"
   ]
  },
  {
   "cell_type": "markdown",
   "metadata": {},
   "source": [
    "-----------------------------------------------------------"
   ]
  },
  {
   "cell_type": "markdown",
   "metadata": {},
   "source": [
    "### Test : User Similarity Dictionary"
   ]
  },
  {
   "cell_type": "code",
   "execution_count": 32,
   "metadata": {},
   "outputs": [
    {
     "data": {
      "text/plain": [
       "[('Mick LaSalle', 0.168793),\n",
       " ('Jack Matthews', 0.165296),\n",
       " ('Lisa Rose', 0.159545),\n",
       " ('Gene Seymour', 0.155487),\n",
       " ('Michael Phillips', 0.154934),\n",
       " ('Claudia Puig', 0.149234)]"
      ]
     },
     "execution_count": 32,
     "metadata": {},
     "output_type": "execute_result"
    }
   ],
   "source": [
    "userA = 'Toby Segaran'\n",
    "userSimilarity_euclidean(euclideanDict, userA)"
   ]
  },
  {
   "cell_type": "code",
   "execution_count": 33,
   "metadata": {},
   "outputs": [
    {
     "data": {
      "text/plain": [
       "[('Mick LaSalle', 0.9006),\n",
       " ('Claudia Puig', 0.7575),\n",
       " ('Gene Seymour', 0.7023),\n",
       " ('Jack Matthews', 0.6576),\n",
       " ('Toby Segaran', 0.5369),\n",
       " ('Michael Phillips', 0.2099)]"
      ]
     },
     "execution_count": 33,
     "metadata": {},
     "output_type": "execute_result"
    }
   ],
   "source": [
    "userA = 'Lisa Rose'\n",
    "userSimilarity_pearson(pearsonDict, userA)"
   ]
  },
  {
   "cell_type": "markdown",
   "metadata": {},
   "source": [
    "------------------------------------------------------------------"
   ]
  },
  {
   "cell_type": "markdown",
   "metadata": {},
   "source": [
    "## Part 2 : Recommend Items"
   ]
  },
  {
   "cell_type": "markdown",
   "metadata": {},
   "source": [
    "#### Steps\n",
    "\n",
    "1. Choose a test user \n",
    "\n",
    "2a. Select the row of the rating matrix corresponding to the test user\n",
    "\n",
    "2b. Select columns (i.e. movies ) with cell value = 0.0. These are the movies that the test user have not seen\n",
    "\n",
    "3. Use test user as the 'key' to find its 'value' from userSimilarity dictionary. The value is a list of (other user name, similary_distance) tuples where the tuples are sorted by similaity_distance\n",
    "\n",
    "4. Get other users and their similarity distances from the sorted list in 3\n",
    "\n",
    "\n",
    "5a. Select rows from the rating matrix corresponding to the user names. \n",
    "The selection of rows depends on similary_distance cutoffs. For example, for the closest \n",
    "3 users the new reduced rating matrix will have 3 rows; for the closest 10 users the new \n",
    "reduced rating matrix will have 10 rows, etc. This cutoff is used when creating the \n",
    "dictionary.\n",
    "\n",
    "5b. Select columns from the rating matrix using 2a, 2b\n",
    "\n",
    "6. Create a new dataframe using 5a,5b\n",
    "\n",
    "7. Find max rating for each of the column (movie) as a series\n",
    "\n",
    "8. Sort the series in descending order of ratings\n",
    "\n",
    "9. Apply threshold to select movies with ratings >= threshold\n",
    "\n",
    "10a. If there is no movies above the threshold, return none\n",
    "\n",
    "10b. If there are movies above the threshold, return recommended movies and their ratings \n",
    "as a dictionary"
   ]
  },
  {
   "cell_type": "markdown",
   "metadata": {},
   "source": [
    "### Method 1 : Recommend Movies using Rating Thresholds"
   ]
  },
  {
   "cell_type": "markdown",
   "metadata": {},
   "source": [
    "#### Recommend Movies with Ratings Higher than 3.0"
   ]
  },
  {
   "cell_type": "code",
   "execution_count": 34,
   "metadata": {},
   "outputs": [],
   "source": [
    "def recommendMovie(data, distanceDict, similarUser, testUser, threshold):\n",
    "    \"\"\"\n",
    "    inputs\n",
    "    data            : Utility matrix\n",
    "    distanceDict    : Dictionary containing Euclidean or Pearson distances among users   \n",
    "    similarUser     : Funtion to find a set of users similar to the test user\n",
    "    testUser        : The user to whom movies whould be recommended to\n",
    "    \n",
    "    outputs\n",
    "    sorted_rating   : movies with ratings >= threshold not watched by the test user\n",
    "    \"\"\"\n",
    "    \n",
    "    # Movies not watched by the test user\n",
    "    not_watched_by_test_user = data.loc[testUser, data.loc[testUser, :] == 0]\n",
    "    not_watched_by_test_user = not_watched_by_test_user.index.to_numpy()\n",
    "    \n",
    "    \n",
    "    # Pre-computed similarity dictionary \n",
    "    # Distance between test user and other users as key,value pairs\n",
    "    user_test_dist = similarUser(distanceDict, testUser)\n",
    "\n",
    "    user_name = np.array( [item[0] for item in user_test_dist] )\n",
    "    user_dist = np.array( [item[1] for item in user_test_dist] )\n",
    "\n",
    "\n",
    "    # if test user have watched all movies in the utility matrix, return none\n",
    "    if len(not_watched_by_test_user)==0:\n",
    "\n",
    "        print(f'The test user : {test_user} : has watched all movies')\n",
    "        print('No recommendation can be provided')\n",
    "        return None\n",
    "    \n",
    "    # if test user have not watched all movies in the utility matrix, return recommendation\n",
    "    else:\n",
    "        # New dataframe with movies not watched by the test user\n",
    "        theData  = data.loc[user_name, not_watched_by_test_user]\n",
    "        \n",
    "        # Find max rating for each of the movie as a series\n",
    "        theSeries = theData.max(axis=0)\n",
    "        \n",
    "        # Sort the series in descending order of ratings\n",
    "        sorted_rating = theSeries.sort_values(ascending=False)\n",
    "        \n",
    "        # Apply threshold to select movies with ratings >= threshold\n",
    "        selected_movies = sorted_rating[ sorted_rating.values >= threshold ]\n",
    "        \n",
    "        # If there is no movies above the threshold \n",
    "        if len(selected_movies) == 0:\n",
    "            # Return none\n",
    "            print(f\"Test user : {test_user}\")\n",
    "            print(f\"No recommendation above the chosen threshold {threshold} can be provided\")\n",
    "            return None\n",
    "        \n",
    "        # If there are movies above the threshold \n",
    "        else:\n",
    "            # Return recommended movies as a dictionary\n",
    "            recommend_movies = selected_movies.to_dict()\n",
    "            return recommend_movies"
   ]
  },
  {
   "cell_type": "code",
   "execution_count": 35,
   "metadata": {},
   "outputs": [
    {
     "name": "stdout",
     "output_type": "stream",
     "text": [
      "Test user : Mick LaSalle\n",
      "No recommendation above the chosen threshold 3 can be provided\n"
     ]
    }
   ],
   "source": [
    "test_list = ['Claudia Puig','Mick LaSalle',\n",
    "             'Lisa Rose','Michael Phillips',\n",
    "             'Gene Seymour','Toby Segaran']\n",
    "\n",
    "test_user = test_list[1]\n",
    "threshold = 3\n",
    "recommendMovie(utility, pearsonDict, userSimilarity_pearson, test_user, threshold)"
   ]
  },
  {
   "cell_type": "markdown",
   "metadata": {},
   "source": [
    "## Part 2 : Recommend Items"
   ]
  },
  {
   "cell_type": "markdown",
   "metadata": {},
   "source": [
    "### Method 2  : Recommend Movies based on Weighted Ratings \n",
    "\n",
    "#### Steps\n",
    "\n",
    "1. Choose a test user \n",
    "\n",
    "2a. Select the row of the rating matrix corresponding to the test user\n",
    "\n",
    "2b. For that row, select columns (i.e. movies ) with cell value = 0.0. These are the movies \n",
    "that the test user have not seen\n",
    "\n",
    "3. Use test user as the 'key' to find its 'value' from userSimilarity dictionary. The value is a list of (other user name, similary_distance) tuples where the tuples are sorted by similaity_distance\n",
    "\n",
    "4. Get other users and their similarity distances from the sorted list in 3\n",
    "\n",
    "5a. Select rows from the rating matrix corresponding to other users. \n",
    "The selection of rows depends on similary_distance cutoffs. For example, for the closest \n",
    "3 users the new reduced rating matrix will have 3 rows; for the closest 10 users the \n",
    "new reduced rating matrix will have 10 rows, etc. This cutoff is used when creating the dictionary.\n",
    "\n",
    "5b. Select columns from the rating matrix using 2a, 2b\n",
    "\n",
    "6. Create a new dataframe using 5a,5b\n",
    "\n",
    "7. Add a new column to dataframe in 6 and name it as 'weights'. The values of this column are user similarity distances from 4b\n",
    "\n",
    "8. Calculate weighted ratings of movies not watched by the test user. This is known as the 'neighborhood based' rating prediction of movies \n",
    "\n",
    "9. Sort weighted ratings\n",
    "\n",
    "10. Return movie and rating as a dictionary"
   ]
  },
  {
   "cell_type": "code",
   "execution_count": 36,
   "metadata": {},
   "outputs": [],
   "source": [
    "def recommendMovie(data, distanceDict, similarUser, testUser, totalRecommend):\n",
    "    \"\"\"\n",
    "    inputs\n",
    "    data            : Rating matrix\n",
    "    distanceDict    : Dictionary containing Euclidean or Pearson distances among users   \n",
    "    similarUser     : Funtion to find a set of users similar to the test user\n",
    "    testUser        : The user to whom movies whould be recommended to\n",
    "    \n",
    "    outputs\n",
    "    sorted_weighted_rating : weighted ratings of the movies not watched by the test user\n",
    "    \"\"\"\n",
    "    \n",
    "    # testUser : It is the label of the index. Not the positon of the index\n",
    "    # Movies not watched by the test user\n",
    "    not_watched_movie = data.loc[ testUser, data.loc[testUser, :]==0 ]\n",
    "    not_watched_list = not_watched_movie.index.to_numpy()\n",
    "    \n",
    "    \n",
    "    # Pre-computed similarity dictionary \n",
    "    # Distance between test user and other users as key,value pairs\n",
    "    user_test_dist = similarUser(distanceDict, testUser)\n",
    "\n",
    "    user_name = np.array( [item[0] for item in user_test_dist] )\n",
    "    user_dist = np.array( [item[1] for item in user_test_dist] )\n",
    "\n",
    "\n",
    "    # if test user have watched all movies, return none\n",
    "    if len(not_watched_list)==0:\n",
    "\n",
    "        print(f'The test user : {test_user} : has watched all movies')\n",
    "        print('No recommendation can be provided')\n",
    "        return None\n",
    "    \n",
    "    # if test user has not watched all movies, return recommendation\n",
    "    else:\n",
    "        # New dataframe with movies not watched by the test user\n",
    "        theData = data.loc[user_name, not_watched_list]\n",
    "\n",
    "        # Add similarity distances as 'weights' to the dataframe  \n",
    "        theData['weights'] = user_dist\n",
    "\n",
    "        # Calculate weighted ratings of the movies \n",
    "        weighted_rating = theData.apply(lambda row : row * row['weights'], axis=1)\n",
    "        weighted_rating = weighted_rating.apply(lambda col : sum(col), axis=0)\n",
    "        weighted_rating = weighted_rating/np.sum( theData['weights'] )\n",
    "        \n",
    "        # Sort weighted ratings in descending order\n",
    "        sorted_weighted_rating = weighted_rating.sort_values( ascending=False)\n",
    "        \n",
    "        # Prettify rating values \n",
    "        sorted_weighted_rating = sorted_weighted_rating.apply(lambda val : round(val,2))\n",
    "        \n",
    "        # Discard the weight column. No longer needed\n",
    "        sorted_weighted_rating = sorted_weighted_rating.drop( index=['weights'], inplace=False)\n",
    "        \n",
    "        # Limit the number of recommended movies\n",
    "        sorted_weighted_rating = sorted_weighted_rating[0:totalRecommend]\n",
    "        \n",
    "        # Return recommended movies as a dictionary\n",
    "        recommend_movies = sorted_weighted_rating.to_dict()\n",
    "        \n",
    "        return recommend_movies"
   ]
  },
  {
   "cell_type": "code",
   "execution_count": 37,
   "metadata": {},
   "outputs": [
    {
     "data": {
      "text/plain": [
       "{'Lulu and the River': 0.41}"
      ]
     },
     "execution_count": 37,
     "metadata": {},
     "output_type": "execute_result"
    }
   ],
   "source": [
    "test_list = ['Claudia Puig','Mick LaSalle',\n",
    "             'Lisa Rose','Michael Phillips',\n",
    "             'Gene Seymour','Toby Segaran']\n",
    "test_user = test_list[1]\n",
    "\n",
    "recommendMovie(utility, pearsonDict, userSimilarity_pearson, test_user, 5)"
   ]
  }
 ],
 "metadata": {
  "kernelspec": {
   "display_name": "Python 3 (ipykernel)",
   "language": "python",
   "name": "python3"
  },
  "language_info": {
   "codemirror_mode": {
    "name": "ipython",
    "version": 3
   },
   "file_extension": ".py",
   "mimetype": "text/x-python",
   "name": "python",
   "nbconvert_exporter": "python",
   "pygments_lexer": "ipython3",
   "version": "3.8.18"
  }
 },
 "nbformat": 4,
 "nbformat_minor": 4
}
