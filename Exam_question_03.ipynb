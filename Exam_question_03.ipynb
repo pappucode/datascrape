{
 "cells": [
  {
   "cell_type": "markdown",
   "id": "7369df4d",
   "metadata": {},
   "source": [
    "We are excited to announce that as part of our internship selection process, we will be conducting a Jupyter Notebook exam to assess your skills and proficiency in programming. Jupyter Notebook is a powerful tool widely used in the field of data science, providing an interactive environment for coding, visualization, and documentation."
   ]
  },
  {
   "cell_type": "markdown",
   "id": "2932767a",
   "metadata": {},
   "source": [
    "Your objective is to write a Python script using a web scraping library (such as BeautifulSoup or Scrapy or other library) to extract relevant information from \"www.pcmag.com\" ."
   ]
  },
  {
   "cell_type": "markdown",
   "id": "f15b2fcb",
   "metadata": {},
   "source": [
    "## Data scraping"
   ]
  },
  {
   "cell_type": "markdown",
   "id": "173c5a55",
   "metadata": {},
   "source": [
    "import all the library"
   ]
  },
  {
   "cell_type": "code",
   "execution_count": 1,
   "id": "e59399c0",
   "metadata": {},
   "outputs": [],
   "source": [
    "# code:\n"
   ]
  },
  {
   "cell_type": "markdown",
   "id": "aaee5fc0",
   "metadata": {},
   "source": [
    "base url: https://www.pcmag.com"
   ]
  },
  {
   "cell_type": "markdown",
   "id": "69cffa83",
   "metadata": {},
   "source": [
    "Extract page start from: https://www.pcmag.com/news"
   ]
  },
  {
   "cell_type": "code",
   "execution_count": 2,
   "id": "996c145b",
   "metadata": {},
   "outputs": [],
   "source": [
    "# code\n"
   ]
  },
  {
   "cell_type": "markdown",
   "id": "a2e9c5f9",
   "metadata": {},
   "source": [
    "**There are over 2000+ pages of Data in this site.**"
   ]
  },
  {
   "cell_type": "markdown",
   "id": "3b304150",
   "metadata": {},
   "source": [
    "**task is to collect everything listed below:**\n",
    "\n",
    "**1.** News Title\n",
    "\n",
    "**2.** Publisher Name\n",
    "\n",
    "**3.** Publish date and time.\n",
    "\n",
    "**4.** Source Link.\n",
    "\n",
    "**5.** News content."
   ]
  },
  {
   "cell_type": "markdown",
   "id": "1dcfecf5",
   "metadata": {},
   "source": [
    "### Warning: Collect data from first 200 pages."
   ]
  },
  {
   "cell_type": "markdown",
   "id": "0bb80687",
   "metadata": {},
   "source": [
    "## Steps:"
   ]
  },
  {
   "cell_type": "markdown",
   "id": "85a38a5c",
   "metadata": {},
   "source": [
    "Use **iteration** or **loop** to go through **each news** and **each page** and collect **(News Title,  Publisher Name, Publish date and time, Source Link, News content)**\n",
    "\n",
    "hint: you can store data in a **DataFrame(pandas)** OR your **preferred library**.\n",
    "\n",
    "caution: all the data must be contained as **organized** where user can tell which news belongs to which publisher.\n"
   ]
  },
  {
   "cell_type": "code",
   "execution_count": 4,
   "id": "2a5f32db",
   "metadata": {},
   "outputs": [],
   "source": [
    "#code\n"
   ]
  },
  {
   "cell_type": "markdown",
   "id": "58032943",
   "metadata": {},
   "source": [
    "Sort your Data accoding to latest **publish_date_and_time**."
   ]
  },
  {
   "cell_type": "code",
   "execution_count": 15,
   "id": "58feadfb",
   "metadata": {},
   "outputs": [],
   "source": [
    "#code\n"
   ]
  },
  {
   "cell_type": "markdown",
   "id": "c010ed58",
   "metadata": {},
   "source": [
    "Save current **Dataframe** as csv in you're local mechine.\n",
    "\n",
    "caution: you must be able to read it in jupyter notebook"
   ]
  },
  {
   "cell_type": "code",
   "execution_count": 16,
   "id": "56075397",
   "metadata": {},
   "outputs": [],
   "source": [
    "#code\n"
   ]
  },
  {
   "cell_type": "markdown",
   "id": "e77a6654",
   "metadata": {},
   "source": [
    "## Data Cleaning"
   ]
  },
  {
   "cell_type": "markdown",
   "id": "aa57c894",
   "metadata": {},
   "source": [
    "import saved data in jupyter notebook"
   ]
  },
  {
   "cell_type": "code",
   "execution_count": 6,
   "id": "628aae98",
   "metadata": {},
   "outputs": [],
   "source": [
    "#code:\n"
   ]
  },
  {
   "cell_type": "markdown",
   "id": "62899c8b",
   "metadata": {},
   "source": [
    "Check if **News_content** contains any **html element** or **other element** which is not suppose to be there."
   ]
  },
  {
   "cell_type": "code",
   "execution_count": 9,
   "id": "be93a908",
   "metadata": {},
   "outputs": [],
   "source": [
    "# Ans: Yes or No\n"
   ]
  },
  {
   "cell_type": "markdown",
   "id": "92a3fd6e",
   "metadata": {},
   "source": [
    "If Answer is Yes then remove those element\n",
    "\n",
    "hint: use library **re** or other library\n",
    "\n",
    "caution: **News_content** must maintain their Integrity"
   ]
  },
  {
   "cell_type": "code",
   "execution_count": 10,
   "id": "c8f1f695",
   "metadata": {},
   "outputs": [],
   "source": [
    "# code:\n"
   ]
  },
  {
   "cell_type": "markdown",
   "id": "f9078093",
   "metadata": {},
   "source": [
    "Check how many **News Info** you've collected"
   ]
  },
  {
   "cell_type": "code",
   "execution_count": 12,
   "id": "c7a75132",
   "metadata": {},
   "outputs": [],
   "source": [
    "#code:\n"
   ]
  },
  {
   "cell_type": "markdown",
   "id": "1ad6af9f",
   "metadata": {},
   "source": [
    "Export the cleaned **DataFrame** into your local mechine"
   ]
  },
  {
   "cell_type": "code",
   "execution_count": null,
   "id": "b86bbb3a",
   "metadata": {},
   "outputs": [],
   "source": []
  },
  {
   "cell_type": "markdown",
   "id": "2d630b14",
   "metadata": {},
   "source": [
    "Explain what you did and what are the challange you've faced doing this exercise..."
   ]
  },
  {
   "cell_type": "code",
   "execution_count": 13,
   "id": "e71f24e9",
   "metadata": {},
   "outputs": [],
   "source": [
    "# Ans:\n"
   ]
  },
  {
   "cell_type": "markdown",
   "id": "9ccef4c2",
   "metadata": {},
   "source": [
    "# what will you submit once exam is over?\n",
    "\n",
    "1. Provide complete jupyter notebook script.\n",
    "2. all the file you got after running the script for the last time.\n",
    "3. zip all the files and submit by following email instruction"
   ]
  },
  {
   "cell_type": "markdown",
   "id": "d2ac5bac",
   "metadata": {},
   "source": []
  }
 ],
 "metadata": {
  "kernelspec": {
   "display_name": "Python 3 (ipykernel)",
   "language": "python",
   "name": "python3"
  },
  "language_info": {
   "codemirror_mode": {
    "name": "ipython",
    "version": 3
   },
   "file_extension": ".py",
   "mimetype": "text/x-python",
   "name": "python",
   "nbconvert_exporter": "python",
   "pygments_lexer": "ipython3",
   "version": "3.8.18"
  }
 },
 "nbformat": 4,
 "nbformat_minor": 5
}
