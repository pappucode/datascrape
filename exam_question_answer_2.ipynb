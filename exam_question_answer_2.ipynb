{
 "cells": [
  {
   "cell_type": "markdown",
   "id": "c906488c",
   "metadata": {},
   "source": [
    "## Step 3: Natural Language Processing"
   ]
  },
  {
   "cell_type": "markdown",
   "id": "2de9cb32",
   "metadata": {},
   "source": [
    "#### Libraries need to be installed\n",
    "1) pip install nltk\n",
    "2) pip install banglanltk"
   ]
  },
  {
   "cell_type": "markdown",
   "id": "1130ac14",
   "metadata": {},
   "source": [
    "#### Import libraries"
   ]
  },
  {
   "cell_type": "code",
   "execution_count": 197,
   "id": "908bc5c8",
   "metadata": {},
   "outputs": [],
   "source": [
    "import nltk\n",
    "import banglanltk as bn\n",
    "import re"
   ]
  },
  {
   "cell_type": "markdown",
   "id": "68db37f1",
   "metadata": {},
   "source": [
    "##### Use this data for further processing\n",
    "গতকাল ডিএসইতে ১ হাজার ১৯০ কোটি ২৬ লাখ টাকার শেয়ার লেনদেন হয়েছে। যা আগের দিন থেকে ৫ কোটি ১৫ লাখ! টাকা কম! গতকাল ডি.এসইতে ১ হাজার ১৯৫ কোটি ৪১ লাখ টাকার শেয়ার লেনদেন হয়েছিল। এর আগের দিন মঙ্গলবার ১ হাজার ১৮৩ কোটি টাকা শেয়ার লেনদেন হয়েছিল। বাজার বিশ্লেষণে দেখা যায় ডিএসই প্রধান সূচক ডিএসইএক্স ১২ পয়েন্ট বেড়ে অবস্হান করছে ৬ হাজার ৩১২ পয়েন্টে। অন্য সূচকগুলোর মধ্যে ডিএসইএস বা শরিয়াহ সূচক ৪ পয়েন্ট বেড়ে অবস্হান করছে ১ হাজার ৩৭৫ পয়েন্টে। এছাড়া ডিএস৩০ সূচক ৬ পয়েন্ট বেড়ে দাঁড়িয়েছে ২ হাজার ২৬৫ পয়েন্টে। দেশের প্রধান এই শেয়ারবাজারে গতকাল ৩৮১টি কোম্পানি ও মিউচুয়াল ফান্ডের শেয়ার লেনদেন হয়েছে। এর মধ্যে দর বেড়েছে ১২৯টির। কমেছে ১৯৯টির এবং অপরিবর্তিত রয়েছে ৫৩টির। অপর বাজার চট্টগ্রাম স্টক  এক্সচেঞ্জে সিএসই সিএসই সার্বিক সূচক সিএসপিআই ৭৮ point বেড়েছে। লেনদেন হয়েছে 21 core টাকার শেয়ার।"
   ]
  },
  {
   "cell_type": "code",
   "execution_count": 216,
   "id": "5b5abc6e",
   "metadata": {},
   "outputs": [],
   "source": [
    "paragraph = \"গতকাল ডিএসইতে ১ হাজার ১৯০ কোটি ২৬ লাখ টাকার শেয়ার লেনদেন হয়েছে। যা আগের দিন থেকে ৫ কোটি ১৫ লাখ টাকা কম! গতকাল ডি.এসইতে ১ হাজার ১৯৫ কোটি ৪১ লাখ টাকার শেয়ার লেনদেন হয়েছিল। এর আগের দিন মঙ্গলবার ১ হাজার ১৮৩ কোটি টাকা শেয়ার লেনদেন হয়েছিল। বাজার বিশ্লেষণে দেখা যায় ডিএসই প্রধান সূচক ডিএসইএক্স ১২ পয়েন্ট বেড়ে অবস্হান করছে ৬ হাজার ৩১২ পয়েন্টে। অন্য সূচকগুলোর মধ্যে ডিএসইএস বা শরিয়াহ সূচক ৪ পয়েন্ট বেড়ে অবস্হান করছে ১ হাজার ৩৭৫ পয়েন্টে। এছাড়া ডিএস৩০ সূচক ৬ পয়েন্ট বেড়ে দাঁড়িয়েছে ২ হাজার ২৬৫ পয়েন্টে। দেশের প্রধান এই শেয়ারবাজারে গতকাল ৩৮১টি কোম্পানি ও মিউচুয়াল ফান্ডের শেয়ার লেনদেন হয়েছে। এর মধ্যে দর বেড়েছে ১২৯টির। কমেছে ১৯৯টির এবং অপরিবর্তিত রয়েছে ৫৩টির। অপর বাজার চট্টগ্রাম স্টক  এক্সচেঞ্জে সিএসই সিএসই সার্বিক সূচক সিএসপিআই ৭৮ point বেড়েছে। লেনদেন হয়েছে 21 core টাকার শেয়ার।\""
   ]
  },
  {
   "cell_type": "markdown",
   "id": "9b689d05",
   "metadata": {},
   "source": [
    "#### Tokenizing the words and provide the length  (use banglanltk library)"
   ]
  },
  {
   "cell_type": "code",
   "execution_count": 217,
   "id": "6caae289",
   "metadata": {},
   "outputs": [
    {
     "name": "stdout",
     "output_type": "stream",
     "text": [
      "['গতকাল', 'ডিএসইতে', '১', 'হাজার', '১৯০', 'কোটি', '২৬', 'লাখ', 'টাকার', 'শেয়ার', 'লেনদেন', 'হয়েছে', 'যা', 'আগের', 'দিন', 'থেকে', '৫', 'কোটি', '১৫', 'লাখ', 'টাকা', 'কম', 'গতকাল', 'ডিএসইতে', '১', 'হাজার', '১৯৫', 'কোটি', '৪১', 'লাখ', 'টাকার', 'শেয়ার', 'লেনদেন', 'হয়েছিল', 'এর', 'আগের', 'দিন', 'মঙ্গলবার', '১', 'হাজার', '১৮৩', 'কোটি', 'টাকা', 'শেয়ার', 'লেনদেন', 'হয়েছিল', 'বাজার', 'বিশ্লেষণে', 'দেখা', 'যায়', 'ডিএসই', 'প্রধান', 'সূচক', 'ডিএসইএক্স', '১২', 'পয়েন্ট', 'বেড়ে', 'অবস্হান', 'করছে', '৬', 'হাজার', '৩১২', 'পয়েন্টে', 'অন্য', 'সূচকগুলোর', 'মধ্যে', 'ডিএসইএস', 'বা', 'শরিয়াহ', 'সূচক', '৪', 'পয়েন্ট', 'বেড়ে', 'অবস্হান', 'করছে', '১', 'হাজার', '৩৭৫', 'পয়েন্টে', 'এছাড়া', 'ডিএস৩০', 'সূচক', '৬', 'পয়েন্ট', 'বেড়ে', 'দাঁড়িয়েছে', '২', 'হাজার', '২৬৫', 'পয়েন্টে', 'দেশের', 'প্রধান', 'এই', 'শেয়ারবাজারে', 'গতকাল', '৩৮১টি', 'কোম্পানি', 'ও', 'মিউচুয়াল', 'ফান্ডের', 'শেয়ার', 'লেনদেন', 'হয়েছে', 'এর', 'মধ্যে', 'দর', 'বেড়েছে', '১২৯টির', 'কমেছে', '১৯৯টির', 'এবং', 'অপরিবর্তিত', 'রয়েছে', '৫৩টির', 'অপর', 'বাজার', 'চট্টগ্রাম', 'স্টক', 'এক্সচেঞ্জে', 'সিএসই', 'সিএসই', 'সার্বিক', 'সূচক', 'সিএসপিআই', '৭৮', 'point', 'বেড়েছে', 'লেনদেন', 'হয়েছে', '21', 'core', 'টাকার', 'শেয়ার']\n"
     ]
    }
   ],
   "source": [
    "tokenized_words = bn.word_tokenize(paragraph)\n",
    "print(tokenized_words)"
   ]
  },
  {
   "cell_type": "code",
   "execution_count": 218,
   "id": "89068345",
   "metadata": {},
   "outputs": [
    {
     "data": {
      "text/plain": [
       "133"
      ]
     },
     "execution_count": 218,
     "metadata": {},
     "output_type": "execute_result"
    }
   ],
   "source": [
    "len(tokenized_words)"
   ]
  },
  {
   "cell_type": "markdown",
   "id": "4da3f6de",
   "metadata": {},
   "source": [
    "**Expected output 133**"
   ]
  },
  {
   "cell_type": "markdown",
   "id": "9e30bb65",
   "metadata": {},
   "source": [
    "#### Tokenizing the Sentences and provide the length  (use banglanltk library)"
   ]
  },
  {
   "cell_type": "code",
   "execution_count": 219,
   "id": "439976f6",
   "metadata": {},
   "outputs": [
    {
     "name": "stdout",
     "output_type": "stream",
     "text": [
      "['গতকাল ডিএসইতে ১ হাজার ১৯০ কোটি ২৬ লাখ টাকার শেয়ার লেনদেন হয়েছে', 'যা আগের দিন থেকে ৫ কোটি ১৫ লাখ টাকা কম', 'গতকাল ডিএসইতে ১ হাজার ১৯৫ কোটি ৪১ লাখ টাকার শেয়ার লেনদেন হয়েছিল', 'এর আগের দিন মঙ্গলবার ১ হাজার ১৮৩ কোটি টাকা শেয়ার লেনদেন হয়েছিল', 'বাজার বিশ্লেষণে দেখা যায় ডিএসই প্রধান সূচক ডিএসইএক্স ১২ পয়েন্ট বেড়ে অবস্হান করছে ৬ হাজার ৩১২ পয়েন্টে', 'অন্য সূচকগুলোর মধ্যে ডিএসইএস বা শরিয়াহ সূচক ৪ পয়েন্ট বেড়ে অবস্হান করছে ১ হাজার ৩৭৫ পয়েন্টে', 'এছাড়া ডিএস৩০ সূচক ৬ পয়েন্ট বেড়ে দাঁড়িয়েছে ২ হাজার ২৬৫ পয়েন্টে', 'দেশের প্রধান এই শেয়ারবাজারে গতকাল ৩৮১টি কোম্পানি ও মিউচুয়াল ফান্ডের শেয়ার লেনদেন হয়েছে', 'এর মধ্যে দর বেড়েছে ১২৯টির', 'কমেছে ১৯৯টির এবং অপরিবর্তিত রয়েছে ৫৩টির', 'অপর বাজার চট্টগ্রাম স্টক এক্সচেঞ্জে সিএসই সিএসই সার্বিক সূচক সিএসপিআই ৭৮ point বেড়েছে', 'লেনদেন হয়েছে 21 core টাকার শেয়ার']\n"
     ]
    }
   ],
   "source": [
    "tokenized_sentences = bn.sent_tokenize(paragraph)\n",
    "print(tokenized_sentences)"
   ]
  },
  {
   "cell_type": "code",
   "execution_count": 220,
   "id": "86f97ef1",
   "metadata": {},
   "outputs": [
    {
     "data": {
      "text/plain": [
       "12"
      ]
     },
     "execution_count": 220,
     "metadata": {},
     "output_type": "execute_result"
    }
   ],
   "source": [
    "len(tokenized_sentences)"
   ]
  },
  {
   "cell_type": "markdown",
   "id": "0dbd87c4",
   "metadata": {},
   "source": [
    "**Expected output 12**"
   ]
  },
  {
   "cell_type": "markdown",
   "id": "ba2d9886",
   "metadata": {},
   "source": [
    "#### Apply stopwords and stemmer in the tokenized sentences.\n",
    "###### Use stopwords from \"from nltk.corpus import stopwords\" and stremmer from  \"banglanltk\" package"
   ]
  },
  {
   "cell_type": "code",
   "execution_count": 203,
   "id": "e244d47b",
   "metadata": {},
   "outputs": [
    {
     "name": "stdout",
     "output_type": "stream",
     "text": [
      "Processed Sentences:\n",
      "['গতকাল ডিএসইত ১ ১৯০ কে ২৬ লাখ টাকার শেয়ার লেনদে হয়', 'আগের ৫ কে ১৫ লাখ', 'টাকা কম', 'গতকাল ডিএসইত ১ ১৯৫ কে ৪১ লাখ টাকার শেয়ার লেনদে হয়', 'আগের মঙ্গলবার ১ ১৮৩ কে টাকা শেয়ার লেনদে হয়', 'বাজার বিশ্লেষণ যায় ডিএসই প্রধা সূচক ডিএসইএক্স ১২ পয়েন্ট বেড় অবস্হা ৬ ৩১২ পয়েন্ট', 'সূচকগুলোর ডিএসইএস শরিয়াহ সূচক ৪ পয়েন্ট বেড় অবস্হা ১ ৩৭৫ পয়েন্ট', 'এছাড়া ডিএস৩০ সূচক ৬ পয়েন্ট বেড় দাঁড় ২ ২৬৫ পয়েন্ট', 'দেশের প্রধা শেয়ারবাজার গতকাল ৩৮১টি কোম্ মিউচুয়াল ফান্ডের শেয়ার লেনদে হয়', 'দর বেড়েছ ১২৯টির', 'কমেছ ১৯৯টির অপরিবর্তিত রয় ৫৩টির', 'অপর বাজার চট্টগ্রাম স্টক এক্সচেঞ্জ সিএসই সিএসই সার্ব সূচক সিএসপিআই ৭৮ point বেড়েছ', 'লেনদে হয় 21 core টাকার শেয়ার']\n"
     ]
    }
   ],
   "source": [
    "from nltk.corpus import stopwords\n",
    "stop_words = set(stopwords.words('bengali'))\n",
    "processed_sentences = []\n",
    "                 \n",
    "for sentence in tokenized_sentences:\n",
    "    words = bn.word_tokenize(sentence)\n",
    "    stemmed_words = [bn.stemmer(word) for word in words if word not in stop_words]\n",
    "    processed_sentence = ' '.join(stemmed_words)\n",
    "    processed_sentences.append(processed_sentence)\n",
    "\n",
    "# Print the results\n",
    "print(\"Processed Sentences:\")\n",
    "print(processed_sentences)    "
   ]
  },
  {
   "cell_type": "markdown",
   "id": "da2aa53d",
   "metadata": {},
   "source": [
    "#### Again tokenize the words in sentences that get after applying stopwords and stemming. And provide the length of the tokenize words."
   ]
  },
  {
   "cell_type": "code",
   "execution_count": 204,
   "id": "fcd26c71",
   "metadata": {},
   "outputs": [
    {
     "name": "stdout",
     "output_type": "stream",
     "text": [
      "['গতকাল', 'ডিএসইত', '১', '১৯০', 'কে', '২৬', 'লাখ', 'টাকার', 'শেয়ার', 'লেনদে', 'হয়', 'আগের', '৫', 'কে', '১৫', 'লাখ', 'টাকা', 'কম', 'গতকাল', 'ডিএসইত', '১', '১৯৫', 'কে', '৪১', 'লাখ', 'টাকার', 'শেয়ার', 'লেনদে', 'হয়', 'আগের', 'মঙ্গলবার', '১', '১৮৩', 'কে', 'টাকা', 'শেয়ার', 'লেনদে', 'হয়', 'বাজার', 'বিশ্লেষণ', 'যায়', 'ডিএসই', 'প্রধা', 'সূচক', 'ডিএসইএক্স', '১২', 'পয়েন্ট', 'বেড়', 'অবস্হা', '৬', '৩১২', 'পয়েন্ট', 'সূচকগুলোর', 'ডিএসইএস', 'শরিয়াহ', 'সূচক', '৪', 'পয়েন্ট', 'বেড়', 'অবস্হা', '১', '৩৭৫', 'পয়েন্ট', 'এছাড়া', 'ডিএস৩০', 'সূচক', '৬', 'পয়েন্ট', 'বেড়', 'দাঁড়', '২', '২৬৫', 'পয়েন্ট', 'দেশের', 'প্রধা', 'শেয়ারবাজার', 'গতকাল', '৩৮১টি', 'কোম্', 'মিউচুয়াল', 'ফান্ডের', 'শেয়ার', 'লেনদে', 'হয়', 'দর', 'বেড়েছ', '১২৯টির', 'কমেছ', '১৯৯টির', 'অপরিবর্তিত', 'রয়', '৫৩টির', 'অপর', 'বাজার', 'চট্টগ্রাম', 'স্টক', 'এক্সচেঞ্জ', 'সিএসই', 'সিএসই', 'সার্ব', 'সূচক', 'সিএসপিআই', '৭৮', 'point', 'বেড়েছ', 'লেনদে', 'হয়', '21', 'core', 'টাকার', 'শেয়ার']\n"
     ]
    }
   ],
   "source": [
    "words = []\n",
    "for sentence in processed_sentences:\n",
    "    tokenized_words = bn.word_tokenize(sentence)\n",
    "    words.extend(tokenized_words)\n",
    "print(words)"
   ]
  },
  {
   "cell_type": "code",
   "execution_count": 206,
   "id": "49c25cf0",
   "metadata": {},
   "outputs": [
    {
     "data": {
      "text/plain": [
       "111"
      ]
     },
     "execution_count": 206,
     "metadata": {},
     "output_type": "execute_result"
    }
   ],
   "source": [
    "len(words)"
   ]
  },
  {
   "cell_type": "markdown",
   "id": "f0abaabd",
   "metadata": {},
   "source": [
    "**Expected output 111**"
   ]
  },
  {
   "cell_type": "markdown",
   "id": "85a2e922",
   "metadata": {},
   "source": [
    "### Stemmer Vs Lemamtization\n",
    "Stemming and lemmatization are both techniques used in natural language processing (NLP) and text mining to reduce words to their base or root form."
   ]
  },
  {
   "cell_type": "code",
   "execution_count": 207,
   "id": "9dd672ae",
   "metadata": {},
   "outputs": [],
   "source": [
    "# What are the differences between Stemmer and Lemmatization(Provive atleast 2 points)\n"
   ]
  },
  {
   "cell_type": "markdown",
   "id": "126638b9",
   "metadata": {},
   "source": [
    "Suppose there are some application where we will use Stemming and Lemmatization text processing technique. Tell Us which text processing technique suitable for these applications. Provide answer like **(# Content Filtering -> Stemming)**"
   ]
  },
  {
   "cell_type": "code",
   "execution_count": 208,
   "id": "aa112e02",
   "metadata": {},
   "outputs": [],
   "source": [
    "# Sentiment analysis ->\n",
    "# Chatbots application -> \n",
    "# Gmail spam classification -> \n",
    "# Question answer -> "
   ]
  },
  {
   "cell_type": "markdown",
   "id": "87f7edc3",
   "metadata": {},
   "source": [
    "### Create Bag of words\n",
    "**1.** Step 1: Cleaning the text that not contain any numeric value, any punctuations etc.(In the give text)\n",
    "\n",
    "**2.** Step 2: Apply stopwords and stemmer again in the clean data.\n",
    "\n",
    "**3.** Step 3: Create Bag of Words (Use \"from sklearn.feature_extraction.text import CountVectorizer\")"
   ]
  },
  {
   "cell_type": "code",
   "execution_count": 209,
   "id": "4445f008",
   "metadata": {},
   "outputs": [
    {
     "name": "stdout",
     "output_type": "stream",
     "text": [
      "['গতকাল ডিএসইত কে লাখ টাকার শেয়ার লেনদে হয়', 'আগের কে লাখ', 'টাকা কম', 'গতকাল ডিএসইত কে লাখ টাকার শেয়ার লেনদে হয়', 'আগের মঙ্গলবার কে টাকা শেয়ার লেনদে হয়', 'বাজার বিশ্লেষণ যায় ডিএসই প্রধা সূচক ডিএসইএক্স পয়েন্ট বেড় অবস্হা পয়েন্ট', 'সূচকগুলোর ডিএসইএস শরিয়াহ সূচক পয়েন্ট বেড় অবস্হা পয়েন্ট', 'এছাড়া ডিএস সূচক পয়েন্ট বেড় দাঁড় পয়েন্ট', 'দেশের প্রধা শেয়ারবাজার গতকাল কোম্ মিউচুয়াল ফান্ডের শেয়ার লেনদে হয়', 'দর বেড়েছ ', 'কমেছ  অপরিবর্তিত রয় ', 'অপর বাজার চট্টগ্রাম স্টক এক্সচেঞ্জ সিএসই সিএসই সার্ব সূচক সিএসপিআই বেড়েছ', 'লেনদে হয় টাকার শেয়ার']\n"
     ]
    }
   ],
   "source": [
    "from nltk.corpus import stopwords\n",
    "stop_words = set(stopwords.words('bengali'))\n",
    "corpus = []\n",
    "\n",
    "for sentence in tokenized_sentences:\n",
    "    words =  re.sub(r'[a-zA-Z0-9.,!?।?|,|.১২৩৪৫৬৭৮৯০-]+', '', sentence)\n",
    "    words = words.split()\n",
    "    stemmed_words = [bn.stemmer(word) for word in words if word not in stop_words]\n",
    "    processed_sentence = ' '.join(stemmed_words)\n",
    "    corpus.append(processed_sentence)\n",
    "print(corpus)"
   ]
  },
  {
   "cell_type": "code",
   "execution_count": 210,
   "id": "42c2c949",
   "metadata": {},
   "outputs": [],
   "source": [
    "from sklearn.feature_extraction.text import CountVectorizer\n",
    "cv = CountVectorizer()\n",
    "X = cv.fit_transform(corpus).toarray()"
   ]
  },
  {
   "cell_type": "code",
   "execution_count": 211,
   "id": "8d398c7f",
   "metadata": {},
   "outputs": [
    {
     "data": {
      "text/plain": [
       "array([[0, 0, 0, 0, 0, 0, 0, 0, 0, 0, 0, 1, 0, 0, 1, 0, 0, 0, 0, 0, 0, 0,\n",
       "        1, 0, 0, 0, 0, 0, 0, 0, 0, 0, 1],\n",
       "       [0, 0, 0, 1, 0, 0, 0, 0, 0, 0, 0, 0, 0, 0, 0, 0, 0, 0, 0, 0, 0, 0,\n",
       "        0, 0, 0, 0, 0, 0, 0, 0, 0, 0, 0],\n",
       "       [0, 0, 0, 0, 0, 0, 0, 0, 0, 0, 0, 0, 0, 1, 0, 0, 0, 0, 0, 0, 0, 0,\n",
       "        0, 0, 0, 0, 0, 0, 0, 0, 0, 0, 0],\n",
       "       [0, 0, 0, 0, 0, 0, 0, 0, 0, 0, 0, 1, 0, 0, 1, 0, 0, 0, 0, 0, 0, 0,\n",
       "        1, 0, 0, 0, 0, 0, 0, 0, 0, 0, 1],\n",
       "       [0, 0, 0, 1, 0, 0, 0, 0, 0, 0, 0, 0, 0, 0, 0, 1, 0, 0, 0, 0, 0, 0,\n",
       "        1, 0, 0, 1, 0, 0, 0, 0, 0, 0, 1],\n",
       "       [0, 1, 0, 0, 0, 0, 0, 0, 1, 1, 0, 0, 0, 0, 0, 0, 1, 0, 0, 0, 0, 0,\n",
       "        0, 2, 0, 0, 1, 0, 0, 0, 1, 0, 0],\n",
       "       [0, 1, 0, 0, 0, 0, 0, 0, 0, 0, 1, 0, 0, 0, 0, 0, 1, 1, 0, 0, 0, 0,\n",
       "        0, 2, 0, 0, 0, 0, 0, 1, 0, 0, 0],\n",
       "       [0, 0, 0, 0, 0, 0, 1, 1, 0, 0, 0, 0, 0, 0, 0, 0, 1, 0, 0, 0, 0, 0,\n",
       "        0, 2, 0, 0, 0, 0, 0, 0, 0, 0, 0],\n",
       "       [0, 0, 0, 0, 1, 0, 0, 0, 0, 0, 0, 0, 0, 0, 1, 0, 0, 0, 0, 0, 0, 0,\n",
       "        1, 0, 0, 0, 1, 1, 0, 0, 0, 0, 1],\n",
       "       [0, 0, 0, 0, 0, 0, 0, 0, 0, 0, 0, 0, 0, 0, 0, 0, 0, 0, 0, 0, 0, 1,\n",
       "        0, 0, 0, 0, 0, 0, 0, 0, 0, 0, 0],\n",
       "       [1, 0, 0, 0, 0, 0, 0, 0, 0, 0, 0, 0, 0, 1, 0, 0, 0, 0, 0, 0, 0, 0,\n",
       "        0, 0, 1, 0, 0, 0, 1, 0, 0, 0, 0],\n",
       "       [1, 0, 1, 0, 0, 1, 0, 0, 2, 0, 0, 0, 1, 0, 0, 0, 1, 0, 1, 1, 1, 0,\n",
       "        0, 0, 0, 0, 0, 0, 0, 0, 0, 1, 0],\n",
       "       [0, 0, 0, 0, 0, 0, 0, 0, 0, 0, 0, 0, 0, 0, 0, 0, 0, 0, 0, 0, 0, 0,\n",
       "        1, 0, 0, 0, 0, 0, 0, 0, 0, 0, 1]], dtype=int64)"
      ]
     },
     "execution_count": 211,
     "metadata": {},
     "output_type": "execute_result"
    }
   ],
   "source": [
    "X"
   ]
  },
  {
   "cell_type": "code",
   "execution_count": 214,
   "id": "08ec17b8",
   "metadata": {},
   "outputs": [
    {
     "data": {
      "text/plain": [
       "array(['অপর', 'অপরিবর্তিত', 'অবস্হা', 'আগের', 'এক্সচেঞ্জ', 'এছাড়া', 'কম',\n",
       "       'কমেছ', 'কে', 'কোম্', 'গতকাল', 'চট্টগ্রাম', 'টাকা', 'টাকার',\n",
       "       'ডিএস', 'ডিএসই', 'ডিএসইএক্স', 'ডিএসইএস', 'ডিএসইত', 'দর', 'দাঁড়',\n",
       "       'দেশের', 'প্রধা', 'পয়েন্ট', 'ফান্ডের', 'বাজার', 'বিশ্লেষণ', 'বেড়',\n",
       "       'বেড়েছ', 'মঙ্গলবার', 'মিউচুয়াল', 'যায়', 'রয়', 'লাখ', 'লেনদে',\n",
       "       'শরিয়াহ', 'শেয়ার', 'শেয়ারবাজার', 'সার্ব', 'সিএসই', 'সিএসপিআই',\n",
       "       'সূচক', 'সূচকগুলোর', 'স্টক', 'হয়'], dtype=object)"
      ]
     },
     "execution_count": 214,
     "metadata": {},
     "output_type": "execute_result"
    }
   ],
   "source": [
    "# Use CountVectorizer with ngram_range set to (1, 1) to treat each word as a feature\n",
    "vectorizer = CountVectorizer(token_pattern=r\"(?u)\\b[0-9a-z][0-9a-z]+\\b|\\b[\\u0980-\\u09FF][\\u0980-\\u09FF]+\")\n",
    "\n",
    "# Fit and transform the data\n",
    "X = vectorizer.fit_transform(corpus)\n",
    "vectorizer.get_feature_names_out()"
   ]
  },
  {
   "cell_type": "markdown",
   "id": "2567b77d",
   "metadata": {},
   "source": [
    "###### Expected output\n",
    "array(['অপর', 'অপরিবর্তিত', 'অবস্হা', 'আগের', 'এক্সচেঞ্জ', 'এছাড়া', 'কম',\n",
    "       'কমেছ', 'কে', 'কোম্', 'গতকাল', 'চট্টগ্রাম', 'টাকা', 'টাকার',\n",
    "       'ডিএস', 'ডিএসই', 'ডিএসইএক্স', 'ডিএসইএস', 'ডিএসইত', 'দর', 'দাঁড়',\n",
    "       'দেশের', 'প্রধা', 'পয়েন্ট', 'ফান্ডের', 'বাজার', 'বিশ্লেষণ', 'বেড়',\n",
    "       'বেড়েছ', 'মঙ্গলবার', 'মিউচুয়াল', 'যায়', 'রয়', 'লাখ', 'লেনদে',\n",
    "       'শরিয়াহ', 'শেয়ার', 'শেয়ারবাজার', 'সার্ব', 'সিএসই', 'সিএসপিআই',\n",
    "       'সূচক', 'সূচকগুলোর', 'স্টক', 'হয়'], dtype=object)"
   ]
  },
  {
   "cell_type": "code",
   "execution_count": null,
   "id": "8e7b520f",
   "metadata": {},
   "outputs": [],
   "source": []
  },
  {
   "cell_type": "code",
   "execution_count": null,
   "id": "79cc5b41",
   "metadata": {},
   "outputs": [],
   "source": []
  },
  {
   "cell_type": "code",
   "execution_count": null,
   "id": "46167b40",
   "metadata": {},
   "outputs": [],
   "source": []
  }
 ],
 "metadata": {
  "kernelspec": {
   "display_name": "Python 3 (ipykernel)",
   "language": "python",
   "name": "python3"
  },
  "language_info": {
   "codemirror_mode": {
    "name": "ipython",
    "version": 3
   },
   "file_extension": ".py",
   "mimetype": "text/x-python",
   "name": "python",
   "nbconvert_exporter": "python",
   "pygments_lexer": "ipython3",
   "version": "3.8.18"
  }
 },
 "nbformat": 4,
 "nbformat_minor": 5
}
