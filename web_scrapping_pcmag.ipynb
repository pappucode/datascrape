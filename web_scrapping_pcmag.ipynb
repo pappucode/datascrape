{
 "cells": [
  {
   "cell_type": "markdown",
   "metadata": {
    "id": "uB3UHh_MtzD2"
   },
   "source": [
    "### Import Necessary libraries"
   ]
  },
  {
   "cell_type": "code",
   "execution_count": 56,
   "metadata": {
    "id": "4RQwI0e9tzD2"
   },
   "outputs": [],
   "source": [
    "# Import Necessary libraries\n",
    "import pandas as pd\n",
    "import numpy as np\n",
    "import re\n",
    "import json\n",
    "import requests\n",
    "import bs4\n",
    "from bs4 import BeautifulSoup"
   ]
  },
  {
   "cell_type": "code",
   "execution_count": 57,
   "metadata": {
    "colab": {
     "base_uri": "https://localhost:8080/"
    },
    "id": "E5t1Eq92tzD4",
    "outputId": "fcb4504c-1bea-4cab-84dd-bac23ba01caa"
   },
   "outputs": [
    {
     "name": "stdout",
     "output_type": "stream",
     "text": [
      "<Response [403]>\n"
     ]
    }
   ],
   "source": [
    "headers = {\n",
    "    'User-Agent': 'Mozilla/5.0 (Windows NT 10.0; Win64; x64) AppleWebKit/537.36 (KHTML, like Gecko) Chrome/91.0.4472.124 Safari/537.36'\n",
    "}\n",
    "\n",
    "url = \"https://www.pcmag.com/news/hack-of-mortgage-lender-mr-cooper-ensnares-147-million-people\"\n",
    "response = requests.get(url)\n",
    "print(response)\n"
   ]
  },
  {
   "cell_type": "code",
   "execution_count": 3,
   "metadata": {
    "colab": {
     "base_uri": "https://localhost:8080/"
    },
    "id": "e6xh-uCjzAuN",
    "outputId": "9bb6165f-ba4c-410b-9c74-f7154465aba8"
   },
   "outputs": [],
   "source": [
    "from bs4 import BeautifulSoup\n",
    "\n",
    "\n",
    "\n",
    "\n",
    "soup = BeautifulSoup(response.text, 'html.parser')\n",
    "\n",
    "article_divs = soup.find_all('div', {'data-id': True})\n",
    "\n",
    "for article_div in article_divs:\n",
    "\n",
    "    title = article_div.find('h2').text\n",
    "    description = article_div.find('p', {'class': 'line-clamp-2'})\n",
    "\n",
    "    if description is None :\n",
    "        description =  'none'\n",
    "    else:\n",
    "      description=description.text\n",
    "\n",
    "    date = article_div.find('span', {'class': 'hidden md:inline-block mr-3'})\n",
    "    if date is None :\n",
    "        date =  'none'\n",
    "    else:\n",
    "      date=date.text.strip()\n",
    "\n",
    "\n",
    "    author = article_div.find('a', {'data-element': 'author-name'})\n",
    "\n",
    "    if author is None :\n",
    "        author =  'none'\n",
    "    else:\n",
    "      author=author.text\n",
    "\n",
    "\n",
    "\n",
    "    print(f'Title: {title}')\n",
    "    print(f'Description: {description}')\n",
    "    print(f'Date: {date}')\n",
    "    print(f'Author: {author}')\n",
    "    print('---')\n",
    "\n"
   ]
  },
  {
   "cell_type": "code",
   "execution_count": null,
   "metadata": {},
   "outputs": [],
   "source": []
  },
  {
   "cell_type": "code",
   "execution_count": null,
   "metadata": {},
   "outputs": [],
   "source": []
  },
  {
   "cell_type": "code",
   "execution_count": null,
   "metadata": {},
   "outputs": [],
   "source": []
  },
  {
   "cell_type": "code",
   "execution_count": null,
   "metadata": {},
   "outputs": [],
   "source": []
  }
 ],
 "metadata": {
  "accelerator": "GPU",
  "colab": {
   "gpuType": "T4",
   "provenance": []
  },
  "kernelspec": {
   "display_name": "Python 3 (ipykernel)",
   "language": "python",
   "name": "python3"
  },
  "language_info": {
   "codemirror_mode": {
    "name": "ipython",
    "version": 3
   },
   "file_extension": ".py",
   "mimetype": "text/x-python",
   "name": "python",
   "nbconvert_exporter": "python",
   "pygments_lexer": "ipython3",
   "version": "3.8.18"
  }
 },
 "nbformat": 4,
 "nbformat_minor": 1
}
