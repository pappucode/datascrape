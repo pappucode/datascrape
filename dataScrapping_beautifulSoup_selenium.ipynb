{
 "cells": [
  {
   "cell_type": "code",
   "execution_count": null,
   "id": "be58a950",
   "metadata": {},
   "outputs": [],
   "source": [
    "import requests\n",
    "from bs4 import BeautifulSoup\n",
    "import re\n",
    "import pandas as pd"
   ]
  },
  {
   "cell_type": "code",
   "execution_count": null,
   "id": "9d3e8fb2",
   "metadata": {},
   "outputs": [],
   "source": [
    "r = requests.get(\"https://webscraper.io/test-sites/e-commerce/allinone\")\n",
    "print(r.status_code)"
   ]
  },
  {
   "cell_type": "markdown",
   "id": "4dc92cdc",
   "metadata": {},
   "source": [
    "1. Informational responses (100 – 199)\n",
    "2. Successful responses (200 – 299)\n",
    "3. Redirection messages (300 – 399)\n",
    "4. Client error responses (400 – 499)\n",
    "5. Server error responses (500 – 599)"
   ]
  },
  {
   "cell_type": "code",
   "execution_count": null,
   "id": "9a26e9cf",
   "metadata": {},
   "outputs": [],
   "source": [
    "soup = BeautifulSoup(r.text, 'lxml')\n",
    "print(soup.prettify())"
   ]
  },
  {
   "cell_type": "code",
   "execution_count": null,
   "id": "764a3042",
   "metadata": {},
   "outputs": [],
   "source": [
    "tag = soup.header\n",
    "attb = tag.attrs\n",
    "print(attb)"
   ]
  },
  {
   "cell_type": "code",
   "execution_count": null,
   "id": "19ee12d2",
   "metadata": {},
   "outputs": [],
   "source": [
    "print(attb['class'])"
   ]
  },
  {
   "cell_type": "code",
   "execution_count": null,
   "id": "04ebba80",
   "metadata": {},
   "outputs": [],
   "source": []
  },
  {
   "cell_type": "code",
   "execution_count": null,
   "id": "ee845119",
   "metadata": {},
   "outputs": [],
   "source": [
    "url = \"https://webscraper.io/test-sites/e-commerce/allinone/computers/tablets\"\n",
    "r1 = requests.get(url)\n",
    "soup = BeautifulSoup(r1.text, 'lxml')"
   ]
  },
  {
   "cell_type": "code",
   "execution_count": null,
   "id": "5ea70ab9",
   "metadata": {},
   "outputs": [],
   "source": [
    "price = soup.find(\"h4\", class_ = \"pull-right price\").text\n",
    "print(price)"
   ]
  },
  {
   "cell_type": "code",
   "execution_count": null,
   "id": "fd526351",
   "metadata": {},
   "outputs": [],
   "source": [
    "description = soup.find(\"p\", class_ = \"description\").text\n",
    "print(description)"
   ]
  },
  {
   "cell_type": "code",
   "execution_count": null,
   "id": "ebb7a500",
   "metadata": {},
   "outputs": [],
   "source": [
    "#get all the data\n",
    "\n",
    "data = soup.find_all(\"div\", class_ = \"thumbnail\")\n",
    "\n",
    "p_name_list = []\n",
    "price_list = []\n",
    "des_list = []\n",
    "review_list = []\n",
    "\n",
    "for datum in data:\n",
    "    \n",
    "    p_name = datum.find(\"a\", class_ = \"title\").text\n",
    "    p_name_list.append(p_name)\n",
    "    \n",
    "    price = datum.find(\"h4\", class_ = \"pull-right price\").text\n",
    "    price_list.append(price)\n",
    "\n",
    "    \n",
    "    description = datum.find(\"p\", class_ = \"description\").text\n",
    "    des_list.append(description)\n",
    "    \n",
    "    review = datum.find(\"p\", class_ = \"pull-right\").text\n",
    "    review_list.append(review)\n",
    "   \n",
    "    \n",
    "print(p_name_list)\n",
    "print()\n",
    "print(price_list)\n",
    "print()\n",
    "print(des_list)\n",
    "print()\n",
    "print(review_list)\n"
   ]
  },
  {
   "cell_type": "code",
   "execution_count": null,
   "id": "4e24b313",
   "metadata": {},
   "outputs": [],
   "source": [
    "df = pd.DataFrame({\"Product Name\":p_name_list, \"Price\":price_list, \"Description\":des_list, \"Reviews\":review_list})\n",
    "df"
   ]
  },
  {
   "cell_type": "code",
   "execution_count": null,
   "id": "fb294e64",
   "metadata": {},
   "outputs": [],
   "source": [
    "df.to_csv(\"product_details.csv\")"
   ]
  },
  {
   "cell_type": "code",
   "execution_count": null,
   "id": "2d8bdaa4",
   "metadata": {},
   "outputs": [],
   "source": [
    "data = soup.find_all(string = re.compile(\"Galaxy\"))\n",
    "print(data)"
   ]
  },
  {
   "cell_type": "code",
   "execution_count": null,
   "id": "077f2a1e",
   "metadata": {},
   "outputs": [],
   "source": [
    "# url = \"https://www.prothomalo.com/\"\n",
    "# r2 = requests.get(url)\n",
    "# if r2.status_code == 200:\n",
    "#     # Parse the HTML content using BeautifulSoup\n",
    "#     soup1 = BeautifulSoup(r2.text, 'html.parser')\n",
    "\n",
    "#     # Find all elements containing the text \"জি-২০\"\n",
    "#     data1 = soup1.find_all(string=re.compile(\"জি-২০\"))\n",
    "\n",
    "#     # Print the found data\n",
    "#     for item in data1:\n",
    "#         print(item)\n",
    "# else:\n",
    "#     print(\"Failed to retrieve the web page. Status code:\", r2.status_code)\n"
   ]
  },
  {
   "cell_type": "code",
   "execution_count": null,
   "id": "0402a4e8",
   "metadata": {},
   "outputs": [],
   "source": [
    "# url = \"https://www.prothomalo.com/\"\n",
    "# r2 = requests.get(url)\n",
    "\n",
    "# # Check if the request was successful (status code 200)\n",
    "# if r2.status_code == 200:\n",
    "#     # Parse the HTML content using BeautifulSoup\n",
    "#     soup1 = BeautifulSoup(r2.text, 'html.parser')\n",
    "\n",
    "#     # Find all elements containing the text \"জি-২০\"\n",
    "#     data1 = soup1.find_all(string=re.compile(\"ইউক্রেন\"))\n",
    "\n",
    "#     # Iterate through the found data and clean it\n",
    "#     for item in data1:\n",
    "#         # Extract the desired text by using string manipulation\n",
    "#         text = item.strip()  # Remove leading and trailing whitespace\n",
    "        \n",
    "#         # Check if the text contains JSON-like data and remove it\n",
    "#         if \"{\" not in text:\n",
    "#             print(text)\n",
    "# else:\n",
    "#     print(\"Failed to retrieve the web page. Status code:\", r2.status_code)\n"
   ]
  },
  {
   "cell_type": "code",
   "execution_count": null,
   "id": "74c8cf9b",
   "metadata": {},
   "outputs": [],
   "source": []
  },
  {
   "cell_type": "markdown",
   "id": "65156995",
   "metadata": {},
   "source": [
    "## Extract Data From the table"
   ]
  },
  {
   "cell_type": "code",
   "execution_count": null,
   "id": "a1384c7d",
   "metadata": {},
   "outputs": [],
   "source": [
    "url = \"https://ticker.finology.in/\"\n",
    "r = requests.get(url)\n",
    "#print(r)\n",
    "soup = BeautifulSoup(r.text, 'lxml')"
   ]
  },
  {
   "cell_type": "code",
   "execution_count": null,
   "id": "627e2fe0",
   "metadata": {},
   "outputs": [],
   "source": [
    "table = soup.find(\"table\", class_ = \"table table-sm table-hover screenertable\")\n",
    "#print(table)\n",
    "\n",
    "titles = []\n",
    "\n",
    "thead = table.find(\"thead\")\n",
    "headers = thead.find_all(\"th\")\n",
    "for i in headers:\n",
    "    res = i.text\n",
    "    titles.append(res)\n",
    "#print(titles)\n",
    "\n",
    "\n",
    "tbody = table.find(\"tbody\")\n",
    "rows = tbody.find_all(\"tr\")\n",
    "# rows = table.find_all(\"tr\")[1:]\n",
    "\n",
    "data_rows = []\n",
    "for i in rows:\n",
    "    data = []\n",
    "    res = i.find_all(\"td\")\n",
    "    for j in res:\n",
    "        row = j.text.strip()\n",
    "        data.append(row)\n",
    "    data_rows.append(data)\n",
    "    #row = [j.text.strip() for j in res]\n",
    "    #print(data)\n",
    "df = pd.DataFrame(data_rows, columns=titles)\n",
    "\n",
    "    # Display the DataFrame\n",
    "print(df)    "
   ]
  },
  {
   "cell_type": "code",
   "execution_count": null,
   "id": "279c44ad",
   "metadata": {},
   "outputs": [],
   "source": [
    "df.to_csv(\"table_data.csv\")"
   ]
  },
  {
   "cell_type": "code",
   "execution_count": null,
   "id": "50c7836b",
   "metadata": {},
   "outputs": [],
   "source": [
    "#https://www.iplt20.com/auction\n",
    "# Scrape Table from another table"
   ]
  },
  {
   "cell_type": "code",
   "execution_count": null,
   "id": "c6f95575",
   "metadata": {},
   "outputs": [],
   "source": [
    "url = \"https://www.iplt20.com/auction\"\n",
    "r = requests.get(url)\n",
    "print(r)"
   ]
  },
  {
   "cell_type": "code",
   "execution_count": null,
   "id": "127e70eb",
   "metadata": {},
   "outputs": [],
   "source": [
    "soup = BeautifulSoup(r.text, 'lxml')\n",
    "table = soup.find(\"table\", class_= \"ih-td-tab auction-tbl\", id=\"t4\")\n",
    "#print(table)\n",
    "\n",
    "titles = []\n",
    "header = table.find(\"thead\")\n",
    "ths = header.find_all(\"th\")\n",
    "for i in ths:\n",
    "    res = i.text\n",
    "    titles.append(res)\n",
    "#print(titles)\n",
    "data_rows = []\n",
    "tbody = table.find(\"tbody\")\n",
    "rows = tbody.find_all(\"tr\")\n",
    "for i in rows:\n",
    "    data = []\n",
    "    res = i.find_all(\"td\")\n",
    "    for j in res:\n",
    "        row = j.text.strip()\n",
    "        data.append(row)\n",
    "    data_rows.append(data)\n",
    "    #print(data)\n",
    "#print(data_rows)\n",
    "\n",
    "df = pd.DataFrame(data_rows, columns=titles)\n",
    "df"
   ]
  },
  {
   "cell_type": "code",
   "execution_count": null,
   "id": "d7165918",
   "metadata": {},
   "outputs": [],
   "source": [
    "df.to_csv(\"ipl_top_buys.csv\")"
   ]
  },
  {
   "cell_type": "code",
   "execution_count": null,
   "id": "07e17f1c",
   "metadata": {},
   "outputs": [],
   "source": []
  },
  {
   "cell_type": "markdown",
   "id": "e80f4d5f",
   "metadata": {},
   "source": [
    "# Scrapping a website that has multiple pages"
   ]
  },
  {
   "cell_type": "code",
   "execution_count": null,
   "id": "b69245e5",
   "metadata": {},
   "outputs": [],
   "source": [
    "url = \"https://www.flipkart.com/search?q=mobile+under+50000&as=on&as-show=on&otracker=AS_Query_OrganicAutoSuggest_4_17_na_na_ps&otracker1=AS_Query_OrganicAutoSuggest_4_17_na_na_ps&as-pos=4&as-type=RECENT&suggestionId=mobile+under+50000&requestId=32183796-8b5b-4706-8497-2494f15f40eb&as-searchtext=mobile%20under%205000\"\n",
    "r = requests.get(url)\n",
    "#print(r)\n",
    "soup = BeautifulSoup(r.text, 'lxml')"
   ]
  },
  {
   "cell_type": "code",
   "execution_count": null,
   "id": "64d45e3a",
   "metadata": {},
   "outputs": [],
   "source": [
    "np = soup.find(\"a\", class_ = \"_1LKTO3\").get('href')\n",
    "print(np)"
   ]
  },
  {
   "cell_type": "code",
   "execution_count": null,
   "id": "4238bef5",
   "metadata": {},
   "outputs": [],
   "source": [
    "base_url = \"https://www.flipkart.com\"\n",
    "url = base_url+np\n",
    "print(url)"
   ]
  },
  {
   "cell_type": "code",
   "execution_count": null,
   "id": "c3d7082e",
   "metadata": {},
   "outputs": [],
   "source": [
    "# Extract Data from Single page\n",
    "url = \"https://www.flipkart.com/search?q=mobile+under+50000&as=on&as-show=on&otracker=AS_Query_OrganicAutoSuggest_4_17_na_na_ps&otracker1=AS_Query_OrganicAutoSuggest_4_17_na_na_ps&as-pos=4&as-type=RECENT&suggestionId=mobile+under+50000&requestId=32183796-8b5b-4706-8497-2494f15f40eb&as-searchtext=mobile+under+5000&page=1\"\n",
    "r = requests.get(url)\n",
    "soup = BeautifulSoup(r.text, 'lxml')\n",
    "\n",
    "names = []\n",
    "prices = []\n",
    "#descs = []\n",
    "reviews = []\n",
    "\n",
    "container = soup.find_all(\"div\", class_ = \"_2kHMtA\")\n",
    "for item in container:\n",
    "    \n",
    "    name = item.find(\"div\", class_ = \"_4rR01T\").text\n",
    "    names.append(name)\n",
    "\n",
    "    price = item.find(\"div\", class_ = \"_30jeq3 _1_WHN1\").text\n",
    "    prices.append(price)\n",
    "    \n",
    "    #desc = item.find(\"div\", class_ = \"fMghEO\")\n",
    "    all_ul = item.find_all('ul', class_=\"_1xgFaf\")\n",
    "    for i in all_ul:\n",
    "        res = i.text\n",
    "        #descs.append(res)\n",
    "        #print(res)\n",
    "    review = item.find(\"span\", class_ = \"_13vcmD\").next_sibling.text\n",
    "    reviews.append(review.strip())    \n",
    "#print(descs)\n",
    "\n",
    "df = pd.DataFrame({\"Producr Name\" : names, \"Prices\": prices, \"Descriptions\" : res, \"Reviews\" : reviews})\n",
    "df"
   ]
  },
  {
   "cell_type": "code",
   "execution_count": null,
   "id": "15890756",
   "metadata": {},
   "outputs": [],
   "source": [
    "#Here I have scraped number of specified pages\n",
    "base_url = \"https://www.flipkart.com\"\n",
    "\n",
    "names = []\n",
    "prices = []\n",
    "#descs = []\n",
    "reviews = []\n",
    "\n",
    "for i in range(1,5):\n",
    "    # Get all the links\n",
    "    container = soup.find_all(\"div\", class_ = \"_2MImiq\")\n",
    "    #urls = container.find_all(\"a\", class_ = \"_1LKTO3\")  \n",
    "\n",
    "    for url_container in container:\n",
    "        anchors = url_container.find_all(\"a\", class_=\"_1LKTO3\")  \n",
    "\n",
    "        for anchor in anchors:\n",
    "            href = anchor.get(\"href\")\n",
    "            \n",
    "           # Split the URL into components based on \"&\"\n",
    "            url_components = href.split('&')\n",
    "            \n",
    "            # Remove the last component \n",
    "            url_components.pop()\n",
    "\n",
    "            # Join the components back together with \"&\" to create the modified URL\n",
    "            new_url = '&'.join(url_components)\n",
    "           \n",
    "\n",
    "        npl = f\"{base_url}{new_url}&page={i}\"\n",
    "        #print(npl)\n",
    "        \n",
    "        rr = requests.get(npl)\n",
    "        #print(rr)\n",
    "        soup1 = BeautifulSoup(rr.text, 'lxml')\n",
    "\n",
    "        container = soup1.find_all(\"div\", class_ = \"_2kHMtA\")\n",
    "        for item in container:\n",
    "\n",
    "            name = item.find(\"div\", class_ = \"_4rR01T\").text\n",
    "            names.append(name)\n",
    "\n",
    "            price = item.find(\"div\", class_ = \"_30jeq3 _1_WHN1\").text\n",
    "            prices.append(price)\n",
    "\n",
    "            #desc = item.find(\"div\", class_ = \"fMghEO\")\n",
    "            all_ul = item.find_all('ul', class_=\"_1xgFaf\")\n",
    "            for i in all_ul:\n",
    "                res = i.text\n",
    "                #descs.append(res)\n",
    "                #print(res)\n",
    "            review = item.find(\"span\", class_ = \"_13vcmD\").next_sibling.text\n",
    "            reviews.append(review.strip())  \n",
    "        \n",
    "df = pd.DataFrame({\"Producr Name\" : names, \"Prices\": prices, \"Descriptions\" : res, \"Reviews\" : reviews})\n",
    "df\n"
   ]
  },
  {
   "cell_type": "code",
   "execution_count": null,
   "id": "f575b9d2",
   "metadata": {},
   "outputs": [],
   "source": [
    "#Another Way to scrape number of specified pages\n",
    "\n",
    "names = []\n",
    "prices = []\n",
    "#descs = []\n",
    "reviews = []\n",
    "\n",
    "for i in range(1,5):\n",
    "    url = \"https://www.flipkart.com/search?q=mobile+under+50000&as=on&as-show=on&otracker=AS_Query_OrganicAutoSuggest_4_17_na_na_ps&otracker1=AS_Query_OrganicAutoSuggest_4_17_na_na_ps&as-pos=4&as-type=RECENT&suggestionId=mobile+under+50000&requestId=32183796-8b5b-4706-8497-2494f15f40eb&as-searchtext=mobile+under+5000&page=\"+str(i)\n",
    "    r = requests.get(url)\n",
    "    soup = BeautifulSoup(r.text, 'lxml')\n",
    "    \n",
    "#     np = soup.find(\"a\", class_ = \"_1LKTO3\").get('href')\n",
    "#     base_url = \"https://www.flipkart.com\"\n",
    "#     url = base_url+np\n",
    "#     print(url)\n",
    "\n",
    "    container = soup.find_all(\"div\", class_ = \"_2kHMtA\")\n",
    "    for item in container:\n",
    "\n",
    "        name = item.find(\"div\", class_ = \"_4rR01T\").text\n",
    "        names.append(name)\n",
    "\n",
    "        price = item.find(\"div\", class_ = \"_30jeq3 _1_WHN1\").text\n",
    "        prices.append(price)\n",
    "\n",
    "        #desc = item.find(\"div\", class_ = \"fMghEO\")\n",
    "        all_ul = item.find_all('ul', class_=\"_1xgFaf\")\n",
    "        for i in all_ul:\n",
    "            res = i.text\n",
    "            #descs.append(res)\n",
    "            #print(res)\n",
    "        review = item.find(\"span\", class_ = \"_13vcmD\").next_sibling.text\n",
    "        reviews.append(review.strip())  \n",
    "        \n",
    "df = pd.DataFrame({\"Producr Name\" : names, \"Prices\": prices, \"Descriptions\" : res, \"Reviews\" : reviews})\n",
    "df"
   ]
  },
  {
   "cell_type": "code",
   "execution_count": null,
   "id": "91d2f8ce",
   "metadata": {},
   "outputs": [],
   "source": [
    "df.to_csv(\"Flip_cart_data.csv\")"
   ]
  },
  {
   "cell_type": "markdown",
   "id": "196d18fc",
   "metadata": {},
   "source": [
    "#### Working With Selinium"
   ]
  },
  {
   "cell_type": "code",
   "execution_count": 5,
   "id": "370ab9c5",
   "metadata": {},
   "outputs": [],
   "source": [
    "from selenium import webdriver\n",
    "from selenium.webdriver.chrome.service import Service\n",
    "from selenium.webdriver.common.keys import Keys\n",
    "import time"
   ]
  },
  {
   "cell_type": "code",
   "execution_count": 12,
   "id": "0ec62691",
   "metadata": {},
   "outputs": [
    {
     "ename": "NoSuchWindowException",
     "evalue": "Message: no such window: target window already closed\nfrom unknown error: web view not found\n  (Session info: chrome=120.0.6099.130)\nStacktrace:\n\tGetHandleVerifier [0x00007FF7E9372142+3514994]\n\t(No symbol) [0x00007FF7E8F90CE2]\n\t(No symbol) [0x00007FF7E8E376AA]\n\t(No symbol) [0x00007FF7E8E10AFD]\n\t(No symbol) [0x00007FF7E8EACB1B]\n\t(No symbol) [0x00007FF7E8EC218F]\n\t(No symbol) [0x00007FF7E8EA5D93]\n\t(No symbol) [0x00007FF7E8E74BDC]\n\t(No symbol) [0x00007FF7E8E75C64]\n\tGetHandleVerifier [0x00007FF7E939E16B+3695259]\n\tGetHandleVerifier [0x00007FF7E93F6737+4057191]\n\tGetHandleVerifier [0x00007FF7E93EE4E3+4023827]\n\tGetHandleVerifier [0x00007FF7E90C04F9+689705]\n\t(No symbol) [0x00007FF7E8F9C048]\n\t(No symbol) [0x00007FF7E8F98044]\n\t(No symbol) [0x00007FF7E8F981C9]\n\t(No symbol) [0x00007FF7E8F888C4]\n\tBaseThreadInitThunk [0x00007FFFC1C47344+20]\n\tRtlUserThreadStart [0x00007FFFC24826B1+33]\n",
     "output_type": "error",
     "traceback": [
      "\u001b[1;31m---------------------------------------------------------------------------\u001b[0m",
      "\u001b[1;31mNoSuchWindowException\u001b[0m                     Traceback (most recent call last)",
      "Cell \u001b[1;32mIn[12], line 7\u001b[0m\n\u001b[0;32m      4\u001b[0m driver\u001b[38;5;241m.\u001b[39mget(\u001b[38;5;124m\"\u001b[39m\u001b[38;5;124mhttps://www.prothomalo.com/\u001b[39m\u001b[38;5;124m\"\u001b[39m)\n\u001b[0;32m      6\u001b[0m time\u001b[38;5;241m.\u001b[39msleep(\u001b[38;5;241m5\u001b[39m)\n\u001b[1;32m----> 7\u001b[0m \u001b[43mdriver\u001b[49m\u001b[38;5;241;43m.\u001b[39;49m\u001b[43mfind_element\u001b[49m\u001b[43m(\u001b[49m\u001b[38;5;124;43m\"\u001b[39;49m\u001b[38;5;124;43mxpath\u001b[39;49m\u001b[38;5;124;43m\"\u001b[39;49m\u001b[43m,\u001b[49m\u001b[43m \u001b[49m\u001b[38;5;124;43m\"\"\"\u001b[39;49m\u001b[38;5;124;43m/html/body/div[1]/header/div/div/div/div/div[2]/nav/ul/li[1]/div/a\u001b[39;49m\u001b[38;5;124;43m\"\"\"\u001b[39;49m\u001b[43m)\u001b[49m\u001b[38;5;241m.\u001b[39mclick()\n\u001b[0;32m      8\u001b[0m time\u001b[38;5;241m.\u001b[39msleep(\u001b[38;5;241m5\u001b[39m)\n\u001b[0;32m      9\u001b[0m driver\u001b[38;5;241m.\u001b[39mfind_element(\u001b[38;5;124m\"\u001b[39m\u001b[38;5;124mxpath\u001b[39m\u001b[38;5;124m\"\u001b[39m, \u001b[38;5;124m\"\"\"\u001b[39m\u001b[38;5;124m/html/body/div[1]/header/div/div/div/div/div[2]/nav/ul/li[6]/div/a\u001b[39m\u001b[38;5;124m\"\"\"\u001b[39m)\u001b[38;5;241m.\u001b[39mclick()\n",
      "File \u001b[1;32m~\\anaconda3\\envs\\bnlp\\lib\\site-packages\\selenium\\webdriver\\remote\\webdriver.py:742\u001b[0m, in \u001b[0;36mWebDriver.find_element\u001b[1;34m(self, by, value)\u001b[0m\n\u001b[0;32m    739\u001b[0m     by \u001b[38;5;241m=\u001b[39m By\u001b[38;5;241m.\u001b[39mCSS_SELECTOR\n\u001b[0;32m    740\u001b[0m     value \u001b[38;5;241m=\u001b[39m \u001b[38;5;124mf\u001b[39m\u001b[38;5;124m'\u001b[39m\u001b[38;5;124m[name=\u001b[39m\u001b[38;5;124m\"\u001b[39m\u001b[38;5;132;01m{\u001b[39;00mvalue\u001b[38;5;132;01m}\u001b[39;00m\u001b[38;5;124m\"\u001b[39m\u001b[38;5;124m]\u001b[39m\u001b[38;5;124m'\u001b[39m\n\u001b[1;32m--> 742\u001b[0m \u001b[38;5;28;01mreturn\u001b[39;00m \u001b[38;5;28;43mself\u001b[39;49m\u001b[38;5;241;43m.\u001b[39;49m\u001b[43mexecute\u001b[49m\u001b[43m(\u001b[49m\u001b[43mCommand\u001b[49m\u001b[38;5;241;43m.\u001b[39;49m\u001b[43mFIND_ELEMENT\u001b[49m\u001b[43m,\u001b[49m\u001b[43m \u001b[49m\u001b[43m{\u001b[49m\u001b[38;5;124;43m\"\u001b[39;49m\u001b[38;5;124;43musing\u001b[39;49m\u001b[38;5;124;43m\"\u001b[39;49m\u001b[43m:\u001b[49m\u001b[43m \u001b[49m\u001b[43mby\u001b[49m\u001b[43m,\u001b[49m\u001b[43m \u001b[49m\u001b[38;5;124;43m\"\u001b[39;49m\u001b[38;5;124;43mvalue\u001b[39;49m\u001b[38;5;124;43m\"\u001b[39;49m\u001b[43m:\u001b[49m\u001b[43m \u001b[49m\u001b[43mvalue\u001b[49m\u001b[43m}\u001b[49m\u001b[43m)\u001b[49m[\u001b[38;5;124m\"\u001b[39m\u001b[38;5;124mvalue\u001b[39m\u001b[38;5;124m\"\u001b[39m]\n",
      "File \u001b[1;32m~\\anaconda3\\envs\\bnlp\\lib\\site-packages\\selenium\\webdriver\\remote\\webdriver.py:348\u001b[0m, in \u001b[0;36mWebDriver.execute\u001b[1;34m(self, driver_command, params)\u001b[0m\n\u001b[0;32m    346\u001b[0m response \u001b[38;5;241m=\u001b[39m \u001b[38;5;28mself\u001b[39m\u001b[38;5;241m.\u001b[39mcommand_executor\u001b[38;5;241m.\u001b[39mexecute(driver_command, params)\n\u001b[0;32m    347\u001b[0m \u001b[38;5;28;01mif\u001b[39;00m response:\n\u001b[1;32m--> 348\u001b[0m     \u001b[38;5;28;43mself\u001b[39;49m\u001b[38;5;241;43m.\u001b[39;49m\u001b[43merror_handler\u001b[49m\u001b[38;5;241;43m.\u001b[39;49m\u001b[43mcheck_response\u001b[49m\u001b[43m(\u001b[49m\u001b[43mresponse\u001b[49m\u001b[43m)\u001b[49m\n\u001b[0;32m    349\u001b[0m     response[\u001b[38;5;124m\"\u001b[39m\u001b[38;5;124mvalue\u001b[39m\u001b[38;5;124m\"\u001b[39m] \u001b[38;5;241m=\u001b[39m \u001b[38;5;28mself\u001b[39m\u001b[38;5;241m.\u001b[39m_unwrap_value(response\u001b[38;5;241m.\u001b[39mget(\u001b[38;5;124m\"\u001b[39m\u001b[38;5;124mvalue\u001b[39m\u001b[38;5;124m\"\u001b[39m, \u001b[38;5;28;01mNone\u001b[39;00m))\n\u001b[0;32m    350\u001b[0m     \u001b[38;5;28;01mreturn\u001b[39;00m response\n",
      "File \u001b[1;32m~\\anaconda3\\envs\\bnlp\\lib\\site-packages\\selenium\\webdriver\\remote\\errorhandler.py:229\u001b[0m, in \u001b[0;36mErrorHandler.check_response\u001b[1;34m(self, response)\u001b[0m\n\u001b[0;32m    227\u001b[0m         alert_text \u001b[38;5;241m=\u001b[39m value[\u001b[38;5;124m\"\u001b[39m\u001b[38;5;124malert\u001b[39m\u001b[38;5;124m\"\u001b[39m]\u001b[38;5;241m.\u001b[39mget(\u001b[38;5;124m\"\u001b[39m\u001b[38;5;124mtext\u001b[39m\u001b[38;5;124m\"\u001b[39m)\n\u001b[0;32m    228\u001b[0m     \u001b[38;5;28;01mraise\u001b[39;00m exception_class(message, screen, stacktrace, alert_text)  \u001b[38;5;66;03m# type: ignore[call-arg]  # mypy is not smart enough here\u001b[39;00m\n\u001b[1;32m--> 229\u001b[0m \u001b[38;5;28;01mraise\u001b[39;00m exception_class(message, screen, stacktrace)\n",
      "\u001b[1;31mNoSuchWindowException\u001b[0m: Message: no such window: target window already closed\nfrom unknown error: web view not found\n  (Session info: chrome=120.0.6099.130)\nStacktrace:\n\tGetHandleVerifier [0x00007FF7E9372142+3514994]\n\t(No symbol) [0x00007FF7E8F90CE2]\n\t(No symbol) [0x00007FF7E8E376AA]\n\t(No symbol) [0x00007FF7E8E10AFD]\n\t(No symbol) [0x00007FF7E8EACB1B]\n\t(No symbol) [0x00007FF7E8EC218F]\n\t(No symbol) [0x00007FF7E8EA5D93]\n\t(No symbol) [0x00007FF7E8E74BDC]\n\t(No symbol) [0x00007FF7E8E75C64]\n\tGetHandleVerifier [0x00007FF7E939E16B+3695259]\n\tGetHandleVerifier [0x00007FF7E93F6737+4057191]\n\tGetHandleVerifier [0x00007FF7E93EE4E3+4023827]\n\tGetHandleVerifier [0x00007FF7E90C04F9+689705]\n\t(No symbol) [0x00007FF7E8F9C048]\n\t(No symbol) [0x00007FF7E8F98044]\n\t(No symbol) [0x00007FF7E8F981C9]\n\t(No symbol) [0x00007FF7E8F888C4]\n\tBaseThreadInitThunk [0x00007FFFC1C47344+20]\n\tRtlUserThreadStart [0x00007FFFC24826B1+33]\n"
     ]
    }
   ],
   "source": [
    "#s = Service(\"C:/Users/Pappu/Desktop/books/chromedriver-win64/chromedriver.exe\")\n",
    "#driver = webdriver.Chrome(service=s)\n",
    "driver = webdriver.Chrome()\n",
    "driver.get(\"https://www.prothomalo.com/\")\n",
    "\n",
    "time.sleep(5)\n",
    "driver.find_element(\"xpath\", \"\"\"/html/body/div[1]/header/div/div/div/div/div[2]/nav/ul/li[1]/div/a\"\"\").click()\n",
    "time.sleep(5)\n",
    "driver.find_element(\"xpath\", \"\"\"/html/body/div[1]/header/div/div/div/div/div[2]/nav/ul/li[6]/div/a\"\"\").click()\n",
    "\n",
    "time.sleep(5)\n",
    "driver.find_element(\"xpath\", \"\"\"/html/body/div[1]/div[5]/div/div[2]/div/div/div[1]/div/div/div[1]/div/div[2]/div/a\"\"\").click()\n",
    "\n",
    "driver.quit()"
   ]
  },
  {
   "cell_type": "code",
   "execution_count": 14,
   "id": "e0b47417",
   "metadata": {},
   "outputs": [],
   "source": [
    "# Take user Input\n",
    "# s = Service(\"C:/Users/Pappu/Desktop/books/chromedriver-win64/chromedriver.exe\")\n",
    "# driver = webdriver.Chrome(service=s)\n",
    "driver = webdriver.Chrome()\n",
    "driver.get(\"https://www.google.com/\")\n",
    "time.sleep(1)\n",
    "\n",
    "search = driver.find_element(\"xpath\", \"\"\"/html/body/div[1]/div[3]/form/div[1]/div[1]/div[1]/div/div[2]/textarea\"\"\")\n",
    "search.send_keys(\"prothom alo\")\n",
    "search.send_keys(Keys.ENTER)"
   ]
  },
  {
   "cell_type": "code",
   "execution_count": 11,
   "id": "85bc56e0",
   "metadata": {},
   "outputs": [
    {
     "ename": "NoSuchElementException",
     "evalue": "Message: no such element: Unable to locate element: {\"method\":\"xpath\",\"selector\":\"/html/body/div[6]/div/div[11]/div[1]/div[2]/div[2]/div/div/div[2]/div[4]/div/div/div/div[1]/div/div/span/a\"}\n  (Session info: chrome=120.0.6099.130); For documentation on this error, please visit: https://www.selenium.dev/documentation/webdriver/troubleshooting/errors#no-such-element-exception\nStacktrace:\n\tGetHandleVerifier [0x00007FF7103E2142+3514994]\n\t(No symbol) [0x00007FF710000CE2]\n\t(No symbol) [0x00007FF70FEA76AA]\n\t(No symbol) [0x00007FF70FEF1860]\n\t(No symbol) [0x00007FF70FEF197C]\n\t(No symbol) [0x00007FF70FF34EE7]\n\t(No symbol) [0x00007FF70FF1602F]\n\t(No symbol) [0x00007FF70FF328F6]\n\t(No symbol) [0x00007FF70FF15D93]\n\t(No symbol) [0x00007FF70FEE4BDC]\n\t(No symbol) [0x00007FF70FEE5C64]\n\tGetHandleVerifier [0x00007FF71040E16B+3695259]\n\tGetHandleVerifier [0x00007FF710466737+4057191]\n\tGetHandleVerifier [0x00007FF71045E4E3+4023827]\n\tGetHandleVerifier [0x00007FF7101304F9+689705]\n\t(No symbol) [0x00007FF71000C048]\n\t(No symbol) [0x00007FF710008044]\n\t(No symbol) [0x00007FF7100081C9]\n\t(No symbol) [0x00007FF70FFF88C4]\n\tBaseThreadInitThunk [0x00007FFFC1C47344+20]\n\tRtlUserThreadStart [0x00007FFFC24826B1+33]\n",
     "output_type": "error",
     "traceback": [
      "\u001b[1;31m---------------------------------------------------------------------------\u001b[0m",
      "\u001b[1;31mNoSuchElementException\u001b[0m                    Traceback (most recent call last)",
      "Cell \u001b[1;32mIn[11], line 12\u001b[0m\n\u001b[0;32m      9\u001b[0m search\u001b[38;5;241m.\u001b[39msend_keys(Keys\u001b[38;5;241m.\u001b[39mENTER)\n\u001b[0;32m     11\u001b[0m time\u001b[38;5;241m.\u001b[39msleep(\u001b[38;5;241m2\u001b[39m)\n\u001b[1;32m---> 12\u001b[0m \u001b[43mdriver\u001b[49m\u001b[38;5;241;43m.\u001b[39;49m\u001b[43mfind_element\u001b[49m\u001b[43m(\u001b[49m\u001b[38;5;124;43m\"\u001b[39;49m\u001b[38;5;124;43mxpath\u001b[39;49m\u001b[38;5;124;43m\"\u001b[39;49m\u001b[43m,\u001b[49m\u001b[43m \u001b[49m\u001b[38;5;124;43m\"\u001b[39;49m\u001b[38;5;124;43m/html/body/div[6]/div/div[11]/div[1]/div[2]/div[2]/div/div/div[2]/div[4]/div/div/div/div[1]/div/div/span/a\u001b[39;49m\u001b[38;5;124;43m\"\u001b[39;49m\u001b[43m)\u001b[49m\u001b[38;5;241m.\u001b[39mclick()\n\u001b[0;32m     14\u001b[0m time\u001b[38;5;241m.\u001b[39msleep(\u001b[38;5;241m2\u001b[39m)\n\u001b[0;32m     15\u001b[0m driver\u001b[38;5;241m.\u001b[39mfind_element(\u001b[38;5;124m\"\u001b[39m\u001b[38;5;124mxpath\u001b[39m\u001b[38;5;124m\"\u001b[39m, \u001b[38;5;124m\"\u001b[39m\u001b[38;5;124m/html/body/div[1]/header/div/div/div/div/div[1]/div[3]/div[1]/a\u001b[39m\u001b[38;5;124m\"\u001b[39m)\u001b[38;5;241m.\u001b[39mclick()\n",
      "File \u001b[1;32m~\\anaconda3\\envs\\bnlp\\lib\\site-packages\\selenium\\webdriver\\remote\\webdriver.py:742\u001b[0m, in \u001b[0;36mWebDriver.find_element\u001b[1;34m(self, by, value)\u001b[0m\n\u001b[0;32m    739\u001b[0m     by \u001b[38;5;241m=\u001b[39m By\u001b[38;5;241m.\u001b[39mCSS_SELECTOR\n\u001b[0;32m    740\u001b[0m     value \u001b[38;5;241m=\u001b[39m \u001b[38;5;124mf\u001b[39m\u001b[38;5;124m'\u001b[39m\u001b[38;5;124m[name=\u001b[39m\u001b[38;5;124m\"\u001b[39m\u001b[38;5;132;01m{\u001b[39;00mvalue\u001b[38;5;132;01m}\u001b[39;00m\u001b[38;5;124m\"\u001b[39m\u001b[38;5;124m]\u001b[39m\u001b[38;5;124m'\u001b[39m\n\u001b[1;32m--> 742\u001b[0m \u001b[38;5;28;01mreturn\u001b[39;00m \u001b[38;5;28;43mself\u001b[39;49m\u001b[38;5;241;43m.\u001b[39;49m\u001b[43mexecute\u001b[49m\u001b[43m(\u001b[49m\u001b[43mCommand\u001b[49m\u001b[38;5;241;43m.\u001b[39;49m\u001b[43mFIND_ELEMENT\u001b[49m\u001b[43m,\u001b[49m\u001b[43m \u001b[49m\u001b[43m{\u001b[49m\u001b[38;5;124;43m\"\u001b[39;49m\u001b[38;5;124;43musing\u001b[39;49m\u001b[38;5;124;43m\"\u001b[39;49m\u001b[43m:\u001b[49m\u001b[43m \u001b[49m\u001b[43mby\u001b[49m\u001b[43m,\u001b[49m\u001b[43m \u001b[49m\u001b[38;5;124;43m\"\u001b[39;49m\u001b[38;5;124;43mvalue\u001b[39;49m\u001b[38;5;124;43m\"\u001b[39;49m\u001b[43m:\u001b[49m\u001b[43m \u001b[49m\u001b[43mvalue\u001b[49m\u001b[43m}\u001b[49m\u001b[43m)\u001b[49m[\u001b[38;5;124m\"\u001b[39m\u001b[38;5;124mvalue\u001b[39m\u001b[38;5;124m\"\u001b[39m]\n",
      "File \u001b[1;32m~\\anaconda3\\envs\\bnlp\\lib\\site-packages\\selenium\\webdriver\\remote\\webdriver.py:348\u001b[0m, in \u001b[0;36mWebDriver.execute\u001b[1;34m(self, driver_command, params)\u001b[0m\n\u001b[0;32m    346\u001b[0m response \u001b[38;5;241m=\u001b[39m \u001b[38;5;28mself\u001b[39m\u001b[38;5;241m.\u001b[39mcommand_executor\u001b[38;5;241m.\u001b[39mexecute(driver_command, params)\n\u001b[0;32m    347\u001b[0m \u001b[38;5;28;01mif\u001b[39;00m response:\n\u001b[1;32m--> 348\u001b[0m     \u001b[38;5;28;43mself\u001b[39;49m\u001b[38;5;241;43m.\u001b[39;49m\u001b[43merror_handler\u001b[49m\u001b[38;5;241;43m.\u001b[39;49m\u001b[43mcheck_response\u001b[49m\u001b[43m(\u001b[49m\u001b[43mresponse\u001b[49m\u001b[43m)\u001b[49m\n\u001b[0;32m    349\u001b[0m     response[\u001b[38;5;124m\"\u001b[39m\u001b[38;5;124mvalue\u001b[39m\u001b[38;5;124m\"\u001b[39m] \u001b[38;5;241m=\u001b[39m \u001b[38;5;28mself\u001b[39m\u001b[38;5;241m.\u001b[39m_unwrap_value(response\u001b[38;5;241m.\u001b[39mget(\u001b[38;5;124m\"\u001b[39m\u001b[38;5;124mvalue\u001b[39m\u001b[38;5;124m\"\u001b[39m, \u001b[38;5;28;01mNone\u001b[39;00m))\n\u001b[0;32m    350\u001b[0m     \u001b[38;5;28;01mreturn\u001b[39;00m response\n",
      "File \u001b[1;32m~\\anaconda3\\envs\\bnlp\\lib\\site-packages\\selenium\\webdriver\\remote\\errorhandler.py:229\u001b[0m, in \u001b[0;36mErrorHandler.check_response\u001b[1;34m(self, response)\u001b[0m\n\u001b[0;32m    227\u001b[0m         alert_text \u001b[38;5;241m=\u001b[39m value[\u001b[38;5;124m\"\u001b[39m\u001b[38;5;124malert\u001b[39m\u001b[38;5;124m\"\u001b[39m]\u001b[38;5;241m.\u001b[39mget(\u001b[38;5;124m\"\u001b[39m\u001b[38;5;124mtext\u001b[39m\u001b[38;5;124m\"\u001b[39m)\n\u001b[0;32m    228\u001b[0m     \u001b[38;5;28;01mraise\u001b[39;00m exception_class(message, screen, stacktrace, alert_text)  \u001b[38;5;66;03m# type: ignore[call-arg]  # mypy is not smart enough here\u001b[39;00m\n\u001b[1;32m--> 229\u001b[0m \u001b[38;5;28;01mraise\u001b[39;00m exception_class(message, screen, stacktrace)\n",
      "\u001b[1;31mNoSuchElementException\u001b[0m: Message: no such element: Unable to locate element: {\"method\":\"xpath\",\"selector\":\"/html/body/div[6]/div/div[11]/div[1]/div[2]/div[2]/div/div/div[2]/div[4]/div/div/div/div[1]/div/div/span/a\"}\n  (Session info: chrome=120.0.6099.130); For documentation on this error, please visit: https://www.selenium.dev/documentation/webdriver/troubleshooting/errors#no-such-element-exception\nStacktrace:\n\tGetHandleVerifier [0x00007FF7103E2142+3514994]\n\t(No symbol) [0x00007FF710000CE2]\n\t(No symbol) [0x00007FF70FEA76AA]\n\t(No symbol) [0x00007FF70FEF1860]\n\t(No symbol) [0x00007FF70FEF197C]\n\t(No symbol) [0x00007FF70FF34EE7]\n\t(No symbol) [0x00007FF70FF1602F]\n\t(No symbol) [0x00007FF70FF328F6]\n\t(No symbol) [0x00007FF70FF15D93]\n\t(No symbol) [0x00007FF70FEE4BDC]\n\t(No symbol) [0x00007FF70FEE5C64]\n\tGetHandleVerifier [0x00007FF71040E16B+3695259]\n\tGetHandleVerifier [0x00007FF710466737+4057191]\n\tGetHandleVerifier [0x00007FF71045E4E3+4023827]\n\tGetHandleVerifier [0x00007FF7101304F9+689705]\n\t(No symbol) [0x00007FF71000C048]\n\t(No symbol) [0x00007FF710008044]\n\t(No symbol) [0x00007FF7100081C9]\n\t(No symbol) [0x00007FF70FFF88C4]\n\tBaseThreadInitThunk [0x00007FFFC1C47344+20]\n\tRtlUserThreadStart [0x00007FFFC24826B1+33]\n"
     ]
    }
   ],
   "source": [
    "# Try Another\n",
    "s = Service(\"C:/Users/Pappu/Desktop/books/chromedriver-win64/chromedriver.exe\")\n",
    "driver = webdriver.Chrome(service=s)\n",
    "driver.get(\"https://www.google.com/\")\n",
    "time.sleep(1)\n",
    "\n",
    "search = driver.find_element(\"xpath\", \"\"\"/html/body/div[1]/div[3]/form/div[1]/div[1]/div[1]/div/div[2]/textarea\"\"\")\n",
    "search.send_keys(\"prothom alo\")\n",
    "search.send_keys(Keys.ENTER)\n",
    "\n",
    "time.sleep(2)\n",
    "driver.find_element(\"xpath\", \"/html/body/div[6]/div/div[11]/div[1]/div[2]/div[2]/div/div/div[2]/div[4]/div/div/div/div[1]/div/div/span/a\").click()\n",
    "\n",
    "time.sleep(2)\n",
    "driver.find_element(\"xpath\", \"/html/body/div[1]/header/div/div/div/div/div[1]/div[3]/div[1]/a\").click()\n",
    "\n",
    "time.sleep(2)\n",
    "search = driver.find_element(\"xpath\", \"\"\"/html/body/div[1]/div[5]/div/form/div/div[1]/div/div[3]/input\"\"\")\n",
    "search.send_keys(\"pappuakondo@gmail.com\")\n",
    "\n",
    "time.sleep(2)\n",
    "search = driver.find_element(\"xpath\", \"\"\"/html/body/div[1]/div[5]/div/form/div/div[1]/div/div[4]/div/input\"\"\")\n",
    "search.send_keys(\"pappu1991\")\n",
    "search.send_keys(Keys.ENTER)\n",
    "\n",
    "# take a Screen shot\n",
    "\n",
    "#Full page Screenshot\n",
    "driver.save_screenshot(\"C:/Users/Pappu/Desktop/books/chromedriver-win32/login.png\")\n",
    "time.sleep(2)\n",
    "\n",
    "#Screeen Shot of the Image\n",
    "driver.find_element(\"xpath\", \"/html/body/div[1]/div[5]/div[2]/div/div/div/div[1]/div/div/div[1]/div[1]/a/div[1]/div[1]/div/figure/picture/img\").screenshot(\"C:/Users/Pappu/Desktop/books/chromedriver-win32/farmer.png\")\n",
    "\n"
   ]
  },
  {
   "cell_type": "code",
   "execution_count": null,
   "id": "cdaf521b",
   "metadata": {},
   "outputs": [],
   "source": []
  },
  {
   "cell_type": "code",
   "execution_count": null,
   "id": "47f81fca",
   "metadata": {},
   "outputs": [],
   "source": []
  },
  {
   "cell_type": "code",
   "execution_count": null,
   "id": "15e8db01",
   "metadata": {},
   "outputs": [],
   "source": []
  },
  {
   "cell_type": "code",
   "execution_count": null,
   "id": "8c93d1ad",
   "metadata": {},
   "outputs": [],
   "source": []
  },
  {
   "cell_type": "code",
   "execution_count": null,
   "id": "b9c16705",
   "metadata": {},
   "outputs": [],
   "source": []
  },
  {
   "cell_type": "code",
   "execution_count": null,
   "id": "990000b2",
   "metadata": {},
   "outputs": [],
   "source": []
  },
  {
   "cell_type": "code",
   "execution_count": null,
   "id": "31bcdeb3",
   "metadata": {},
   "outputs": [],
   "source": []
  },
  {
   "cell_type": "code",
   "execution_count": null,
   "id": "9bab995a",
   "metadata": {},
   "outputs": [],
   "source": []
  },
  {
   "cell_type": "code",
   "execution_count": null,
   "id": "df168575",
   "metadata": {},
   "outputs": [],
   "source": []
  },
  {
   "cell_type": "code",
   "execution_count": null,
   "id": "8b07942b",
   "metadata": {},
   "outputs": [],
   "source": []
  },
  {
   "cell_type": "code",
   "execution_count": null,
   "id": "84614628",
   "metadata": {},
   "outputs": [],
   "source": []
  },
  {
   "cell_type": "code",
   "execution_count": null,
   "id": "3a436add",
   "metadata": {},
   "outputs": [],
   "source": []
  },
  {
   "cell_type": "code",
   "execution_count": null,
   "id": "6002ad81",
   "metadata": {},
   "outputs": [],
   "source": []
  },
  {
   "cell_type": "code",
   "execution_count": null,
   "id": "7d57199d",
   "metadata": {},
   "outputs": [],
   "source": []
  },
  {
   "cell_type": "code",
   "execution_count": null,
   "id": "8bc20467",
   "metadata": {},
   "outputs": [],
   "source": []
  },
  {
   "cell_type": "code",
   "execution_count": null,
   "id": "4f829bbc",
   "metadata": {},
   "outputs": [],
   "source": []
  },
  {
   "cell_type": "code",
   "execution_count": null,
   "id": "14171b08",
   "metadata": {},
   "outputs": [],
   "source": []
  },
  {
   "cell_type": "code",
   "execution_count": null,
   "id": "c106efa8",
   "metadata": {},
   "outputs": [],
   "source": []
  },
  {
   "cell_type": "code",
   "execution_count": null,
   "id": "42793700",
   "metadata": {},
   "outputs": [],
   "source": []
  },
  {
   "cell_type": "code",
   "execution_count": null,
   "id": "0cf1f02c",
   "metadata": {},
   "outputs": [],
   "source": []
  },
  {
   "cell_type": "code",
   "execution_count": null,
   "id": "ca359922",
   "metadata": {},
   "outputs": [],
   "source": []
  },
  {
   "cell_type": "code",
   "execution_count": null,
   "id": "8a05da81",
   "metadata": {},
   "outputs": [],
   "source": []
  },
  {
   "cell_type": "code",
   "execution_count": null,
   "id": "c8c4efc9",
   "metadata": {},
   "outputs": [],
   "source": []
  },
  {
   "cell_type": "code",
   "execution_count": null,
   "id": "bda0a8f6",
   "metadata": {},
   "outputs": [],
   "source": []
  },
  {
   "cell_type": "code",
   "execution_count": null,
   "id": "cbb974d5",
   "metadata": {},
   "outputs": [],
   "source": []
  },
  {
   "cell_type": "code",
   "execution_count": null,
   "id": "82f3ef88",
   "metadata": {},
   "outputs": [],
   "source": []
  },
  {
   "cell_type": "code",
   "execution_count": null,
   "id": "aeb619c4",
   "metadata": {},
   "outputs": [],
   "source": []
  },
  {
   "cell_type": "code",
   "execution_count": null,
   "id": "00ea5225",
   "metadata": {},
   "outputs": [],
   "source": []
  },
  {
   "cell_type": "code",
   "execution_count": null,
   "id": "88c61da5",
   "metadata": {},
   "outputs": [],
   "source": []
  },
  {
   "cell_type": "code",
   "execution_count": null,
   "id": "910d73df",
   "metadata": {},
   "outputs": [],
   "source": []
  },
  {
   "cell_type": "code",
   "execution_count": null,
   "id": "d5b4836e",
   "metadata": {},
   "outputs": [],
   "source": []
  },
  {
   "cell_type": "code",
   "execution_count": null,
   "id": "240309fe",
   "metadata": {},
   "outputs": [],
   "source": []
  },
  {
   "cell_type": "code",
   "execution_count": null,
   "id": "ef98bf88",
   "metadata": {},
   "outputs": [],
   "source": []
  },
  {
   "cell_type": "code",
   "execution_count": null,
   "id": "53042e3b",
   "metadata": {},
   "outputs": [],
   "source": []
  },
  {
   "cell_type": "code",
   "execution_count": null,
   "id": "7a5a1ef2",
   "metadata": {},
   "outputs": [],
   "source": []
  },
  {
   "cell_type": "code",
   "execution_count": null,
   "id": "2723a0a9",
   "metadata": {},
   "outputs": [],
   "source": []
  },
  {
   "cell_type": "code",
   "execution_count": null,
   "id": "c946a8cc",
   "metadata": {},
   "outputs": [],
   "source": []
  },
  {
   "cell_type": "code",
   "execution_count": null,
   "id": "a525b38a",
   "metadata": {},
   "outputs": [],
   "source": []
  },
  {
   "cell_type": "code",
   "execution_count": null,
   "id": "82254d68",
   "metadata": {},
   "outputs": [],
   "source": []
  },
  {
   "cell_type": "code",
   "execution_count": null,
   "id": "70c9b24c",
   "metadata": {},
   "outputs": [],
   "source": []
  },
  {
   "cell_type": "code",
   "execution_count": null,
   "id": "f59bad9b",
   "metadata": {},
   "outputs": [],
   "source": []
  },
  {
   "cell_type": "code",
   "execution_count": null,
   "id": "5e76fde0",
   "metadata": {},
   "outputs": [],
   "source": []
  },
  {
   "cell_type": "code",
   "execution_count": null,
   "id": "cd8561bc",
   "metadata": {},
   "outputs": [],
   "source": []
  },
  {
   "cell_type": "code",
   "execution_count": null,
   "id": "8737cfe3",
   "metadata": {},
   "outputs": [],
   "source": []
  },
  {
   "cell_type": "code",
   "execution_count": null,
   "id": "945f7282",
   "metadata": {},
   "outputs": [],
   "source": []
  },
  {
   "cell_type": "code",
   "execution_count": null,
   "id": "05268881",
   "metadata": {},
   "outputs": [],
   "source": []
  },
  {
   "cell_type": "code",
   "execution_count": null,
   "id": "89919f39",
   "metadata": {},
   "outputs": [],
   "source": []
  },
  {
   "cell_type": "code",
   "execution_count": null,
   "id": "a6808d32",
   "metadata": {},
   "outputs": [],
   "source": []
  },
  {
   "cell_type": "code",
   "execution_count": null,
   "id": "a9554d43",
   "metadata": {},
   "outputs": [],
   "source": []
  },
  {
   "cell_type": "code",
   "execution_count": null,
   "id": "103263ef",
   "metadata": {},
   "outputs": [],
   "source": []
  },
  {
   "cell_type": "code",
   "execution_count": null,
   "id": "768505c7",
   "metadata": {},
   "outputs": [],
   "source": []
  },
  {
   "cell_type": "code",
   "execution_count": null,
   "id": "d3229108",
   "metadata": {},
   "outputs": [],
   "source": []
  },
  {
   "cell_type": "code",
   "execution_count": null,
   "id": "b88be098",
   "metadata": {},
   "outputs": [],
   "source": []
  },
  {
   "cell_type": "code",
   "execution_count": null,
   "id": "f9fd46fc",
   "metadata": {},
   "outputs": [],
   "source": []
  },
  {
   "cell_type": "code",
   "execution_count": null,
   "id": "45b1d3a5",
   "metadata": {},
   "outputs": [],
   "source": []
  },
  {
   "cell_type": "code",
   "execution_count": null,
   "id": "0e423999",
   "metadata": {},
   "outputs": [],
   "source": []
  },
  {
   "cell_type": "code",
   "execution_count": null,
   "id": "58bf1021",
   "metadata": {},
   "outputs": [],
   "source": []
  },
  {
   "cell_type": "code",
   "execution_count": null,
   "id": "a26f3ab8",
   "metadata": {},
   "outputs": [],
   "source": []
  },
  {
   "cell_type": "code",
   "execution_count": null,
   "id": "59cd4ab5",
   "metadata": {},
   "outputs": [],
   "source": []
  },
  {
   "cell_type": "code",
   "execution_count": null,
   "id": "441ed6e5",
   "metadata": {},
   "outputs": [],
   "source": []
  },
  {
   "cell_type": "code",
   "execution_count": null,
   "id": "dcfb767c",
   "metadata": {},
   "outputs": [],
   "source": []
  },
  {
   "cell_type": "code",
   "execution_count": null,
   "id": "0923d7ff",
   "metadata": {},
   "outputs": [],
   "source": []
  },
  {
   "cell_type": "code",
   "execution_count": null,
   "id": "c3e57770",
   "metadata": {},
   "outputs": [],
   "source": []
  },
  {
   "cell_type": "code",
   "execution_count": null,
   "id": "46cada53",
   "metadata": {},
   "outputs": [],
   "source": []
  },
  {
   "cell_type": "code",
   "execution_count": null,
   "id": "bbcc2c99",
   "metadata": {},
   "outputs": [],
   "source": []
  },
  {
   "cell_type": "code",
   "execution_count": null,
   "id": "c6cad8c8",
   "metadata": {},
   "outputs": [],
   "source": []
  },
  {
   "cell_type": "code",
   "execution_count": null,
   "id": "20da8c91",
   "metadata": {},
   "outputs": [],
   "source": []
  },
  {
   "cell_type": "code",
   "execution_count": null,
   "id": "d78f7bbc",
   "metadata": {},
   "outputs": [],
   "source": []
  },
  {
   "cell_type": "code",
   "execution_count": null,
   "id": "dcc3ee2c",
   "metadata": {},
   "outputs": [],
   "source": [
    "\n"
   ]
  }
 ],
 "metadata": {
  "kernelspec": {
   "display_name": "Python 3 (ipykernel)",
   "language": "python",
   "name": "python3"
  },
  "language_info": {
   "codemirror_mode": {
    "name": "ipython",
    "version": 3
   },
   "file_extension": ".py",
   "mimetype": "text/x-python",
   "name": "python",
   "nbconvert_exporter": "python",
   "pygments_lexer": "ipython3",
   "version": "3.8.18"
  }
 },
 "nbformat": 4,
 "nbformat_minor": 5
}
